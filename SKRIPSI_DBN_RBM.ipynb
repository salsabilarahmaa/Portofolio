{
  "cells": [
    {
      "cell_type": "markdown",
      "metadata": {
        "id": "view-in-github",
        "colab_type": "text"
      },
      "source": [
        "<a href=\"https://colab.research.google.com/github/salsabilarahmaa/Portofolio/blob/main/SKRIPSI_DBN_RBM.ipynb\" target=\"_parent\"><img src=\"https://colab.research.google.com/assets/colab-badge.svg\" alt=\"Open In Colab\"/></a>"
      ]
    },
    {
      "cell_type": "markdown",
      "metadata": {
        "id": "yHwoBHHZN6Ad"
      },
      "source": [
        "## **KLASIFIKASI FINANCIAL DISTRESS PERUSAHAAN PADA INDEKS LQ-45 MENGGUNAKAN DEEP BELIEF NETWORK DENGAN RESTRICTED BOLTZMANN MACHINE**"
      ]
    },
    {
      "cell_type": "markdown",
      "metadata": {
        "id": "AQ4PrcBNu4RU"
      },
      "source": [
        "# Import Dataset Perusahaan LQ-45 Tahun 2019 \n",
        "\n"
      ]
    },
    {
      "cell_type": "code",
      "execution_count": 1,
      "metadata": {
        "id": "2sKJRRLjwI8R"
      },
      "outputs": [],
      "source": [
        "import pandas as pd\n",
        "import numpy as np\n",
        "import matplotlib.pyplot as plt\n",
        "import seaborn as sns\n",
        "import sklearn as sk \n",
        "import imblearn as imb\n",
        "import keras as kr\n",
        "import tensorflow as tf\n",
        "from sklearn.preprocessing import MinMaxScaler\n",
        "from imblearn.over_sampling import RandomOverSampler,SMOTE\n",
        "from sklearn.preprocessing import StandardScaler"
      ]
    },
    {
      "cell_type": "code",
      "execution_count": 4,
      "metadata": {
        "colab": {
          "base_uri": "https://localhost:8080/",
          "height": 1000
        },
        "id": "Eth3x3iUnTya",
        "outputId": "0e99860c-e231-4973-a125-013af3b449d6"
      },
      "outputs": [
        {
          "output_type": "execute_result",
          "data": {
            "text/plain": [
              "    Kode                                     Nama Saham  FD            CR  \\\n",
              "0   ADRO                              Adaro Energy Tbk.   0     96.000000   \n",
              "1   AKRA                            AKR Corporindo Tbk.   1     39.760000   \n",
              "2   ANTM                             Aneka Tambang Tbk.   1     54.090000   \n",
              "3   ASII                       Astra International Tbk.   0     22.290000   \n",
              "4   BBCA                         Bank Central Asia Tbk.   0      0.203800   \n",
              "5   BBNI           Bank Negara Indonesia (Persero) Tbk.   0      0.295179   \n",
              "6   BBRI           Bank Rakyat Indonesia (Persero) Tbk.   0      0.257781   \n",
              "7   BBTN            Bank Tabungan Negara (Persero) Tbk.   0      0.237558   \n",
              "8   BMRI                    Bank Mandiri (Persero) Tbk.   0      0.226278   \n",
              "9   BRPT                            Barito Pacific Tbk.   1     74.850000   \n",
              "10  BSDE                        Bumi Serpong Damai Tbk.   1      3.927680   \n",
              "11  BTPS  Bank Tabungan Pensiunan Nasional Syariah Tbk.   0      1.539887   \n",
              "12  CPIN                Charoen Pokphand Indonesia Tbk.   1    297.870000   \n",
              "13  CTRA                       Ciputra Development Tbk.   0      2.174197   \n",
              "14  ERAA                        Erajaya Swasembada Tbk.   1     29.880000   \n",
              "15  EXCL                                 XL Axiata Tbk.   1     44.860000   \n",
              "16  GGRM                             Gudang Garam Tbk.    0    205.800000   \n",
              "17  HMSP                            H.M. Sampoerna Tbk.   1    430.200000   \n",
              "18  ICBP                Indofood CBP Sukses Makmur Tbk.   0     95.070000   \n",
              "19  INCO                            Vale Indonesia Tbk.   1    359.870000   \n",
              "20  INDF                    Indofood Sukses Makmur Tbk.   0      6.630000   \n",
              "21  INDY                             Indika Energy Tbk.   1    207.750000   \n",
              "22  INKP                   Indah Kiat Pulp & Paper Tbk.   1    240.600000   \n",
              "23  INTP               Indocement Tunggal Prakarsa Tbk.   1    303.730000   \n",
              "24  ITMG                    Indo Tambangraya Megah Tbk.   1     96.580000   \n",
              "25  JPFA                   Japfa Comfeed Indonesia Tbk.   1     79.820000   \n",
              "26  JSMR                      Jasa Marga (Persero) Tbk.   0     38.000000   \n",
              "27  KLBF                               Kalbe Farma Tbk.   0    465.770000   \n",
              "28  LPPF                 Matahari Department Store Tbk.   0      0.020000   \n",
              "29  MEDC                Medco Energi Internasional Tbk.   1     65.800000   \n",
              "30  MNCN                    Media Nusantara Citra Tbk.    0    340.660000   \n",
              "31  PGAS                     Perusahaan Gas Negara Tbk.   0     54.060000   \n",
              "32  PTBA                                Bukit Asam Tbk.   0    237.850000   \n",
              "33  PTPP                              PP (Persero) Tbk.   1      1.308375   \n",
              "34  PWON                              Pakuwon Jati Tbk.   0      2.858675   \n",
              "35  SCMA                         Surya Citra Media Tbk.   0    426.040000   \n",
              "36  SMGR                 Semen Indonesia (Persero) Tbk.   0     95.050000   \n",
              "37  SRIL                          Sri Rejeki Isman Tbk.   1    308.470000   \n",
              "38  TKIM                 Pabrik Kertas Tjiwi Kimia Tbk.   0  69653.860000   \n",
              "39  TLKM       Telekomunikasi Indonesia (Persero) Tbk.    0     93.530000   \n",
              "40  TPIA                Chandra Asri Petrochemical Tbk.   1    205.080000   \n",
              "41  UNTR                           United Tractors Tbk.   1      4.070000   \n",
              "42  UNVR                       Unilever Indonesia Tbk.    0     74.770000   \n",
              "43  WIKA                    Wijaya Karya (Persero) Tbk.   0      1.394933   \n",
              "44  WSKT                   Waskita Karya (Persero) Tbk.   0      1.089161   \n",
              "\n",
              "        EPS    PBV       DAR       DER    ROA       ROE        GPM        OPM  \\\n",
              "0     89.90   0.60  0.390000  0.640000   6.76   0.90488  33.430000  24.640000   \n",
              "1    -20.00   0.80  0.500000  0.028252  -8.00   6.08000   6.600000   3.980000   \n",
              "2    -36.39   0.96  0.400000  0.690000  -2.63   4.43000   3.770000   7.340000   \n",
              "3    242.05   0.98  0.490000  0.980000   7.94   5.70000  20.220000  12.862007   \n",
              "4     48.68   4.46  0.800000  4.400000   3.03   7.04000   4.850000  57.600000   \n",
              "5    805.06   0.58  0.830000  6.080000   0.87   3.67000   0.125568  36.200000   \n",
              "6     20.69   2.57  0.760000  5.920000   2.50   9.45000   0.158472  77.780000   \n",
              "7    265.05   0.06  0.860000  0.060000   0.92   0.78000   0.377111   5.730000   \n",
              "8    536.04   0.95  0.780000  5.090000   2.05   3.98000   0.238267  37.020000   \n",
              "9     59.03   0.05  0.620000  0.600000   3.44   8.96000  26.090000  -0.296981   \n",
              "10    88.42   0.80  0.420000  0.720000   3.27   5.62000  70.730000  32.660000   \n",
              "11    25.30   3.73  0.070000  0.500000   8.02  24.05000   0.417239  37.780000   \n",
              "12   277.74   6.50  0.300000  0.430000  -6.46  23.47000   6.930000  -2.020000   \n",
              "13    70.09   0.07  0.500000  0.060000   3.80   7.83000  47.300000  28.020000   \n",
              "14   266.49   0.55  0.620000  0.630000   7.00  -8.43000   9.020000   4.400000   \n",
              "15  -308.47   0.99  0.680000  2.040000  -5.72  -7.97000   2.517019   0.081144   \n",
              "16  4049.62   3.75  0.350000  0.530000   0.28   7.27000   9.480000   0.660000   \n",
              "17     6.39   3.74  0.240000  0.320000 -29.05  38.29000  23.880000   6.508161   \n",
              "18   392.37   5.56  0.340000  0.500000   3.56  20.52000  30.930000   6.790000   \n",
              "19    88.56   0.06  0.040000  0.070000   2.75   3.20000   3.390000   0.920000   \n",
              "20   474.48   0.35  0.480000  0.930000   5.04   9.94000  27.540000   2.460000   \n",
              "21   223.47   0.46  0.690000  2.260000   2.67   8.68000  20.640000  -0.477279   \n",
              "22   563.26   0.05  0.557000  0.320000  -6.72   5.60000  36.090000  26.800000   \n",
              "23   300.29   3.00  0.060000  0.060000  -4.02  -4.02000  28.760000   7.070000   \n",
              "24  3370.28   0.53  0.330000  0.490000   7.94  26.68000  29.090000  -0.877492   \n",
              "25   -84.88   2.60  0.560000  0.260000   9.78  22.06000  20.090000   0.300000   \n",
              "26   303.48   0.65  0.750000  3.080000   2.47   0.08000   6.000000   4.650000   \n",
              "27    52.42   4.89  0.060000  0.090000   3.76   6.33000  46.730000   0.436716   \n",
              "28   376.07   6.57  0.640000  0.770000  20.79  60.43000  62.250000   5.290000   \n",
              "29    -0.72   0.58  0.740000  2.790000  -0.54  -2.05000  50.890000   0.120926   \n",
              "30     7.27   0.94  0.350000  0.540000   9.83   5.09000  62.050000   1.237328   \n",
              "31    82.96   0.04  0.600000  0.480000   4.59   0.39000  33.830000   6.670000   \n",
              "32   436.08   3.32  0.330000  0.490000  20.09  30.48000  40.370000  29.680000   \n",
              "33   305.97   0.73  0.690000  2.220000   3.73  -2.00000   4.020000   1.034061   \n",
              "34    58.70   2.06  0.390000  0.630000   0.30   8.46000  57.200000   2.850979   \n",
              "35     0.55   5.38  0.070000  0.200000  24.03  28.90000   2.586198  38.740000   \n",
              "36    50.90   2.05  0.360000  0.560000   6.03   9.43000  30.400000   0.396328   \n",
              "37   -66.03   0.98  0.620000  0.640000  -6.20   6.38000   7.770000   4.890000   \n",
              "38    47.72   0.87  0.547626  1.658501   8.29   9.89000   0.930000   3.750000   \n",
              "39    82.03   3.50  0.430000  0.760000   3.08  23.00000   3.766815  29.700000   \n",
              "40   -25.07   3.95  0.440000  0.790000   5.74  -0.30000   5.350000   0.276596   \n",
              "41  2982.63   0.87  0.500000  0.040000   9.89  20.05000  24.940000  -2.564926   \n",
              "42    93.90  38.62  0.600000  0.580000  46.66  20.20000  50.460000  29.370000   \n",
              "43   230.04   0.96  0.700000  2.440000   3.50   2.04000   0.570000   2.300000   \n",
              "44   340.33   0.84  0.770000  3.300000   3.70   5.99000   8.070000   0.450721   \n",
              "\n",
              "      NPM  \n",
              "0    3.09  \n",
              "1    6.78  \n",
              "2    3.46  \n",
              "3    0.44  \n",
              "4   45.54  \n",
              "5   27.88  \n",
              "6   60.43  \n",
              "7    2.29  \n",
              "8   28.30  \n",
              "9   -7.87  \n",
              "10  25.67  \n",
              "11  28.00  \n",
              "12   8.44  \n",
              "13   6.98  \n",
              "14  -2.56  \n",
              "15  -4.37  \n",
              "16   0.04  \n",
              "17  -2.68  \n",
              "18   2.03  \n",
              "19   7.79  \n",
              "20   6.76  \n",
              "21   3.30  \n",
              "22  -7.64  \n",
              "23   7.54  \n",
              "24  -2.89  \n",
              "25   6.62  \n",
              "26   5.50  \n",
              "27   0.85  \n",
              "28   0.70  \n",
              "29  -2.33  \n",
              "30  20.57  \n",
              "31   9.42  \n",
              "32  24.09  \n",
              "33  -7.80  \n",
              "34  39.92  \n",
              "35  29.49  \n",
              "36   0.06  \n",
              "37   8.08  \n",
              "38  23.27  \n",
              "39  20.63  \n",
              "40   7.07  \n",
              "41  -3.59  \n",
              "42  20.79  \n",
              "43   6.65  \n",
              "44   9.47  "
            ],
            "text/html": [
              "\n",
              "  <div id=\"df-4e454149-77ce-4091-bcd7-4274160b1287\">\n",
              "    <div class=\"colab-df-container\">\n",
              "      <div>\n",
              "<style scoped>\n",
              "    .dataframe tbody tr th:only-of-type {\n",
              "        vertical-align: middle;\n",
              "    }\n",
              "\n",
              "    .dataframe tbody tr th {\n",
              "        vertical-align: top;\n",
              "    }\n",
              "\n",
              "    .dataframe thead th {\n",
              "        text-align: right;\n",
              "    }\n",
              "</style>\n",
              "<table border=\"1\" class=\"dataframe\">\n",
              "  <thead>\n",
              "    <tr style=\"text-align: right;\">\n",
              "      <th></th>\n",
              "      <th>Kode</th>\n",
              "      <th>Nama Saham</th>\n",
              "      <th>FD</th>\n",
              "      <th>CR</th>\n",
              "      <th>EPS</th>\n",
              "      <th>PBV</th>\n",
              "      <th>DAR</th>\n",
              "      <th>DER</th>\n",
              "      <th>ROA</th>\n",
              "      <th>ROE</th>\n",
              "      <th>GPM</th>\n",
              "      <th>OPM</th>\n",
              "      <th>NPM</th>\n",
              "    </tr>\n",
              "  </thead>\n",
              "  <tbody>\n",
              "    <tr>\n",
              "      <th>0</th>\n",
              "      <td>ADRO</td>\n",
              "      <td>Adaro Energy Tbk.</td>\n",
              "      <td>0</td>\n",
              "      <td>96.000000</td>\n",
              "      <td>89.90</td>\n",
              "      <td>0.60</td>\n",
              "      <td>0.390000</td>\n",
              "      <td>0.640000</td>\n",
              "      <td>6.76</td>\n",
              "      <td>0.90488</td>\n",
              "      <td>33.430000</td>\n",
              "      <td>24.640000</td>\n",
              "      <td>3.09</td>\n",
              "    </tr>\n",
              "    <tr>\n",
              "      <th>1</th>\n",
              "      <td>AKRA</td>\n",
              "      <td>AKR Corporindo Tbk.</td>\n",
              "      <td>1</td>\n",
              "      <td>39.760000</td>\n",
              "      <td>-20.00</td>\n",
              "      <td>0.80</td>\n",
              "      <td>0.500000</td>\n",
              "      <td>0.028252</td>\n",
              "      <td>-8.00</td>\n",
              "      <td>6.08000</td>\n",
              "      <td>6.600000</td>\n",
              "      <td>3.980000</td>\n",
              "      <td>6.78</td>\n",
              "    </tr>\n",
              "    <tr>\n",
              "      <th>2</th>\n",
              "      <td>ANTM</td>\n",
              "      <td>Aneka Tambang Tbk.</td>\n",
              "      <td>1</td>\n",
              "      <td>54.090000</td>\n",
              "      <td>-36.39</td>\n",
              "      <td>0.96</td>\n",
              "      <td>0.400000</td>\n",
              "      <td>0.690000</td>\n",
              "      <td>-2.63</td>\n",
              "      <td>4.43000</td>\n",
              "      <td>3.770000</td>\n",
              "      <td>7.340000</td>\n",
              "      <td>3.46</td>\n",
              "    </tr>\n",
              "    <tr>\n",
              "      <th>3</th>\n",
              "      <td>ASII</td>\n",
              "      <td>Astra International Tbk.</td>\n",
              "      <td>0</td>\n",
              "      <td>22.290000</td>\n",
              "      <td>242.05</td>\n",
              "      <td>0.98</td>\n",
              "      <td>0.490000</td>\n",
              "      <td>0.980000</td>\n",
              "      <td>7.94</td>\n",
              "      <td>5.70000</td>\n",
              "      <td>20.220000</td>\n",
              "      <td>12.862007</td>\n",
              "      <td>0.44</td>\n",
              "    </tr>\n",
              "    <tr>\n",
              "      <th>4</th>\n",
              "      <td>BBCA</td>\n",
              "      <td>Bank Central Asia Tbk.</td>\n",
              "      <td>0</td>\n",
              "      <td>0.203800</td>\n",
              "      <td>48.68</td>\n",
              "      <td>4.46</td>\n",
              "      <td>0.800000</td>\n",
              "      <td>4.400000</td>\n",
              "      <td>3.03</td>\n",
              "      <td>7.04000</td>\n",
              "      <td>4.850000</td>\n",
              "      <td>57.600000</td>\n",
              "      <td>45.54</td>\n",
              "    </tr>\n",
              "    <tr>\n",
              "      <th>5</th>\n",
              "      <td>BBNI</td>\n",
              "      <td>Bank Negara Indonesia (Persero) Tbk.</td>\n",
              "      <td>0</td>\n",
              "      <td>0.295179</td>\n",
              "      <td>805.06</td>\n",
              "      <td>0.58</td>\n",
              "      <td>0.830000</td>\n",
              "      <td>6.080000</td>\n",
              "      <td>0.87</td>\n",
              "      <td>3.67000</td>\n",
              "      <td>0.125568</td>\n",
              "      <td>36.200000</td>\n",
              "      <td>27.88</td>\n",
              "    </tr>\n",
              "    <tr>\n",
              "      <th>6</th>\n",
              "      <td>BBRI</td>\n",
              "      <td>Bank Rakyat Indonesia (Persero) Tbk.</td>\n",
              "      <td>0</td>\n",
              "      <td>0.257781</td>\n",
              "      <td>20.69</td>\n",
              "      <td>2.57</td>\n",
              "      <td>0.760000</td>\n",
              "      <td>5.920000</td>\n",
              "      <td>2.50</td>\n",
              "      <td>9.45000</td>\n",
              "      <td>0.158472</td>\n",
              "      <td>77.780000</td>\n",
              "      <td>60.43</td>\n",
              "    </tr>\n",
              "    <tr>\n",
              "      <th>7</th>\n",
              "      <td>BBTN</td>\n",
              "      <td>Bank Tabungan Negara (Persero) Tbk.</td>\n",
              "      <td>0</td>\n",
              "      <td>0.237558</td>\n",
              "      <td>265.05</td>\n",
              "      <td>0.06</td>\n",
              "      <td>0.860000</td>\n",
              "      <td>0.060000</td>\n",
              "      <td>0.92</td>\n",
              "      <td>0.78000</td>\n",
              "      <td>0.377111</td>\n",
              "      <td>5.730000</td>\n",
              "      <td>2.29</td>\n",
              "    </tr>\n",
              "    <tr>\n",
              "      <th>8</th>\n",
              "      <td>BMRI</td>\n",
              "      <td>Bank Mandiri (Persero) Tbk.</td>\n",
              "      <td>0</td>\n",
              "      <td>0.226278</td>\n",
              "      <td>536.04</td>\n",
              "      <td>0.95</td>\n",
              "      <td>0.780000</td>\n",
              "      <td>5.090000</td>\n",
              "      <td>2.05</td>\n",
              "      <td>3.98000</td>\n",
              "      <td>0.238267</td>\n",
              "      <td>37.020000</td>\n",
              "      <td>28.30</td>\n",
              "    </tr>\n",
              "    <tr>\n",
              "      <th>9</th>\n",
              "      <td>BRPT</td>\n",
              "      <td>Barito Pacific Tbk.</td>\n",
              "      <td>1</td>\n",
              "      <td>74.850000</td>\n",
              "      <td>59.03</td>\n",
              "      <td>0.05</td>\n",
              "      <td>0.620000</td>\n",
              "      <td>0.600000</td>\n",
              "      <td>3.44</td>\n",
              "      <td>8.96000</td>\n",
              "      <td>26.090000</td>\n",
              "      <td>-0.296981</td>\n",
              "      <td>-7.87</td>\n",
              "    </tr>\n",
              "    <tr>\n",
              "      <th>10</th>\n",
              "      <td>BSDE</td>\n",
              "      <td>Bumi Serpong Damai Tbk.</td>\n",
              "      <td>1</td>\n",
              "      <td>3.927680</td>\n",
              "      <td>88.42</td>\n",
              "      <td>0.80</td>\n",
              "      <td>0.420000</td>\n",
              "      <td>0.720000</td>\n",
              "      <td>3.27</td>\n",
              "      <td>5.62000</td>\n",
              "      <td>70.730000</td>\n",
              "      <td>32.660000</td>\n",
              "      <td>25.67</td>\n",
              "    </tr>\n",
              "    <tr>\n",
              "      <th>11</th>\n",
              "      <td>BTPS</td>\n",
              "      <td>Bank Tabungan Pensiunan Nasional Syariah Tbk.</td>\n",
              "      <td>0</td>\n",
              "      <td>1.539887</td>\n",
              "      <td>25.30</td>\n",
              "      <td>3.73</td>\n",
              "      <td>0.070000</td>\n",
              "      <td>0.500000</td>\n",
              "      <td>8.02</td>\n",
              "      <td>24.05000</td>\n",
              "      <td>0.417239</td>\n",
              "      <td>37.780000</td>\n",
              "      <td>28.00</td>\n",
              "    </tr>\n",
              "    <tr>\n",
              "      <th>12</th>\n",
              "      <td>CPIN</td>\n",
              "      <td>Charoen Pokphand Indonesia Tbk.</td>\n",
              "      <td>1</td>\n",
              "      <td>297.870000</td>\n",
              "      <td>277.74</td>\n",
              "      <td>6.50</td>\n",
              "      <td>0.300000</td>\n",
              "      <td>0.430000</td>\n",
              "      <td>-6.46</td>\n",
              "      <td>23.47000</td>\n",
              "      <td>6.930000</td>\n",
              "      <td>-2.020000</td>\n",
              "      <td>8.44</td>\n",
              "    </tr>\n",
              "    <tr>\n",
              "      <th>13</th>\n",
              "      <td>CTRA</td>\n",
              "      <td>Ciputra Development Tbk.</td>\n",
              "      <td>0</td>\n",
              "      <td>2.174197</td>\n",
              "      <td>70.09</td>\n",
              "      <td>0.07</td>\n",
              "      <td>0.500000</td>\n",
              "      <td>0.060000</td>\n",
              "      <td>3.80</td>\n",
              "      <td>7.83000</td>\n",
              "      <td>47.300000</td>\n",
              "      <td>28.020000</td>\n",
              "      <td>6.98</td>\n",
              "    </tr>\n",
              "    <tr>\n",
              "      <th>14</th>\n",
              "      <td>ERAA</td>\n",
              "      <td>Erajaya Swasembada Tbk.</td>\n",
              "      <td>1</td>\n",
              "      <td>29.880000</td>\n",
              "      <td>266.49</td>\n",
              "      <td>0.55</td>\n",
              "      <td>0.620000</td>\n",
              "      <td>0.630000</td>\n",
              "      <td>7.00</td>\n",
              "      <td>-8.43000</td>\n",
              "      <td>9.020000</td>\n",
              "      <td>4.400000</td>\n",
              "      <td>-2.56</td>\n",
              "    </tr>\n",
              "    <tr>\n",
              "      <th>15</th>\n",
              "      <td>EXCL</td>\n",
              "      <td>XL Axiata Tbk.</td>\n",
              "      <td>1</td>\n",
              "      <td>44.860000</td>\n",
              "      <td>-308.47</td>\n",
              "      <td>0.99</td>\n",
              "      <td>0.680000</td>\n",
              "      <td>2.040000</td>\n",
              "      <td>-5.72</td>\n",
              "      <td>-7.97000</td>\n",
              "      <td>2.517019</td>\n",
              "      <td>0.081144</td>\n",
              "      <td>-4.37</td>\n",
              "    </tr>\n",
              "    <tr>\n",
              "      <th>16</th>\n",
              "      <td>GGRM</td>\n",
              "      <td>Gudang Garam Tbk.</td>\n",
              "      <td>0</td>\n",
              "      <td>205.800000</td>\n",
              "      <td>4049.62</td>\n",
              "      <td>3.75</td>\n",
              "      <td>0.350000</td>\n",
              "      <td>0.530000</td>\n",
              "      <td>0.28</td>\n",
              "      <td>7.27000</td>\n",
              "      <td>9.480000</td>\n",
              "      <td>0.660000</td>\n",
              "      <td>0.04</td>\n",
              "    </tr>\n",
              "    <tr>\n",
              "      <th>17</th>\n",
              "      <td>HMSP</td>\n",
              "      <td>H.M. Sampoerna Tbk.</td>\n",
              "      <td>1</td>\n",
              "      <td>430.200000</td>\n",
              "      <td>6.39</td>\n",
              "      <td>3.74</td>\n",
              "      <td>0.240000</td>\n",
              "      <td>0.320000</td>\n",
              "      <td>-29.05</td>\n",
              "      <td>38.29000</td>\n",
              "      <td>23.880000</td>\n",
              "      <td>6.508161</td>\n",
              "      <td>-2.68</td>\n",
              "    </tr>\n",
              "    <tr>\n",
              "      <th>18</th>\n",
              "      <td>ICBP</td>\n",
              "      <td>Indofood CBP Sukses Makmur Tbk.</td>\n",
              "      <td>0</td>\n",
              "      <td>95.070000</td>\n",
              "      <td>392.37</td>\n",
              "      <td>5.56</td>\n",
              "      <td>0.340000</td>\n",
              "      <td>0.500000</td>\n",
              "      <td>3.56</td>\n",
              "      <td>20.52000</td>\n",
              "      <td>30.930000</td>\n",
              "      <td>6.790000</td>\n",
              "      <td>2.03</td>\n",
              "    </tr>\n",
              "    <tr>\n",
              "      <th>19</th>\n",
              "      <td>INCO</td>\n",
              "      <td>Vale Indonesia Tbk.</td>\n",
              "      <td>1</td>\n",
              "      <td>359.870000</td>\n",
              "      <td>88.56</td>\n",
              "      <td>0.06</td>\n",
              "      <td>0.040000</td>\n",
              "      <td>0.070000</td>\n",
              "      <td>2.75</td>\n",
              "      <td>3.20000</td>\n",
              "      <td>3.390000</td>\n",
              "      <td>0.920000</td>\n",
              "      <td>7.79</td>\n",
              "    </tr>\n",
              "    <tr>\n",
              "      <th>20</th>\n",
              "      <td>INDF</td>\n",
              "      <td>Indofood Sukses Makmur Tbk.</td>\n",
              "      <td>0</td>\n",
              "      <td>6.630000</td>\n",
              "      <td>474.48</td>\n",
              "      <td>0.35</td>\n",
              "      <td>0.480000</td>\n",
              "      <td>0.930000</td>\n",
              "      <td>5.04</td>\n",
              "      <td>9.94000</td>\n",
              "      <td>27.540000</td>\n",
              "      <td>2.460000</td>\n",
              "      <td>6.76</td>\n",
              "    </tr>\n",
              "    <tr>\n",
              "      <th>21</th>\n",
              "      <td>INDY</td>\n",
              "      <td>Indika Energy Tbk.</td>\n",
              "      <td>1</td>\n",
              "      <td>207.750000</td>\n",
              "      <td>223.47</td>\n",
              "      <td>0.46</td>\n",
              "      <td>0.690000</td>\n",
              "      <td>2.260000</td>\n",
              "      <td>2.67</td>\n",
              "      <td>8.68000</td>\n",
              "      <td>20.640000</td>\n",
              "      <td>-0.477279</td>\n",
              "      <td>3.30</td>\n",
              "    </tr>\n",
              "    <tr>\n",
              "      <th>22</th>\n",
              "      <td>INKP</td>\n",
              "      <td>Indah Kiat Pulp &amp; Paper Tbk.</td>\n",
              "      <td>1</td>\n",
              "      <td>240.600000</td>\n",
              "      <td>563.26</td>\n",
              "      <td>0.05</td>\n",
              "      <td>0.557000</td>\n",
              "      <td>0.320000</td>\n",
              "      <td>-6.72</td>\n",
              "      <td>5.60000</td>\n",
              "      <td>36.090000</td>\n",
              "      <td>26.800000</td>\n",
              "      <td>-7.64</td>\n",
              "    </tr>\n",
              "    <tr>\n",
              "      <th>23</th>\n",
              "      <td>INTP</td>\n",
              "      <td>Indocement Tunggal Prakarsa Tbk.</td>\n",
              "      <td>1</td>\n",
              "      <td>303.730000</td>\n",
              "      <td>300.29</td>\n",
              "      <td>3.00</td>\n",
              "      <td>0.060000</td>\n",
              "      <td>0.060000</td>\n",
              "      <td>-4.02</td>\n",
              "      <td>-4.02000</td>\n",
              "      <td>28.760000</td>\n",
              "      <td>7.070000</td>\n",
              "      <td>7.54</td>\n",
              "    </tr>\n",
              "    <tr>\n",
              "      <th>24</th>\n",
              "      <td>ITMG</td>\n",
              "      <td>Indo Tambangraya Megah Tbk.</td>\n",
              "      <td>1</td>\n",
              "      <td>96.580000</td>\n",
              "      <td>3370.28</td>\n",
              "      <td>0.53</td>\n",
              "      <td>0.330000</td>\n",
              "      <td>0.490000</td>\n",
              "      <td>7.94</td>\n",
              "      <td>26.68000</td>\n",
              "      <td>29.090000</td>\n",
              "      <td>-0.877492</td>\n",
              "      <td>-2.89</td>\n",
              "    </tr>\n",
              "    <tr>\n",
              "      <th>25</th>\n",
              "      <td>JPFA</td>\n",
              "      <td>Japfa Comfeed Indonesia Tbk.</td>\n",
              "      <td>1</td>\n",
              "      <td>79.820000</td>\n",
              "      <td>-84.88</td>\n",
              "      <td>2.60</td>\n",
              "      <td>0.560000</td>\n",
              "      <td>0.260000</td>\n",
              "      <td>9.78</td>\n",
              "      <td>22.06000</td>\n",
              "      <td>20.090000</td>\n",
              "      <td>0.300000</td>\n",
              "      <td>6.62</td>\n",
              "    </tr>\n",
              "    <tr>\n",
              "      <th>26</th>\n",
              "      <td>JSMR</td>\n",
              "      <td>Jasa Marga (Persero) Tbk.</td>\n",
              "      <td>0</td>\n",
              "      <td>38.000000</td>\n",
              "      <td>303.48</td>\n",
              "      <td>0.65</td>\n",
              "      <td>0.750000</td>\n",
              "      <td>3.080000</td>\n",
              "      <td>2.47</td>\n",
              "      <td>0.08000</td>\n",
              "      <td>6.000000</td>\n",
              "      <td>4.650000</td>\n",
              "      <td>5.50</td>\n",
              "    </tr>\n",
              "    <tr>\n",
              "      <th>27</th>\n",
              "      <td>KLBF</td>\n",
              "      <td>Kalbe Farma Tbk.</td>\n",
              "      <td>0</td>\n",
              "      <td>465.770000</td>\n",
              "      <td>52.42</td>\n",
              "      <td>4.89</td>\n",
              "      <td>0.060000</td>\n",
              "      <td>0.090000</td>\n",
              "      <td>3.76</td>\n",
              "      <td>6.33000</td>\n",
              "      <td>46.730000</td>\n",
              "      <td>0.436716</td>\n",
              "      <td>0.85</td>\n",
              "    </tr>\n",
              "    <tr>\n",
              "      <th>28</th>\n",
              "      <td>LPPF</td>\n",
              "      <td>Matahari Department Store Tbk.</td>\n",
              "      <td>0</td>\n",
              "      <td>0.020000</td>\n",
              "      <td>376.07</td>\n",
              "      <td>6.57</td>\n",
              "      <td>0.640000</td>\n",
              "      <td>0.770000</td>\n",
              "      <td>20.79</td>\n",
              "      <td>60.43000</td>\n",
              "      <td>62.250000</td>\n",
              "      <td>5.290000</td>\n",
              "      <td>0.70</td>\n",
              "    </tr>\n",
              "    <tr>\n",
              "      <th>29</th>\n",
              "      <td>MEDC</td>\n",
              "      <td>Medco Energi Internasional Tbk.</td>\n",
              "      <td>1</td>\n",
              "      <td>65.800000</td>\n",
              "      <td>-0.72</td>\n",
              "      <td>0.58</td>\n",
              "      <td>0.740000</td>\n",
              "      <td>2.790000</td>\n",
              "      <td>-0.54</td>\n",
              "      <td>-2.05000</td>\n",
              "      <td>50.890000</td>\n",
              "      <td>0.120926</td>\n",
              "      <td>-2.33</td>\n",
              "    </tr>\n",
              "    <tr>\n",
              "      <th>30</th>\n",
              "      <td>MNCN</td>\n",
              "      <td>Media Nusantara Citra Tbk.</td>\n",
              "      <td>0</td>\n",
              "      <td>340.660000</td>\n",
              "      <td>7.27</td>\n",
              "      <td>0.94</td>\n",
              "      <td>0.350000</td>\n",
              "      <td>0.540000</td>\n",
              "      <td>9.83</td>\n",
              "      <td>5.09000</td>\n",
              "      <td>62.050000</td>\n",
              "      <td>1.237328</td>\n",
              "      <td>20.57</td>\n",
              "    </tr>\n",
              "    <tr>\n",
              "      <th>31</th>\n",
              "      <td>PGAS</td>\n",
              "      <td>Perusahaan Gas Negara Tbk.</td>\n",
              "      <td>0</td>\n",
              "      <td>54.060000</td>\n",
              "      <td>82.96</td>\n",
              "      <td>0.04</td>\n",
              "      <td>0.600000</td>\n",
              "      <td>0.480000</td>\n",
              "      <td>4.59</td>\n",
              "      <td>0.39000</td>\n",
              "      <td>33.830000</td>\n",
              "      <td>6.670000</td>\n",
              "      <td>9.42</td>\n",
              "    </tr>\n",
              "    <tr>\n",
              "      <th>32</th>\n",
              "      <td>PTBA</td>\n",
              "      <td>Bukit Asam Tbk.</td>\n",
              "      <td>0</td>\n",
              "      <td>237.850000</td>\n",
              "      <td>436.08</td>\n",
              "      <td>3.32</td>\n",
              "      <td>0.330000</td>\n",
              "      <td>0.490000</td>\n",
              "      <td>20.09</td>\n",
              "      <td>30.48000</td>\n",
              "      <td>40.370000</td>\n",
              "      <td>29.680000</td>\n",
              "      <td>24.09</td>\n",
              "    </tr>\n",
              "    <tr>\n",
              "      <th>33</th>\n",
              "      <td>PTPP</td>\n",
              "      <td>PP (Persero) Tbk.</td>\n",
              "      <td>1</td>\n",
              "      <td>1.308375</td>\n",
              "      <td>305.97</td>\n",
              "      <td>0.73</td>\n",
              "      <td>0.690000</td>\n",
              "      <td>2.220000</td>\n",
              "      <td>3.73</td>\n",
              "      <td>-2.00000</td>\n",
              "      <td>4.020000</td>\n",
              "      <td>1.034061</td>\n",
              "      <td>-7.80</td>\n",
              "    </tr>\n",
              "    <tr>\n",
              "      <th>34</th>\n",
              "      <td>PWON</td>\n",
              "      <td>Pakuwon Jati Tbk.</td>\n",
              "      <td>0</td>\n",
              "      <td>2.858675</td>\n",
              "      <td>58.70</td>\n",
              "      <td>2.06</td>\n",
              "      <td>0.390000</td>\n",
              "      <td>0.630000</td>\n",
              "      <td>0.30</td>\n",
              "      <td>8.46000</td>\n",
              "      <td>57.200000</td>\n",
              "      <td>2.850979</td>\n",
              "      <td>39.92</td>\n",
              "    </tr>\n",
              "    <tr>\n",
              "      <th>35</th>\n",
              "      <td>SCMA</td>\n",
              "      <td>Surya Citra Media Tbk.</td>\n",
              "      <td>0</td>\n",
              "      <td>426.040000</td>\n",
              "      <td>0.55</td>\n",
              "      <td>5.38</td>\n",
              "      <td>0.070000</td>\n",
              "      <td>0.200000</td>\n",
              "      <td>24.03</td>\n",
              "      <td>28.90000</td>\n",
              "      <td>2.586198</td>\n",
              "      <td>38.740000</td>\n",
              "      <td>29.49</td>\n",
              "    </tr>\n",
              "    <tr>\n",
              "      <th>36</th>\n",
              "      <td>SMGR</td>\n",
              "      <td>Semen Indonesia (Persero) Tbk.</td>\n",
              "      <td>0</td>\n",
              "      <td>95.050000</td>\n",
              "      <td>50.90</td>\n",
              "      <td>2.05</td>\n",
              "      <td>0.360000</td>\n",
              "      <td>0.560000</td>\n",
              "      <td>6.03</td>\n",
              "      <td>9.43000</td>\n",
              "      <td>30.400000</td>\n",
              "      <td>0.396328</td>\n",
              "      <td>0.06</td>\n",
              "    </tr>\n",
              "    <tr>\n",
              "      <th>37</th>\n",
              "      <td>SRIL</td>\n",
              "      <td>Sri Rejeki Isman Tbk.</td>\n",
              "      <td>1</td>\n",
              "      <td>308.470000</td>\n",
              "      <td>-66.03</td>\n",
              "      <td>0.98</td>\n",
              "      <td>0.620000</td>\n",
              "      <td>0.640000</td>\n",
              "      <td>-6.20</td>\n",
              "      <td>6.38000</td>\n",
              "      <td>7.770000</td>\n",
              "      <td>4.890000</td>\n",
              "      <td>8.08</td>\n",
              "    </tr>\n",
              "    <tr>\n",
              "      <th>38</th>\n",
              "      <td>TKIM</td>\n",
              "      <td>Pabrik Kertas Tjiwi Kimia Tbk.</td>\n",
              "      <td>0</td>\n",
              "      <td>69653.860000</td>\n",
              "      <td>47.72</td>\n",
              "      <td>0.87</td>\n",
              "      <td>0.547626</td>\n",
              "      <td>1.658501</td>\n",
              "      <td>8.29</td>\n",
              "      <td>9.89000</td>\n",
              "      <td>0.930000</td>\n",
              "      <td>3.750000</td>\n",
              "      <td>23.27</td>\n",
              "    </tr>\n",
              "    <tr>\n",
              "      <th>39</th>\n",
              "      <td>TLKM</td>\n",
              "      <td>Telekomunikasi Indonesia (Persero) Tbk.</td>\n",
              "      <td>0</td>\n",
              "      <td>93.530000</td>\n",
              "      <td>82.03</td>\n",
              "      <td>3.50</td>\n",
              "      <td>0.430000</td>\n",
              "      <td>0.760000</td>\n",
              "      <td>3.08</td>\n",
              "      <td>23.00000</td>\n",
              "      <td>3.766815</td>\n",
              "      <td>29.700000</td>\n",
              "      <td>20.63</td>\n",
              "    </tr>\n",
              "    <tr>\n",
              "      <th>40</th>\n",
              "      <td>TPIA</td>\n",
              "      <td>Chandra Asri Petrochemical Tbk.</td>\n",
              "      <td>1</td>\n",
              "      <td>205.080000</td>\n",
              "      <td>-25.07</td>\n",
              "      <td>3.95</td>\n",
              "      <td>0.440000</td>\n",
              "      <td>0.790000</td>\n",
              "      <td>5.74</td>\n",
              "      <td>-0.30000</td>\n",
              "      <td>5.350000</td>\n",
              "      <td>0.276596</td>\n",
              "      <td>7.07</td>\n",
              "    </tr>\n",
              "    <tr>\n",
              "      <th>41</th>\n",
              "      <td>UNTR</td>\n",
              "      <td>United Tractors Tbk.</td>\n",
              "      <td>1</td>\n",
              "      <td>4.070000</td>\n",
              "      <td>2982.63</td>\n",
              "      <td>0.87</td>\n",
              "      <td>0.500000</td>\n",
              "      <td>0.040000</td>\n",
              "      <td>9.89</td>\n",
              "      <td>20.05000</td>\n",
              "      <td>24.940000</td>\n",
              "      <td>-2.564926</td>\n",
              "      <td>-3.59</td>\n",
              "    </tr>\n",
              "    <tr>\n",
              "      <th>42</th>\n",
              "      <td>UNVR</td>\n",
              "      <td>Unilever Indonesia Tbk.</td>\n",
              "      <td>0</td>\n",
              "      <td>74.770000</td>\n",
              "      <td>93.90</td>\n",
              "      <td>38.62</td>\n",
              "      <td>0.600000</td>\n",
              "      <td>0.580000</td>\n",
              "      <td>46.66</td>\n",
              "      <td>20.20000</td>\n",
              "      <td>50.460000</td>\n",
              "      <td>29.370000</td>\n",
              "      <td>20.79</td>\n",
              "    </tr>\n",
              "    <tr>\n",
              "      <th>43</th>\n",
              "      <td>WIKA</td>\n",
              "      <td>Wijaya Karya (Persero) Tbk.</td>\n",
              "      <td>0</td>\n",
              "      <td>1.394933</td>\n",
              "      <td>230.04</td>\n",
              "      <td>0.96</td>\n",
              "      <td>0.700000</td>\n",
              "      <td>2.440000</td>\n",
              "      <td>3.50</td>\n",
              "      <td>2.04000</td>\n",
              "      <td>0.570000</td>\n",
              "      <td>2.300000</td>\n",
              "      <td>6.65</td>\n",
              "    </tr>\n",
              "    <tr>\n",
              "      <th>44</th>\n",
              "      <td>WSKT</td>\n",
              "      <td>Waskita Karya (Persero) Tbk.</td>\n",
              "      <td>0</td>\n",
              "      <td>1.089161</td>\n",
              "      <td>340.33</td>\n",
              "      <td>0.84</td>\n",
              "      <td>0.770000</td>\n",
              "      <td>3.300000</td>\n",
              "      <td>3.70</td>\n",
              "      <td>5.99000</td>\n",
              "      <td>8.070000</td>\n",
              "      <td>0.450721</td>\n",
              "      <td>9.47</td>\n",
              "    </tr>\n",
              "  </tbody>\n",
              "</table>\n",
              "</div>\n",
              "      <button class=\"colab-df-convert\" onclick=\"convertToInteractive('df-4e454149-77ce-4091-bcd7-4274160b1287')\"\n",
              "              title=\"Convert this dataframe to an interactive table.\"\n",
              "              style=\"display:none;\">\n",
              "        \n",
              "  <svg xmlns=\"http://www.w3.org/2000/svg\" height=\"24px\"viewBox=\"0 0 24 24\"\n",
              "       width=\"24px\">\n",
              "    <path d=\"M0 0h24v24H0V0z\" fill=\"none\"/>\n",
              "    <path d=\"M18.56 5.44l.94 2.06.94-2.06 2.06-.94-2.06-.94-.94-2.06-.94 2.06-2.06.94zm-11 1L8.5 8.5l.94-2.06 2.06-.94-2.06-.94L8.5 2.5l-.94 2.06-2.06.94zm10 10l.94 2.06.94-2.06 2.06-.94-2.06-.94-.94-2.06-.94 2.06-2.06.94z\"/><path d=\"M17.41 7.96l-1.37-1.37c-.4-.4-.92-.59-1.43-.59-.52 0-1.04.2-1.43.59L10.3 9.45l-7.72 7.72c-.78.78-.78 2.05 0 2.83L4 21.41c.39.39.9.59 1.41.59.51 0 1.02-.2 1.41-.59l7.78-7.78 2.81-2.81c.8-.78.8-2.07 0-2.86zM5.41 20L4 18.59l7.72-7.72 1.47 1.35L5.41 20z\"/>\n",
              "  </svg>\n",
              "      </button>\n",
              "      \n",
              "  <style>\n",
              "    .colab-df-container {\n",
              "      display:flex;\n",
              "      flex-wrap:wrap;\n",
              "      gap: 12px;\n",
              "    }\n",
              "\n",
              "    .colab-df-convert {\n",
              "      background-color: #E8F0FE;\n",
              "      border: none;\n",
              "      border-radius: 50%;\n",
              "      cursor: pointer;\n",
              "      display: none;\n",
              "      fill: #1967D2;\n",
              "      height: 32px;\n",
              "      padding: 0 0 0 0;\n",
              "      width: 32px;\n",
              "    }\n",
              "\n",
              "    .colab-df-convert:hover {\n",
              "      background-color: #E2EBFA;\n",
              "      box-shadow: 0px 1px 2px rgba(60, 64, 67, 0.3), 0px 1px 3px 1px rgba(60, 64, 67, 0.15);\n",
              "      fill: #174EA6;\n",
              "    }\n",
              "\n",
              "    [theme=dark] .colab-df-convert {\n",
              "      background-color: #3B4455;\n",
              "      fill: #D2E3FC;\n",
              "    }\n",
              "\n",
              "    [theme=dark] .colab-df-convert:hover {\n",
              "      background-color: #434B5C;\n",
              "      box-shadow: 0px 1px 3px 1px rgba(0, 0, 0, 0.15);\n",
              "      filter: drop-shadow(0px 1px 2px rgba(0, 0, 0, 0.3));\n",
              "      fill: #FFFFFF;\n",
              "    }\n",
              "  </style>\n",
              "\n",
              "      <script>\n",
              "        const buttonEl =\n",
              "          document.querySelector('#df-4e454149-77ce-4091-bcd7-4274160b1287 button.colab-df-convert');\n",
              "        buttonEl.style.display =\n",
              "          google.colab.kernel.accessAllowed ? 'block' : 'none';\n",
              "\n",
              "        async function convertToInteractive(key) {\n",
              "          const element = document.querySelector('#df-4e454149-77ce-4091-bcd7-4274160b1287');\n",
              "          const dataTable =\n",
              "            await google.colab.kernel.invokeFunction('convertToInteractive',\n",
              "                                                     [key], {});\n",
              "          if (!dataTable) return;\n",
              "\n",
              "          const docLinkHtml = 'Like what you see? Visit the ' +\n",
              "            '<a target=\"_blank\" href=https://colab.research.google.com/notebooks/data_table.ipynb>data table notebook</a>'\n",
              "            + ' to learn more about interactive tables.';\n",
              "          element.innerHTML = '';\n",
              "          dataTable['output_type'] = 'display_data';\n",
              "          await google.colab.output.renderOutput(dataTable, element);\n",
              "          const docLink = document.createElement('div');\n",
              "          docLink.innerHTML = docLinkHtml;\n",
              "          element.appendChild(docLink);\n",
              "        }\n",
              "      </script>\n",
              "    </div>\n",
              "  </div>\n",
              "  "
            ]
          },
          "metadata": {},
          "execution_count": 4
        }
      ],
      "source": [
        "dataset = pd.read_excel(\"2019.xlsx\")\n",
        "dataset"
      ]
    },
    {
      "cell_type": "code",
      "execution_count": 5,
      "metadata": {
        "colab": {
          "base_uri": "https://localhost:8080/"
        },
        "id": "JIQNKcxAxqU7",
        "outputId": "3f537209-358d-4f6d-8486-cd8d79866e45"
      },
      "outputs": [
        {
          "output_type": "execute_result",
          "data": {
            "text/plain": [
              "(45, 13)"
            ]
          },
          "metadata": {},
          "execution_count": 5
        }
      ],
      "source": [
        "dataset.shape"
      ]
    },
    {
      "cell_type": "markdown",
      "metadata": {
        "id": "Goi-tg7sQWi0"
      },
      "source": [
        "# Analisis Deskriptif"
      ]
    },
    {
      "cell_type": "code",
      "execution_count": 6,
      "metadata": {
        "id": "_WACCm7hx1FJ"
      },
      "outputs": [],
      "source": [
        "#Mengambil Data CR, EPS, PBV, DAR, DER, ROA, ROE, GPM, OPM\n",
        "data = dataset.drop(['Kode','Nama Saham','FD'], axis=1, inplace=True)"
      ]
    },
    {
      "cell_type": "code",
      "execution_count": 7,
      "metadata": {
        "colab": {
          "base_uri": "https://localhost:8080/",
          "height": 207
        },
        "id": "D0Rnz2Z5yCms",
        "outputId": "789524fd-f3d7-4739-dfd5-319bf9177381"
      },
      "outputs": [
        {
          "output_type": "execute_result",
          "data": {
            "text/plain": [
              "        CR     EPS   PBV   DAR       DER   ROA      ROE    GPM        OPM  \\\n",
              "0  96.0000   89.90  0.60  0.39  0.640000  6.76  0.90488  33.43  24.640000   \n",
              "1  39.7600  -20.00  0.80  0.50  0.028252 -8.00  6.08000   6.60   3.980000   \n",
              "2  54.0900  -36.39  0.96  0.40  0.690000 -2.63  4.43000   3.77   7.340000   \n",
              "3  22.2900  242.05  0.98  0.49  0.980000  7.94  5.70000  20.22  12.862007   \n",
              "4   0.2038   48.68  4.46  0.80  4.400000  3.03  7.04000   4.85  57.600000   \n",
              "\n",
              "     NPM  \n",
              "0   3.09  \n",
              "1   6.78  \n",
              "2   3.46  \n",
              "3   0.44  \n",
              "4  45.54  "
            ],
            "text/html": [
              "\n",
              "  <div id=\"df-ae8d6505-8c26-4e42-a42a-107d0a191d8e\">\n",
              "    <div class=\"colab-df-container\">\n",
              "      <div>\n",
              "<style scoped>\n",
              "    .dataframe tbody tr th:only-of-type {\n",
              "        vertical-align: middle;\n",
              "    }\n",
              "\n",
              "    .dataframe tbody tr th {\n",
              "        vertical-align: top;\n",
              "    }\n",
              "\n",
              "    .dataframe thead th {\n",
              "        text-align: right;\n",
              "    }\n",
              "</style>\n",
              "<table border=\"1\" class=\"dataframe\">\n",
              "  <thead>\n",
              "    <tr style=\"text-align: right;\">\n",
              "      <th></th>\n",
              "      <th>CR</th>\n",
              "      <th>EPS</th>\n",
              "      <th>PBV</th>\n",
              "      <th>DAR</th>\n",
              "      <th>DER</th>\n",
              "      <th>ROA</th>\n",
              "      <th>ROE</th>\n",
              "      <th>GPM</th>\n",
              "      <th>OPM</th>\n",
              "      <th>NPM</th>\n",
              "    </tr>\n",
              "  </thead>\n",
              "  <tbody>\n",
              "    <tr>\n",
              "      <th>0</th>\n",
              "      <td>96.0000</td>\n",
              "      <td>89.90</td>\n",
              "      <td>0.60</td>\n",
              "      <td>0.39</td>\n",
              "      <td>0.640000</td>\n",
              "      <td>6.76</td>\n",
              "      <td>0.90488</td>\n",
              "      <td>33.43</td>\n",
              "      <td>24.640000</td>\n",
              "      <td>3.09</td>\n",
              "    </tr>\n",
              "    <tr>\n",
              "      <th>1</th>\n",
              "      <td>39.7600</td>\n",
              "      <td>-20.00</td>\n",
              "      <td>0.80</td>\n",
              "      <td>0.50</td>\n",
              "      <td>0.028252</td>\n",
              "      <td>-8.00</td>\n",
              "      <td>6.08000</td>\n",
              "      <td>6.60</td>\n",
              "      <td>3.980000</td>\n",
              "      <td>6.78</td>\n",
              "    </tr>\n",
              "    <tr>\n",
              "      <th>2</th>\n",
              "      <td>54.0900</td>\n",
              "      <td>-36.39</td>\n",
              "      <td>0.96</td>\n",
              "      <td>0.40</td>\n",
              "      <td>0.690000</td>\n",
              "      <td>-2.63</td>\n",
              "      <td>4.43000</td>\n",
              "      <td>3.77</td>\n",
              "      <td>7.340000</td>\n",
              "      <td>3.46</td>\n",
              "    </tr>\n",
              "    <tr>\n",
              "      <th>3</th>\n",
              "      <td>22.2900</td>\n",
              "      <td>242.05</td>\n",
              "      <td>0.98</td>\n",
              "      <td>0.49</td>\n",
              "      <td>0.980000</td>\n",
              "      <td>7.94</td>\n",
              "      <td>5.70000</td>\n",
              "      <td>20.22</td>\n",
              "      <td>12.862007</td>\n",
              "      <td>0.44</td>\n",
              "    </tr>\n",
              "    <tr>\n",
              "      <th>4</th>\n",
              "      <td>0.2038</td>\n",
              "      <td>48.68</td>\n",
              "      <td>4.46</td>\n",
              "      <td>0.80</td>\n",
              "      <td>4.400000</td>\n",
              "      <td>3.03</td>\n",
              "      <td>7.04000</td>\n",
              "      <td>4.85</td>\n",
              "      <td>57.600000</td>\n",
              "      <td>45.54</td>\n",
              "    </tr>\n",
              "  </tbody>\n",
              "</table>\n",
              "</div>\n",
              "      <button class=\"colab-df-convert\" onclick=\"convertToInteractive('df-ae8d6505-8c26-4e42-a42a-107d0a191d8e')\"\n",
              "              title=\"Convert this dataframe to an interactive table.\"\n",
              "              style=\"display:none;\">\n",
              "        \n",
              "  <svg xmlns=\"http://www.w3.org/2000/svg\" height=\"24px\"viewBox=\"0 0 24 24\"\n",
              "       width=\"24px\">\n",
              "    <path d=\"M0 0h24v24H0V0z\" fill=\"none\"/>\n",
              "    <path d=\"M18.56 5.44l.94 2.06.94-2.06 2.06-.94-2.06-.94-.94-2.06-.94 2.06-2.06.94zm-11 1L8.5 8.5l.94-2.06 2.06-.94-2.06-.94L8.5 2.5l-.94 2.06-2.06.94zm10 10l.94 2.06.94-2.06 2.06-.94-2.06-.94-.94-2.06-.94 2.06-2.06.94z\"/><path d=\"M17.41 7.96l-1.37-1.37c-.4-.4-.92-.59-1.43-.59-.52 0-1.04.2-1.43.59L10.3 9.45l-7.72 7.72c-.78.78-.78 2.05 0 2.83L4 21.41c.39.39.9.59 1.41.59.51 0 1.02-.2 1.41-.59l7.78-7.78 2.81-2.81c.8-.78.8-2.07 0-2.86zM5.41 20L4 18.59l7.72-7.72 1.47 1.35L5.41 20z\"/>\n",
              "  </svg>\n",
              "      </button>\n",
              "      \n",
              "  <style>\n",
              "    .colab-df-container {\n",
              "      display:flex;\n",
              "      flex-wrap:wrap;\n",
              "      gap: 12px;\n",
              "    }\n",
              "\n",
              "    .colab-df-convert {\n",
              "      background-color: #E8F0FE;\n",
              "      border: none;\n",
              "      border-radius: 50%;\n",
              "      cursor: pointer;\n",
              "      display: none;\n",
              "      fill: #1967D2;\n",
              "      height: 32px;\n",
              "      padding: 0 0 0 0;\n",
              "      width: 32px;\n",
              "    }\n",
              "\n",
              "    .colab-df-convert:hover {\n",
              "      background-color: #E2EBFA;\n",
              "      box-shadow: 0px 1px 2px rgba(60, 64, 67, 0.3), 0px 1px 3px 1px rgba(60, 64, 67, 0.15);\n",
              "      fill: #174EA6;\n",
              "    }\n",
              "\n",
              "    [theme=dark] .colab-df-convert {\n",
              "      background-color: #3B4455;\n",
              "      fill: #D2E3FC;\n",
              "    }\n",
              "\n",
              "    [theme=dark] .colab-df-convert:hover {\n",
              "      background-color: #434B5C;\n",
              "      box-shadow: 0px 1px 3px 1px rgba(0, 0, 0, 0.15);\n",
              "      filter: drop-shadow(0px 1px 2px rgba(0, 0, 0, 0.3));\n",
              "      fill: #FFFFFF;\n",
              "    }\n",
              "  </style>\n",
              "\n",
              "      <script>\n",
              "        const buttonEl =\n",
              "          document.querySelector('#df-ae8d6505-8c26-4e42-a42a-107d0a191d8e button.colab-df-convert');\n",
              "        buttonEl.style.display =\n",
              "          google.colab.kernel.accessAllowed ? 'block' : 'none';\n",
              "\n",
              "        async function convertToInteractive(key) {\n",
              "          const element = document.querySelector('#df-ae8d6505-8c26-4e42-a42a-107d0a191d8e');\n",
              "          const dataTable =\n",
              "            await google.colab.kernel.invokeFunction('convertToInteractive',\n",
              "                                                     [key], {});\n",
              "          if (!dataTable) return;\n",
              "\n",
              "          const docLinkHtml = 'Like what you see? Visit the ' +\n",
              "            '<a target=\"_blank\" href=https://colab.research.google.com/notebooks/data_table.ipynb>data table notebook</a>'\n",
              "            + ' to learn more about interactive tables.';\n",
              "          element.innerHTML = '';\n",
              "          dataTable['output_type'] = 'display_data';\n",
              "          await google.colab.output.renderOutput(dataTable, element);\n",
              "          const docLink = document.createElement('div');\n",
              "          docLink.innerHTML = docLinkHtml;\n",
              "          element.appendChild(docLink);\n",
              "        }\n",
              "      </script>\n",
              "    </div>\n",
              "  </div>\n",
              "  "
            ]
          },
          "metadata": {},
          "execution_count": 7
        }
      ],
      "source": [
        "dataset.head()"
      ]
    },
    {
      "cell_type": "code",
      "execution_count": 8,
      "metadata": {
        "colab": {
          "base_uri": "https://localhost:8080/"
        },
        "id": "e0gSRDqmzoe2",
        "outputId": "37398be0-36d0-4217-f9ed-7f44de6dc4e1"
      },
      "outputs": [
        {
          "output_type": "execute_result",
          "data": {
            "text/plain": [
              "(45, 10)"
            ]
          },
          "metadata": {},
          "execution_count": 8
        }
      ],
      "source": [
        "dataset.shape"
      ]
    },
    {
      "cell_type": "code",
      "execution_count": 9,
      "metadata": {
        "colab": {
          "base_uri": "https://localhost:8080/",
          "height": 1000
        },
        "id": "kJDD-kgKy13t",
        "outputId": "511632e9-b6c6-46b2-90aa-8067b4e3d960"
      },
      "outputs": [
        {
          "output_type": "execute_result",
          "data": {
            "text/plain": [
              "              CR      EPS    PBV       DAR       DER    ROA       ROE  \\\n",
              "0      96.000000    89.90   0.60  0.390000  0.640000   6.76   0.90488   \n",
              "1      39.760000   -20.00   0.80  0.500000  0.028252  -8.00   6.08000   \n",
              "2      54.090000   -36.39   0.96  0.400000  0.690000  -2.63   4.43000   \n",
              "3      22.290000   242.05   0.98  0.490000  0.980000   7.94   5.70000   \n",
              "4       0.203800    48.68   4.46  0.800000  4.400000   3.03   7.04000   \n",
              "5       0.295179   805.06   0.58  0.830000  6.080000   0.87   3.67000   \n",
              "6       0.257781    20.69   2.57  0.760000  5.920000   2.50   9.45000   \n",
              "7       0.237558   265.05   0.06  0.860000  0.060000   0.92   0.78000   \n",
              "8       0.226278   536.04   0.95  0.780000  5.090000   2.05   3.98000   \n",
              "9      74.850000    59.03   0.05  0.620000  0.600000   3.44   8.96000   \n",
              "10      3.927680    88.42   0.80  0.420000  0.720000   3.27   5.62000   \n",
              "11      1.539887    25.30   3.73  0.070000  0.500000   8.02  24.05000   \n",
              "12    297.870000   277.74   6.50  0.300000  0.430000  -6.46  23.47000   \n",
              "13      2.174197    70.09   0.07  0.500000  0.060000   3.80   7.83000   \n",
              "14     29.880000   266.49   0.55  0.620000  0.630000   7.00  -8.43000   \n",
              "15     44.860000  -308.47   0.99  0.680000  2.040000  -5.72  -7.97000   \n",
              "16    205.800000  4049.62   3.75  0.350000  0.530000   0.28   7.27000   \n",
              "17    430.200000     6.39   3.74  0.240000  0.320000 -29.05  38.29000   \n",
              "18     95.070000   392.37   5.56  0.340000  0.500000   3.56  20.52000   \n",
              "19    359.870000    88.56   0.06  0.040000  0.070000   2.75   3.20000   \n",
              "20      6.630000   474.48   0.35  0.480000  0.930000   5.04   9.94000   \n",
              "21    207.750000   223.47   0.46  0.690000  2.260000   2.67   8.68000   \n",
              "22    240.600000   563.26   0.05  0.557000  0.320000  -6.72   5.60000   \n",
              "23    303.730000   300.29   3.00  0.060000  0.060000  -4.02  -4.02000   \n",
              "24     96.580000  3370.28   0.53  0.330000  0.490000   7.94  26.68000   \n",
              "25     79.820000   -84.88   2.60  0.560000  0.260000   9.78  22.06000   \n",
              "26     38.000000   303.48   0.65  0.750000  3.080000   2.47   0.08000   \n",
              "27    465.770000    52.42   4.89  0.060000  0.090000   3.76   6.33000   \n",
              "28      0.020000   376.07   6.57  0.640000  0.770000  20.79  60.43000   \n",
              "29     65.800000    -0.72   0.58  0.740000  2.790000  -0.54  -2.05000   \n",
              "30    340.660000     7.27   0.94  0.350000  0.540000   9.83   5.09000   \n",
              "31     54.060000    82.96   0.04  0.600000  0.480000   4.59   0.39000   \n",
              "32    237.850000   436.08   3.32  0.330000  0.490000  20.09  30.48000   \n",
              "33      1.308375   305.97   0.73  0.690000  2.220000   3.73  -2.00000   \n",
              "34      2.858675    58.70   2.06  0.390000  0.630000   0.30   8.46000   \n",
              "35    426.040000     0.55   5.38  0.070000  0.200000  24.03  28.90000   \n",
              "36     95.050000    50.90   2.05  0.360000  0.560000   6.03   9.43000   \n",
              "37    308.470000   -66.03   0.98  0.620000  0.640000  -6.20   6.38000   \n",
              "38  69653.860000    47.72   0.87  0.547626  1.658501   8.29   9.89000   \n",
              "39     93.530000    82.03   3.50  0.430000  0.760000   3.08  23.00000   \n",
              "40    205.080000   -25.07   3.95  0.440000  0.790000   5.74  -0.30000   \n",
              "41      4.070000  2982.63   0.87  0.500000  0.040000   9.89  20.05000   \n",
              "42     74.770000    93.90  38.62  0.600000  0.580000  46.66  20.20000   \n",
              "43      1.394933   230.04   0.96  0.700000  2.440000   3.50   2.04000   \n",
              "44      1.089161   340.33   0.84  0.770000  3.300000   3.70   5.99000   \n",
              "\n",
              "          GPM        OPM    NPM  \n",
              "0   33.430000  24.640000   3.09  \n",
              "1    6.600000   3.980000   6.78  \n",
              "2    3.770000   7.340000   3.46  \n",
              "3   20.220000  12.862007   0.44  \n",
              "4    4.850000  57.600000  45.54  \n",
              "5    0.125568  36.200000  27.88  \n",
              "6    0.158472  77.780000  60.43  \n",
              "7    0.377111   5.730000   2.29  \n",
              "8    0.238267  37.020000  28.30  \n",
              "9   26.090000  -0.296981  -7.87  \n",
              "10  70.730000  32.660000  25.67  \n",
              "11   0.417239  37.780000  28.00  \n",
              "12   6.930000  -2.020000   8.44  \n",
              "13  47.300000  28.020000   6.98  \n",
              "14   9.020000   4.400000  -2.56  \n",
              "15   2.517019   0.081144  -4.37  \n",
              "16   9.480000   0.660000   0.04  \n",
              "17  23.880000   6.508161  -2.68  \n",
              "18  30.930000   6.790000   2.03  \n",
              "19   3.390000   0.920000   7.79  \n",
              "20  27.540000   2.460000   6.76  \n",
              "21  20.640000  -0.477279   3.30  \n",
              "22  36.090000  26.800000  -7.64  \n",
              "23  28.760000   7.070000   7.54  \n",
              "24  29.090000  -0.877492  -2.89  \n",
              "25  20.090000   0.300000   6.62  \n",
              "26   6.000000   4.650000   5.50  \n",
              "27  46.730000   0.436716   0.85  \n",
              "28  62.250000   5.290000   0.70  \n",
              "29  50.890000   0.120926  -2.33  \n",
              "30  62.050000   1.237328  20.57  \n",
              "31  33.830000   6.670000   9.42  \n",
              "32  40.370000  29.680000  24.09  \n",
              "33   4.020000   1.034061  -7.80  \n",
              "34  57.200000   2.850979  39.92  \n",
              "35   2.586198  38.740000  29.49  \n",
              "36  30.400000   0.396328   0.06  \n",
              "37   7.770000   4.890000   8.08  \n",
              "38   0.930000   3.750000  23.27  \n",
              "39   3.766815  29.700000  20.63  \n",
              "40   5.350000   0.276596   7.07  \n",
              "41  24.940000  -2.564926  -3.59  \n",
              "42  50.460000  29.370000  20.79  \n",
              "43   0.570000   2.300000   6.65  \n",
              "44   8.070000   0.450721   9.47  "
            ],
            "text/html": [
              "\n",
              "  <div id=\"df-8dd3674c-5b30-4403-a95f-6576fbb2a54f\">\n",
              "    <div class=\"colab-df-container\">\n",
              "      <div>\n",
              "<style scoped>\n",
              "    .dataframe tbody tr th:only-of-type {\n",
              "        vertical-align: middle;\n",
              "    }\n",
              "\n",
              "    .dataframe tbody tr th {\n",
              "        vertical-align: top;\n",
              "    }\n",
              "\n",
              "    .dataframe thead th {\n",
              "        text-align: right;\n",
              "    }\n",
              "</style>\n",
              "<table border=\"1\" class=\"dataframe\">\n",
              "  <thead>\n",
              "    <tr style=\"text-align: right;\">\n",
              "      <th></th>\n",
              "      <th>CR</th>\n",
              "      <th>EPS</th>\n",
              "      <th>PBV</th>\n",
              "      <th>DAR</th>\n",
              "      <th>DER</th>\n",
              "      <th>ROA</th>\n",
              "      <th>ROE</th>\n",
              "      <th>GPM</th>\n",
              "      <th>OPM</th>\n",
              "      <th>NPM</th>\n",
              "    </tr>\n",
              "  </thead>\n",
              "  <tbody>\n",
              "    <tr>\n",
              "      <th>0</th>\n",
              "      <td>96.000000</td>\n",
              "      <td>89.90</td>\n",
              "      <td>0.60</td>\n",
              "      <td>0.390000</td>\n",
              "      <td>0.640000</td>\n",
              "      <td>6.76</td>\n",
              "      <td>0.90488</td>\n",
              "      <td>33.430000</td>\n",
              "      <td>24.640000</td>\n",
              "      <td>3.09</td>\n",
              "    </tr>\n",
              "    <tr>\n",
              "      <th>1</th>\n",
              "      <td>39.760000</td>\n",
              "      <td>-20.00</td>\n",
              "      <td>0.80</td>\n",
              "      <td>0.500000</td>\n",
              "      <td>0.028252</td>\n",
              "      <td>-8.00</td>\n",
              "      <td>6.08000</td>\n",
              "      <td>6.600000</td>\n",
              "      <td>3.980000</td>\n",
              "      <td>6.78</td>\n",
              "    </tr>\n",
              "    <tr>\n",
              "      <th>2</th>\n",
              "      <td>54.090000</td>\n",
              "      <td>-36.39</td>\n",
              "      <td>0.96</td>\n",
              "      <td>0.400000</td>\n",
              "      <td>0.690000</td>\n",
              "      <td>-2.63</td>\n",
              "      <td>4.43000</td>\n",
              "      <td>3.770000</td>\n",
              "      <td>7.340000</td>\n",
              "      <td>3.46</td>\n",
              "    </tr>\n",
              "    <tr>\n",
              "      <th>3</th>\n",
              "      <td>22.290000</td>\n",
              "      <td>242.05</td>\n",
              "      <td>0.98</td>\n",
              "      <td>0.490000</td>\n",
              "      <td>0.980000</td>\n",
              "      <td>7.94</td>\n",
              "      <td>5.70000</td>\n",
              "      <td>20.220000</td>\n",
              "      <td>12.862007</td>\n",
              "      <td>0.44</td>\n",
              "    </tr>\n",
              "    <tr>\n",
              "      <th>4</th>\n",
              "      <td>0.203800</td>\n",
              "      <td>48.68</td>\n",
              "      <td>4.46</td>\n",
              "      <td>0.800000</td>\n",
              "      <td>4.400000</td>\n",
              "      <td>3.03</td>\n",
              "      <td>7.04000</td>\n",
              "      <td>4.850000</td>\n",
              "      <td>57.600000</td>\n",
              "      <td>45.54</td>\n",
              "    </tr>\n",
              "    <tr>\n",
              "      <th>5</th>\n",
              "      <td>0.295179</td>\n",
              "      <td>805.06</td>\n",
              "      <td>0.58</td>\n",
              "      <td>0.830000</td>\n",
              "      <td>6.080000</td>\n",
              "      <td>0.87</td>\n",
              "      <td>3.67000</td>\n",
              "      <td>0.125568</td>\n",
              "      <td>36.200000</td>\n",
              "      <td>27.88</td>\n",
              "    </tr>\n",
              "    <tr>\n",
              "      <th>6</th>\n",
              "      <td>0.257781</td>\n",
              "      <td>20.69</td>\n",
              "      <td>2.57</td>\n",
              "      <td>0.760000</td>\n",
              "      <td>5.920000</td>\n",
              "      <td>2.50</td>\n",
              "      <td>9.45000</td>\n",
              "      <td>0.158472</td>\n",
              "      <td>77.780000</td>\n",
              "      <td>60.43</td>\n",
              "    </tr>\n",
              "    <tr>\n",
              "      <th>7</th>\n",
              "      <td>0.237558</td>\n",
              "      <td>265.05</td>\n",
              "      <td>0.06</td>\n",
              "      <td>0.860000</td>\n",
              "      <td>0.060000</td>\n",
              "      <td>0.92</td>\n",
              "      <td>0.78000</td>\n",
              "      <td>0.377111</td>\n",
              "      <td>5.730000</td>\n",
              "      <td>2.29</td>\n",
              "    </tr>\n",
              "    <tr>\n",
              "      <th>8</th>\n",
              "      <td>0.226278</td>\n",
              "      <td>536.04</td>\n",
              "      <td>0.95</td>\n",
              "      <td>0.780000</td>\n",
              "      <td>5.090000</td>\n",
              "      <td>2.05</td>\n",
              "      <td>3.98000</td>\n",
              "      <td>0.238267</td>\n",
              "      <td>37.020000</td>\n",
              "      <td>28.30</td>\n",
              "    </tr>\n",
              "    <tr>\n",
              "      <th>9</th>\n",
              "      <td>74.850000</td>\n",
              "      <td>59.03</td>\n",
              "      <td>0.05</td>\n",
              "      <td>0.620000</td>\n",
              "      <td>0.600000</td>\n",
              "      <td>3.44</td>\n",
              "      <td>8.96000</td>\n",
              "      <td>26.090000</td>\n",
              "      <td>-0.296981</td>\n",
              "      <td>-7.87</td>\n",
              "    </tr>\n",
              "    <tr>\n",
              "      <th>10</th>\n",
              "      <td>3.927680</td>\n",
              "      <td>88.42</td>\n",
              "      <td>0.80</td>\n",
              "      <td>0.420000</td>\n",
              "      <td>0.720000</td>\n",
              "      <td>3.27</td>\n",
              "      <td>5.62000</td>\n",
              "      <td>70.730000</td>\n",
              "      <td>32.660000</td>\n",
              "      <td>25.67</td>\n",
              "    </tr>\n",
              "    <tr>\n",
              "      <th>11</th>\n",
              "      <td>1.539887</td>\n",
              "      <td>25.30</td>\n",
              "      <td>3.73</td>\n",
              "      <td>0.070000</td>\n",
              "      <td>0.500000</td>\n",
              "      <td>8.02</td>\n",
              "      <td>24.05000</td>\n",
              "      <td>0.417239</td>\n",
              "      <td>37.780000</td>\n",
              "      <td>28.00</td>\n",
              "    </tr>\n",
              "    <tr>\n",
              "      <th>12</th>\n",
              "      <td>297.870000</td>\n",
              "      <td>277.74</td>\n",
              "      <td>6.50</td>\n",
              "      <td>0.300000</td>\n",
              "      <td>0.430000</td>\n",
              "      <td>-6.46</td>\n",
              "      <td>23.47000</td>\n",
              "      <td>6.930000</td>\n",
              "      <td>-2.020000</td>\n",
              "      <td>8.44</td>\n",
              "    </tr>\n",
              "    <tr>\n",
              "      <th>13</th>\n",
              "      <td>2.174197</td>\n",
              "      <td>70.09</td>\n",
              "      <td>0.07</td>\n",
              "      <td>0.500000</td>\n",
              "      <td>0.060000</td>\n",
              "      <td>3.80</td>\n",
              "      <td>7.83000</td>\n",
              "      <td>47.300000</td>\n",
              "      <td>28.020000</td>\n",
              "      <td>6.98</td>\n",
              "    </tr>\n",
              "    <tr>\n",
              "      <th>14</th>\n",
              "      <td>29.880000</td>\n",
              "      <td>266.49</td>\n",
              "      <td>0.55</td>\n",
              "      <td>0.620000</td>\n",
              "      <td>0.630000</td>\n",
              "      <td>7.00</td>\n",
              "      <td>-8.43000</td>\n",
              "      <td>9.020000</td>\n",
              "      <td>4.400000</td>\n",
              "      <td>-2.56</td>\n",
              "    </tr>\n",
              "    <tr>\n",
              "      <th>15</th>\n",
              "      <td>44.860000</td>\n",
              "      <td>-308.47</td>\n",
              "      <td>0.99</td>\n",
              "      <td>0.680000</td>\n",
              "      <td>2.040000</td>\n",
              "      <td>-5.72</td>\n",
              "      <td>-7.97000</td>\n",
              "      <td>2.517019</td>\n",
              "      <td>0.081144</td>\n",
              "      <td>-4.37</td>\n",
              "    </tr>\n",
              "    <tr>\n",
              "      <th>16</th>\n",
              "      <td>205.800000</td>\n",
              "      <td>4049.62</td>\n",
              "      <td>3.75</td>\n",
              "      <td>0.350000</td>\n",
              "      <td>0.530000</td>\n",
              "      <td>0.28</td>\n",
              "      <td>7.27000</td>\n",
              "      <td>9.480000</td>\n",
              "      <td>0.660000</td>\n",
              "      <td>0.04</td>\n",
              "    </tr>\n",
              "    <tr>\n",
              "      <th>17</th>\n",
              "      <td>430.200000</td>\n",
              "      <td>6.39</td>\n",
              "      <td>3.74</td>\n",
              "      <td>0.240000</td>\n",
              "      <td>0.320000</td>\n",
              "      <td>-29.05</td>\n",
              "      <td>38.29000</td>\n",
              "      <td>23.880000</td>\n",
              "      <td>6.508161</td>\n",
              "      <td>-2.68</td>\n",
              "    </tr>\n",
              "    <tr>\n",
              "      <th>18</th>\n",
              "      <td>95.070000</td>\n",
              "      <td>392.37</td>\n",
              "      <td>5.56</td>\n",
              "      <td>0.340000</td>\n",
              "      <td>0.500000</td>\n",
              "      <td>3.56</td>\n",
              "      <td>20.52000</td>\n",
              "      <td>30.930000</td>\n",
              "      <td>6.790000</td>\n",
              "      <td>2.03</td>\n",
              "    </tr>\n",
              "    <tr>\n",
              "      <th>19</th>\n",
              "      <td>359.870000</td>\n",
              "      <td>88.56</td>\n",
              "      <td>0.06</td>\n",
              "      <td>0.040000</td>\n",
              "      <td>0.070000</td>\n",
              "      <td>2.75</td>\n",
              "      <td>3.20000</td>\n",
              "      <td>3.390000</td>\n",
              "      <td>0.920000</td>\n",
              "      <td>7.79</td>\n",
              "    </tr>\n",
              "    <tr>\n",
              "      <th>20</th>\n",
              "      <td>6.630000</td>\n",
              "      <td>474.48</td>\n",
              "      <td>0.35</td>\n",
              "      <td>0.480000</td>\n",
              "      <td>0.930000</td>\n",
              "      <td>5.04</td>\n",
              "      <td>9.94000</td>\n",
              "      <td>27.540000</td>\n",
              "      <td>2.460000</td>\n",
              "      <td>6.76</td>\n",
              "    </tr>\n",
              "    <tr>\n",
              "      <th>21</th>\n",
              "      <td>207.750000</td>\n",
              "      <td>223.47</td>\n",
              "      <td>0.46</td>\n",
              "      <td>0.690000</td>\n",
              "      <td>2.260000</td>\n",
              "      <td>2.67</td>\n",
              "      <td>8.68000</td>\n",
              "      <td>20.640000</td>\n",
              "      <td>-0.477279</td>\n",
              "      <td>3.30</td>\n",
              "    </tr>\n",
              "    <tr>\n",
              "      <th>22</th>\n",
              "      <td>240.600000</td>\n",
              "      <td>563.26</td>\n",
              "      <td>0.05</td>\n",
              "      <td>0.557000</td>\n",
              "      <td>0.320000</td>\n",
              "      <td>-6.72</td>\n",
              "      <td>5.60000</td>\n",
              "      <td>36.090000</td>\n",
              "      <td>26.800000</td>\n",
              "      <td>-7.64</td>\n",
              "    </tr>\n",
              "    <tr>\n",
              "      <th>23</th>\n",
              "      <td>303.730000</td>\n",
              "      <td>300.29</td>\n",
              "      <td>3.00</td>\n",
              "      <td>0.060000</td>\n",
              "      <td>0.060000</td>\n",
              "      <td>-4.02</td>\n",
              "      <td>-4.02000</td>\n",
              "      <td>28.760000</td>\n",
              "      <td>7.070000</td>\n",
              "      <td>7.54</td>\n",
              "    </tr>\n",
              "    <tr>\n",
              "      <th>24</th>\n",
              "      <td>96.580000</td>\n",
              "      <td>3370.28</td>\n",
              "      <td>0.53</td>\n",
              "      <td>0.330000</td>\n",
              "      <td>0.490000</td>\n",
              "      <td>7.94</td>\n",
              "      <td>26.68000</td>\n",
              "      <td>29.090000</td>\n",
              "      <td>-0.877492</td>\n",
              "      <td>-2.89</td>\n",
              "    </tr>\n",
              "    <tr>\n",
              "      <th>25</th>\n",
              "      <td>79.820000</td>\n",
              "      <td>-84.88</td>\n",
              "      <td>2.60</td>\n",
              "      <td>0.560000</td>\n",
              "      <td>0.260000</td>\n",
              "      <td>9.78</td>\n",
              "      <td>22.06000</td>\n",
              "      <td>20.090000</td>\n",
              "      <td>0.300000</td>\n",
              "      <td>6.62</td>\n",
              "    </tr>\n",
              "    <tr>\n",
              "      <th>26</th>\n",
              "      <td>38.000000</td>\n",
              "      <td>303.48</td>\n",
              "      <td>0.65</td>\n",
              "      <td>0.750000</td>\n",
              "      <td>3.080000</td>\n",
              "      <td>2.47</td>\n",
              "      <td>0.08000</td>\n",
              "      <td>6.000000</td>\n",
              "      <td>4.650000</td>\n",
              "      <td>5.50</td>\n",
              "    </tr>\n",
              "    <tr>\n",
              "      <th>27</th>\n",
              "      <td>465.770000</td>\n",
              "      <td>52.42</td>\n",
              "      <td>4.89</td>\n",
              "      <td>0.060000</td>\n",
              "      <td>0.090000</td>\n",
              "      <td>3.76</td>\n",
              "      <td>6.33000</td>\n",
              "      <td>46.730000</td>\n",
              "      <td>0.436716</td>\n",
              "      <td>0.85</td>\n",
              "    </tr>\n",
              "    <tr>\n",
              "      <th>28</th>\n",
              "      <td>0.020000</td>\n",
              "      <td>376.07</td>\n",
              "      <td>6.57</td>\n",
              "      <td>0.640000</td>\n",
              "      <td>0.770000</td>\n",
              "      <td>20.79</td>\n",
              "      <td>60.43000</td>\n",
              "      <td>62.250000</td>\n",
              "      <td>5.290000</td>\n",
              "      <td>0.70</td>\n",
              "    </tr>\n",
              "    <tr>\n",
              "      <th>29</th>\n",
              "      <td>65.800000</td>\n",
              "      <td>-0.72</td>\n",
              "      <td>0.58</td>\n",
              "      <td>0.740000</td>\n",
              "      <td>2.790000</td>\n",
              "      <td>-0.54</td>\n",
              "      <td>-2.05000</td>\n",
              "      <td>50.890000</td>\n",
              "      <td>0.120926</td>\n",
              "      <td>-2.33</td>\n",
              "    </tr>\n",
              "    <tr>\n",
              "      <th>30</th>\n",
              "      <td>340.660000</td>\n",
              "      <td>7.27</td>\n",
              "      <td>0.94</td>\n",
              "      <td>0.350000</td>\n",
              "      <td>0.540000</td>\n",
              "      <td>9.83</td>\n",
              "      <td>5.09000</td>\n",
              "      <td>62.050000</td>\n",
              "      <td>1.237328</td>\n",
              "      <td>20.57</td>\n",
              "    </tr>\n",
              "    <tr>\n",
              "      <th>31</th>\n",
              "      <td>54.060000</td>\n",
              "      <td>82.96</td>\n",
              "      <td>0.04</td>\n",
              "      <td>0.600000</td>\n",
              "      <td>0.480000</td>\n",
              "      <td>4.59</td>\n",
              "      <td>0.39000</td>\n",
              "      <td>33.830000</td>\n",
              "      <td>6.670000</td>\n",
              "      <td>9.42</td>\n",
              "    </tr>\n",
              "    <tr>\n",
              "      <th>32</th>\n",
              "      <td>237.850000</td>\n",
              "      <td>436.08</td>\n",
              "      <td>3.32</td>\n",
              "      <td>0.330000</td>\n",
              "      <td>0.490000</td>\n",
              "      <td>20.09</td>\n",
              "      <td>30.48000</td>\n",
              "      <td>40.370000</td>\n",
              "      <td>29.680000</td>\n",
              "      <td>24.09</td>\n",
              "    </tr>\n",
              "    <tr>\n",
              "      <th>33</th>\n",
              "      <td>1.308375</td>\n",
              "      <td>305.97</td>\n",
              "      <td>0.73</td>\n",
              "      <td>0.690000</td>\n",
              "      <td>2.220000</td>\n",
              "      <td>3.73</td>\n",
              "      <td>-2.00000</td>\n",
              "      <td>4.020000</td>\n",
              "      <td>1.034061</td>\n",
              "      <td>-7.80</td>\n",
              "    </tr>\n",
              "    <tr>\n",
              "      <th>34</th>\n",
              "      <td>2.858675</td>\n",
              "      <td>58.70</td>\n",
              "      <td>2.06</td>\n",
              "      <td>0.390000</td>\n",
              "      <td>0.630000</td>\n",
              "      <td>0.30</td>\n",
              "      <td>8.46000</td>\n",
              "      <td>57.200000</td>\n",
              "      <td>2.850979</td>\n",
              "      <td>39.92</td>\n",
              "    </tr>\n",
              "    <tr>\n",
              "      <th>35</th>\n",
              "      <td>426.040000</td>\n",
              "      <td>0.55</td>\n",
              "      <td>5.38</td>\n",
              "      <td>0.070000</td>\n",
              "      <td>0.200000</td>\n",
              "      <td>24.03</td>\n",
              "      <td>28.90000</td>\n",
              "      <td>2.586198</td>\n",
              "      <td>38.740000</td>\n",
              "      <td>29.49</td>\n",
              "    </tr>\n",
              "    <tr>\n",
              "      <th>36</th>\n",
              "      <td>95.050000</td>\n",
              "      <td>50.90</td>\n",
              "      <td>2.05</td>\n",
              "      <td>0.360000</td>\n",
              "      <td>0.560000</td>\n",
              "      <td>6.03</td>\n",
              "      <td>9.43000</td>\n",
              "      <td>30.400000</td>\n",
              "      <td>0.396328</td>\n",
              "      <td>0.06</td>\n",
              "    </tr>\n",
              "    <tr>\n",
              "      <th>37</th>\n",
              "      <td>308.470000</td>\n",
              "      <td>-66.03</td>\n",
              "      <td>0.98</td>\n",
              "      <td>0.620000</td>\n",
              "      <td>0.640000</td>\n",
              "      <td>-6.20</td>\n",
              "      <td>6.38000</td>\n",
              "      <td>7.770000</td>\n",
              "      <td>4.890000</td>\n",
              "      <td>8.08</td>\n",
              "    </tr>\n",
              "    <tr>\n",
              "      <th>38</th>\n",
              "      <td>69653.860000</td>\n",
              "      <td>47.72</td>\n",
              "      <td>0.87</td>\n",
              "      <td>0.547626</td>\n",
              "      <td>1.658501</td>\n",
              "      <td>8.29</td>\n",
              "      <td>9.89000</td>\n",
              "      <td>0.930000</td>\n",
              "      <td>3.750000</td>\n",
              "      <td>23.27</td>\n",
              "    </tr>\n",
              "    <tr>\n",
              "      <th>39</th>\n",
              "      <td>93.530000</td>\n",
              "      <td>82.03</td>\n",
              "      <td>3.50</td>\n",
              "      <td>0.430000</td>\n",
              "      <td>0.760000</td>\n",
              "      <td>3.08</td>\n",
              "      <td>23.00000</td>\n",
              "      <td>3.766815</td>\n",
              "      <td>29.700000</td>\n",
              "      <td>20.63</td>\n",
              "    </tr>\n",
              "    <tr>\n",
              "      <th>40</th>\n",
              "      <td>205.080000</td>\n",
              "      <td>-25.07</td>\n",
              "      <td>3.95</td>\n",
              "      <td>0.440000</td>\n",
              "      <td>0.790000</td>\n",
              "      <td>5.74</td>\n",
              "      <td>-0.30000</td>\n",
              "      <td>5.350000</td>\n",
              "      <td>0.276596</td>\n",
              "      <td>7.07</td>\n",
              "    </tr>\n",
              "    <tr>\n",
              "      <th>41</th>\n",
              "      <td>4.070000</td>\n",
              "      <td>2982.63</td>\n",
              "      <td>0.87</td>\n",
              "      <td>0.500000</td>\n",
              "      <td>0.040000</td>\n",
              "      <td>9.89</td>\n",
              "      <td>20.05000</td>\n",
              "      <td>24.940000</td>\n",
              "      <td>-2.564926</td>\n",
              "      <td>-3.59</td>\n",
              "    </tr>\n",
              "    <tr>\n",
              "      <th>42</th>\n",
              "      <td>74.770000</td>\n",
              "      <td>93.90</td>\n",
              "      <td>38.62</td>\n",
              "      <td>0.600000</td>\n",
              "      <td>0.580000</td>\n",
              "      <td>46.66</td>\n",
              "      <td>20.20000</td>\n",
              "      <td>50.460000</td>\n",
              "      <td>29.370000</td>\n",
              "      <td>20.79</td>\n",
              "    </tr>\n",
              "    <tr>\n",
              "      <th>43</th>\n",
              "      <td>1.394933</td>\n",
              "      <td>230.04</td>\n",
              "      <td>0.96</td>\n",
              "      <td>0.700000</td>\n",
              "      <td>2.440000</td>\n",
              "      <td>3.50</td>\n",
              "      <td>2.04000</td>\n",
              "      <td>0.570000</td>\n",
              "      <td>2.300000</td>\n",
              "      <td>6.65</td>\n",
              "    </tr>\n",
              "    <tr>\n",
              "      <th>44</th>\n",
              "      <td>1.089161</td>\n",
              "      <td>340.33</td>\n",
              "      <td>0.84</td>\n",
              "      <td>0.770000</td>\n",
              "      <td>3.300000</td>\n",
              "      <td>3.70</td>\n",
              "      <td>5.99000</td>\n",
              "      <td>8.070000</td>\n",
              "      <td>0.450721</td>\n",
              "      <td>9.47</td>\n",
              "    </tr>\n",
              "  </tbody>\n",
              "</table>\n",
              "</div>\n",
              "      <button class=\"colab-df-convert\" onclick=\"convertToInteractive('df-8dd3674c-5b30-4403-a95f-6576fbb2a54f')\"\n",
              "              title=\"Convert this dataframe to an interactive table.\"\n",
              "              style=\"display:none;\">\n",
              "        \n",
              "  <svg xmlns=\"http://www.w3.org/2000/svg\" height=\"24px\"viewBox=\"0 0 24 24\"\n",
              "       width=\"24px\">\n",
              "    <path d=\"M0 0h24v24H0V0z\" fill=\"none\"/>\n",
              "    <path d=\"M18.56 5.44l.94 2.06.94-2.06 2.06-.94-2.06-.94-.94-2.06-.94 2.06-2.06.94zm-11 1L8.5 8.5l.94-2.06 2.06-.94-2.06-.94L8.5 2.5l-.94 2.06-2.06.94zm10 10l.94 2.06.94-2.06 2.06-.94-2.06-.94-.94-2.06-.94 2.06-2.06.94z\"/><path d=\"M17.41 7.96l-1.37-1.37c-.4-.4-.92-.59-1.43-.59-.52 0-1.04.2-1.43.59L10.3 9.45l-7.72 7.72c-.78.78-.78 2.05 0 2.83L4 21.41c.39.39.9.59 1.41.59.51 0 1.02-.2 1.41-.59l7.78-7.78 2.81-2.81c.8-.78.8-2.07 0-2.86zM5.41 20L4 18.59l7.72-7.72 1.47 1.35L5.41 20z\"/>\n",
              "  </svg>\n",
              "      </button>\n",
              "      \n",
              "  <style>\n",
              "    .colab-df-container {\n",
              "      display:flex;\n",
              "      flex-wrap:wrap;\n",
              "      gap: 12px;\n",
              "    }\n",
              "\n",
              "    .colab-df-convert {\n",
              "      background-color: #E8F0FE;\n",
              "      border: none;\n",
              "      border-radius: 50%;\n",
              "      cursor: pointer;\n",
              "      display: none;\n",
              "      fill: #1967D2;\n",
              "      height: 32px;\n",
              "      padding: 0 0 0 0;\n",
              "      width: 32px;\n",
              "    }\n",
              "\n",
              "    .colab-df-convert:hover {\n",
              "      background-color: #E2EBFA;\n",
              "      box-shadow: 0px 1px 2px rgba(60, 64, 67, 0.3), 0px 1px 3px 1px rgba(60, 64, 67, 0.15);\n",
              "      fill: #174EA6;\n",
              "    }\n",
              "\n",
              "    [theme=dark] .colab-df-convert {\n",
              "      background-color: #3B4455;\n",
              "      fill: #D2E3FC;\n",
              "    }\n",
              "\n",
              "    [theme=dark] .colab-df-convert:hover {\n",
              "      background-color: #434B5C;\n",
              "      box-shadow: 0px 1px 3px 1px rgba(0, 0, 0, 0.15);\n",
              "      filter: drop-shadow(0px 1px 2px rgba(0, 0, 0, 0.3));\n",
              "      fill: #FFFFFF;\n",
              "    }\n",
              "  </style>\n",
              "\n",
              "      <script>\n",
              "        const buttonEl =\n",
              "          document.querySelector('#df-8dd3674c-5b30-4403-a95f-6576fbb2a54f button.colab-df-convert');\n",
              "        buttonEl.style.display =\n",
              "          google.colab.kernel.accessAllowed ? 'block' : 'none';\n",
              "\n",
              "        async function convertToInteractive(key) {\n",
              "          const element = document.querySelector('#df-8dd3674c-5b30-4403-a95f-6576fbb2a54f');\n",
              "          const dataTable =\n",
              "            await google.colab.kernel.invokeFunction('convertToInteractive',\n",
              "                                                     [key], {});\n",
              "          if (!dataTable) return;\n",
              "\n",
              "          const docLinkHtml = 'Like what you see? Visit the ' +\n",
              "            '<a target=\"_blank\" href=https://colab.research.google.com/notebooks/data_table.ipynb>data table notebook</a>'\n",
              "            + ' to learn more about interactive tables.';\n",
              "          element.innerHTML = '';\n",
              "          dataTable['output_type'] = 'display_data';\n",
              "          await google.colab.output.renderOutput(dataTable, element);\n",
              "          const docLink = document.createElement('div');\n",
              "          docLink.innerHTML = docLinkHtml;\n",
              "          element.appendChild(docLink);\n",
              "        }\n",
              "      </script>\n",
              "    </div>\n",
              "  </div>\n",
              "  "
            ]
          },
          "metadata": {},
          "execution_count": 9
        }
      ],
      "source": [
        "deskriptif = dataset\n",
        "deskriptif"
      ]
    },
    {
      "cell_type": "code",
      "execution_count": 10,
      "metadata": {
        "colab": {
          "base_uri": "https://localhost:8080/",
          "height": 364
        },
        "id": "nWfPjHWe2B_p",
        "outputId": "855f5dbe-33b3-4298-bbf4-781c52c15cf5"
      },
      "outputs": [
        {
          "output_type": "execute_result",
          "data": {
            "text/plain": [
              "     count         mean           std         min        25%    50%  \\\n",
              "CR    45.0  1661.426522  10366.984168    0.020000   2.858675  65.80   \n",
              "EPS   45.0   381.616667    866.210256 -308.470000  25.300000  88.56   \n",
              "PBV   45.0     2.723333      5.782889    0.040000   0.580000   0.96   \n",
              "DAR   45.0     0.494547      0.222408    0.040000   0.350000   0.50   \n",
              "DER   45.0     1.259261      1.555993    0.028252   0.430000   0.63   \n",
              "ROA   45.0     4.194667     10.447895  -29.050000   0.870000   3.50   \n",
              "ROE   45.0    10.368331     12.965911   -8.430000   3.200000   6.38   \n",
              "GPM   45.0    21.352149     20.341481    0.125568   3.770000  20.09   \n",
              "OPM   45.0    12.737962     17.883121   -2.564926   0.450721   4.65   \n",
              "NPM   45.0    10.360222     14.929973   -7.870000   0.440000   6.76   \n",
              "\n",
              "            75%       max  \n",
              "CR   207.750000  69653.86  \n",
              "EPS  305.970000   4049.62  \n",
              "PBV    3.500000     38.62  \n",
              "DAR    0.680000      0.86  \n",
              "DER    1.658501      6.08  \n",
              "ROA    7.000000     46.66  \n",
              "ROE   20.050000     60.43  \n",
              "GPM   33.430000     70.73  \n",
              "OPM   26.800000     77.78  \n",
              "NPM   20.630000     60.43  "
            ],
            "text/html": [
              "\n",
              "  <div id=\"df-235e783e-343d-40f0-998b-527c1b3789e3\">\n",
              "    <div class=\"colab-df-container\">\n",
              "      <div>\n",
              "<style scoped>\n",
              "    .dataframe tbody tr th:only-of-type {\n",
              "        vertical-align: middle;\n",
              "    }\n",
              "\n",
              "    .dataframe tbody tr th {\n",
              "        vertical-align: top;\n",
              "    }\n",
              "\n",
              "    .dataframe thead th {\n",
              "        text-align: right;\n",
              "    }\n",
              "</style>\n",
              "<table border=\"1\" class=\"dataframe\">\n",
              "  <thead>\n",
              "    <tr style=\"text-align: right;\">\n",
              "      <th></th>\n",
              "      <th>count</th>\n",
              "      <th>mean</th>\n",
              "      <th>std</th>\n",
              "      <th>min</th>\n",
              "      <th>25%</th>\n",
              "      <th>50%</th>\n",
              "      <th>75%</th>\n",
              "      <th>max</th>\n",
              "    </tr>\n",
              "  </thead>\n",
              "  <tbody>\n",
              "    <tr>\n",
              "      <th>CR</th>\n",
              "      <td>45.0</td>\n",
              "      <td>1661.426522</td>\n",
              "      <td>10366.984168</td>\n",
              "      <td>0.020000</td>\n",
              "      <td>2.858675</td>\n",
              "      <td>65.80</td>\n",
              "      <td>207.750000</td>\n",
              "      <td>69653.86</td>\n",
              "    </tr>\n",
              "    <tr>\n",
              "      <th>EPS</th>\n",
              "      <td>45.0</td>\n",
              "      <td>381.616667</td>\n",
              "      <td>866.210256</td>\n",
              "      <td>-308.470000</td>\n",
              "      <td>25.300000</td>\n",
              "      <td>88.56</td>\n",
              "      <td>305.970000</td>\n",
              "      <td>4049.62</td>\n",
              "    </tr>\n",
              "    <tr>\n",
              "      <th>PBV</th>\n",
              "      <td>45.0</td>\n",
              "      <td>2.723333</td>\n",
              "      <td>5.782889</td>\n",
              "      <td>0.040000</td>\n",
              "      <td>0.580000</td>\n",
              "      <td>0.96</td>\n",
              "      <td>3.500000</td>\n",
              "      <td>38.62</td>\n",
              "    </tr>\n",
              "    <tr>\n",
              "      <th>DAR</th>\n",
              "      <td>45.0</td>\n",
              "      <td>0.494547</td>\n",
              "      <td>0.222408</td>\n",
              "      <td>0.040000</td>\n",
              "      <td>0.350000</td>\n",
              "      <td>0.50</td>\n",
              "      <td>0.680000</td>\n",
              "      <td>0.86</td>\n",
              "    </tr>\n",
              "    <tr>\n",
              "      <th>DER</th>\n",
              "      <td>45.0</td>\n",
              "      <td>1.259261</td>\n",
              "      <td>1.555993</td>\n",
              "      <td>0.028252</td>\n",
              "      <td>0.430000</td>\n",
              "      <td>0.63</td>\n",
              "      <td>1.658501</td>\n",
              "      <td>6.08</td>\n",
              "    </tr>\n",
              "    <tr>\n",
              "      <th>ROA</th>\n",
              "      <td>45.0</td>\n",
              "      <td>4.194667</td>\n",
              "      <td>10.447895</td>\n",
              "      <td>-29.050000</td>\n",
              "      <td>0.870000</td>\n",
              "      <td>3.50</td>\n",
              "      <td>7.000000</td>\n",
              "      <td>46.66</td>\n",
              "    </tr>\n",
              "    <tr>\n",
              "      <th>ROE</th>\n",
              "      <td>45.0</td>\n",
              "      <td>10.368331</td>\n",
              "      <td>12.965911</td>\n",
              "      <td>-8.430000</td>\n",
              "      <td>3.200000</td>\n",
              "      <td>6.38</td>\n",
              "      <td>20.050000</td>\n",
              "      <td>60.43</td>\n",
              "    </tr>\n",
              "    <tr>\n",
              "      <th>GPM</th>\n",
              "      <td>45.0</td>\n",
              "      <td>21.352149</td>\n",
              "      <td>20.341481</td>\n",
              "      <td>0.125568</td>\n",
              "      <td>3.770000</td>\n",
              "      <td>20.09</td>\n",
              "      <td>33.430000</td>\n",
              "      <td>70.73</td>\n",
              "    </tr>\n",
              "    <tr>\n",
              "      <th>OPM</th>\n",
              "      <td>45.0</td>\n",
              "      <td>12.737962</td>\n",
              "      <td>17.883121</td>\n",
              "      <td>-2.564926</td>\n",
              "      <td>0.450721</td>\n",
              "      <td>4.65</td>\n",
              "      <td>26.800000</td>\n",
              "      <td>77.78</td>\n",
              "    </tr>\n",
              "    <tr>\n",
              "      <th>NPM</th>\n",
              "      <td>45.0</td>\n",
              "      <td>10.360222</td>\n",
              "      <td>14.929973</td>\n",
              "      <td>-7.870000</td>\n",
              "      <td>0.440000</td>\n",
              "      <td>6.76</td>\n",
              "      <td>20.630000</td>\n",
              "      <td>60.43</td>\n",
              "    </tr>\n",
              "  </tbody>\n",
              "</table>\n",
              "</div>\n",
              "      <button class=\"colab-df-convert\" onclick=\"convertToInteractive('df-235e783e-343d-40f0-998b-527c1b3789e3')\"\n",
              "              title=\"Convert this dataframe to an interactive table.\"\n",
              "              style=\"display:none;\">\n",
              "        \n",
              "  <svg xmlns=\"http://www.w3.org/2000/svg\" height=\"24px\"viewBox=\"0 0 24 24\"\n",
              "       width=\"24px\">\n",
              "    <path d=\"M0 0h24v24H0V0z\" fill=\"none\"/>\n",
              "    <path d=\"M18.56 5.44l.94 2.06.94-2.06 2.06-.94-2.06-.94-.94-2.06-.94 2.06-2.06.94zm-11 1L8.5 8.5l.94-2.06 2.06-.94-2.06-.94L8.5 2.5l-.94 2.06-2.06.94zm10 10l.94 2.06.94-2.06 2.06-.94-2.06-.94-.94-2.06-.94 2.06-2.06.94z\"/><path d=\"M17.41 7.96l-1.37-1.37c-.4-.4-.92-.59-1.43-.59-.52 0-1.04.2-1.43.59L10.3 9.45l-7.72 7.72c-.78.78-.78 2.05 0 2.83L4 21.41c.39.39.9.59 1.41.59.51 0 1.02-.2 1.41-.59l7.78-7.78 2.81-2.81c.8-.78.8-2.07 0-2.86zM5.41 20L4 18.59l7.72-7.72 1.47 1.35L5.41 20z\"/>\n",
              "  </svg>\n",
              "      </button>\n",
              "      \n",
              "  <style>\n",
              "    .colab-df-container {\n",
              "      display:flex;\n",
              "      flex-wrap:wrap;\n",
              "      gap: 12px;\n",
              "    }\n",
              "\n",
              "    .colab-df-convert {\n",
              "      background-color: #E8F0FE;\n",
              "      border: none;\n",
              "      border-radius: 50%;\n",
              "      cursor: pointer;\n",
              "      display: none;\n",
              "      fill: #1967D2;\n",
              "      height: 32px;\n",
              "      padding: 0 0 0 0;\n",
              "      width: 32px;\n",
              "    }\n",
              "\n",
              "    .colab-df-convert:hover {\n",
              "      background-color: #E2EBFA;\n",
              "      box-shadow: 0px 1px 2px rgba(60, 64, 67, 0.3), 0px 1px 3px 1px rgba(60, 64, 67, 0.15);\n",
              "      fill: #174EA6;\n",
              "    }\n",
              "\n",
              "    [theme=dark] .colab-df-convert {\n",
              "      background-color: #3B4455;\n",
              "      fill: #D2E3FC;\n",
              "    }\n",
              "\n",
              "    [theme=dark] .colab-df-convert:hover {\n",
              "      background-color: #434B5C;\n",
              "      box-shadow: 0px 1px 3px 1px rgba(0, 0, 0, 0.15);\n",
              "      filter: drop-shadow(0px 1px 2px rgba(0, 0, 0, 0.3));\n",
              "      fill: #FFFFFF;\n",
              "    }\n",
              "  </style>\n",
              "\n",
              "      <script>\n",
              "        const buttonEl =\n",
              "          document.querySelector('#df-235e783e-343d-40f0-998b-527c1b3789e3 button.colab-df-convert');\n",
              "        buttonEl.style.display =\n",
              "          google.colab.kernel.accessAllowed ? 'block' : 'none';\n",
              "\n",
              "        async function convertToInteractive(key) {\n",
              "          const element = document.querySelector('#df-235e783e-343d-40f0-998b-527c1b3789e3');\n",
              "          const dataTable =\n",
              "            await google.colab.kernel.invokeFunction('convertToInteractive',\n",
              "                                                     [key], {});\n",
              "          if (!dataTable) return;\n",
              "\n",
              "          const docLinkHtml = 'Like what you see? Visit the ' +\n",
              "            '<a target=\"_blank\" href=https://colab.research.google.com/notebooks/data_table.ipynb>data table notebook</a>'\n",
              "            + ' to learn more about interactive tables.';\n",
              "          element.innerHTML = '';\n",
              "          dataTable['output_type'] = 'display_data';\n",
              "          await google.colab.output.renderOutput(dataTable, element);\n",
              "          const docLink = document.createElement('div');\n",
              "          docLink.innerHTML = docLinkHtml;\n",
              "          element.appendChild(docLink);\n",
              "        }\n",
              "      </script>\n",
              "    </div>\n",
              "  </div>\n",
              "  "
            ]
          },
          "metadata": {},
          "execution_count": 10
        }
      ],
      "source": [
        "deskriptif.describe().T"
      ]
    },
    {
      "cell_type": "markdown",
      "metadata": {
        "id": "VJbY-upTzIzS"
      },
      "source": [
        "# Plot Data"
      ]
    },
    {
      "cell_type": "code",
      "execution_count": 11,
      "metadata": {
        "colab": {
          "base_uri": "https://localhost:8080/",
          "height": 448
        },
        "id": "eGbqYqSC2cO-",
        "outputId": "1052b24e-b6e6-45b3-b900-c4f9a81229c8"
      },
      "outputs": [
        {
          "output_type": "execute_result",
          "data": {
            "text/plain": [
              "<Axes: >"
            ]
          },
          "metadata": {},
          "execution_count": 11
        },
        {
          "output_type": "display_data",
          "data": {
            "text/plain": [
              "<Figure size 640x480 with 1 Axes>"
            ],
            "image/png": "[encoded data removed]"
          },
          "metadata": {}
        }
      ],
      "source": [
        "dataset.CR.plot()"
      ]
    },
    {
      "cell_type": "code",
      "execution_count": 12,
      "metadata": {
        "id": "rrVt7FXS5c03",
        "colab": {
          "base_uri": "https://localhost:8080/",
          "height": 448
        },
        "outputId": "b832da30-1055-4c3c-ac89-1aa1e121d860"
      },
      "outputs": [
        {
          "output_type": "execute_result",
          "data": {
            "text/plain": [
              "<Axes: >"
            ]
          },
          "metadata": {},
          "execution_count": 12
        },
        {
          "output_type": "display_data",
          "data": {
            "text/plain": [
              "<Figure size 640x480 with 1 Axes>"
            ],
            "image/png": "[encoded data removed]"
          },
          "metadata": {}
        }
      ],
      "source": [
        "dataset.EPS.plot()"
      ]
    },
    {
      "cell_type": "code",
      "execution_count": 13,
      "metadata": {
        "id": "sulWD7mv5iLe",
        "colab": {
          "base_uri": "https://localhost:8080/",
          "height": 449
        },
        "outputId": "e6d1e4b6-c37a-46ff-a80f-b11439f43f84"
      },
      "outputs": [
        {
          "output_type": "execute_result",
          "data": {
            "text/plain": [
              "<Axes: >"
            ]
          },
          "metadata": {},
          "execution_count": 13
        },
        {
          "output_type": "display_data",
          "data": {
            "text/plain": [
              "<Figure size 640x480 with 1 Axes>"
            ],
            "image/png": "[encoded data removed]"
          },
          "metadata": {}
        }
      ],
      "source": [
        "dataset.PBV.plot()"
      ]
    },
    {
      "cell_type": "code",
      "execution_count": 14,
      "metadata": {
        "id": "7lscqbyy6bUm",
        "colab": {
          "base_uri": "https://localhost:8080/",
          "height": 448
        },
        "outputId": "544da956-8df2-4205-aead-3771144644f4"
      },
      "outputs": [
        {
          "output_type": "execute_result",
          "data": {
            "text/plain": [
              "<Axes: >"
            ]
          },
          "metadata": {},
          "execution_count": 14
        },
        {
          "output_type": "display_data",
          "data": {
            "text/plain": [
              "<Figure size 640x480 with 1 Axes>"
            ],
            "image/png": "[encoded data removed]"
          },
          "metadata": {}
        }
      ],
      "source": [
        "dataset.DAR.plot()"
      ]
    },
    {
      "cell_type": "code",
      "execution_count": 15,
      "metadata": {
        "id": "DJHD77Hn6gnw",
        "colab": {
          "base_uri": "https://localhost:8080/",
          "height": 448
        },
        "outputId": "6daec4f7-0930-44b8-9ea7-60c401c05081"
      },
      "outputs": [
        {
          "output_type": "execute_result",
          "data": {
            "text/plain": [
              "<Axes: >"
            ]
          },
          "metadata": {},
          "execution_count": 15
        },
        {
          "output_type": "display_data",
          "data": {
            "text/plain": [
              "<Figure size 640x480 with 1 Axes>"
            ],
            "image/png": "[encoded data removed]"
          },
          "metadata": {}
        }
      ],
      "source": [
        "dataset.DER.plot()"
      ]
    },
    {
      "cell_type": "code",
      "execution_count": 16,
      "metadata": {
        "id": "vhMBGOy96lex",
        "colab": {
          "base_uri": "https://localhost:8080/",
          "height": 451
        },
        "outputId": "a7475ec3-ddcd-4ac1-e010-dbff96119e70"
      },
      "outputs": [
        {
          "output_type": "execute_result",
          "data": {
            "text/plain": [
              "<Axes: >"
            ]
          },
          "metadata": {},
          "execution_count": 16
        },
        {
          "output_type": "display_data",
          "data": {
            "text/plain": [
              "<Figure size 640x480 with 1 Axes>"
            ],
            "image/png": "[encoded data removed]"
          },
          "metadata": {}
        }
      ],
      "source": [
        "dataset.ROA.plot()"
      ]
    },
    {
      "cell_type": "code",
      "execution_count": 17,
      "metadata": {
        "id": "eHmxghms6q0M",
        "colab": {
          "base_uri": "https://localhost:8080/",
          "height": 448
        },
        "outputId": "88dee4ca-b1f8-4a6f-b290-4ee8313da4e6"
      },
      "outputs": [
        {
          "output_type": "execute_result",
          "data": {
            "text/plain": [
              "<Axes: >"
            ]
          },
          "metadata": {},
          "execution_count": 17
        },
        {
          "output_type": "display_data",
          "data": {
            "text/plain": [
              "<Figure size 640x480 with 1 Axes>"
            ],
            "image/png": "[encoded data removed]"
          },
          "metadata": {}
        }
      ],
      "source": [
        "dataset.ROE.plot()"
      ]
    },
    {
      "cell_type": "code",
      "execution_count": 18,
      "metadata": {
        "id": "VPnJYSPQ6w4i",
        "colab": {
          "base_uri": "https://localhost:8080/",
          "height": 448
        },
        "outputId": "01fc2550-2191-4bae-a327-f4c5bce59365"
      },
      "outputs": [
        {
          "output_type": "execute_result",
          "data": {
            "text/plain": [
              "<Axes: >"
            ]
          },
          "metadata": {},
          "execution_count": 18
        },
        {
          "output_type": "display_data",
          "data": {
            "text/plain": [
              "<Figure size 640x480 with 1 Axes>"
            ],
            "image/png": "[encoded data removed]"
          },
          "metadata": {}
        }
      ],
      "source": [
        "dataset.GPM.plot()"
      ]
    },
    {
      "cell_type": "code",
      "execution_count": 19,
      "metadata": {
        "id": "F3HHkXAB62tC",
        "colab": {
          "base_uri": "https://localhost:8080/",
          "height": 448
        },
        "outputId": "c0b85af9-43b7-45b7-840c-a3f15eca994f"
      },
      "outputs": [
        {
          "output_type": "execute_result",
          "data": {
            "text/plain": [
              "<Axes: >"
            ]
          },
          "metadata": {},
          "execution_count": 19
        },
        {
          "output_type": "display_data",
          "data": {
            "text/plain": [
              "<Figure size 640x480 with 1 Axes>"
            ],
            "image/png": "[encoded data removed]"
          },
          "metadata": {}
        }
      ],
      "source": [
        "dataset.OPM.plot()"
      ]
    },
    {
      "cell_type": "markdown",
      "metadata": {
        "id": "8xhBCrpy7gRJ"
      },
      "source": [
        "# Normalisasi Data"
      ]
    },
    {
      "cell_type": "code",
      "execution_count": 20,
      "metadata": {
        "id": "0Yuh1T_D7Hlx"
      },
      "outputs": [],
      "source": [
        "dataset = pd.read_excel(\"2019.xlsx\")\n",
        "x = dataset.iloc[:, [3,4,5,6,7,8,9,10,11,12]].values\n",
        "y = dataset.iloc[:, 2].values"
      ]
    },
    {
      "cell_type": "code",
      "execution_count": 21,
      "metadata": {
        "colab": {
          "base_uri": "https://localhost:8080/"
        },
        "id": "8g2Wils87Pv5",
        "outputId": "904129ec-438f-48dc-8ea9-a0ab48461c0b"
      },
      "outputs": [
        {
          "output_type": "stream",
          "name": "stdout",
          "text": [
            "[[ 9.60000000e+01  8.99000000e+01  6.00000000e-01  3.90000000e-01\n",
            "   6.40000000e-01  6.76000000e+00  9.04880025e-01  3.34300000e+01\n",
            "   2.46400000e+01  3.09000000e+00]\n",
            " [ 3.97600000e+01 -2.00000000e+01  8.00000000e-01  5.00000000e-01\n",
            "   2.82516731e-02 -8.00000000e+00  6.08000000e+00  6.60000000e+00\n",
            "   3.98000000e+00  6.78000000e+00]\n",
            " [ 5.40900000e+01 -3.63900000e+01  9.60000000e-01  4.00000000e-01\n",
            "   6.90000000e-01 -2.63000000e+00  4.43000000e+00  3.77000000e+00\n",
            "   7.34000000e+00  3.46000000e+00]\n",
            " [ 2.22900000e+01  2.42050000e+02  9.80000000e-01  4.90000000e-01\n",
            "   9.80000000e-01  7.94000000e+00  5.70000000e+00  2.02200000e+01\n",
            "   1.28620072e+01  4.40000000e-01]\n",
            " [ 2.03800479e-01  4.86800000e+01  4.46000000e+00  8.00000000e-01\n",
            "   4.40000000e+00  3.03000000e+00  7.04000000e+00  4.85000000e+00\n",
            "   5.76000000e+01  4.55400000e+01]\n",
            " [ 2.95178859e-01  8.05060000e+02  5.80000000e-01  8.30000000e-01\n",
            "   6.08000000e+00  8.70000000e-01  3.67000000e+00  1.25567585e-01\n",
            "   3.62000000e+01  2.78800000e+01]\n",
            " [ 2.57781447e-01  2.06900000e+01  2.57000000e+00  7.60000000e-01\n",
            "   5.92000000e+00  2.50000000e+00  9.45000000e+00  1.58472237e-01\n",
            "   7.77800000e+01  6.04300000e+01]\n",
            " [ 2.37557974e-01  2.65050000e+02  6.00000000e-02  8.60000000e-01\n",
            "   6.00000000e-02  9.20000000e-01  7.80000000e-01  3.77110720e-01\n",
            "   5.73000000e+00  2.29000000e+00]\n",
            " [ 2.26277526e-01  5.36040000e+02  9.50000000e-01  7.80000000e-01\n",
            "   5.09000000e+00  2.05000000e+00  3.98000000e+00  2.38266867e-01\n",
            "   3.70200000e+01  2.83000000e+01]\n",
            " [ 7.48500000e+01  5.90300000e+01  5.00000000e-02  6.20000000e-01\n",
            "   6.00000000e-01  3.44000000e+00  8.96000000e+00  2.60900000e+01\n",
            "  -2.96981274e-01 -7.87000000e+00]\n",
            " [ 3.92767951e+00  8.84200000e+01  8.00000000e-01  4.20000000e-01\n",
            "   7.20000000e-01  3.27000000e+00  5.62000000e+00  7.07300000e+01\n",
            "   3.26600000e+01  2.56700000e+01]\n",
            " [ 1.53988711e+00  2.53000000e+01  3.73000000e+00  7.00000000e-02\n",
            "   5.00000000e-01  8.02000000e+00  2.40500000e+01  4.17239332e-01\n",
            "   3.77800000e+01  2.80000000e+01]\n",
            " [ 2.97870000e+02  2.77740000e+02  6.50000000e+00  3.00000000e-01\n",
            "   4.30000000e-01 -6.46000000e+00  2.34700000e+01  6.93000000e+00\n",
            "  -2.02000000e+00  8.44000000e+00]\n",
            " [ 2.17419670e+00  7.00900000e+01  7.00000000e-02  5.00000000e-01\n",
            "   6.00000000e-02  3.80000000e+00  7.83000000e+00  4.73000000e+01\n",
            "   2.80200000e+01  6.98000000e+00]\n",
            " [ 2.98800000e+01  2.66490000e+02  5.50000000e-01  6.20000000e-01\n",
            "   6.30000000e-01  7.00000000e+00 -8.43000000e+00  9.02000000e+00\n",
            "   4.40000000e+00 -2.56000000e+00]\n",
            " [ 4.48600000e+01 -3.08470000e+02  9.90000000e-01  6.80000000e-01\n",
            "   2.04000000e+00 -5.72000000e+00 -7.97000000e+00  2.51701856e+00\n",
            "   8.11441087e-02 -4.37000000e+00]\n",
            " [ 2.05800000e+02  4.04962000e+03  3.75000000e+00  3.50000000e-01\n",
            "   5.30000000e-01  2.80000000e-01  7.27000000e+00  9.48000000e+00\n",
            "   6.60000000e-01  4.00000000e-02]\n",
            " [ 4.30200000e+02  6.39000000e+00  3.74000000e+00  2.40000000e-01\n",
            "   3.20000000e-01 -2.90500000e+01  3.82900000e+01  2.38800000e+01\n",
            "   6.50816063e+00 -2.68000000e+00]\n",
            " [ 9.50700000e+01  3.92370000e+02  5.56000000e+00  3.40000000e-01\n",
            "   5.00000000e-01  3.56000000e+00  2.05200000e+01  3.09300000e+01\n",
            "   6.79000000e+00  2.03000000e+00]\n",
            " [ 3.59870000e+02  8.85600000e+01  6.00000000e-02  4.00000000e-02\n",
            "   7.00000000e-02  2.75000000e+00  3.20000000e+00  3.39000000e+00\n",
            "   9.20000000e-01  7.79000000e+00]\n",
            " [ 6.63000000e+00  4.74480000e+02  3.50000000e-01  4.80000000e-01\n",
            "   9.30000000e-01  5.04000000e+00  9.94000000e+00  2.75400000e+01\n",
            "   2.46000000e+00  6.76000000e+00]\n",
            " [ 2.07750000e+02  2.23470000e+02  4.60000000e-01  6.90000000e-01\n",
            "   2.26000000e+00  2.67000000e+00  8.68000000e+00  2.06400000e+01\n",
            "  -4.77278767e-01  3.30000000e+00]\n",
            " [ 2.40600000e+02  5.63260000e+02  5.00000000e-02  5.57000000e-01\n",
            "   3.20000000e-01 -6.72000000e+00  5.60000000e+00  3.60900000e+01\n",
            "   2.68000000e+01 -7.64000000e+00]\n",
            " [ 3.03730000e+02  3.00290000e+02  3.00000000e+00  6.00000000e-02\n",
            "   6.00000000e-02 -4.02000000e+00 -4.02000000e+00  2.87600000e+01\n",
            "   7.07000000e+00  7.54000000e+00]\n",
            " [ 9.65800000e+01  3.37028000e+03  5.30000000e-01  3.30000000e-01\n",
            "   4.90000000e-01  7.94000000e+00  2.66800000e+01  2.90900000e+01\n",
            "  -8.77491525e-01 -2.89000000e+00]\n",
            " [ 7.98200000e+01 -8.48800000e+01  2.60000000e+00  5.60000000e-01\n",
            "   2.60000000e-01  9.78000000e+00  2.20600000e+01  2.00900000e+01\n",
            "   3.00000000e-01  6.62000000e+00]\n",
            " [ 3.80000000e+01  3.03480000e+02  6.50000000e-01  7.50000000e-01\n",
            "   3.08000000e+00  2.47000000e+00  8.00000000e-02  6.00000000e+00\n",
            "   4.65000000e+00  5.50000000e+00]\n",
            " [ 4.65770000e+02  5.24200000e+01  4.89000000e+00  6.00000000e-02\n",
            "   9.00000000e-02  3.76000000e+00  6.33000000e+00  4.67300000e+01\n",
            "   4.36715914e-01  8.50000000e-01]\n",
            " [ 2.00000000e-02  3.76070000e+02  6.57000000e+00  6.40000000e-01\n",
            "   7.70000000e-01  2.07900000e+01  6.04300000e+01  6.22500000e+01\n",
            "   5.29000000e+00  7.00000000e-01]\n",
            " [ 6.58000000e+01 -7.20000000e-01  5.80000000e-01  7.40000000e-01\n",
            "   2.79000000e+00 -5.40000000e-01 -2.05000000e+00  5.08900000e+01\n",
            "   1.20925838e-01 -2.33000000e+00]\n",
            " [ 3.40660000e+02  7.27000000e+00  9.40000000e-01  3.50000000e-01\n",
            "   5.40000000e-01  9.83000000e+00  5.09000000e+00  6.20500000e+01\n",
            "   1.23732846e+00  2.05700000e+01]\n",
            " [ 5.40600000e+01  8.29600000e+01  4.00000000e-02  6.00000000e-01\n",
            "   4.80000000e-01  4.59000000e+00  3.90000000e-01  3.38300000e+01\n",
            "   6.67000000e+00  9.42000000e+00]\n",
            " [ 2.37850000e+02  4.36080000e+02  3.32000000e+00  3.30000000e-01\n",
            "   4.90000000e-01  2.00900000e+01  3.04800000e+01  4.03700000e+01\n",
            "   2.96800000e+01  2.40900000e+01]\n",
            " [ 1.30837456e+00  3.05970000e+02  7.30000000e-01  6.90000000e-01\n",
            "   2.22000000e+00  3.73000000e+00 -2.00000000e+00  4.02000000e+00\n",
            "   1.03406072e+00 -7.80000000e+00]\n",
            " [ 2.85867511e+00  5.87000000e+01  2.06000000e+00  3.90000000e-01\n",
            "   6.30000000e-01  3.00000000e-01  8.46000000e+00  5.72000000e+01\n",
            "   2.85097946e+00  3.99200000e+01]\n",
            " [ 4.26040000e+02  5.50000000e-01  5.38000000e+00  7.00000000e-02\n",
            "   2.00000000e-01  2.40300000e+01  2.89000000e+01  2.58619817e+00\n",
            "   3.87400000e+01  2.94900000e+01]\n",
            " [ 9.50500000e+01  5.09000000e+01  2.05000000e+00  3.60000000e-01\n",
            "   5.60000000e-01  6.03000000e+00  9.43000000e+00  3.04000000e+01\n",
            "   3.96328067e-01  6.00000000e-02]\n",
            " [ 3.08470000e+02 -6.60300000e+01  9.80000000e-01  6.20000000e-01\n",
            "   6.40000000e-01 -6.20000000e+00  6.38000000e+00  7.77000000e+00\n",
            "   4.89000000e+00  8.08000000e+00]\n",
            " [ 6.96538600e+04  4.77200000e+01  8.70000000e-01  5.47625501e-01\n",
            "   1.65850113e+00  8.29000000e+00  9.89000000e+00  9.30000000e-01\n",
            "   3.75000000e+00  2.32700000e+01]\n",
            " [ 9.35300000e+01  8.20300000e+01  3.50000000e+00  4.30000000e-01\n",
            "   7.60000000e-01  3.08000000e+00  2.30000000e+01  3.76681461e+00\n",
            "   2.97000000e+01  2.06300000e+01]\n",
            " [ 2.05080000e+02 -2.50700000e+01  3.95000000e+00  4.40000000e-01\n",
            "   7.90000000e-01  5.74000000e+00 -3.00000000e-01  5.35000000e+00\n",
            "   2.76595745e-01  7.07000000e+00]\n",
            " [ 4.07000000e+00  2.98263000e+03  8.70000000e-01  5.00000000e-01\n",
            "   4.00000000e-02  9.89000000e+00  2.00500000e+01  2.49400000e+01\n",
            "  -2.56492563e+00 -3.59000000e+00]\n",
            " [ 7.47700000e+01  9.39000000e+01  3.86200000e+01  6.00000000e-01\n",
            "   5.80000000e-01  4.66600000e+01  2.02000000e+01  5.04600000e+01\n",
            "   2.93700000e+01  2.07900000e+01]\n",
            " [ 1.39493342e+00  2.30040000e+02  9.60000000e-01  7.00000000e-01\n",
            "   2.44000000e+00  3.50000000e+00  2.04000000e+00  5.70000000e-01\n",
            "   2.30000000e+00  6.65000000e+00]\n",
            " [ 1.08916118e+00  3.40330000e+02  8.40000000e-01  7.70000000e-01\n",
            "   3.30000000e+00  3.70000000e+00  5.99000000e+00  8.07000000e+00\n",
            "   4.50721445e-01  9.47000000e+00]]\n"
          ]
        }
      ],
      "source": [
        "print(x)"
      ]
    },
    {
      "cell_type": "code",
      "execution_count": 22,
      "metadata": {
        "colab": {
          "base_uri": "https://localhost:8080/"
        },
        "id": "es4ybswC7S_E",
        "outputId": "3c53b234-bdf8-4821-a22a-c63e2c396308"
      },
      "outputs": [
        {
          "output_type": "stream",
          "name": "stdout",
          "text": [
            "[0 1 1 0 0 0 0 0 0 1 1 0 1 0 1 1 0 1 0 1 0 1 1 1 1 1 0 0 0 1 0 0 0 1 0 0 0\n",
            " 1 0 0 1 1 0 0 0]\n"
          ]
        }
      ],
      "source": [
        "print(y)"
      ]
    },
    {
      "cell_type": "markdown",
      "metadata": {
        "id": "qHwS7vhuppBg"
      },
      "source": [
        "# Standarisasi Data"
      ]
    },
    {
      "cell_type": "code",
      "execution_count": 23,
      "metadata": {
        "id": "FDLxAzPW496F"
      },
      "outputs": [],
      "source": [
        "from sklearn.preprocessing import RobustScaler\n",
        "rs = RobustScaler()\n",
        "x=rs.fit_transform(x)"
      ]
    },
    {
      "cell_type": "code",
      "execution_count": 24,
      "metadata": {
        "id": "pAVRaqjoD-lC",
        "colab": {
          "base_uri": "https://localhost:8080/"
        },
        "outputId": "ae7644c2-d06f-404f-990a-4c4330283d01"
      },
      "outputs": [
        {
          "output_type": "stream",
          "name": "stdout",
          "text": [
            "[[ 1.47395211e-01  4.77429009e-03 -1.23287671e-01 -3.33333333e-01\n",
            "   8.14000067e-03  5.31810767e-01 -3.24932936e-01  4.49763992e-01\n",
            "   7.58654548e-01 -1.81773155e-01]\n",
            " [-1.27091764e-01 -3.86788755e-01 -5.47945205e-02  0.00000000e+00\n",
            "  -4.89823178e-01 -1.87601958e+00 -1.78041543e-02 -4.54821308e-01\n",
            "  -2.54276412e-02  9.90589401e-04]\n",
            " [-5.71522489e-02 -4.45184737e-01  0.00000000e+00 -3.03030303e-01\n",
            "   4.88400040e-02 -1.00000000e+00 -1.15727003e-01 -5.50236008e-01\n",
            "   1.02090082e-01 -1.63447251e-01]\n",
            " [-2.12356477e-01  5.46869990e-01  6.84931507e-03 -3.03030303e-02\n",
            "   2.84900023e-01  7.24306688e-01 -4.03560831e-02  4.38300742e-03\n",
            "   3.11659659e-01 -3.13026251e-01]\n",
            " [-3.20151180e-01 -1.42088574e-01  1.19863014e+00  9.09090909e-01\n",
            "   3.06878025e+00 -7.66721044e-02  3.91691395e-02 -5.13823331e-01\n",
            "   2.00954269e+00  1.92075285e+00]\n",
            " [-3.19705196e-01  2.55282004e+00 -1.30136986e-01  1.00000000e+00\n",
            "   4.43630037e+00 -4.29037520e-01 -1.60830861e-01 -6.73109657e-01\n",
            "   1.19737624e+00  1.04606241e+00]\n",
            " [-3.19887719e-01 -2.41814230e-01  5.51369863e-01  7.87878788e-01\n",
            "   4.30606035e+00 -1.63132137e-01  1.82195846e-01 -6.72000262e-01\n",
            "   2.77540806e+00  2.65824666e+00]\n",
            " [-3.19986422e-01  6.28816760e-01 -3.08219178e-01  1.09090909e+00\n",
            "  -4.63980038e-01 -4.20880914e-01 -3.32344214e-01 -6.64628769e-01\n",
            "   4.09878395e-02 -2.21396731e-01]\n",
            " [-3.20041478e-01  1.59432786e+00 -3.42465753e-03  8.48484848e-01\n",
            "   3.63044030e+00 -2.36541599e-01 -1.42433234e-01 -6.69309951e-01\n",
            "   1.22849663e+00  1.06686478e+00]\n",
            " [ 4.41697568e-02 -1.05212527e-01 -3.11643836e-01  3.63636364e-01\n",
            "  -2.44200020e-02 -9.78792822e-03  1.53115727e-01  2.02292650e-01\n",
            "  -1.87746365e-01 -7.24616147e-01]\n",
            " [-3.01976282e-01 -4.98806427e-04 -5.47945205e-02 -2.42424242e-01\n",
            "   7.32600060e-02 -3.75203915e-02 -4.51038576e-02  1.70734997e+00\n",
            "   1.06302721e+00  9.36602278e-01]\n",
            " [-3.13630228e-01 -2.25389247e-01  9.48630137e-01 -1.30303030e+00\n",
            "  -1.05820009e-01  7.37357259e-01  1.04866469e+00 -6.63275815e-01\n",
            "   1.25733993e+00  1.05200594e+00]\n",
            " [ 1.13264922e+00  6.74030000e-01  1.89726027e+00 -6.06060606e-01\n",
            "  -1.62800013e-01 -1.62479608e+00  1.01424332e+00 -4.43695212e-01\n",
            "  -2.53137861e-01  8.32095097e-02]\n",
            " [-3.10534393e-01 -6.58068194e-02 -3.04794521e-01  0.00000000e+00\n",
            "  -4.63980038e-01  4.89396411e-02  8.60534125e-02  9.17397168e-01\n",
            "   8.86931304e-01  1.08964834e-02]\n",
            " [-1.75312449e-01  6.33947340e-01 -1.40410959e-01  3.63636364e-01\n",
            "   0.00000000e+00  5.70962480e-01 -8.78931751e-01 -3.73229939e-01\n",
            "  -9.48792581e-03 -4.61614661e-01]\n",
            " [-1.02200520e-01 -1.41457940e+00  1.02739726e-02  5.45454545e-01\n",
            "   1.14774009e+00 -1.50407830e+00 -8.51632047e-01 -5.92480831e-01\n",
            "  -1.73395863e-01 -5.51263001e-01]\n",
            " [ 6.83289056e-01  1.41128728e+01  9.55479452e-01 -4.54545455e-01\n",
            "  -8.14000067e-02 -5.25285481e-01  5.28189911e-02 -3.57720836e-01\n",
            "  -1.51427296e-01 -3.32838039e-01]\n",
            " [ 1.77850380e+00 -2.92763744e-01  9.52054795e-01 -7.87878788e-01\n",
            "  -2.52340021e-01 -5.30995106e+00  1.89376855e+00  1.27781524e-01\n",
            "   7.05203607e-02 -4.67558197e-01]\n",
            " [ 1.42856219e-01  1.08244558e+00  1.57534247e+00 -4.84848485e-01\n",
            "  -1.05820009e-01  9.78792822e-03  8.39169139e-01  3.65475388e-01\n",
            "   8.12166449e-02 -2.34274393e-01]\n",
            " [ 1.43524866e+00  0.00000000e+00 -3.08219178e-01 -1.39393939e+00\n",
            "  -4.55840038e-01 -1.22349103e-01 -1.88724036e-01 -5.63047876e-01\n",
            "  -1.41559853e-01  5.10153541e-02]\n",
            " [-2.88787239e-01  1.37499555e+00 -2.08904110e-01 -6.06060606e-02\n",
            "   2.44200020e-01  2.51223491e-01  2.11275964e-01  2.51180040e-01\n",
            "  -8.31142301e-02  0.00000000e+00]\n",
            " [ 6.92806297e-01  4.80671251e-01 -1.71232877e-01  5.75757576e-01\n",
            "   1.32682011e+00 -1.35399674e-01  1.36498516e-01  1.85434929e-02\n",
            "  -1.94588962e-01 -1.71371966e-01]\n",
            " [ 8.53135193e-01  1.69131008e+00 -3.11643836e-01  1.72727273e-01\n",
            "  -2.52340021e-01 -1.66721044e+00 -4.62908012e-02  5.39447067e-01\n",
            "   8.40630226e-01 -7.13224368e-01]\n",
            " [ 1.16124975e+00  7.54373463e-01  6.98630137e-01 -1.33333333e+00\n",
            "  -4.63980038e-01 -1.22675367e+00 -6.17210682e-01  2.92312879e-01\n",
            "   9.18431218e-02  3.86329866e-02]\n",
            " [ 1.50225980e-01  1.16924502e+01 -1.47260274e-01 -5.15151515e-01\n",
            "  -1.13960009e-01  7.24306688e-01  1.20474777e+00  3.03438975e-01\n",
            "  -2.09777718e-01 -4.77959386e-01]\n",
            " [ 6.84265183e-02 -6.17949906e-01  5.61643836e-01  1.81818182e-01\n",
            "  -3.01180025e-01  1.02446982e+00  9.30563798e-01  0.00000000e+00\n",
            "  -1.65089909e-01 -6.93412580e-03]\n",
            " [-1.35681684e-01  7.65739124e-01 -1.06164384e-01  7.57575758e-01\n",
            "   1.99430016e+00 -1.68026101e-01 -3.73887240e-01 -4.75050573e-01\n",
            "   0.00000000e+00 -6.24071322e-02]\n",
            " [ 1.95210803e+00 -1.28763316e-01  1.34589041e+00 -1.33333333e+00\n",
            "  -4.39560036e-01  4.24143556e-02 -2.96735905e-03  8.98179366e-01\n",
            "  -1.59901307e-01 -2.92719168e-01]\n",
            " [-3.21048244e-01  1.02437026e+00  1.92123288e+00  4.24242424e-01\n",
            "   1.13960009e-01  2.82055465e+00  3.20771513e+00  1.42144302e+00\n",
            "   2.42890901e-02 -3.00148588e-01]\n",
            " [ 0.00000000e+00 -3.18095985e-01 -1.30136986e-01  7.27272727e-01\n",
            "   1.75824014e+00 -6.59053834e-01 -5.00296736e-01  1.03843560e+00\n",
            "  -1.71886078e-01 -4.50222883e-01]\n",
            " [ 1.34149164e+00 -2.89628389e-01 -6.84931507e-03 -4.54545455e-01\n",
            "  -7.32600060e-02  1.03262643e+00 -7.65578635e-02  1.41469993e+00\n",
            "  -1.29516698e-01  6.84001981e-01]\n",
            " [-5.72986680e-02 -1.99522571e-02 -3.15068493e-01  3.03030303e-01\n",
            "  -1.22100010e-01  1.77814029e-01 -3.55489614e-01  4.63250169e-01\n",
            "   7.66624405e-02  1.31748390e-01]\n",
            " [ 8.39713444e-01  1.23818007e+00  8.08219178e-01 -5.15151515e-01\n",
            "  -1.13960009e-01  2.70636215e+00  1.43026706e+00  6.83749157e-01\n",
            "   9.49931132e-01  8.58345716e-01]\n",
            " [-3.14760156e-01  7.74610753e-01 -7.87671233e-02  5.75757576e-01\n",
            "   1.29426011e+00  3.75203915e-02 -4.97329377e-01 -5.41807148e-01\n",
            "  -1.37231054e-01 -7.21149084e-01]\n",
            " [-3.07193703e-01 -1.06388285e-01  3.76712329e-01 -3.33333333e-01\n",
            "   0.00000000e+00 -5.22022838e-01  1.23442136e-01  1.25118004e+00\n",
            "  -6.82758936e-02  1.64239723e+00]\n",
            " [ 1.75820035e+00 -3.13571098e-01  1.51369863e+00 -1.30303030e+00\n",
            "  -3.50020029e-01  3.34910277e+00  1.33649852e+00 -5.90148410e-01\n",
            "   1.29377356e+00  1.12580485e+00]\n",
            " [ 1.42758606e-01 -1.34178929e-01  3.73287671e-01 -4.24242424e-01\n",
            "  -5.69800047e-02  4.12724307e-01  1.81008902e-01  3.47606204e-01\n",
            "  -1.61434095e-01 -3.31847449e-01]\n",
            " [ 1.18438397e+00 -5.50789183e-01  6.84931507e-03  3.63636364e-01\n",
            "   8.14000067e-03 -1.58238173e+00  0.00000000e+00 -4.15374241e-01\n",
            "   9.10840877e-03  6.53789004e-02]\n",
            " [ 3.39633999e+02 -1.45508961e-01 -3.08219178e-02  1.44319700e-01\n",
            "   8.37199987e-01  7.81402936e-01  2.08308605e-01 -6.45987862e-01\n",
            "  -3.41565329e-02  8.17731550e-01]\n",
            " [ 1.35340039e-01 -2.32657569e-02  8.69863014e-01 -2.12121212e-01\n",
            "   1.05820009e-01 -6.85154976e-02  9.86350148e-01 -5.50343405e-01\n",
            "   9.50690166e-01  6.86973749e-01]\n",
            " [ 6.79774998e-01 -4.04852674e-01  1.02397260e+00 -1.81818182e-01\n",
            "   1.30240011e-01  3.65415987e-01 -3.96439169e-01 -4.96965610e-01\n",
            "  -1.65978140e-01  1.53541357e-02]\n",
            " [-3.01281667e-01  1.03112908e+01 -3.08219178e-02  0.00000000e+00\n",
            "  -4.80260040e-01  1.04241436e+00  8.11275964e-01  1.63519892e-01\n",
            "  -2.73818716e-01 -5.12630015e-01]\n",
            " [ 4.37793060e-02  1.90259023e-02  1.28972603e+01  3.03030303e-01\n",
            "  -4.07000033e-02  7.04078303e+00  8.20178042e-01  1.02393796e+00\n",
            "   9.38166104e-01  6.94898465e-01]\n",
            " [-3.14337694e-01  5.04079524e-01  0.00000000e+00  6.06060606e-01\n",
            "   1.47334012e+00  0.00000000e+00 -2.57566766e-01 -6.58125421e-01\n",
            "  -8.91865026e-02 -5.44824170e-03]\n",
            " [-3.15830057e-01  8.97032102e-01 -4.10958904e-02  8.18181818e-01\n",
            "   2.17338018e+00  3.26264274e-02 -2.31454006e-02 -4.05259609e-01\n",
            "  -1.59369774e-01  1.34224864e-01]]\n"
          ]
        }
      ],
      "source": [
        "print(x)"
      ]
    },
    {
      "cell_type": "code",
      "execution_count": 25,
      "metadata": {
        "id": "Jj7bjrWbE1MP",
        "colab": {
          "base_uri": "https://localhost:8080/",
          "height": 448
        },
        "outputId": "c9c15f3a-9480-49e5-fbd2-e8d67bb024bf"
      },
      "outputs": [
        {
          "output_type": "execute_result",
          "data": {
            "text/plain": [
              "<contextlib.ExitStack at 0x7f7bc2648d30>"
            ]
          },
          "metadata": {},
          "execution_count": 25
        },
        {
          "output_type": "display_data",
          "data": {
            "text/plain": [
              "<Figure size 640x480 with 1 Axes>"
            ],
            "image/png": "[encoded data removed]"
          },
          "metadata": {}
        }
      ],
      "source": [
        "sns.countplot(dataset['FD'])\n",
        "plt.ioff()"
      ]
    },
    {
      "cell_type": "markdown",
      "metadata": {
        "id": "grqV18lU7tTb"
      },
      "source": [
        "# Balancing Data"
      ]
    },
    {
      "cell_type": "code",
      "execution_count": 26,
      "metadata": {
        "colab": {
          "base_uri": "https://localhost:8080/"
        },
        "id": "fyMEt1d66pbF",
        "outputId": "e1e02d62-9597-423a-d495-76b660de013b"
      },
      "outputs": [
        {
          "output_type": "stream",
          "name": "stdout",
          "text": [
            "[[ 1.47395211e-01  4.77429009e-03 -1.23287671e-01 -3.33333333e-01\n",
            "   8.14000067e-03  5.31810767e-01 -3.24932936e-01  4.49763992e-01\n",
            "   7.58654548e-01 -1.81773155e-01]\n",
            " [-1.27091764e-01 -3.86788755e-01 -5.47945205e-02  0.00000000e+00\n",
            "  -4.89823178e-01 -1.87601958e+00 -1.78041543e-02 -4.54821308e-01\n",
            "  -2.54276412e-02  9.90589401e-04]\n",
            " [-5.71522489e-02 -4.45184737e-01  0.00000000e+00 -3.03030303e-01\n",
            "   4.88400040e-02 -1.00000000e+00 -1.15727003e-01 -5.50236008e-01\n",
            "   1.02090082e-01 -1.63447251e-01]\n",
            " [-2.12356477e-01  5.46869990e-01  6.84931507e-03 -3.03030303e-02\n",
            "   2.84900023e-01  7.24306688e-01 -4.03560831e-02  4.38300742e-03\n",
            "   3.11659659e-01 -3.13026251e-01]\n",
            " [-3.20151180e-01 -1.42088574e-01  1.19863014e+00  9.09090909e-01\n",
            "   3.06878025e+00 -7.66721044e-02  3.91691395e-02 -5.13823331e-01\n",
            "   2.00954269e+00  1.92075285e+00]\n",
            " [-3.19705196e-01  2.55282004e+00 -1.30136986e-01  1.00000000e+00\n",
            "   4.43630037e+00 -4.29037520e-01 -1.60830861e-01 -6.73109657e-01\n",
            "   1.19737624e+00  1.04606241e+00]\n",
            " [-3.19887719e-01 -2.41814230e-01  5.51369863e-01  7.87878788e-01\n",
            "   4.30606035e+00 -1.63132137e-01  1.82195846e-01 -6.72000262e-01\n",
            "   2.77540806e+00  2.65824666e+00]\n",
            " [-3.19986422e-01  6.28816760e-01 -3.08219178e-01  1.09090909e+00\n",
            "  -4.63980038e-01 -4.20880914e-01 -3.32344214e-01 -6.64628769e-01\n",
            "   4.09878395e-02 -2.21396731e-01]\n",
            " [-3.20041478e-01  1.59432786e+00 -3.42465753e-03  8.48484848e-01\n",
            "   3.63044030e+00 -2.36541599e-01 -1.42433234e-01 -6.69309951e-01\n",
            "   1.22849663e+00  1.06686478e+00]\n",
            " [ 4.41697568e-02 -1.05212527e-01 -3.11643836e-01  3.63636364e-01\n",
            "  -2.44200020e-02 -9.78792822e-03  1.53115727e-01  2.02292650e-01\n",
            "  -1.87746365e-01 -7.24616147e-01]\n",
            " [-3.01976282e-01 -4.98806427e-04 -5.47945205e-02 -2.42424242e-01\n",
            "   7.32600060e-02 -3.75203915e-02 -4.51038576e-02  1.70734997e+00\n",
            "   1.06302721e+00  9.36602278e-01]\n",
            " [-3.13630228e-01 -2.25389247e-01  9.48630137e-01 -1.30303030e+00\n",
            "  -1.05820009e-01  7.37357259e-01  1.04866469e+00 -6.63275815e-01\n",
            "   1.25733993e+00  1.05200594e+00]\n",
            " [ 1.13264922e+00  6.74030000e-01  1.89726027e+00 -6.06060606e-01\n",
            "  -1.62800013e-01 -1.62479608e+00  1.01424332e+00 -4.43695212e-01\n",
            "  -2.53137861e-01  8.32095097e-02]\n",
            " [-3.10534393e-01 -6.58068194e-02 -3.04794521e-01  0.00000000e+00\n",
            "  -4.63980038e-01  4.89396411e-02  8.60534125e-02  9.17397168e-01\n",
            "   8.86931304e-01  1.08964834e-02]\n",
            " [-1.75312449e-01  6.33947340e-01 -1.40410959e-01  3.63636364e-01\n",
            "   0.00000000e+00  5.70962480e-01 -8.78931751e-01 -3.73229939e-01\n",
            "  -9.48792581e-03 -4.61614661e-01]\n",
            " [-1.02200520e-01 -1.41457940e+00  1.02739726e-02  5.45454545e-01\n",
            "   1.14774009e+00 -1.50407830e+00 -8.51632047e-01 -5.92480831e-01\n",
            "  -1.73395863e-01 -5.51263001e-01]\n",
            " [ 6.83289056e-01  1.41128728e+01  9.55479452e-01 -4.54545455e-01\n",
            "  -8.14000067e-02 -5.25285481e-01  5.28189911e-02 -3.57720836e-01\n",
            "  -1.51427296e-01 -3.32838039e-01]\n",
            " [ 1.77850380e+00 -2.92763744e-01  9.52054795e-01 -7.87878788e-01\n",
            "  -2.52340021e-01 -5.30995106e+00  1.89376855e+00  1.27781524e-01\n",
            "   7.05203607e-02 -4.67558197e-01]\n",
            " [ 1.42856219e-01  1.08244558e+00  1.57534247e+00 -4.84848485e-01\n",
            "  -1.05820009e-01  9.78792822e-03  8.39169139e-01  3.65475388e-01\n",
            "   8.12166449e-02 -2.34274393e-01]\n",
            " [ 1.43524866e+00  0.00000000e+00 -3.08219178e-01 -1.39393939e+00\n",
            "  -4.55840038e-01 -1.22349103e-01 -1.88724036e-01 -5.63047876e-01\n",
            "  -1.41559853e-01  5.10153541e-02]\n",
            " [-2.88787239e-01  1.37499555e+00 -2.08904110e-01 -6.06060606e-02\n",
            "   2.44200020e-01  2.51223491e-01  2.11275964e-01  2.51180040e-01\n",
            "  -8.31142301e-02  0.00000000e+00]\n",
            " [ 6.92806297e-01  4.80671251e-01 -1.71232877e-01  5.75757576e-01\n",
            "   1.32682011e+00 -1.35399674e-01  1.36498516e-01  1.85434929e-02\n",
            "  -1.94588962e-01 -1.71371966e-01]\n",
            " [ 8.53135193e-01  1.69131008e+00 -3.11643836e-01  1.72727273e-01\n",
            "  -2.52340021e-01 -1.66721044e+00 -4.62908012e-02  5.39447067e-01\n",
            "   8.40630226e-01 -7.13224368e-01]\n",
            " [ 1.16124975e+00  7.54373463e-01  6.98630137e-01 -1.33333333e+00\n",
            "  -4.63980038e-01 -1.22675367e+00 -6.17210682e-01  2.92312879e-01\n",
            "   9.18431218e-02  3.86329866e-02]\n",
            " [ 1.50225980e-01  1.16924502e+01 -1.47260274e-01 -5.15151515e-01\n",
            "  -1.13960009e-01  7.24306688e-01  1.20474777e+00  3.03438975e-01\n",
            "  -2.09777718e-01 -4.77959386e-01]\n",
            " [ 6.84265183e-02 -6.17949906e-01  5.61643836e-01  1.81818182e-01\n",
            "  -3.01180025e-01  1.02446982e+00  9.30563798e-01  0.00000000e+00\n",
            "  -1.65089909e-01 -6.93412580e-03]\n",
            " [-1.35681684e-01  7.65739124e-01 -1.06164384e-01  7.57575758e-01\n",
            "   1.99430016e+00 -1.68026101e-01 -3.73887240e-01 -4.75050573e-01\n",
            "   0.00000000e+00 -6.24071322e-02]\n",
            " [ 1.95210803e+00 -1.28763316e-01  1.34589041e+00 -1.33333333e+00\n",
            "  -4.39560036e-01  4.24143556e-02 -2.96735905e-03  8.98179366e-01\n",
            "  -1.59901307e-01 -2.92719168e-01]\n",
            " [-3.21048244e-01  1.02437026e+00  1.92123288e+00  4.24242424e-01\n",
            "   1.13960009e-01  2.82055465e+00  3.20771513e+00  1.42144302e+00\n",
            "   2.42890901e-02 -3.00148588e-01]\n",
            " [ 0.00000000e+00 -3.18095985e-01 -1.30136986e-01  7.27272727e-01\n",
            "   1.75824014e+00 -6.59053834e-01 -5.00296736e-01  1.03843560e+00\n",
            "  -1.71886078e-01 -4.50222883e-01]\n",
            " [ 1.34149164e+00 -2.89628389e-01 -6.84931507e-03 -4.54545455e-01\n",
            "  -7.32600060e-02  1.03262643e+00 -7.65578635e-02  1.41469993e+00\n",
            "  -1.29516698e-01  6.84001981e-01]\n",
            " [-5.72986680e-02 -1.99522571e-02 -3.15068493e-01  3.03030303e-01\n",
            "  -1.22100010e-01  1.77814029e-01 -3.55489614e-01  4.63250169e-01\n",
            "   7.66624405e-02  1.31748390e-01]\n",
            " [ 8.39713444e-01  1.23818007e+00  8.08219178e-01 -5.15151515e-01\n",
            "  -1.13960009e-01  2.70636215e+00  1.43026706e+00  6.83749157e-01\n",
            "   9.49931132e-01  8.58345716e-01]\n",
            " [-3.14760156e-01  7.74610753e-01 -7.87671233e-02  5.75757576e-01\n",
            "   1.29426011e+00  3.75203915e-02 -4.97329377e-01 -5.41807148e-01\n",
            "  -1.37231054e-01 -7.21149084e-01]\n",
            " [-3.07193703e-01 -1.06388285e-01  3.76712329e-01 -3.33333333e-01\n",
            "   0.00000000e+00 -5.22022838e-01  1.23442136e-01  1.25118004e+00\n",
            "  -6.82758936e-02  1.64239723e+00]\n",
            " [ 1.75820035e+00 -3.13571098e-01  1.51369863e+00 -1.30303030e+00\n",
            "  -3.50020029e-01  3.34910277e+00  1.33649852e+00 -5.90148410e-01\n",
            "   1.29377356e+00  1.12580485e+00]\n",
            " [ 1.42758606e-01 -1.34178929e-01  3.73287671e-01 -4.24242424e-01\n",
            "  -5.69800047e-02  4.12724307e-01  1.81008902e-01  3.47606204e-01\n",
            "  -1.61434095e-01 -3.31847449e-01]\n",
            " [ 1.18438397e+00 -5.50789183e-01  6.84931507e-03  3.63636364e-01\n",
            "   8.14000067e-03 -1.58238173e+00  0.00000000e+00 -4.15374241e-01\n",
            "   9.10840877e-03  6.53789004e-02]\n",
            " [ 3.39633999e+02 -1.45508961e-01 -3.08219178e-02  1.44319700e-01\n",
            "   8.37199987e-01  7.81402936e-01  2.08308605e-01 -6.45987862e-01\n",
            "  -3.41565329e-02  8.17731550e-01]\n",
            " [ 1.35340039e-01 -2.32657569e-02  8.69863014e-01 -2.12121212e-01\n",
            "   1.05820009e-01 -6.85154976e-02  9.86350148e-01 -5.50343405e-01\n",
            "   9.50690166e-01  6.86973749e-01]\n",
            " [ 6.79774998e-01 -4.04852674e-01  1.02397260e+00 -1.81818182e-01\n",
            "   1.30240011e-01  3.65415987e-01 -3.96439169e-01 -4.96965610e-01\n",
            "  -1.65978140e-01  1.53541357e-02]\n",
            " [-3.01281667e-01  1.03112908e+01 -3.08219178e-02  0.00000000e+00\n",
            "  -4.80260040e-01  1.04241436e+00  8.11275964e-01  1.63519892e-01\n",
            "  -2.73818716e-01 -5.12630015e-01]\n",
            " [ 4.37793060e-02  1.90259023e-02  1.28972603e+01  3.03030303e-01\n",
            "  -4.07000033e-02  7.04078303e+00  8.20178042e-01  1.02393796e+00\n",
            "   9.38166104e-01  6.94898465e-01]\n",
            " [-3.14337694e-01  5.04079524e-01  0.00000000e+00  6.06060606e-01\n",
            "   1.47334012e+00  0.00000000e+00 -2.57566766e-01 -6.58125421e-01\n",
            "  -8.91865026e-02 -5.44824170e-03]\n",
            " [-3.15830057e-01  8.97032102e-01 -4.10958904e-02  8.18181818e-01\n",
            "   2.17338018e+00  3.26264274e-02 -2.31454006e-02 -4.05259609e-01\n",
            "  -1.59369774e-01  1.34224864e-01]\n",
            " [ 1.87127295e-02 -2.27906886e-01 -2.07033234e-01  5.73216437e-01\n",
            "   1.00300762e+00 -3.83989217e-01 -2.23475410e-01  6.84199628e-01\n",
            "  -1.78605365e-01 -5.66470906e-01]\n",
            " [-8.29294384e-02  2.06338076e-01 -2.29180821e-01  4.38749734e-01\n",
            "   4.42532387e-01  6.96422630e-03 -7.72107134e-02 -6.11974688e-02\n",
            "  -1.69858596e-01 -7.23388439e-01]\n",
            " [ 3.05599667e-01  4.97129273e-02  5.14453247e-01  5.68657516e-02\n",
            "   7.32486476e-02  4.55360503e-01 -6.07571752e-01 -4.42820463e-01\n",
            "  -9.75000238e-02 -1.93361310e-01]\n",
            " [-6.47215928e-02 -4.38864715e-01 -5.93024653e-03 -2.70234243e-01\n",
            "  -9.45789581e-03 -1.09480897e+00 -1.05129107e-01 -5.39909561e-01\n",
            "   8.82892212e-02 -1.45650637e-01]\n",
            " [-1.24550356e-01 -3.88910704e-01 -5.28034389e-02 -1.10112847e-02\n",
            "  -4.70249645e-01 -1.84418744e+00 -2.13624003e-02 -4.58288415e-01\n",
            "  -2.07939991e-02 -4.98462779e-03]\n",
            " [-8.39699630e-02 -4.22793293e-01 -2.10104942e-02 -1.86835903e-01\n",
            "  -1.57705825e-01 -1.33590228e+00 -7.81793171e-02 -5.13650051e-01\n",
            "   5.31944924e-02 -1.00394956e-01]\n",
            " [ 4.92218329e-02 -2.12002885e-01 -1.29759879e-01  3.25768189e-01\n",
            "  -8.20621852e-02  2.05622065e-01  3.15038694e-01  1.60160156e-01\n",
            "  -1.83027593e-01 -5.75140951e-01]] [0 1 1 0 0 0 0 0 0 1 1 0 1 0 1 1 0 1 0 1 0 1 1 1 1 1 0 0 0 1 0 0 0 1 0 0 0\n",
            " 1 0 0 1 1 0 0 0 1 1 1 1 1 1 1]\n"
          ]
        }
      ],
      "source": [
        "from imblearn.over_sampling import SMOTE\n",
        "ros = SMOTE(random_state=0,k_neighbors=3)\n",
        "x_res, y_res = ros.fit_resample(x,y)\n",
        "print(x_res, y_res)"
      ]
    },
    {
      "cell_type": "code",
      "execution_count": 27,
      "metadata": {
        "colab": {
          "base_uri": "https://localhost:8080/"
        },
        "id": "spYnk42CtvYK",
        "outputId": "5329f337-788c-4bf1-aa7c-1a7b06e5890d"
      },
      "outputs": [
        {
          "output_type": "execute_result",
          "data": {
            "text/plain": [
              "52"
            ]
          },
          "metadata": {},
          "execution_count": 27
        }
      ],
      "source": [
        "len(x_res)\n",
        "len(y_res)"
      ]
    },
    {
      "cell_type": "markdown",
      "metadata": {
        "id": "fJcdUUuv70qd"
      },
      "source": [
        "# Data Training dan Data Testing\n",
        "\n",
        "---\n",
        "\n"
      ]
    },
    {
      "cell_type": "code",
      "execution_count": 28,
      "metadata": {
        "colab": {
          "base_uri": "https://localhost:8080/"
        },
        "id": "-zMLOoBqv6b4",
        "outputId": "2b94afeb-7f15-40ed-ac6a-1ecf20e12ccf"
      },
      "outputs": [
        {
          "output_type": "execute_result",
          "data": {
            "text/plain": [
              "(array([[ 8.53135193e-01,  1.69131008e+00, -3.11643836e-01,\n",
              "          1.72727273e-01, -2.52340021e-01, -1.66721044e+00,\n",
              "         -4.62908012e-02,  5.39447067e-01,  8.40630226e-01,\n",
              "         -7.13224368e-01],\n",
              "        [-5.71522489e-02, -4.45184737e-01,  0.00000000e+00,\n",
              "         -3.03030303e-01,  4.88400040e-02, -1.00000000e+00,\n",
              "         -1.15727003e-01, -5.50236008e-01,  1.02090082e-01,\n",
              "         -1.63447251e-01],\n",
              "        [-3.19705196e-01,  2.55282004e+00, -1.30136986e-01,\n",
              "          1.00000000e+00,  4.43630037e+00, -4.29037520e-01,\n",
              "         -1.60830861e-01, -6.73109657e-01,  1.19737624e+00,\n",
              "          1.04606241e+00],\n",
              "        [-1.24550356e-01, -3.88910704e-01, -5.28034389e-02,\n",
              "         -1.10112847e-02, -4.70249645e-01, -1.84418744e+00,\n",
              "         -2.13624003e-02, -4.58288415e-01, -2.07939991e-02,\n",
              "         -4.98462779e-03],\n",
              "        [ 3.05599667e-01,  4.97129273e-02,  5.14453247e-01,\n",
              "          5.68657516e-02,  7.32486476e-02,  4.55360503e-01,\n",
              "         -6.07571752e-01, -4.42820463e-01, -9.75000238e-02,\n",
              "         -1.93361310e-01],\n",
              "        [-3.19887719e-01, -2.41814230e-01,  5.51369863e-01,\n",
              "          7.87878788e-01,  4.30606035e+00, -1.63132137e-01,\n",
              "          1.82195846e-01, -6.72000262e-01,  2.77540806e+00,\n",
              "          2.65824666e+00],\n",
              "        [ 6.83289056e-01,  1.41128728e+01,  9.55479452e-01,\n",
              "         -4.54545455e-01, -8.14000067e-02, -5.25285481e-01,\n",
              "          5.28189911e-02, -3.57720836e-01, -1.51427296e-01,\n",
              "         -3.32838039e-01],\n",
              "        [ 8.39713444e-01,  1.23818007e+00,  8.08219178e-01,\n",
              "         -5.15151515e-01, -1.13960009e-01,  2.70636215e+00,\n",
              "          1.43026706e+00,  6.83749157e-01,  9.49931132e-01,\n",
              "          8.58345716e-01],\n",
              "        [ 1.77850380e+00, -2.92763744e-01,  9.52054795e-01,\n",
              "         -7.87878788e-01, -2.52340021e-01, -5.30995106e+00,\n",
              "          1.89376855e+00,  1.27781524e-01,  7.05203607e-02,\n",
              "         -4.67558197e-01],\n",
              "        [ 3.39633999e+02, -1.45508961e-01, -3.08219178e-02,\n",
              "          1.44319700e-01,  8.37199987e-01,  7.81402936e-01,\n",
              "          2.08308605e-01, -6.45987862e-01, -3.41565329e-02,\n",
              "          8.17731550e-01],\n",
              "        [-6.47215928e-02, -4.38864715e-01, -5.93024653e-03,\n",
              "         -2.70234243e-01, -9.45789581e-03, -1.09480897e+00,\n",
              "         -1.05129107e-01, -5.39909561e-01,  8.82892212e-02,\n",
              "         -1.45650637e-01],\n",
              "        [-3.01976282e-01, -4.98806427e-04, -5.47945205e-02,\n",
              "         -2.42424242e-01,  7.32600060e-02, -3.75203915e-02,\n",
              "         -4.51038576e-02,  1.70734997e+00,  1.06302721e+00,\n",
              "          9.36602278e-01],\n",
              "        [ 6.84265183e-02, -6.17949906e-01,  5.61643836e-01,\n",
              "          1.81818182e-01, -3.01180025e-01,  1.02446982e+00,\n",
              "          9.30563798e-01,  0.00000000e+00, -1.65089909e-01,\n",
              "         -6.93412580e-03],\n",
              "        [ 1.87127295e-02, -2.27906886e-01, -2.07033234e-01,\n",
              "          5.73216437e-01,  1.00300762e+00, -3.83989217e-01,\n",
              "         -2.23475410e-01,  6.84199628e-01, -1.78605365e-01,\n",
              "         -5.66470906e-01],\n",
              "        [ 1.16124975e+00,  7.54373463e-01,  6.98630137e-01,\n",
              "         -1.33333333e+00, -4.63980038e-01, -1.22675367e+00,\n",
              "         -6.17210682e-01,  2.92312879e-01,  9.18431218e-02,\n",
              "          3.86329866e-02],\n",
              "        [-8.29294384e-02,  2.06338076e-01, -2.29180821e-01,\n",
              "          4.38749734e-01,  4.42532387e-01,  6.96422630e-03,\n",
              "         -7.72107134e-02, -6.11974688e-02, -1.69858596e-01,\n",
              "         -7.23388439e-01],\n",
              "        [-3.20041478e-01,  1.59432786e+00, -3.42465753e-03,\n",
              "          8.48484848e-01,  3.63044030e+00, -2.36541599e-01,\n",
              "         -1.42433234e-01, -6.69309951e-01,  1.22849663e+00,\n",
              "          1.06686478e+00],\n",
              "        [-2.88787239e-01,  1.37499555e+00, -2.08904110e-01,\n",
              "         -6.06060606e-02,  2.44200020e-01,  2.51223491e-01,\n",
              "          2.11275964e-01,  2.51180040e-01, -8.31142301e-02,\n",
              "          0.00000000e+00],\n",
              "        [ 1.18438397e+00, -5.50789183e-01,  6.84931507e-03,\n",
              "          3.63636364e-01,  8.14000067e-03, -1.58238173e+00,\n",
              "          0.00000000e+00, -4.15374241e-01,  9.10840877e-03,\n",
              "          6.53789004e-02],\n",
              "        [ 1.42758606e-01, -1.34178929e-01,  3.73287671e-01,\n",
              "         -4.24242424e-01, -5.69800047e-02,  4.12724307e-01,\n",
              "          1.81008902e-01,  3.47606204e-01, -1.61434095e-01,\n",
              "         -3.31847449e-01],\n",
              "        [-3.21048244e-01,  1.02437026e+00,  1.92123288e+00,\n",
              "          4.24242424e-01,  1.13960009e-01,  2.82055465e+00,\n",
              "          3.20771513e+00,  1.42144302e+00,  2.42890901e-02,\n",
              "         -3.00148588e-01],\n",
              "        [ 6.92806297e-01,  4.80671251e-01, -1.71232877e-01,\n",
              "          5.75757576e-01,  1.32682011e+00, -1.35399674e-01,\n",
              "          1.36498516e-01,  1.85434929e-02, -1.94588962e-01,\n",
              "         -1.71371966e-01],\n",
              "        [ 1.35340039e-01, -2.32657569e-02,  8.69863014e-01,\n",
              "         -2.12121212e-01,  1.05820009e-01, -6.85154976e-02,\n",
              "          9.86350148e-01, -5.50343405e-01,  9.50690166e-01,\n",
              "          6.86973749e-01],\n",
              "        [-3.20151180e-01, -1.42088574e-01,  1.19863014e+00,\n",
              "          9.09090909e-01,  3.06878025e+00, -7.66721044e-02,\n",
              "          3.91691395e-02, -5.13823331e-01,  2.00954269e+00,\n",
              "          1.92075285e+00],\n",
              "        [-3.01281667e-01,  1.03112908e+01, -3.08219178e-02,\n",
              "          0.00000000e+00, -4.80260040e-01,  1.04241436e+00,\n",
              "          8.11275964e-01,  1.63519892e-01, -2.73818716e-01,\n",
              "         -5.12630015e-01],\n",
              "        [-8.39699630e-02, -4.22793293e-01, -2.10104942e-02,\n",
              "         -1.86835903e-01, -1.57705825e-01, -1.33590228e+00,\n",
              "         -7.81793171e-02, -5.13650051e-01,  5.31944924e-02,\n",
              "         -1.00394956e-01]]),\n",
              " array([[ 4.41697568e-02, -1.05212527e-01, -3.11643836e-01,\n",
              "          3.63636364e-01, -2.44200020e-02, -9.78792822e-03,\n",
              "          1.53115727e-01,  2.02292650e-01, -1.87746365e-01,\n",
              "         -7.24616147e-01],\n",
              "        [-3.14760156e-01,  7.74610753e-01, -7.87671233e-02,\n",
              "          5.75757576e-01,  1.29426011e+00,  3.75203915e-02,\n",
              "         -4.97329377e-01, -5.41807148e-01, -1.37231054e-01,\n",
              "         -7.21149084e-01],\n",
              "        [ 1.47395211e-01,  4.77429009e-03, -1.23287671e-01,\n",
              "         -3.33333333e-01,  8.14000067e-03,  5.31810767e-01,\n",
              "         -3.24932936e-01,  4.49763992e-01,  7.58654548e-01,\n",
              "         -1.81773155e-01],\n",
              "        [ 1.42856219e-01,  1.08244558e+00,  1.57534247e+00,\n",
              "         -4.84848485e-01, -1.05820009e-01,  9.78792822e-03,\n",
              "          8.39169139e-01,  3.65475388e-01,  8.12166449e-02,\n",
              "         -2.34274393e-01],\n",
              "        [-1.35681684e-01,  7.65739124e-01, -1.06164384e-01,\n",
              "          7.57575758e-01,  1.99430016e+00, -1.68026101e-01,\n",
              "         -3.73887240e-01, -4.75050573e-01,  0.00000000e+00,\n",
              "         -6.24071322e-02],\n",
              "        [ 4.37793060e-02,  1.90259023e-02,  1.28972603e+01,\n",
              "          3.03030303e-01, -4.07000033e-02,  7.04078303e+00,\n",
              "          8.20178042e-01,  1.02393796e+00,  9.38166104e-01,\n",
              "          6.94898465e-01],\n",
              "        [-3.10534393e-01, -6.58068194e-02, -3.04794521e-01,\n",
              "          0.00000000e+00, -4.63980038e-01,  4.89396411e-02,\n",
              "          8.60534125e-02,  9.17397168e-01,  8.86931304e-01,\n",
              "          1.08964834e-02],\n",
              "        [ 0.00000000e+00, -3.18095985e-01, -1.30136986e-01,\n",
              "          7.27272727e-01,  1.75824014e+00, -6.59053834e-01,\n",
              "         -5.00296736e-01,  1.03843560e+00, -1.71886078e-01,\n",
              "         -4.50222883e-01],\n",
              "        [-3.13630228e-01, -2.25389247e-01,  9.48630137e-01,\n",
              "         -1.30303030e+00, -1.05820009e-01,  7.37357259e-01,\n",
              "          1.04866469e+00, -6.63275815e-01,  1.25733993e+00,\n",
              "          1.05200594e+00],\n",
              "        [-1.75312449e-01,  6.33947340e-01, -1.40410959e-01,\n",
              "          3.63636364e-01,  0.00000000e+00,  5.70962480e-01,\n",
              "         -8.78931751e-01, -3.73229939e-01, -9.48792581e-03,\n",
              "         -4.61614661e-01],\n",
              "        [ 1.43524866e+00,  0.00000000e+00, -3.08219178e-01,\n",
              "         -1.39393939e+00, -4.55840038e-01, -1.22349103e-01,\n",
              "         -1.88724036e-01, -5.63047876e-01, -1.41559853e-01,\n",
              "          5.10153541e-02],\n",
              "        [-5.72986680e-02, -1.99522571e-02, -3.15068493e-01,\n",
              "          3.03030303e-01, -1.22100010e-01,  1.77814029e-01,\n",
              "         -3.55489614e-01,  4.63250169e-01,  7.66624405e-02,\n",
              "          1.31748390e-01],\n",
              "        [ 1.34149164e+00, -2.89628389e-01, -6.84931507e-03,\n",
              "         -4.54545455e-01, -7.32600060e-02,  1.03262643e+00,\n",
              "         -7.65578635e-02,  1.41469993e+00, -1.29516698e-01,\n",
              "          6.84001981e-01],\n",
              "        [-3.15830057e-01,  8.97032102e-01, -4.10958904e-02,\n",
              "          8.18181818e-01,  2.17338018e+00,  3.26264274e-02,\n",
              "         -2.31454006e-02, -4.05259609e-01, -1.59369774e-01,\n",
              "          1.34224864e-01],\n",
              "        [-2.12356477e-01,  5.46869990e-01,  6.84931507e-03,\n",
              "         -3.03030303e-02,  2.84900023e-01,  7.24306688e-01,\n",
              "         -4.03560831e-02,  4.38300742e-03,  3.11659659e-01,\n",
              "         -3.13026251e-01],\n",
              "        [ 4.92218329e-02, -2.12002885e-01, -1.29759879e-01,\n",
              "          3.25768189e-01, -8.20621852e-02,  2.05622065e-01,\n",
              "          3.15038694e-01,  1.60160156e-01, -1.83027593e-01,\n",
              "         -5.75140951e-01],\n",
              "        [ 1.95210803e+00, -1.28763316e-01,  1.34589041e+00,\n",
              "         -1.33333333e+00, -4.39560036e-01,  4.24143556e-02,\n",
              "         -2.96735905e-03,  8.98179366e-01, -1.59901307e-01,\n",
              "         -2.92719168e-01],\n",
              "        [-3.19986422e-01,  6.28816760e-01, -3.08219178e-01,\n",
              "          1.09090909e+00, -4.63980038e-01, -4.20880914e-01,\n",
              "         -3.32344214e-01, -6.64628769e-01,  4.09878395e-02,\n",
              "         -2.21396731e-01],\n",
              "        [-1.27091764e-01, -3.86788755e-01, -5.47945205e-02,\n",
              "          0.00000000e+00, -4.89823178e-01, -1.87601958e+00,\n",
              "         -1.78041543e-02, -4.54821308e-01, -2.54276412e-02,\n",
              "          9.90589401e-04],\n",
              "        [-3.07193703e-01, -1.06388285e-01,  3.76712329e-01,\n",
              "         -3.33333333e-01,  0.00000000e+00, -5.22022838e-01,\n",
              "          1.23442136e-01,  1.25118004e+00, -6.82758936e-02,\n",
              "          1.64239723e+00],\n",
              "        [ 1.50225980e-01,  1.16924502e+01, -1.47260274e-01,\n",
              "         -5.15151515e-01, -1.13960009e-01,  7.24306688e-01,\n",
              "          1.20474777e+00,  3.03438975e-01, -2.09777718e-01,\n",
              "         -4.77959386e-01],\n",
              "        [-3.14337694e-01,  5.04079524e-01,  0.00000000e+00,\n",
              "          6.06060606e-01,  1.47334012e+00,  0.00000000e+00,\n",
              "         -2.57566766e-01, -6.58125421e-01, -8.91865026e-02,\n",
              "         -5.44824170e-03],\n",
              "        [ 6.79774998e-01, -4.04852674e-01,  1.02397260e+00,\n",
              "         -1.81818182e-01,  1.30240011e-01,  3.65415987e-01,\n",
              "         -3.96439169e-01, -4.96965610e-01, -1.65978140e-01,\n",
              "          1.53541357e-02],\n",
              "        [ 1.13264922e+00,  6.74030000e-01,  1.89726027e+00,\n",
              "         -6.06060606e-01, -1.62800013e-01, -1.62479608e+00,\n",
              "          1.01424332e+00, -4.43695212e-01, -2.53137861e-01,\n",
              "          8.32095097e-02],\n",
              "        [ 1.75820035e+00, -3.13571098e-01,  1.51369863e+00,\n",
              "         -1.30303030e+00, -3.50020029e-01,  3.34910277e+00,\n",
              "          1.33649852e+00, -5.90148410e-01,  1.29377356e+00,\n",
              "          1.12580485e+00],\n",
              "        [-1.02200520e-01, -1.41457940e+00,  1.02739726e-02,\n",
              "          5.45454545e-01,  1.14774009e+00, -1.50407830e+00,\n",
              "         -8.51632047e-01, -5.92480831e-01, -1.73395863e-01,\n",
              "         -5.51263001e-01]]),\n",
              " array([1, 1, 0, 1, 1, 0, 0, 0, 1, 0, 1, 1, 1, 1, 1, 1, 0, 0, 1, 0, 0, 1,\n",
              "        0, 0, 1, 1]),\n",
              " array([1, 1, 0, 0, 0, 0, 0, 1, 0, 1, 1, 0, 0, 0, 0, 1, 0, 0, 1, 0, 1, 0,\n",
              "        1, 1, 0, 1]))"
            ]
          },
          "metadata": {},
          "execution_count": 28
        }
      ],
      "source": [
        "from sklearn.model_selection import train_test_split\n",
        "\n",
        "X = x_res\n",
        "Y = y_res\n",
        "\n",
        "X_train, X_test, Y_train, Y_test = train_test_split(X,Y, test_size = 0.5)\n",
        "X_train, X_test, Y_train, Y_test"
      ]
    },
    {
      "cell_type": "code",
      "execution_count": 29,
      "metadata": {
        "colab": {
          "base_uri": "https://localhost:8080/"
        },
        "id": "h7iw7czTDiLx",
        "outputId": "b032a328-8b08-446f-bb8d-944672c25180"
      },
      "outputs": [
        {
          "output_type": "execute_result",
          "data": {
            "text/plain": [
              "26"
            ]
          },
          "metadata": {},
          "execution_count": 29
        }
      ],
      "source": [
        "len(X_train)"
      ]
    },
    {
      "cell_type": "code",
      "execution_count": 30,
      "metadata": {
        "colab": {
          "base_uri": "https://localhost:8080/"
        },
        "id": "V4VVP0cWEhHB",
        "outputId": "ab3d82d4-13c1-4dfd-d528-a07dc7a1cd8a"
      },
      "outputs": [
        {
          "output_type": "execute_result",
          "data": {
            "text/plain": [
              "26"
            ]
          },
          "metadata": {},
          "execution_count": 30
        }
      ],
      "source": [
        "len(X_test)"
      ]
    },
    {
      "cell_type": "code",
      "execution_count": 31,
      "metadata": {
        "colab": {
          "base_uri": "https://localhost:8080/"
        },
        "id": "RFJV13tkEhzO",
        "outputId": "c306f782-12eb-4c48-aec4-d5016b118974"
      },
      "outputs": [
        {
          "output_type": "execute_result",
          "data": {
            "text/plain": [
              "26"
            ]
          },
          "metadata": {},
          "execution_count": 31
        }
      ],
      "source": [
        "len(Y_train)"
      ]
    },
    {
      "cell_type": "code",
      "execution_count": 32,
      "metadata": {
        "colab": {
          "base_uri": "https://localhost:8080/"
        },
        "id": "r__RaFnPEiZ5",
        "outputId": "e234c55c-a08a-4550-d372-7bc0bf12cab9"
      },
      "outputs": [
        {
          "output_type": "execute_result",
          "data": {
            "text/plain": [
              "26"
            ]
          },
          "metadata": {},
          "execution_count": 32
        }
      ],
      "source": [
        "len(Y_test)"
      ]
    },
    {
      "cell_type": "markdown",
      "metadata": {
        "id": "T3TtRY_F8Bka"
      },
      "source": [
        "# Pembentukan Model"
      ]
    },
    {
      "cell_type": "code",
      "execution_count": 33,
      "metadata": {
        "colab": {
          "base_uri": "https://localhost:8080/"
        },
        "id": "nngDlKfGbS8L",
        "outputId": "caf27ddf-b4a0-4fac-b024-f52f27f37222"
      },
      "outputs": [
        {
          "output_type": "stream",
          "name": "stdout",
          "text": [
            "Looking in indexes: https://pypi.org/simple, https://us-python.pkg.dev/colab-wheels/public/simple/\n",
            "Requirement already satisfied: scipy in /usr/local/lib/python3.10/dist-packages (1.10.1)\n",
            "Requirement already satisfied: numpy<1.27.0,>=1.19.5 in /usr/local/lib/python3.10/dist-packages (from scipy) (1.22.4)\n",
            "Looking in indexes: https://pypi.org/simple, https://us-python.pkg.dev/colab-wheels/public/simple/\n",
            "Collecting Theano==0.8\n",
            "  Downloading Theano-0.8.0.zip (3.2 MB)\n",
            "\u001b[2K     \u001b[90m━━━━━━━━━━━━━━━━━━━━━━━━━━━━━━━━━━━━━━━━\u001b[0m \u001b[32m3.2/3.2 MB\u001b[0m \u001b[31m28.6 MB/s\u001b[0m eta \u001b[36m0:00:00\u001b[0m\n",
            "\u001b[?25h  Preparing metadata (setup.py) ... \u001b[?25l\u001b[?25hdone\n",
            "Requirement already satisfied: numpy>=1.7.1 in /usr/local/lib/python3.10/dist-packages (from Theano==0.8) (1.22.4)\n",
            "Requirement already satisfied: scipy>=0.11 in /usr/local/lib/python3.10/dist-packages (from Theano==0.8) (1.10.1)\n",
            "Requirement already satisfied: six>=1.9.0 in /usr/local/lib/python3.10/dist-packages (from Theano==0.8) (1.16.0)\n",
            "Building wheels for collected packages: Theano\n",
            "  Building wheel for Theano (setup.py) ... \u001b[?25l\u001b[?25hdone\n",
            "  Created wheel for Theano: filename=Theano-0.8.0-py3-none-any.whl size=2722133 sha256=4b77d6917c0350851573b9de071663e8a21361b43f4a99eb6f641bee50642039\n",
            "  Stored in directory: /root/.cache/pip/wheels/4e/74/af/8639943bf8ef894353115b37587fe597a03508f6735b9dc066\n",
            "Successfully built Theano\n",
            "Installing collected packages: Theano\n",
            "Successfully installed Theano-0.8.0\n",
            "Looking in indexes: https://pypi.org/simple, https://us-python.pkg.dev/colab-wheels/public/simple/\n",
            "Collecting Lasagne\n",
            "  Downloading Lasagne-0.1.tar.gz (125 kB)\n",
            "\u001b[2K     \u001b[90m━━━━━━━━━━━━━━━━━━━━━━━━━━━━━━━━━━━━━━━\u001b[0m \u001b[32m125.1/125.1 kB\u001b[0m \u001b[31m3.5 MB/s\u001b[0m eta \u001b[36m0:00:00\u001b[0m\n",
            "\u001b[?25h  Preparing metadata (setup.py) ... \u001b[?25l\u001b[?25hdone\n",
            "Requirement already satisfied: numpy in /usr/local/lib/python3.10/dist-packages (from Lasagne) (1.22.4)\n",
            "Building wheels for collected packages: Lasagne\n",
            "  Building wheel for Lasagne (setup.py) ... \u001b[?25l\u001b[?25hdone\n",
            "  Created wheel for Lasagne: filename=Lasagne-0.1-py3-none-any.whl size=79284 sha256=1026ccc4c7bea0fcb6ea41c9d7bd4352b76e8116a7a1321d73fd1d1147b749bb\n",
            "  Stored in directory: /root/.cache/pip/wheels/26/22/9f/1512e23c2556397304b730376ae4a7b34c5a6e8d68c1273917\n",
            "Successfully built Lasagne\n",
            "Installing collected packages: Lasagne\n",
            "Successfully installed Lasagne-0.1\n",
            "Looking in indexes: https://pypi.org/simple, https://us-python.pkg.dev/colab-wheels/public/simple/\n",
            "Collecting tabulate==0.7.5\n",
            "  Downloading tabulate-0.7.5.tar.gz (29 kB)\n",
            "  Preparing metadata (setup.py) ... \u001b[?25l\u001b[?25hdone\n",
            "Building wheels for collected packages: tabulate\n",
            "  Building wheel for tabulate (setup.py) ... \u001b[?25l\u001b[?25hdone\n",
            "  Created wheel for tabulate: filename=tabulate-0.7.5-py3-none-any.whl size=17765 sha256=67dca741db718c87ba99044794edb457abbd6f9577a445ffd5f8c17a7f46fe41\n",
            "  Stored in directory: /root/.cache/pip/wheels/f7/8d/53/a7f53e8b489912f3576b18e09969fdee9fa395468f3f9b3517\n",
            "Successfully built tabulate\n",
            "Installing collected packages: tabulate\n",
            "  Attempting uninstall: tabulate\n",
            "    Found existing installation: tabulate 0.8.10\n",
            "    Uninstalling tabulate-0.8.10:\n",
            "      Successfully uninstalled tabulate-0.8.10\n",
            "Successfully installed tabulate-0.7.5\n",
            "Looking in indexes: https://pypi.org/simple, https://us-python.pkg.dev/colab-wheels/public/simple/\n",
            "Collecting nolearn\n",
            "  Downloading nolearn-0.6.1.tar.gz (38 kB)\n",
            "  Preparing metadata (setup.py) ... \u001b[?25l\u001b[?25hdone\n",
            "Requirement already satisfied: joblib in /usr/local/lib/python3.10/dist-packages (from nolearn) (1.2.0)\n",
            "Requirement already satisfied: scikit-learn in /usr/local/lib/python3.10/dist-packages (from nolearn) (1.2.2)\n",
            "Requirement already satisfied: tabulate in /usr/local/lib/python3.10/dist-packages (from nolearn) (0.7.5)\n",
            "Requirement already satisfied: Lasagne in /usr/local/lib/python3.10/dist-packages (from nolearn) (0.1)\n",
            "Requirement already satisfied: Theano in /usr/local/lib/python3.10/dist-packages (from nolearn) (0.8.0)\n",
            "Requirement already satisfied: numpy in /usr/local/lib/python3.10/dist-packages (from Lasagne->nolearn) (1.22.4)\n",
            "Requirement already satisfied: threadpoolctl>=2.0.0 in /usr/local/lib/python3.10/dist-packages (from scikit-learn->nolearn) (3.1.0)\n",
            "Requirement already satisfied: scipy>=1.3.2 in /usr/local/lib/python3.10/dist-packages (from scikit-learn->nolearn) (1.10.1)\n",
            "Requirement already satisfied: six>=1.9.0 in /usr/local/lib/python3.10/dist-packages (from Theano->nolearn) (1.16.0)\n",
            "Building wheels for collected packages: nolearn\n",
            "  Building wheel for nolearn (setup.py) ... \u001b[?25l\u001b[?25hdone\n",
            "  Created wheel for nolearn: filename=nolearn-0.6.1-py3-none-any.whl size=38537 sha256=abd3e49488d71d5be7033a61cfa366bf2ddb2881fd9144fab67e8e69b1ef751f\n",
            "  Stored in directory: /root/.cache/pip/wheels/c4/02/bd/a0d265c501d99bb65ae301ec2963452364293a3be2c9e9f44f\n",
            "Successfully built nolearn\n",
            "Installing collected packages: nolearn\n",
            "Successfully installed nolearn-0.6.1\n"
          ]
        }
      ],
      "source": [
        "!pip install scipy\n",
        "!pip install Theano==0.8\n",
        "!pip install Lasagne\n",
        "!pip install tabulate==0.7.5\n",
        "!pip install nolearn"
      ]
    },
    {
      "cell_type": "code",
      "execution_count": 34,
      "metadata": {
        "id": "ORO4fF0ccMSO"
      },
      "outputs": [],
      "source": [
        "import nolearn"
      ]
    },
    {
      "cell_type": "code",
      "execution_count": 35,
      "metadata": {
        "id": "gjOVjJX9haVb"
      },
      "outputs": [],
      "source": [
        "from sklearn.neural_network import BernoulliRBM\n",
        "import numpy as np\n",
        "from sklearn import linear_model, datasets, metrics\n",
        "from sklearn.model_selection import train_test_split\n",
        "from sklearn.pipeline import Pipeline\n",
        "from tensorflow.keras.models import Sequential"
      ]
    },
    {
      "cell_type": "code",
      "execution_count": 36,
      "metadata": {
        "colab": {
          "base_uri": "https://localhost:8080/"
        },
        "id": "6AQTKlOLkQAH",
        "outputId": "6a18e2b8-89f8-4956-b240-725dd3a7b6b2"
      },
      "outputs": [
        {
          "output_type": "execute_result",
          "data": {
            "text/plain": [
              "(array([[ 6.83289056e-01,  1.41128728e+01,  9.55479452e-01,\n",
              "         -4.54545455e-01, -8.14000067e-02, -5.25285481e-01,\n",
              "          5.28189911e-02, -3.57720836e-01, -1.51427296e-01,\n",
              "         -3.32838039e-01],\n",
              "        [ 4.92218329e-02, -2.12002885e-01, -1.29759879e-01,\n",
              "          3.25768189e-01, -8.20621852e-02,  2.05622065e-01,\n",
              "          3.15038694e-01,  1.60160156e-01, -1.83027593e-01,\n",
              "         -5.75140951e-01],\n",
              "        [-2.88787239e-01,  1.37499555e+00, -2.08904110e-01,\n",
              "         -6.06060606e-02,  2.44200020e-01,  2.51223491e-01,\n",
              "          2.11275964e-01,  2.51180040e-01, -8.31142301e-02,\n",
              "          0.00000000e+00],\n",
              "        [ 1.87127295e-02, -2.27906886e-01, -2.07033234e-01,\n",
              "          5.73216437e-01,  1.00300762e+00, -3.83989217e-01,\n",
              "         -2.23475410e-01,  6.84199628e-01, -1.78605365e-01,\n",
              "         -5.66470906e-01],\n",
              "        [-3.20041478e-01,  1.59432786e+00, -3.42465753e-03,\n",
              "          8.48484848e-01,  3.63044030e+00, -2.36541599e-01,\n",
              "         -1.42433234e-01, -6.69309951e-01,  1.22849663e+00,\n",
              "          1.06686478e+00],\n",
              "        [-3.10534393e-01, -6.58068194e-02, -3.04794521e-01,\n",
              "          0.00000000e+00, -4.63980038e-01,  4.89396411e-02,\n",
              "          8.60534125e-02,  9.17397168e-01,  8.86931304e-01,\n",
              "          1.08964834e-02],\n",
              "        [ 6.84265183e-02, -6.17949906e-01,  5.61643836e-01,\n",
              "          1.81818182e-01, -3.01180025e-01,  1.02446982e+00,\n",
              "          9.30563798e-01,  0.00000000e+00, -1.65089909e-01,\n",
              "         -6.93412580e-03],\n",
              "        [ 1.77850380e+00, -2.92763744e-01,  9.52054795e-01,\n",
              "         -7.87878788e-01, -2.52340021e-01, -5.30995106e+00,\n",
              "          1.89376855e+00,  1.27781524e-01,  7.05203607e-02,\n",
              "         -4.67558197e-01],\n",
              "        [ 3.39633999e+02, -1.45508961e-01, -3.08219178e-02,\n",
              "          1.44319700e-01,  8.37199987e-01,  7.81402936e-01,\n",
              "          2.08308605e-01, -6.45987862e-01, -3.41565329e-02,\n",
              "          8.17731550e-01],\n",
              "        [-3.01281667e-01,  1.03112908e+01, -3.08219178e-02,\n",
              "          0.00000000e+00, -4.80260040e-01,  1.04241436e+00,\n",
              "          8.11275964e-01,  1.63519892e-01, -2.73818716e-01,\n",
              "         -5.12630015e-01],\n",
              "        [-1.27091764e-01, -3.86788755e-01, -5.47945205e-02,\n",
              "          0.00000000e+00, -4.89823178e-01, -1.87601958e+00,\n",
              "         -1.78041543e-02, -4.54821308e-01, -2.54276412e-02,\n",
              "          9.90589401e-04],\n",
              "        [ 1.13264922e+00,  6.74030000e-01,  1.89726027e+00,\n",
              "         -6.06060606e-01, -1.62800013e-01, -1.62479608e+00,\n",
              "          1.01424332e+00, -4.43695212e-01, -2.53137861e-01,\n",
              "          8.32095097e-02],\n",
              "        [-8.29294384e-02,  2.06338076e-01, -2.29180821e-01,\n",
              "          4.38749734e-01,  4.42532387e-01,  6.96422630e-03,\n",
              "         -7.72107134e-02, -6.11974688e-02, -1.69858596e-01,\n",
              "         -7.23388439e-01],\n",
              "        [ 1.50225980e-01,  1.16924502e+01, -1.47260274e-01,\n",
              "         -5.15151515e-01, -1.13960009e-01,  7.24306688e-01,\n",
              "          1.20474777e+00,  3.03438975e-01, -2.09777718e-01,\n",
              "         -4.77959386e-01],\n",
              "        [-3.19887719e-01, -2.41814230e-01,  5.51369863e-01,\n",
              "          7.87878788e-01,  4.30606035e+00, -1.63132137e-01,\n",
              "          1.82195846e-01, -6.72000262e-01,  2.77540806e+00,\n",
              "          2.65824666e+00],\n",
              "        [ 1.16124975e+00,  7.54373463e-01,  6.98630137e-01,\n",
              "         -1.33333333e+00, -4.63980038e-01, -1.22675367e+00,\n",
              "         -6.17210682e-01,  2.92312879e-01,  9.18431218e-02,\n",
              "          3.86329866e-02],\n",
              "        [ 1.42758606e-01, -1.34178929e-01,  3.73287671e-01,\n",
              "         -4.24242424e-01, -5.69800047e-02,  4.12724307e-01,\n",
              "          1.81008902e-01,  3.47606204e-01, -1.61434095e-01,\n",
              "         -3.31847449e-01],\n",
              "        [ 6.92806297e-01,  4.80671251e-01, -1.71232877e-01,\n",
              "          5.75757576e-01,  1.32682011e+00, -1.35399674e-01,\n",
              "          1.36498516e-01,  1.85434929e-02, -1.94588962e-01,\n",
              "         -1.71371966e-01],\n",
              "        [ 1.43524866e+00,  0.00000000e+00, -3.08219178e-01,\n",
              "         -1.39393939e+00, -4.55840038e-01, -1.22349103e-01,\n",
              "         -1.88724036e-01, -5.63047876e-01, -1.41559853e-01,\n",
              "          5.10153541e-02],\n",
              "        [ 4.41697568e-02, -1.05212527e-01, -3.11643836e-01,\n",
              "          3.63636364e-01, -2.44200020e-02, -9.78792822e-03,\n",
              "          1.53115727e-01,  2.02292650e-01, -1.87746365e-01,\n",
              "         -7.24616147e-01],\n",
              "        [ 1.35340039e-01, -2.32657569e-02,  8.69863014e-01,\n",
              "         -2.12121212e-01,  1.05820009e-01, -6.85154976e-02,\n",
              "          9.86350148e-01, -5.50343405e-01,  9.50690166e-01,\n",
              "          6.86973749e-01],\n",
              "        [-6.47215928e-02, -4.38864715e-01, -5.93024653e-03,\n",
              "         -2.70234243e-01, -9.45789581e-03, -1.09480897e+00,\n",
              "         -1.05129107e-01, -5.39909561e-01,  8.82892212e-02,\n",
              "         -1.45650637e-01],\n",
              "        [-2.12356477e-01,  5.46869990e-01,  6.84931507e-03,\n",
              "         -3.03030303e-02,  2.84900023e-01,  7.24306688e-01,\n",
              "         -4.03560831e-02,  4.38300742e-03,  3.11659659e-01,\n",
              "         -3.13026251e-01],\n",
              "        [ 1.47395211e-01,  4.77429009e-03, -1.23287671e-01,\n",
              "         -3.33333333e-01,  8.14000067e-03,  5.31810767e-01,\n",
              "         -3.24932936e-01,  4.49763992e-01,  7.58654548e-01,\n",
              "         -1.81773155e-01],\n",
              "        [ 3.05599667e-01,  4.97129273e-02,  5.14453247e-01,\n",
              "          5.68657516e-02,  7.32486476e-02,  4.55360503e-01,\n",
              "         -6.07571752e-01, -4.42820463e-01, -9.75000238e-02,\n",
              "         -1.93361310e-01],\n",
              "        [-3.15830057e-01,  8.97032102e-01, -4.10958904e-02,\n",
              "          8.18181818e-01,  2.17338018e+00,  3.26264274e-02,\n",
              "         -2.31454006e-02, -4.05259609e-01, -1.59369774e-01,\n",
              "          1.34224864e-01]]),\n",
              " array([[-3.21048244e-01,  1.02437026e+00,  1.92123288e+00,\n",
              "          4.24242424e-01,  1.13960009e-01,  2.82055465e+00,\n",
              "          3.20771513e+00,  1.42144302e+00,  2.42890901e-02,\n",
              "         -3.00148588e-01],\n",
              "        [ 1.18438397e+00, -5.50789183e-01,  6.84931507e-03,\n",
              "          3.63636364e-01,  8.14000067e-03, -1.58238173e+00,\n",
              "          0.00000000e+00, -4.15374241e-01,  9.10840877e-03,\n",
              "          6.53789004e-02],\n",
              "        [-3.13630228e-01, -2.25389247e-01,  9.48630137e-01,\n",
              "         -1.30303030e+00, -1.05820009e-01,  7.37357259e-01,\n",
              "          1.04866469e+00, -6.63275815e-01,  1.25733993e+00,\n",
              "          1.05200594e+00],\n",
              "        [-3.07193703e-01, -1.06388285e-01,  3.76712329e-01,\n",
              "         -3.33333333e-01,  0.00000000e+00, -5.22022838e-01,\n",
              "          1.23442136e-01,  1.25118004e+00, -6.82758936e-02,\n",
              "          1.64239723e+00],\n",
              "        [-5.71522489e-02, -4.45184737e-01,  0.00000000e+00,\n",
              "         -3.03030303e-01,  4.88400040e-02, -1.00000000e+00,\n",
              "         -1.15727003e-01, -5.50236008e-01,  1.02090082e-01,\n",
              "         -1.63447251e-01],\n",
              "        [ 1.34149164e+00, -2.89628389e-01, -6.84931507e-03,\n",
              "         -4.54545455e-01, -7.32600060e-02,  1.03262643e+00,\n",
              "         -7.65578635e-02,  1.41469993e+00, -1.29516698e-01,\n",
              "          6.84001981e-01],\n",
              "        [ 6.79774998e-01, -4.04852674e-01,  1.02397260e+00,\n",
              "         -1.81818182e-01,  1.30240011e-01,  3.65415987e-01,\n",
              "         -3.96439169e-01, -4.96965610e-01, -1.65978140e-01,\n",
              "          1.53541357e-02],\n",
              "        [ 8.39713444e-01,  1.23818007e+00,  8.08219178e-01,\n",
              "         -5.15151515e-01, -1.13960009e-01,  2.70636215e+00,\n",
              "          1.43026706e+00,  6.83749157e-01,  9.49931132e-01,\n",
              "          8.58345716e-01],\n",
              "        [-1.35681684e-01,  7.65739124e-01, -1.06164384e-01,\n",
              "          7.57575758e-01,  1.99430016e+00, -1.68026101e-01,\n",
              "         -3.73887240e-01, -4.75050573e-01,  0.00000000e+00,\n",
              "         -6.24071322e-02],\n",
              "        [-3.20151180e-01, -1.42088574e-01,  1.19863014e+00,\n",
              "          9.09090909e-01,  3.06878025e+00, -7.66721044e-02,\n",
              "          3.91691395e-02, -5.13823331e-01,  2.00954269e+00,\n",
              "          1.92075285e+00],\n",
              "        [-3.01976282e-01, -4.98806427e-04, -5.47945205e-02,\n",
              "         -2.42424242e-01,  7.32600060e-02, -3.75203915e-02,\n",
              "         -4.51038576e-02,  1.70734997e+00,  1.06302721e+00,\n",
              "          9.36602278e-01],\n",
              "        [ 8.53135193e-01,  1.69131008e+00, -3.11643836e-01,\n",
              "          1.72727273e-01, -2.52340021e-01, -1.66721044e+00,\n",
              "         -4.62908012e-02,  5.39447067e-01,  8.40630226e-01,\n",
              "         -7.13224368e-01],\n",
              "        [-5.72986680e-02, -1.99522571e-02, -3.15068493e-01,\n",
              "          3.03030303e-01, -1.22100010e-01,  1.77814029e-01,\n",
              "         -3.55489614e-01,  4.63250169e-01,  7.66624405e-02,\n",
              "          1.31748390e-01],\n",
              "        [ 0.00000000e+00, -3.18095985e-01, -1.30136986e-01,\n",
              "          7.27272727e-01,  1.75824014e+00, -6.59053834e-01,\n",
              "         -5.00296736e-01,  1.03843560e+00, -1.71886078e-01,\n",
              "         -4.50222883e-01],\n",
              "        [ 4.37793060e-02,  1.90259023e-02,  1.28972603e+01,\n",
              "          3.03030303e-01, -4.07000033e-02,  7.04078303e+00,\n",
              "          8.20178042e-01,  1.02393796e+00,  9.38166104e-01,\n",
              "          6.94898465e-01],\n",
              "        [-3.14337694e-01,  5.04079524e-01,  0.00000000e+00,\n",
              "          6.06060606e-01,  1.47334012e+00,  0.00000000e+00,\n",
              "         -2.57566766e-01, -6.58125421e-01, -8.91865026e-02,\n",
              "         -5.44824170e-03],\n",
              "        [-3.19986422e-01,  6.28816760e-01, -3.08219178e-01,\n",
              "          1.09090909e+00, -4.63980038e-01, -4.20880914e-01,\n",
              "         -3.32344214e-01, -6.64628769e-01,  4.09878395e-02,\n",
              "         -2.21396731e-01],\n",
              "        [-1.75312449e-01,  6.33947340e-01, -1.40410959e-01,\n",
              "          3.63636364e-01,  0.00000000e+00,  5.70962480e-01,\n",
              "         -8.78931751e-01, -3.73229939e-01, -9.48792581e-03,\n",
              "         -4.61614661e-01],\n",
              "        [-3.14760156e-01,  7.74610753e-01, -7.87671233e-02,\n",
              "          5.75757576e-01,  1.29426011e+00,  3.75203915e-02,\n",
              "         -4.97329377e-01, -5.41807148e-01, -1.37231054e-01,\n",
              "         -7.21149084e-01],\n",
              "        [-8.39699630e-02, -4.22793293e-01, -2.10104942e-02,\n",
              "         -1.86835903e-01, -1.57705825e-01, -1.33590228e+00,\n",
              "         -7.81793171e-02, -5.13650051e-01,  5.31944924e-02,\n",
              "         -1.00394956e-01],\n",
              "        [ 1.42856219e-01,  1.08244558e+00,  1.57534247e+00,\n",
              "         -4.84848485e-01, -1.05820009e-01,  9.78792822e-03,\n",
              "          8.39169139e-01,  3.65475388e-01,  8.12166449e-02,\n",
              "         -2.34274393e-01],\n",
              "        [-1.24550356e-01, -3.88910704e-01, -5.28034389e-02,\n",
              "         -1.10112847e-02, -4.70249645e-01, -1.84418744e+00,\n",
              "         -2.13624003e-02, -4.58288415e-01, -2.07939991e-02,\n",
              "         -4.98462779e-03],\n",
              "        [ 1.75820035e+00, -3.13571098e-01,  1.51369863e+00,\n",
              "         -1.30303030e+00, -3.50020029e-01,  3.34910277e+00,\n",
              "          1.33649852e+00, -5.90148410e-01,  1.29377356e+00,\n",
              "          1.12580485e+00],\n",
              "        [-1.02200520e-01, -1.41457940e+00,  1.02739726e-02,\n",
              "          5.45454545e-01,  1.14774009e+00, -1.50407830e+00,\n",
              "         -8.51632047e-01, -5.92480831e-01, -1.73395863e-01,\n",
              "         -5.51263001e-01],\n",
              "        [-3.19705196e-01,  2.55282004e+00, -1.30136986e-01,\n",
              "          1.00000000e+00,  4.43630037e+00, -4.29037520e-01,\n",
              "         -1.60830861e-01, -6.73109657e-01,  1.19737624e+00,\n",
              "          1.04606241e+00],\n",
              "        [ 1.95210803e+00, -1.28763316e-01,  1.34589041e+00,\n",
              "         -1.33333333e+00, -4.39560036e-01,  4.24143556e-02,\n",
              "         -2.96735905e-03,  8.98179366e-01, -1.59901307e-01,\n",
              "         -2.92719168e-01]]),\n",
              " array([0, 1, 0, 1, 0, 0, 1, 1, 0, 1, 1, 1, 1, 1, 0, 1, 0, 1, 1, 1, 0, 1,\n",
              "        0, 0, 1, 0]),\n",
              " array([0, 1, 0, 0, 1, 0, 1, 0, 0, 0, 1, 1, 0, 1, 0, 0, 0, 1, 1, 1, 0, 1,\n",
              "        0, 1, 0, 0]))"
            ]
          },
          "metadata": {},
          "execution_count": 36
        }
      ],
      "source": [
        "X_train, X_test, Y_train, Y_test = train_test_split(X,Y, test_size=0.5, random_state=0)\n",
        "X_train, X_test, Y_train, Y_test"
      ]
    },
    {
      "cell_type": "markdown",
      "metadata": {
        "id": "ZRh9VItFJse9"
      },
      "source": [
        "**Model DBN** "
      ]
    },
    {
      "cell_type": "code",
      "execution_count": 37,
      "metadata": {
        "id": "K7jVDyIxki8K"
      },
      "outputs": [],
      "source": [
        "logistic = linear_model.LogisticRegression(C=6000.0,solver=\"newton-cg\", tol=1)\n",
        "rbm1 = BernoulliRBM(n_components=100, learning_rate=0.06, n_iter=180, verbose=True, random_state=0)\n",
        "rbm2 = BernoulliRBM(n_components=50, learning_rate=0.06, n_iter=160, verbose=True, random_state=0)\n",
        "rbm3 = BernoulliRBM(n_components=25, learning_rate=0.06, n_iter=120, verbose=True, random_state=0)\n",
        "DBN3 = Pipeline(steps=[('rbm1', rbm1),('rbm2', rbm2),('rbm3', rbm3), ('logistic', logistic)])"
      ]
    },
    {
      "cell_type": "code",
      "execution_count": 38,
      "metadata": {
        "colab": {
          "base_uri": "https://localhost:8080/",
          "height": 1000
        },
        "id": "xsilXoa4ksD_",
        "outputId": "d3e90bdc-58c5-4fe6-d418-7d378d38a11f"
      },
      "outputs": [
        {
          "output_type": "stream",
          "name": "stdout",
          "text": [
            "[BernoulliRBM] Iteration 1, pseudo-likelihood = -21.96, time = 0.00s\n",
            "[BernoulliRBM] Iteration 2, pseudo-likelihood = -63.13, time = 0.00s\n",
            "[BernoulliRBM] Iteration 3, pseudo-likelihood = -112.21, time = 0.00s\n",
            "[BernoulliRBM] Iteration 4, pseudo-likelihood = -163.59, time = 0.00s\n",
            "[BernoulliRBM] Iteration 5, pseudo-likelihood = -217.23, time = 0.00s\n",
            "[BernoulliRBM] Iteration 6, pseudo-likelihood = -270.54, time = 0.00s\n",
            "[BernoulliRBM] Iteration 7, pseudo-likelihood = -324.40, time = 0.00s\n",
            "[BernoulliRBM] Iteration 8, pseudo-likelihood = -379.41, time = 0.01s\n",
            "[BernoulliRBM] Iteration 9, pseudo-likelihood = -434.59, time = 0.00s\n",
            "[BernoulliRBM] Iteration 10, pseudo-likelihood = -489.58, time = 0.00s\n",
            "[BernoulliRBM] Iteration 11, pseudo-likelihood = -543.94, time = 0.00s\n",
            "[BernoulliRBM] Iteration 12, pseudo-likelihood = -599.01, time = 0.00s\n",
            "[BernoulliRBM] Iteration 13, pseudo-likelihood = -653.15, time = 0.00s\n",
            "[BernoulliRBM] Iteration 14, pseudo-likelihood = -709.89, time = 0.00s\n",
            "[BernoulliRBM] Iteration 15, pseudo-likelihood = -764.53, time = 0.00s\n",
            "[BernoulliRBM] Iteration 16, pseudo-likelihood = -818.73, time = 0.00s\n",
            "[BernoulliRBM] Iteration 17, pseudo-likelihood = -873.95, time = 0.00s\n",
            "[BernoulliRBM] Iteration 18, pseudo-likelihood = -928.70, time = 0.00s\n",
            "[BernoulliRBM] Iteration 19, pseudo-likelihood = -982.79, time = 0.00s\n",
            "[BernoulliRBM] Iteration 20, pseudo-likelihood = -1037.48, time = 0.00s\n",
            "[BernoulliRBM] Iteration 21, pseudo-likelihood = -1092.96, time = 0.00s\n",
            "[BernoulliRBM] Iteration 22, pseudo-likelihood = -1148.43, time = 0.00s\n",
            "[BernoulliRBM] Iteration 23, pseudo-likelihood = -1204.24, time = 0.00s\n",
            "[BernoulliRBM] Iteration 24, pseudo-likelihood = -1258.61, time = 0.00s\n",
            "[BernoulliRBM] Iteration 25, pseudo-likelihood = -1312.96, time = 0.00s\n",
            "[BernoulliRBM] Iteration 26, pseudo-likelihood = -1367.93, time = 0.00s\n",
            "[BernoulliRBM] Iteration 27, pseudo-likelihood = -1422.07, time = 0.00s\n",
            "[BernoulliRBM] Iteration 28, pseudo-likelihood = -1477.23, time = 0.00s\n",
            "[BernoulliRBM] Iteration 29, pseudo-likelihood = -1532.10, time = 0.00s\n",
            "[BernoulliRBM] Iteration 30, pseudo-likelihood = -1586.81, time = 0.00s\n",
            "[BernoulliRBM] Iteration 31, pseudo-likelihood = -1641.10, time = 0.00s\n",
            "[BernoulliRBM] Iteration 32, pseudo-likelihood = -1694.49, time = 0.00s\n",
            "[BernoulliRBM] Iteration 33, pseudo-likelihood = -1749.35, time = 0.00s\n",
            "[BernoulliRBM] Iteration 34, pseudo-likelihood = -1804.13, time = 0.00s\n",
            "[BernoulliRBM] Iteration 35, pseudo-likelihood = -1858.74, time = 0.00s\n",
            "[BernoulliRBM] Iteration 36, pseudo-likelihood = -1913.59, time = 0.00s\n",
            "[BernoulliRBM] Iteration 37, pseudo-likelihood = -1967.26, time = 0.00s\n",
            "[BernoulliRBM] Iteration 38, pseudo-likelihood = -2022.22, time = 0.00s\n",
            "[BernoulliRBM] Iteration 39, pseudo-likelihood = -2075.94, time = 0.00s\n",
            "[BernoulliRBM] Iteration 40, pseudo-likelihood = -2130.45, time = 0.00s\n",
            "[BernoulliRBM] Iteration 41, pseudo-likelihood = -2184.97, time = 0.00s\n",
            "[BernoulliRBM] Iteration 42, pseudo-likelihood = -2238.81, time = 0.00s\n",
            "[BernoulliRBM] Iteration 43, pseudo-likelihood = -2292.32, time = 0.00s\n",
            "[BernoulliRBM] Iteration 44, pseudo-likelihood = -2345.54, time = 0.00s\n",
            "[BernoulliRBM] Iteration 45, pseudo-likelihood = -2400.05, time = 0.00s\n",
            "[BernoulliRBM] Iteration 46, pseudo-likelihood = -2455.17, time = 0.00s\n",
            "[BernoulliRBM] Iteration 47, pseudo-likelihood = -2508.32, time = 0.00s\n",
            "[BernoulliRBM] Iteration 48, pseudo-likelihood = -2562.41, time = 0.00s\n",
            "[BernoulliRBM] Iteration 49, pseudo-likelihood = -2616.30, time = 0.00s\n",
            "[BernoulliRBM] Iteration 50, pseudo-likelihood = -2670.75, time = 0.01s\n",
            "[BernoulliRBM] Iteration 51, pseudo-likelihood = -2725.11, time = 0.00s\n",
            "[BernoulliRBM] Iteration 52, pseudo-likelihood = -2779.06, time = 0.00s\n",
            "[BernoulliRBM] Iteration 53, pseudo-likelihood = -2831.98, time = 0.00s\n",
            "[BernoulliRBM] Iteration 54, pseudo-likelihood = -2885.47, time = 0.00s\n",
            "[BernoulliRBM] Iteration 55, pseudo-likelihood = -2939.62, time = 0.00s\n",
            "[BernoulliRBM] Iteration 56, pseudo-likelihood = -2993.49, time = 0.00s\n",
            "[BernoulliRBM] Iteration 57, pseudo-likelihood = -3047.29, time = 0.00s\n",
            "[BernoulliRBM] Iteration 58, pseudo-likelihood = -3100.84, time = 0.00s\n",
            "[BernoulliRBM] Iteration 59, pseudo-likelihood = -3154.43, time = 0.00s\n",
            "[BernoulliRBM] Iteration 60, pseudo-likelihood = -3208.84, time = 0.00s\n",
            "[BernoulliRBM] Iteration 61, pseudo-likelihood = -3261.65, time = 0.00s\n",
            "[BernoulliRBM] Iteration 62, pseudo-likelihood = -3315.20, time = 0.00s\n",
            "[BernoulliRBM] Iteration 63, pseudo-likelihood = -3368.17, time = 0.00s\n",
            "[BernoulliRBM] Iteration 64, pseudo-likelihood = -3421.41, time = 0.00s\n",
            "[BernoulliRBM] Iteration 65, pseudo-likelihood = -3476.43, time = 0.00s\n",
            "[BernoulliRBM] Iteration 66, pseudo-likelihood = -3531.76, time = 0.00s\n",
            "[BernoulliRBM] Iteration 67, pseudo-likelihood = -3584.60, time = 0.00s\n",
            "[BernoulliRBM] Iteration 68, pseudo-likelihood = -3638.48, time = 0.00s\n",
            "[BernoulliRBM] Iteration 69, pseudo-likelihood = -3691.14, time = 0.00s\n",
            "[BernoulliRBM] Iteration 70, pseudo-likelihood = -3744.80, time = 0.00s\n",
            "[BernoulliRBM] Iteration 71, pseudo-likelihood = -3798.91, time = 0.00s\n",
            "[BernoulliRBM] Iteration 72, pseudo-likelihood = -3853.49, time = 0.00s\n",
            "[BernoulliRBM] Iteration 73, pseudo-likelihood = -3906.87, time = 0.00s\n",
            "[BernoulliRBM] Iteration 74, pseudo-likelihood = -3960.22, time = 0.00s\n",
            "[BernoulliRBM] Iteration 75, pseudo-likelihood = -4012.13, time = 0.01s\n",
            "[BernoulliRBM] Iteration 76, pseudo-likelihood = -4065.21, time = 0.00s\n",
            "[BernoulliRBM] Iteration 77, pseudo-likelihood = -4119.65, time = 0.00s\n",
            "[BernoulliRBM] Iteration 78, pseudo-likelihood = -4174.25, time = 0.00s\n",
            "[BernoulliRBM] Iteration 79, pseudo-likelihood = -4228.06, time = 0.01s\n",
            "[BernoulliRBM] Iteration 80, pseudo-likelihood = -4281.11, time = 0.00s\n",
            "[BernoulliRBM] Iteration 81, pseudo-likelihood = -4334.73, time = 0.00s\n",
            "[BernoulliRBM] Iteration 82, pseudo-likelihood = -4387.36, time = 0.00s\n",
            "[BernoulliRBM] Iteration 83, pseudo-likelihood = -4441.66, time = 0.00s\n",
            "[BernoulliRBM] Iteration 84, pseudo-likelihood = -4495.67, time = 0.00s\n",
            "[BernoulliRBM] Iteration 85, pseudo-likelihood = -4549.98, time = 0.00s\n",
            "[BernoulliRBM] Iteration 86, pseudo-likelihood = -4602.95, time = 0.00s\n",
            "[BernoulliRBM] Iteration 87, pseudo-likelihood = -4655.21, time = 0.00s\n",
            "[BernoulliRBM] Iteration 88, pseudo-likelihood = -4708.16, time = 0.00s\n",
            "[BernoulliRBM] Iteration 89, pseudo-likelihood = -4760.84, time = 0.00s\n",
            "[BernoulliRBM] Iteration 90, pseudo-likelihood = -4814.26, time = 0.00s\n",
            "[BernoulliRBM] Iteration 91, pseudo-likelihood = -4868.76, time = 0.00s\n",
            "[BernoulliRBM] Iteration 92, pseudo-likelihood = -4923.72, time = 0.00s\n",
            "[BernoulliRBM] Iteration 93, pseudo-likelihood = -4977.38, time = 0.00s\n",
            "[BernoulliRBM] Iteration 94, pseudo-likelihood = -5030.34, time = 0.00s\n",
            "[BernoulliRBM] Iteration 95, pseudo-likelihood = -5083.94, time = 0.00s\n",
            "[BernoulliRBM] Iteration 96, pseudo-likelihood = -5137.30, time = 0.00s\n",
            "[BernoulliRBM] Iteration 97, pseudo-likelihood = -5190.84, time = 0.00s\n",
            "[BernoulliRBM] Iteration 98, pseudo-likelihood = -5243.96, time = 0.00s\n",
            "[BernoulliRBM] Iteration 99, pseudo-likelihood = -5295.92, time = 0.00s\n",
            "[BernoulliRBM] Iteration 100, pseudo-likelihood = -5349.34, time = 0.00s\n",
            "[BernoulliRBM] Iteration 101, pseudo-likelihood = -5403.83, time = 0.00s\n",
            "[BernoulliRBM] Iteration 102, pseudo-likelihood = -5458.38, time = 0.00s\n",
            "[BernoulliRBM] Iteration 103, pseudo-likelihood = -5512.69, time = 0.00s\n",
            "[BernoulliRBM] Iteration 104, pseudo-likelihood = -5567.10, time = 0.00s\n",
            "[BernoulliRBM] Iteration 105, pseudo-likelihood = -5620.04, time = 0.00s\n",
            "[BernoulliRBM] Iteration 106, pseudo-likelihood = -5672.85, time = 0.00s\n",
            "[BernoulliRBM] Iteration 107, pseudo-likelihood = -5725.54, time = 0.00s\n",
            "[BernoulliRBM] Iteration 108, pseudo-likelihood = -5778.74, time = 0.00s\n",
            "[BernoulliRBM] Iteration 109, pseudo-likelihood = -5831.90, time = 0.00s\n",
            "[BernoulliRBM] Iteration 110, pseudo-likelihood = -5885.00, time = 0.00s\n",
            "[BernoulliRBM] Iteration 111, pseudo-likelihood = -5939.01, time = 0.00s\n",
            "[BernoulliRBM] Iteration 112, pseudo-likelihood = -5991.86, time = 0.00s\n",
            "[BernoulliRBM] Iteration 113, pseudo-likelihood = -6045.87, time = 0.00s\n",
            "[BernoulliRBM] Iteration 114, pseudo-likelihood = -6099.81, time = 0.00s\n",
            "[BernoulliRBM] Iteration 115, pseudo-likelihood = -6152.95, time = 0.00s\n",
            "[BernoulliRBM] Iteration 116, pseudo-likelihood = -6206.64, time = 0.00s\n",
            "[BernoulliRBM] Iteration 117, pseudo-likelihood = -6261.17, time = 0.00s\n",
            "[BernoulliRBM] Iteration 118, pseudo-likelihood = -6314.99, time = 0.00s\n",
            "[BernoulliRBM] Iteration 119, pseudo-likelihood = -6367.71, time = 0.00s\n",
            "[BernoulliRBM] Iteration 120, pseudo-likelihood = -6420.52, time = 0.00s\n",
            "[BernoulliRBM] Iteration 121, pseudo-likelihood = -6473.57, time = 0.00s\n",
            "[BernoulliRBM] Iteration 122, pseudo-likelihood = -6526.68, time = 0.00s\n",
            "[BernoulliRBM] Iteration 123, pseudo-likelihood = -6579.99, time = 0.00s\n",
            "[BernoulliRBM] Iteration 124, pseudo-likelihood = -6633.96, time = 0.00s\n",
            "[BernoulliRBM] Iteration 125, pseudo-likelihood = -6687.74, time = 0.00s\n",
            "[BernoulliRBM] Iteration 126, pseudo-likelihood = -6741.06, time = 0.00s\n",
            "[BernoulliRBM] Iteration 127, pseudo-likelihood = -6795.97, time = 0.00s\n",
            "[BernoulliRBM] Iteration 128, pseudo-likelihood = -6850.56, time = 0.00s\n",
            "[BernoulliRBM] Iteration 129, pseudo-likelihood = -6904.36, time = 0.00s\n",
            "[BernoulliRBM] Iteration 130, pseudo-likelihood = -6954.81, time = 0.00s\n",
            "[BernoulliRBM] Iteration 131, pseudo-likelihood = -7007.49, time = 0.00s\n",
            "[BernoulliRBM] Iteration 132, pseudo-likelihood = -7061.54, time = 0.00s\n",
            "[BernoulliRBM] Iteration 133, pseudo-likelihood = -7115.28, time = 0.00s\n",
            "[BernoulliRBM] Iteration 134, pseudo-likelihood = -7169.30, time = 0.00s\n",
            "[BernoulliRBM] Iteration 135, pseudo-likelihood = -7223.58, time = 0.00s\n",
            "[BernoulliRBM] Iteration 136, pseudo-likelihood = -7277.68, time = 0.00s\n",
            "[BernoulliRBM] Iteration 137, pseudo-likelihood = -7330.41, time = 0.00s\n",
            "[BernoulliRBM] Iteration 138, pseudo-likelihood = -7383.71, time = 0.00s\n",
            "[BernoulliRBM] Iteration 139, pseudo-likelihood = -7437.19, time = 0.00s\n",
            "[BernoulliRBM] Iteration 140, pseudo-likelihood = -7490.39, time = 0.00s\n",
            "[BernoulliRBM] Iteration 141, pseudo-likelihood = -7544.26, time = 0.00s\n",
            "[BernoulliRBM] Iteration 142, pseudo-likelihood = -7597.82, time = 0.00s\n",
            "[BernoulliRBM] Iteration 143, pseudo-likelihood = -7652.23, time = 0.00s\n",
            "[BernoulliRBM] Iteration 144, pseudo-likelihood = -7705.43, time = 0.00s\n",
            "[BernoulliRBM] Iteration 145, pseudo-likelihood = -7758.42, time = 0.00s\n",
            "[BernoulliRBM] Iteration 146, pseudo-likelihood = -7812.35, time = 0.00s\n",
            "[BernoulliRBM] Iteration 147, pseudo-likelihood = -7865.16, time = 0.00s\n",
            "[BernoulliRBM] Iteration 148, pseudo-likelihood = -7919.44, time = 0.00s\n",
            "[BernoulliRBM] Iteration 149, pseudo-likelihood = -7972.56, time = 0.00s\n",
            "[BernoulliRBM] Iteration 150, pseudo-likelihood = -8026.12, time = 0.00s\n",
            "[BernoulliRBM] Iteration 151, pseudo-likelihood = -8079.77, time = 0.00s\n",
            "[BernoulliRBM] Iteration 152, pseudo-likelihood = -8133.55, time = 0.00s\n",
            "[BernoulliRBM] Iteration 153, pseudo-likelihood = -8186.73, time = 0.00s\n",
            "[BernoulliRBM] Iteration 154, pseudo-likelihood = -8240.15, time = 0.00s\n",
            "[BernoulliRBM] Iteration 155, pseudo-likelihood = -8293.53, time = 0.00s\n",
            "[BernoulliRBM] Iteration 156, pseudo-likelihood = -8346.56, time = 0.00s\n",
            "[BernoulliRBM] Iteration 157, pseudo-likelihood = -8399.67, time = 0.00s\n",
            "[BernoulliRBM] Iteration 158, pseudo-likelihood = -8452.38, time = 0.00s\n",
            "[BernoulliRBM] Iteration 159, pseudo-likelihood = -8506.18, time = 0.00s\n",
            "[BernoulliRBM] Iteration 160, pseudo-likelihood = -8560.29, time = 0.00s\n",
            "[BernoulliRBM] Iteration 161, pseudo-likelihood = -8615.15, time = 0.00s\n",
            "[BernoulliRBM] Iteration 162, pseudo-likelihood = -8668.99, time = 0.00s\n",
            "[BernoulliRBM] Iteration 163, pseudo-likelihood = -8722.44, time = 0.00s\n",
            "[BernoulliRBM] Iteration 164, pseudo-likelihood = -8775.31, time = 0.00s\n",
            "[BernoulliRBM] Iteration 165, pseudo-likelihood = -8828.78, time = 0.00s\n",
            "[BernoulliRBM] Iteration 166, pseudo-likelihood = -8881.79, time = 0.00s\n",
            "[BernoulliRBM] Iteration 167, pseudo-likelihood = -8934.11, time = 0.00s\n",
            "[BernoulliRBM] Iteration 168, pseudo-likelihood = -8987.56, time = 0.00s\n",
            "[BernoulliRBM] Iteration 169, pseudo-likelihood = -9040.88, time = 0.00s\n",
            "[BernoulliRBM] Iteration 170, pseudo-likelihood = -9094.31, time = 0.00s\n",
            "[BernoulliRBM] Iteration 171, pseudo-likelihood = -9148.24, time = 0.00s\n",
            "[BernoulliRBM] Iteration 172, pseudo-likelihood = -9202.79, time = 0.00s\n",
            "[BernoulliRBM] Iteration 173, pseudo-likelihood = -9257.41, time = 0.00s\n",
            "[BernoulliRBM] Iteration 174, pseudo-likelihood = -9311.32, time = 0.00s\n",
            "[BernoulliRBM] Iteration 175, pseudo-likelihood = -9365.33, time = 0.00s\n",
            "[BernoulliRBM] Iteration 176, pseudo-likelihood = -9416.86, time = 0.00s\n",
            "[BernoulliRBM] Iteration 177, pseudo-likelihood = -9470.10, time = 0.00s\n",
            "[BernoulliRBM] Iteration 178, pseudo-likelihood = -9522.75, time = 0.00s\n",
            "[BernoulliRBM] Iteration 179, pseudo-likelihood = -9576.03, time = 0.00s\n",
            "[BernoulliRBM] Iteration 180, pseudo-likelihood = -9629.05, time = 0.00s\n",
            "[BernoulliRBM] Iteration 1, pseudo-likelihood = -64.94, time = 0.00s\n",
            "[BernoulliRBM] Iteration 2, pseudo-likelihood = -57.93, time = 0.00s\n",
            "[BernoulliRBM] Iteration 3, pseudo-likelihood = -53.38, time = 0.00s\n",
            "[BernoulliRBM] Iteration 4, pseudo-likelihood = -50.69, time = 0.00s\n",
            "[BernoulliRBM] Iteration 5, pseudo-likelihood = -47.82, time = 0.00s\n",
            "[BernoulliRBM] Iteration 6, pseudo-likelihood = -45.91, time = 0.00s\n",
            "[BernoulliRBM] Iteration 7, pseudo-likelihood = -45.17, time = 0.00s\n",
            "[BernoulliRBM] Iteration 8, pseudo-likelihood = -45.68, time = 0.00s\n",
            "[BernoulliRBM] Iteration 9, pseudo-likelihood = -44.68, time = 0.00s\n",
            "[BernoulliRBM] Iteration 10, pseudo-likelihood = -43.40, time = 0.01s\n",
            "[BernoulliRBM] Iteration 11, pseudo-likelihood = -41.12, time = 0.01s\n",
            "[BernoulliRBM] Iteration 12, pseudo-likelihood = -40.61, time = 0.00s\n",
            "[BernoulliRBM] Iteration 13, pseudo-likelihood = -40.00, time = 0.00s\n",
            "[BernoulliRBM] Iteration 14, pseudo-likelihood = -39.73, time = 0.00s\n",
            "[BernoulliRBM] Iteration 15, pseudo-likelihood = -38.88, time = 0.00s\n",
            "[BernoulliRBM] Iteration 16, pseudo-likelihood = -38.14, time = 0.00s\n",
            "[BernoulliRBM] Iteration 17, pseudo-likelihood = -37.99, time = 0.00s\n",
            "[BernoulliRBM] Iteration 18, pseudo-likelihood = -37.39, time = 0.00s\n",
            "[BernoulliRBM] Iteration 19, pseudo-likelihood = -37.30, time = 0.00s\n",
            "[BernoulliRBM] Iteration 20, pseudo-likelihood = -37.52, time = 0.00s\n",
            "[BernoulliRBM] Iteration 21, pseudo-likelihood = -37.17, time = 0.00s\n",
            "[BernoulliRBM] Iteration 22, pseudo-likelihood = -38.72, time = 0.00s\n",
            "[BernoulliRBM] Iteration 23, pseudo-likelihood = -38.54, time = 0.00s\n",
            "[BernoulliRBM] Iteration 24, pseudo-likelihood = -40.47, time = 0.00s\n",
            "[BernoulliRBM] Iteration 25, pseudo-likelihood = -39.68, time = 0.00s\n",
            "[BernoulliRBM] Iteration 26, pseudo-likelihood = -40.51, time = 0.00s\n",
            "[BernoulliRBM] Iteration 27, pseudo-likelihood = -40.20, time = 0.00s\n",
            "[BernoulliRBM] Iteration 28, pseudo-likelihood = -38.97, time = 0.00s\n",
            "[BernoulliRBM] Iteration 29, pseudo-likelihood = -39.13, time = 0.00s\n",
            "[BernoulliRBM] Iteration 30, pseudo-likelihood = -38.58, time = 0.00s\n",
            "[BernoulliRBM] Iteration 31, pseudo-likelihood = -38.75, time = 0.00s\n",
            "[BernoulliRBM] Iteration 32, pseudo-likelihood = -38.04, time = 0.00s\n",
            "[BernoulliRBM] Iteration 33, pseudo-likelihood = -37.90, time = 0.00s\n",
            "[BernoulliRBM] Iteration 34, pseudo-likelihood = -37.26, time = 0.00s\n",
            "[BernoulliRBM] Iteration 35, pseudo-likelihood = -39.36, time = 0.00s\n",
            "[BernoulliRBM] Iteration 36, pseudo-likelihood = -41.32, time = 0.00s\n",
            "[BernoulliRBM] Iteration 37, pseudo-likelihood = -40.95, time = 0.00s\n",
            "[BernoulliRBM] Iteration 38, pseudo-likelihood = -39.39, time = 0.00s\n",
            "[BernoulliRBM] Iteration 39, pseudo-likelihood = -37.55, time = 0.00s\n",
            "[BernoulliRBM] Iteration 40, pseudo-likelihood = -37.54, time = 0.00s\n",
            "[BernoulliRBM] Iteration 41, pseudo-likelihood = -37.97, time = 0.00s\n",
            "[BernoulliRBM] Iteration 42, pseudo-likelihood = -38.89, time = 0.00s\n",
            "[BernoulliRBM] Iteration 43, pseudo-likelihood = -38.47, time = 0.00s\n",
            "[BernoulliRBM] Iteration 44, pseudo-likelihood = -38.09, time = 0.00s\n",
            "[BernoulliRBM] Iteration 45, pseudo-likelihood = -37.78, time = 0.00s\n",
            "[BernoulliRBM] Iteration 46, pseudo-likelihood = -37.81, time = 0.00s\n",
            "[BernoulliRBM] Iteration 47, pseudo-likelihood = -38.62, time = 0.00s\n",
            "[BernoulliRBM] Iteration 48, pseudo-likelihood = -38.21, time = 0.00s\n",
            "[BernoulliRBM] Iteration 49, pseudo-likelihood = -36.92, time = 0.00s\n",
            "[BernoulliRBM] Iteration 50, pseudo-likelihood = -37.62, time = 0.00s\n",
            "[BernoulliRBM] Iteration 51, pseudo-likelihood = -36.91, time = 0.00s\n",
            "[BernoulliRBM] Iteration 52, pseudo-likelihood = -37.02, time = 0.00s\n",
            "[BernoulliRBM] Iteration 53, pseudo-likelihood = -36.08, time = 0.00s\n",
            "[BernoulliRBM] Iteration 54, pseudo-likelihood = -36.41, time = 0.00s\n",
            "[BernoulliRBM] Iteration 55, pseudo-likelihood = -37.37, time = 0.00s\n",
            "[BernoulliRBM] Iteration 56, pseudo-likelihood = -38.27, time = 0.00s\n",
            "[BernoulliRBM] Iteration 57, pseudo-likelihood = -37.80, time = 0.00s\n",
            "[BernoulliRBM] Iteration 58, pseudo-likelihood = -37.59, time = 0.00s\n",
            "[BernoulliRBM] Iteration 59, pseudo-likelihood = -38.75, time = 0.00s\n",
            "[BernoulliRBM] Iteration 60, pseudo-likelihood = -37.37, time = 0.00s\n",
            "[BernoulliRBM] Iteration 61, pseudo-likelihood = -38.01, time = 0.00s\n",
            "[BernoulliRBM] Iteration 62, pseudo-likelihood = -38.75, time = 0.00s\n",
            "[BernoulliRBM] Iteration 63, pseudo-likelihood = -37.94, time = 0.00s\n",
            "[BernoulliRBM] Iteration 64, pseudo-likelihood = -36.11, time = 0.00s\n",
            "[BernoulliRBM] Iteration 65, pseudo-likelihood = -36.05, time = 0.00s\n",
            "[BernoulliRBM] Iteration 66, pseudo-likelihood = -35.28, time = 0.00s\n",
            "[BernoulliRBM] Iteration 67, pseudo-likelihood = -39.27, time = 0.00s\n",
            "[BernoulliRBM] Iteration 68, pseudo-likelihood = -39.50, time = 0.00s\n",
            "[BernoulliRBM] Iteration 69, pseudo-likelihood = -38.81, time = 0.00s\n",
            "[BernoulliRBM] Iteration 70, pseudo-likelihood = -36.94, time = 0.00s\n",
            "[BernoulliRBM] Iteration 71, pseudo-likelihood = -36.73, time = 0.00s\n",
            "[BernoulliRBM] Iteration 72, pseudo-likelihood = -36.42, time = 0.00s\n",
            "[BernoulliRBM] Iteration 73, pseudo-likelihood = -36.40, time = 0.00s\n",
            "[BernoulliRBM] Iteration 74, pseudo-likelihood = -35.95, time = 0.00s\n",
            "[BernoulliRBM] Iteration 75, pseudo-likelihood = -36.95, time = 0.00s\n",
            "[BernoulliRBM] Iteration 76, pseudo-likelihood = -37.21, time = 0.00s\n",
            "[BernoulliRBM] Iteration 77, pseudo-likelihood = -37.70, time = 0.00s\n",
            "[BernoulliRBM] Iteration 78, pseudo-likelihood = -37.39, time = 0.00s\n",
            "[BernoulliRBM] Iteration 79, pseudo-likelihood = -36.18, time = 0.00s\n",
            "[BernoulliRBM] Iteration 80, pseudo-likelihood = -38.02, time = 0.00s\n",
            "[BernoulliRBM] Iteration 81, pseudo-likelihood = -37.74, time = 0.00s\n",
            "[BernoulliRBM] Iteration 82, pseudo-likelihood = -36.07, time = 0.00s\n",
            "[BernoulliRBM] Iteration 83, pseudo-likelihood = -36.42, time = 0.00s\n",
            "[BernoulliRBM] Iteration 84, pseudo-likelihood = -36.87, time = 0.00s\n",
            "[BernoulliRBM] Iteration 85, pseudo-likelihood = -38.03, time = 0.00s\n",
            "[BernoulliRBM] Iteration 86, pseudo-likelihood = -37.12, time = 0.00s\n",
            "[BernoulliRBM] Iteration 87, pseudo-likelihood = -36.25, time = 0.00s\n",
            "[BernoulliRBM] Iteration 88, pseudo-likelihood = -38.58, time = 0.00s\n",
            "[BernoulliRBM] Iteration 89, pseudo-likelihood = -39.72, time = 0.00s\n",
            "[BernoulliRBM] Iteration 90, pseudo-likelihood = -38.74, time = 0.00s\n",
            "[BernoulliRBM] Iteration 91, pseudo-likelihood = -36.73, time = 0.00s\n",
            "[BernoulliRBM] Iteration 92, pseudo-likelihood = -36.24, time = 0.00s\n",
            "[BernoulliRBM] Iteration 93, pseudo-likelihood = -35.23, time = 0.00s\n",
            "[BernoulliRBM] Iteration 94, pseudo-likelihood = -35.86, time = 0.00s\n",
            "[BernoulliRBM] Iteration 95, pseudo-likelihood = -34.08, time = 0.00s\n",
            "[BernoulliRBM] Iteration 96, pseudo-likelihood = -35.25, time = 0.00s\n",
            "[BernoulliRBM] Iteration 97, pseudo-likelihood = -34.20, time = 0.00s\n",
            "[BernoulliRBM] Iteration 98, pseudo-likelihood = -34.27, time = 0.00s\n",
            "[BernoulliRBM] Iteration 99, pseudo-likelihood = -35.11, time = 0.00s\n",
            "[BernoulliRBM] Iteration 100, pseudo-likelihood = -34.93, time = 0.00s\n",
            "[BernoulliRBM] Iteration 101, pseudo-likelihood = -34.09, time = 0.00s\n",
            "[BernoulliRBM] Iteration 102, pseudo-likelihood = -35.73, time = 0.00s\n",
            "[BernoulliRBM] Iteration 103, pseudo-likelihood = -34.68, time = 0.00s\n",
            "[BernoulliRBM] Iteration 104, pseudo-likelihood = -34.97, time = 0.00s\n",
            "[BernoulliRBM] Iteration 105, pseudo-likelihood = -32.82, time = 0.00s\n",
            "[BernoulliRBM] Iteration 106, pseudo-likelihood = -33.23, time = 0.00s\n",
            "[BernoulliRBM] Iteration 107, pseudo-likelihood = -31.45, time = 0.00s\n",
            "[BernoulliRBM] Iteration 108, pseudo-likelihood = -32.05, time = 0.00s\n",
            "[BernoulliRBM] Iteration 109, pseudo-likelihood = -32.44, time = 0.00s\n",
            "[BernoulliRBM] Iteration 110, pseudo-likelihood = -33.38, time = 0.00s\n",
            "[BernoulliRBM] Iteration 111, pseudo-likelihood = -31.26, time = 0.00s\n",
            "[BernoulliRBM] Iteration 112, pseudo-likelihood = -31.25, time = 0.00s\n",
            "[BernoulliRBM] Iteration 113, pseudo-likelihood = -32.69, time = 0.00s\n",
            "[BernoulliRBM] Iteration 114, pseudo-likelihood = -31.55, time = 0.00s\n",
            "[BernoulliRBM] Iteration 115, pseudo-likelihood = -31.75, time = 0.00s\n",
            "[BernoulliRBM] Iteration 116, pseudo-likelihood = -31.74, time = 0.00s\n",
            "[BernoulliRBM] Iteration 117, pseudo-likelihood = -31.01, time = 0.00s\n",
            "[BernoulliRBM] Iteration 118, pseudo-likelihood = -31.05, time = 0.00s\n",
            "[BernoulliRBM] Iteration 119, pseudo-likelihood = -31.93, time = 0.00s\n",
            "[BernoulliRBM] Iteration 120, pseudo-likelihood = -30.22, time = 0.00s\n",
            "[BernoulliRBM] Iteration 121, pseudo-likelihood = -30.20, time = 0.00s\n",
            "[BernoulliRBM] Iteration 122, pseudo-likelihood = -29.98, time = 0.00s\n",
            "[BernoulliRBM] Iteration 123, pseudo-likelihood = -30.53, time = 0.00s\n",
            "[BernoulliRBM] Iteration 124, pseudo-likelihood = -29.39, time = 0.00s\n",
            "[BernoulliRBM] Iteration 125, pseudo-likelihood = -30.35, time = 0.00s\n",
            "[BernoulliRBM] Iteration 126, pseudo-likelihood = -29.97, time = 0.00s\n",
            "[BernoulliRBM] Iteration 127, pseudo-likelihood = -27.49, time = 0.00s\n",
            "[BernoulliRBM] Iteration 128, pseudo-likelihood = -27.99, time = 0.00s\n",
            "[BernoulliRBM] Iteration 129, pseudo-likelihood = -27.98, time = 0.00s\n",
            "[BernoulliRBM] Iteration 130, pseudo-likelihood = -27.73, time = 0.00s\n",
            "[BernoulliRBM] Iteration 131, pseudo-likelihood = -28.34, time = 0.00s\n",
            "[BernoulliRBM] Iteration 132, pseudo-likelihood = -28.14, time = 0.00s\n",
            "[BernoulliRBM] Iteration 133, pseudo-likelihood = -27.76, time = 0.00s\n",
            "[BernoulliRBM] Iteration 134, pseudo-likelihood = -27.90, time = 0.00s\n",
            "[BernoulliRBM] Iteration 135, pseudo-likelihood = -28.02, time = 0.00s\n",
            "[BernoulliRBM] Iteration 136, pseudo-likelihood = -27.90, time = 0.00s\n",
            "[BernoulliRBM] Iteration 137, pseudo-likelihood = -26.74, time = 0.00s\n",
            "[BernoulliRBM] Iteration 138, pseudo-likelihood = -27.11, time = 0.00s\n",
            "[BernoulliRBM] Iteration 139, pseudo-likelihood = -28.17, time = 0.00s\n",
            "[BernoulliRBM] Iteration 140, pseudo-likelihood = -27.26, time = 0.00s\n",
            "[BernoulliRBM] Iteration 141, pseudo-likelihood = -27.45, time = 0.00s\n",
            "[BernoulliRBM] Iteration 142, pseudo-likelihood = -27.49, time = 0.00s\n",
            "[BernoulliRBM] Iteration 143, pseudo-likelihood = -26.99, time = 0.00s\n",
            "[BernoulliRBM] Iteration 144, pseudo-likelihood = -27.36, time = 0.00s\n",
            "[BernoulliRBM] Iteration 145, pseudo-likelihood = -28.19, time = 0.00s\n",
            "[BernoulliRBM] Iteration 146, pseudo-likelihood = -27.02, time = 0.00s\n",
            "[BernoulliRBM] Iteration 147, pseudo-likelihood = -26.30, time = 0.00s\n",
            "[BernoulliRBM] Iteration 148, pseudo-likelihood = -26.83, time = 0.00s\n",
            "[BernoulliRBM] Iteration 149, pseudo-likelihood = -26.74, time = 0.00s\n",
            "[BernoulliRBM] Iteration 150, pseudo-likelihood = -25.86, time = 0.00s\n",
            "[BernoulliRBM] Iteration 151, pseudo-likelihood = -27.10, time = 0.00s\n",
            "[BernoulliRBM] Iteration 152, pseudo-likelihood = -26.05, time = 0.00s\n",
            "[BernoulliRBM] Iteration 153, pseudo-likelihood = -25.29, time = 0.00s\n",
            "[BernoulliRBM] Iteration 154, pseudo-likelihood = -25.70, time = 0.00s\n",
            "[BernoulliRBM] Iteration 155, pseudo-likelihood = -25.84, time = 0.00s\n",
            "[BernoulliRBM] Iteration 156, pseudo-likelihood = -25.75, time = 0.00s\n",
            "[BernoulliRBM] Iteration 157, pseudo-likelihood = -25.48, time = 0.00s\n",
            "[BernoulliRBM] Iteration 158, pseudo-likelihood = -26.67, time = 0.00s\n",
            "[BernoulliRBM] Iteration 159, pseudo-likelihood = -26.78, time = 0.00s\n",
            "[BernoulliRBM] Iteration 160, pseudo-likelihood = -25.62, time = 0.00s\n",
            "[BernoulliRBM] Iteration 1, pseudo-likelihood = -33.09, time = 0.00s\n",
            "[BernoulliRBM] Iteration 2, pseudo-likelihood = -31.37, time = 0.00s\n",
            "[BernoulliRBM] Iteration 3, pseudo-likelihood = -29.78, time = 0.00s\n",
            "[BernoulliRBM] Iteration 4, pseudo-likelihood = -28.02, time = 0.00s\n",
            "[BernoulliRBM] Iteration 5, pseudo-likelihood = -26.98, time = 0.00s\n",
            "[BernoulliRBM] Iteration 6, pseudo-likelihood = -26.11, time = 0.00s\n",
            "[BernoulliRBM] Iteration 7, pseudo-likelihood = -25.17, time = 0.00s\n",
            "[BernoulliRBM] Iteration 8, pseudo-likelihood = -24.49, time = 0.00s\n",
            "[BernoulliRBM] Iteration 9, pseudo-likelihood = -23.80, time = 0.00s\n",
            "[BernoulliRBM] Iteration 10, pseudo-likelihood = -23.36, time = 0.00s\n",
            "[BernoulliRBM] Iteration 11, pseudo-likelihood = -23.08, time = 0.00s\n",
            "[BernoulliRBM] Iteration 12, pseudo-likelihood = -22.64, time = 0.00s\n",
            "[BernoulliRBM] Iteration 13, pseudo-likelihood = -22.33, time = 0.00s\n",
            "[BernoulliRBM] Iteration 14, pseudo-likelihood = -22.06, time = 0.00s\n",
            "[BernoulliRBM] Iteration 15, pseudo-likelihood = -21.86, time = 0.00s\n",
            "[BernoulliRBM] Iteration 16, pseudo-likelihood = -21.73, time = 0.00s\n",
            "[BernoulliRBM] Iteration 17, pseudo-likelihood = -21.56, time = 0.00s\n",
            "[BernoulliRBM] Iteration 18, pseudo-likelihood = -21.38, time = 0.00s\n",
            "[BernoulliRBM] Iteration 19, pseudo-likelihood = -21.29, time = 0.00s\n",
            "[BernoulliRBM] Iteration 20, pseudo-likelihood = -21.21, time = 0.00s\n",
            "[BernoulliRBM] Iteration 21, pseudo-likelihood = -21.15, time = 0.00s\n",
            "[BernoulliRBM] Iteration 22, pseudo-likelihood = -21.00, time = 0.00s\n",
            "[BernoulliRBM] Iteration 23, pseudo-likelihood = -20.81, time = 0.00s\n",
            "[BernoulliRBM] Iteration 24, pseudo-likelihood = -20.77, time = 0.00s\n",
            "[BernoulliRBM] Iteration 25, pseudo-likelihood = -20.65, time = 0.00s\n",
            "[BernoulliRBM] Iteration 26, pseudo-likelihood = -20.65, time = 0.00s\n",
            "[BernoulliRBM] Iteration 27, pseudo-likelihood = -20.60, time = 0.00s\n",
            "[BernoulliRBM] Iteration 28, pseudo-likelihood = -20.53, time = 0.00s\n",
            "[BernoulliRBM] Iteration 29, pseudo-likelihood = -20.41, time = 0.00s\n",
            "[BernoulliRBM] Iteration 30, pseudo-likelihood = -20.22, time = 0.00s\n",
            "[BernoulliRBM] Iteration 31, pseudo-likelihood = -20.06, time = 0.00s\n",
            "[BernoulliRBM] Iteration 32, pseudo-likelihood = -19.92, time = 0.00s\n",
            "[BernoulliRBM] Iteration 33, pseudo-likelihood = -19.79, time = 0.00s\n",
            "[BernoulliRBM] Iteration 34, pseudo-likelihood = -19.70, time = 0.00s\n",
            "[BernoulliRBM] Iteration 35, pseudo-likelihood = -19.61, time = 0.00s\n",
            "[BernoulliRBM] Iteration 36, pseudo-likelihood = -19.47, time = 0.00s\n",
            "[BernoulliRBM] Iteration 37, pseudo-likelihood = -19.39, time = 0.00s\n",
            "[BernoulliRBM] Iteration 38, pseudo-likelihood = -19.14, time = 0.00s\n",
            "[BernoulliRBM] Iteration 39, pseudo-likelihood = -18.92, time = 0.00s\n",
            "[BernoulliRBM] Iteration 40, pseudo-likelihood = -18.84, time = 0.00s\n",
            "[BernoulliRBM] Iteration 41, pseudo-likelihood = -18.70, time = 0.00s\n",
            "[BernoulliRBM] Iteration 42, pseudo-likelihood = -18.53, time = 0.00s\n",
            "[BernoulliRBM] Iteration 43, pseudo-likelihood = -18.42, time = 0.00s\n",
            "[BernoulliRBM] Iteration 44, pseudo-likelihood = -18.34, time = 0.00s\n",
            "[BernoulliRBM] Iteration 45, pseudo-likelihood = -18.20, time = 0.00s\n",
            "[BernoulliRBM] Iteration 46, pseudo-likelihood = -17.99, time = 0.00s\n",
            "[BernoulliRBM] Iteration 47, pseudo-likelihood = -17.86, time = 0.00s\n",
            "[BernoulliRBM] Iteration 48, pseudo-likelihood = -17.75, time = 0.00s\n",
            "[BernoulliRBM] Iteration 49, pseudo-likelihood = -17.66, time = 0.00s\n",
            "[BernoulliRBM] Iteration 50, pseudo-likelihood = -17.53, time = 0.00s\n",
            "[BernoulliRBM] Iteration 51, pseudo-likelihood = -17.48, time = 0.00s\n",
            "[BernoulliRBM] Iteration 52, pseudo-likelihood = -17.39, time = 0.00s\n",
            "[BernoulliRBM] Iteration 53, pseudo-likelihood = -17.45, time = 0.00s\n",
            "[BernoulliRBM] Iteration 54, pseudo-likelihood = -17.36, time = 0.00s\n",
            "[BernoulliRBM] Iteration 55, pseudo-likelihood = -17.24, time = 0.00s\n",
            "[BernoulliRBM] Iteration 56, pseudo-likelihood = -17.14, time = 0.00s\n",
            "[BernoulliRBM] Iteration 57, pseudo-likelihood = -17.11, time = 0.00s\n",
            "[BernoulliRBM] Iteration 58, pseudo-likelihood = -17.04, time = 0.00s\n",
            "[BernoulliRBM] Iteration 59, pseudo-likelihood = -17.06, time = 0.00s\n",
            "[BernoulliRBM] Iteration 60, pseudo-likelihood = -16.98, time = 0.00s\n",
            "[BernoulliRBM] Iteration 61, pseudo-likelihood = -16.97, time = 0.00s\n",
            "[BernoulliRBM] Iteration 62, pseudo-likelihood = -16.93, time = 0.00s\n",
            "[BernoulliRBM] Iteration 63, pseudo-likelihood = -16.90, time = 0.00s\n",
            "[BernoulliRBM] Iteration 64, pseudo-likelihood = -16.82, time = 0.00s\n",
            "[BernoulliRBM] Iteration 65, pseudo-likelihood = -16.76, time = 0.00s\n",
            "[BernoulliRBM] Iteration 66, pseudo-likelihood = -16.70, time = 0.00s\n",
            "[BernoulliRBM] Iteration 67, pseudo-likelihood = -16.75, time = 0.00s\n",
            "[BernoulliRBM] Iteration 68, pseudo-likelihood = -16.72, time = 0.00s\n",
            "[BernoulliRBM] Iteration 69, pseudo-likelihood = -16.65, time = 0.00s\n",
            "[BernoulliRBM] Iteration 70, pseudo-likelihood = -16.60, time = 0.00s\n",
            "[BernoulliRBM] Iteration 71, pseudo-likelihood = -16.54, time = 0.00s\n",
            "[BernoulliRBM] Iteration 72, pseudo-likelihood = -16.55, time = 0.00s\n",
            "[BernoulliRBM] Iteration 73, pseudo-likelihood = -16.50, time = 0.00s\n",
            "[BernoulliRBM] Iteration 74, pseudo-likelihood = -16.42, time = 0.00s\n",
            "[BernoulliRBM] Iteration 75, pseudo-likelihood = -16.28, time = 0.00s\n",
            "[BernoulliRBM] Iteration 76, pseudo-likelihood = -16.29, time = 0.00s\n",
            "[BernoulliRBM] Iteration 77, pseudo-likelihood = -16.35, time = 0.00s\n",
            "[BernoulliRBM] Iteration 78, pseudo-likelihood = -16.33, time = 0.00s\n",
            "[BernoulliRBM] Iteration 79, pseudo-likelihood = -16.47, time = 0.00s\n",
            "[BernoulliRBM] Iteration 80, pseudo-likelihood = -16.41, time = 0.00s\n",
            "[BernoulliRBM] Iteration 81, pseudo-likelihood = -16.37, time = 0.00s\n",
            "[BernoulliRBM] Iteration 82, pseudo-likelihood = -16.33, time = 0.00s\n",
            "[BernoulliRBM] Iteration 83, pseudo-likelihood = -16.26, time = 0.00s\n",
            "[BernoulliRBM] Iteration 84, pseudo-likelihood = -16.25, time = 0.00s\n",
            "[BernoulliRBM] Iteration 85, pseudo-likelihood = -16.30, time = 0.00s\n",
            "[BernoulliRBM] Iteration 86, pseudo-likelihood = -16.30, time = 0.00s\n",
            "[BernoulliRBM] Iteration 87, pseudo-likelihood = -16.20, time = 0.00s\n",
            "[BernoulliRBM] Iteration 88, pseudo-likelihood = -16.16, time = 0.00s\n",
            "[BernoulliRBM] Iteration 89, pseudo-likelihood = -16.07, time = 0.00s\n",
            "[BernoulliRBM] Iteration 90, pseudo-likelihood = -15.91, time = 0.00s\n",
            "[BernoulliRBM] Iteration 91, pseudo-likelihood = -15.83, time = 0.00s\n",
            "[BernoulliRBM] Iteration 92, pseudo-likelihood = -15.79, time = 0.00s\n",
            "[BernoulliRBM] Iteration 93, pseudo-likelihood = -15.69, time = 0.00s\n",
            "[BernoulliRBM] Iteration 94, pseudo-likelihood = -15.60, time = 0.00s\n",
            "[BernoulliRBM] Iteration 95, pseudo-likelihood = -15.53, time = 0.00s\n",
            "[BernoulliRBM] Iteration 96, pseudo-likelihood = -15.48, time = 0.00s\n",
            "[BernoulliRBM] Iteration 97, pseudo-likelihood = -15.39, time = 0.00s\n",
            "[BernoulliRBM] Iteration 98, pseudo-likelihood = -15.32, time = 0.00s\n",
            "[BernoulliRBM] Iteration 99, pseudo-likelihood = -15.15, time = 0.00s\n",
            "[BernoulliRBM] Iteration 100, pseudo-likelihood = -15.09, time = 0.00s\n",
            "[BernoulliRBM] Iteration 101, pseudo-likelihood = -15.03, time = 0.00s\n",
            "[BernoulliRBM] Iteration 102, pseudo-likelihood = -15.01, time = 0.00s\n",
            "[BernoulliRBM] Iteration 103, pseudo-likelihood = -15.04, time = 0.00s\n",
            "[BernoulliRBM] Iteration 104, pseudo-likelihood = -14.95, time = 0.00s\n",
            "[BernoulliRBM] Iteration 105, pseudo-likelihood = -14.89, time = 0.00s\n",
            "[BernoulliRBM] Iteration 106, pseudo-likelihood = -14.85, time = 0.00s\n",
            "[BernoulliRBM] Iteration 107, pseudo-likelihood = -14.77, time = 0.00s\n",
            "[BernoulliRBM] Iteration 108, pseudo-likelihood = -14.69, time = 0.00s\n",
            "[BernoulliRBM] Iteration 109, pseudo-likelihood = -14.72, time = 0.00s\n",
            "[BernoulliRBM] Iteration 110, pseudo-likelihood = -14.73, time = 0.00s\n",
            "[BernoulliRBM] Iteration 111, pseudo-likelihood = -14.71, time = 0.00s\n",
            "[BernoulliRBM] Iteration 112, pseudo-likelihood = -14.64, time = 0.00s\n",
            "[BernoulliRBM] Iteration 113, pseudo-likelihood = -14.68, time = 0.00s\n",
            "[BernoulliRBM] Iteration 114, pseudo-likelihood = -14.66, time = 0.00s\n",
            "[BernoulliRBM] Iteration 115, pseudo-likelihood = -14.64, time = 0.00s\n",
            "[BernoulliRBM] Iteration 116, pseudo-likelihood = -14.58, time = 0.00s\n",
            "[BernoulliRBM] Iteration 117, pseudo-likelihood = -14.55, time = 0.00s\n",
            "[BernoulliRBM] Iteration 118, pseudo-likelihood = -14.54, time = 0.00s\n",
            "[BernoulliRBM] Iteration 119, pseudo-likelihood = -14.44, time = 0.00s\n",
            "[BernoulliRBM] Iteration 120, pseudo-likelihood = -14.43, time = 0.00s\n"
          ]
        },
        {
          "output_type": "execute_result",
          "data": {
            "text/plain": [
              "Pipeline(steps=[('rbm1',\n",
              "                 BernoulliRBM(learning_rate=0.06, n_components=100, n_iter=180,\n",
              "                              random_state=0, verbose=True)),\n",
              "                ('rbm2',\n",
              "                 BernoulliRBM(learning_rate=0.06, n_components=50, n_iter=160,\n",
              "                              random_state=0, verbose=True)),\n",
              "                ('rbm3',\n",
              "                 BernoulliRBM(learning_rate=0.06, n_components=25, n_iter=120,\n",
              "                              random_state=0, verbose=True)),\n",
              "                ('logistic',\n",
              "                 LogisticRegression(C=6000.0, solver='newton-cg', tol=1))])"
            ],
            "text/html": [
              "<style>#sk-container-id-1 {color: black;background-color: white;}#sk-container-id-1 pre{padding: 0;}#sk-container-id-1 div.sk-toggleable {background-color: white;}#sk-container-id-1 label.sk-toggleable__label {cursor: pointer;display: block;width: 100%;margin-bottom: 0;padding: 0.3em;box-sizing: border-box;text-align: center;}#sk-container-id-1 label.sk-toggleable__label-arrow:before {content: \"▸\";float: left;margin-right: 0.25em;color: #696969;}#sk-container-id-1 label.sk-toggleable__label-arrow:hover:before {color: black;}#sk-container-id-1 div.sk-estimator:hover label.sk-toggleable__label-arrow:before {color: black;}#sk-container-id-1 div.sk-toggleable__content {max-height: 0;max-width: 0;overflow: hidden;text-align: left;background-color: #f0f8ff;}#sk-container-id-1 div.sk-toggleable__content pre {margin: 0.2em;color: black;border-radius: 0.25em;background-color: #f0f8ff;}#sk-container-id-1 input.sk-toggleable__control:checked~div.sk-toggleable__content {max-height: 200px;max-width: 100%;overflow: auto;}#sk-container-id-1 input.sk-toggleable__control:checked~label.sk-toggleable__label-arrow:before {content: \"▾\";}#sk-container-id-1 div.sk-estimator input.sk-toggleable__control:checked~label.sk-toggleable__label {background-color: #d4ebff;}#sk-container-id-1 div.sk-label input.sk-toggleable__control:checked~label.sk-toggleable__label {background-color: #d4ebff;}#sk-container-id-1 input.sk-hidden--visually {border: 0;clip: rect(1px 1px 1px 1px);clip: rect(1px, 1px, 1px, 1px);height: 1px;margin: -1px;overflow: hidden;padding: 0;position: absolute;width: 1px;}#sk-container-id-1 div.sk-estimator {font-family: monospace;background-color: #f0f8ff;border: 1px dotted black;border-radius: 0.25em;box-sizing: border-box;margin-bottom: 0.5em;}#sk-container-id-1 div.sk-estimator:hover {background-color: #d4ebff;}#sk-container-id-1 div.sk-parallel-item::after {content: \"\";width: 100%;border-bottom: 1px solid gray;flex-grow: 1;}#sk-container-id-1 div.sk-label:hover label.sk-toggleable__label {background-color: #d4ebff;}#sk-container-id-1 div.sk-serial::before {content: \"\";position: absolute;border-left: 1px solid gray;box-sizing: border-box;top: 0;bottom: 0;left: 50%;z-index: 0;}#sk-container-id-1 div.sk-serial {display: flex;flex-direction: column;align-items: center;background-color: white;padding-right: 0.2em;padding-left: 0.2em;position: relative;}#sk-container-id-1 div.sk-item {position: relative;z-index: 1;}#sk-container-id-1 div.sk-parallel {display: flex;align-items: stretch;justify-content: center;background-color: white;position: relative;}#sk-container-id-1 div.sk-item::before, #sk-container-id-1 div.sk-parallel-item::before {content: \"\";position: absolute;border-left: 1px solid gray;box-sizing: border-box;top: 0;bottom: 0;left: 50%;z-index: -1;}#sk-container-id-1 div.sk-parallel-item {display: flex;flex-direction: column;z-index: 1;position: relative;background-color: white;}#sk-container-id-1 div.sk-parallel-item:first-child::after {align-self: flex-end;width: 50%;}#sk-container-id-1 div.sk-parallel-item:last-child::after {align-self: flex-start;width: 50%;}#sk-container-id-1 div.sk-parallel-item:only-child::after {width: 0;}#sk-container-id-1 div.sk-dashed-wrapped {border: 1px dashed gray;margin: 0 0.4em 0.5em 0.4em;box-sizing: border-box;padding-bottom: 0.4em;background-color: white;}#sk-container-id-1 div.sk-label label {font-family: monospace;font-weight: bold;display: inline-block;line-height: 1.2em;}#sk-container-id-1 div.sk-label-container {text-align: center;}#sk-container-id-1 div.sk-container {/* jupyter's `normalize.less` sets `[hidden] { display: none; }` but bootstrap.min.css set `[hidden] { display: none !important; }` so we also need the `!important` here to be able to override the default hidden behavior on the sphinx rendered scikit-learn.org. See: https://github.com/scikit-learn/scikit-learn/issues/21755 */display: inline-block !important;position: relative;}#sk-container-id-1 div.sk-text-repr-fallback {display: none;}</style><div id=\"sk-container-id-1\" class=\"sk-top-container\"><div class=\"sk-text-repr-fallback\"><pre>Pipeline(steps=[(&#x27;rbm1&#x27;,\n",
              "                 BernoulliRBM(learning_rate=0.06, n_components=100, n_iter=180,\n",
              "                              random_state=0, verbose=True)),\n",
              "                (&#x27;rbm2&#x27;,\n",
              "                 BernoulliRBM(learning_rate=0.06, n_components=50, n_iter=160,\n",
              "                              random_state=0, verbose=True)),\n",
              "                (&#x27;rbm3&#x27;,\n",
              "                 BernoulliRBM(learning_rate=0.06, n_components=25, n_iter=120,\n",
              "                              random_state=0, verbose=True)),\n",
              "                (&#x27;logistic&#x27;,\n",
              "                 LogisticRegression(C=6000.0, solver=&#x27;newton-cg&#x27;, tol=1))])</pre><b>In a Jupyter environment, please rerun this cell to show the HTML representation or trust the notebook. <br />On GitHub, the HTML representation is unable to render, please try loading this page with nbviewer.org.</b></div><div class=\"sk-container\" hidden><div class=\"sk-item sk-dashed-wrapped\"><div class=\"sk-label-container\"><div class=\"sk-label sk-toggleable\"><input class=\"sk-toggleable__control sk-hidden--visually\" id=\"sk-estimator-id-1\" type=\"checkbox\" ><label for=\"sk-estimator-id-1\" class=\"sk-toggleable__label sk-toggleable__label-arrow\">Pipeline</label><div class=\"sk-toggleable__content\"><pre>Pipeline(steps=[(&#x27;rbm1&#x27;,\n",
              "                 BernoulliRBM(learning_rate=0.06, n_components=100, n_iter=180,\n",
              "                              random_state=0, verbose=True)),\n",
              "                (&#x27;rbm2&#x27;,\n",
              "                 BernoulliRBM(learning_rate=0.06, n_components=50, n_iter=160,\n",
              "                              random_state=0, verbose=True)),\n",
              "                (&#x27;rbm3&#x27;,\n",
              "                 BernoulliRBM(learning_rate=0.06, n_components=25, n_iter=120,\n",
              "                              random_state=0, verbose=True)),\n",
              "                (&#x27;logistic&#x27;,\n",
              "                 LogisticRegression(C=6000.0, solver=&#x27;newton-cg&#x27;, tol=1))])</pre></div></div></div><div class=\"sk-serial\"><div class=\"sk-item\"><div class=\"sk-estimator sk-toggleable\"><input class=\"sk-toggleable__control sk-hidden--visually\" id=\"sk-estimator-id-2\" type=\"checkbox\" ><label for=\"sk-estimator-id-2\" class=\"sk-toggleable__label sk-toggleable__label-arrow\">BernoulliRBM</label><div class=\"sk-toggleable__content\"><pre>BernoulliRBM(learning_rate=0.06, n_components=100, n_iter=180, random_state=0,\n",
              "             verbose=True)</pre></div></div></div><div class=\"sk-item\"><div class=\"sk-estimator sk-toggleable\"><input class=\"sk-toggleable__control sk-hidden--visually\" id=\"sk-estimator-id-3\" type=\"checkbox\" ><label for=\"sk-estimator-id-3\" class=\"sk-toggleable__label sk-toggleable__label-arrow\">BernoulliRBM</label><div class=\"sk-toggleable__content\"><pre>BernoulliRBM(learning_rate=0.06, n_components=50, n_iter=160, random_state=0,\n",
              "             verbose=True)</pre></div></div></div><div class=\"sk-item\"><div class=\"sk-estimator sk-toggleable\"><input class=\"sk-toggleable__control sk-hidden--visually\" id=\"sk-estimator-id-4\" type=\"checkbox\" ><label for=\"sk-estimator-id-4\" class=\"sk-toggleable__label sk-toggleable__label-arrow\">BernoulliRBM</label><div class=\"sk-toggleable__content\"><pre>BernoulliRBM(learning_rate=0.06, n_components=25, n_iter=120, random_state=0,\n",
              "             verbose=True)</pre></div></div></div><div class=\"sk-item\"><div class=\"sk-estimator sk-toggleable\"><input class=\"sk-toggleable__control sk-hidden--visually\" id=\"sk-estimator-id-5\" type=\"checkbox\" ><label for=\"sk-estimator-id-5\" class=\"sk-toggleable__label sk-toggleable__label-arrow\">LogisticRegression</label><div class=\"sk-toggleable__content\"><pre>LogisticRegression(C=6000.0, solver=&#x27;newton-cg&#x27;, tol=1)</pre></div></div></div></div></div></div></div>"
            ]
          },
          "metadata": {},
          "execution_count": 38
        }
      ],
      "source": [
        "DBN3.fit(X_train, Y_train)"
      ]
    },
    {
      "cell_type": "code",
      "execution_count": 39,
      "metadata": {
        "colab": {
          "base_uri": "https://localhost:8080/"
        },
        "id": "SIDhf_SLkyce",
        "outputId": "574dbe88-3789-435d-bb38-48c2d85fe6e3"
      },
      "outputs": [
        {
          "output_type": "stream",
          "name": "stdout",
          "text": [
            "Logistic regression using RBM features:\n",
            "              precision    recall  f1-score   support\n",
            "\n",
            "           0       0.00      0.00      0.00        15\n",
            "           1       0.42      1.00      0.59        11\n",
            "\n",
            "    accuracy                           0.42        26\n",
            "   macro avg       0.21      0.50      0.30        26\n",
            "weighted avg       0.18      0.42      0.25        26\n",
            "\n",
            "\n"
          ]
        },
        {
          "output_type": "stream",
          "name": "stderr",
          "text": [
            "/usr/local/lib/python3.10/dist-packages/sklearn/metrics/_classification.py:1344: UndefinedMetricWarning: Precision and F-score are ill-defined and being set to 0.0 in labels with no predicted samples. Use `zero_division` parameter to control this behavior.\n",
            "  _warn_prf(average, modifier, msg_start, len(result))\n",
            "/usr/local/lib/python3.10/dist-packages/sklearn/metrics/_classification.py:1344: UndefinedMetricWarning: Precision and F-score are ill-defined and being set to 0.0 in labels with no predicted samples. Use `zero_division` parameter to control this behavior.\n",
            "  _warn_prf(average, modifier, msg_start, len(result))\n",
            "/usr/local/lib/python3.10/dist-packages/sklearn/metrics/_classification.py:1344: UndefinedMetricWarning: Precision and F-score are ill-defined and being set to 0.0 in labels with no predicted samples. Use `zero_division` parameter to control this behavior.\n",
            "  _warn_prf(average, modifier, msg_start, len(result))\n"
          ]
        }
      ],
      "source": [
        "print(\"Logistic regression using RBM features:\\n%s\\n\" % (\n",
        "    metrics.classification_report(\n",
        "        Y_test,\n",
        "        DBN3.predict(X_test))))"
      ]
    },
    {
      "cell_type": "code",
      "execution_count": 40,
      "metadata": {
        "colab": {
          "base_uri": "https://localhost:8080/"
        },
        "id": "7mY9dtVw6AIS",
        "outputId": "02d26322-a225-4152-c23c-4a4ae9aaa366"
      },
      "outputs": [
        {
          "output_type": "execute_result",
          "data": {
            "text/plain": [
              "array([1, 1, 1, 1, 1, 1, 1, 1, 1, 1, 1, 1, 1, 1, 1, 1, 1, 1, 1, 1, 1, 1,\n",
              "       1, 1, 1, 1])"
            ]
          },
          "metadata": {},
          "execution_count": 40
        }
      ],
      "source": [
        "pred = DBN3.predict(X_test)\n",
        "pred"
      ]
    },
    {
      "cell_type": "code",
      "execution_count": 41,
      "metadata": {
        "id": "qRtU_5uo3x91"
      },
      "outputs": [],
      "source": [
        "actual = Y_test"
      ]
    },
    {
      "cell_type": "code",
      "execution_count": 42,
      "metadata": {
        "colab": {
          "base_uri": "https://localhost:8080/"
        },
        "id": "-P8gd2cF4w25",
        "outputId": "9e34e324-b2a0-4a33-9afd-73c99c8a928e"
      },
      "outputs": [
        {
          "output_type": "stream",
          "name": "stdout",
          "text": [
            "42.30769230769231 %\n"
          ]
        }
      ],
      "source": [
        "from sklearn.metrics import accuracy_score\n",
        "print(accuracy_score(actual,pred)*100,\"%\")"
      ]
    },
    {
      "cell_type": "markdown",
      "metadata": {
        "id": "RJqHq1SdJ_Iy"
      },
      "source": [
        "**Model RBM**"
      ]
    },
    {
      "cell_type": "code",
      "execution_count": 43,
      "metadata": {
        "colab": {
          "base_uri": "https://localhost:8080/"
        },
        "id": "DyqLK2HPHYBl",
        "outputId": "d54cb6d0-34fe-41de-d449-d3b4f73cbd2b"
      },
      "outputs": [
        {
          "output_type": "stream",
          "name": "stdout",
          "text": [
            "Looking in indexes: https://pypi.org/simple, https://us-python.pkg.dev/colab-wheels/public/simple/\n",
            "Collecting torchmetrics\n",
            "  Downloading torchmetrics-0.11.4-py3-none-any.whl (519 kB)\n",
            "\u001b[2K     \u001b[90m━━━━━━━━━━━━━━━━━━━━━━━━━━━━━━━━━━━━━━━\u001b[0m \u001b[32m519.2/519.2 kB\u001b[0m \u001b[31m9.3 MB/s\u001b[0m eta \u001b[36m0:00:00\u001b[0m\n",
            "\u001b[?25hRequirement already satisfied: torch>=1.8.1 in /usr/local/lib/python3.10/dist-packages (from torchmetrics) (2.0.0+cu118)\n",
            "Requirement already satisfied: packaging in /usr/local/lib/python3.10/dist-packages (from torchmetrics) (23.1)\n",
            "Requirement already satisfied: numpy>=1.17.2 in /usr/local/lib/python3.10/dist-packages (from torchmetrics) (1.22.4)\n",
            "Requirement already satisfied: filelock in /usr/local/lib/python3.10/dist-packages (from torch>=1.8.1->torchmetrics) (3.12.0)\n",
            "Requirement already satisfied: typing-extensions in /usr/local/lib/python3.10/dist-packages (from torch>=1.8.1->torchmetrics) (4.5.0)\n",
            "Requirement already satisfied: jinja2 in /usr/local/lib/python3.10/dist-packages (from torch>=1.8.1->torchmetrics) (3.1.2)\n",
            "Requirement already satisfied: networkx in /usr/local/lib/python3.10/dist-packages (from torch>=1.8.1->torchmetrics) (3.1)\n",
            "Requirement already satisfied: sympy in /usr/local/lib/python3.10/dist-packages (from torch>=1.8.1->torchmetrics) (1.11.1)\n",
            "Requirement already satisfied: triton==2.0.0 in /usr/local/lib/python3.10/dist-packages (from torch>=1.8.1->torchmetrics) (2.0.0)\n",
            "Requirement already satisfied: cmake in /usr/local/lib/python3.10/dist-packages (from triton==2.0.0->torch>=1.8.1->torchmetrics) (3.25.2)\n",
            "Requirement already satisfied: lit in /usr/local/lib/python3.10/dist-packages (from triton==2.0.0->torch>=1.8.1->torchmetrics) (16.0.2)\n",
            "Requirement already satisfied: MarkupSafe>=2.0 in /usr/local/lib/python3.10/dist-packages (from jinja2->torch>=1.8.1->torchmetrics) (2.1.2)\n",
            "Requirement already satisfied: mpmath>=0.19 in /usr/local/lib/python3.10/dist-packages (from sympy->torch>=1.8.1->torchmetrics) (1.3.0)\n",
            "Installing collected packages: torchmetrics\n",
            "Successfully installed torchmetrics-0.11.4\n"
          ]
        }
      ],
      "source": [
        "!pip install torchmetrics"
      ]
    },
    {
      "cell_type": "code",
      "execution_count": 44,
      "metadata": {
        "id": "tLyu5x96HvXh"
      },
      "outputs": [],
      "source": [
        "#Import Library\n",
        "import numpy as np\n",
        "import pandas as pd\n",
        "import torch\n",
        "import torch.nn as nn\n",
        "import torch.nn.parallel\n",
        "import torch.optim as optim\n",
        "import torch.utils.data\n",
        "from torch.autograd import Variable\n",
        "import warnings\n",
        "warnings.filterwarnings(\"ignore\")"
      ]
    },
    {
      "cell_type": "code",
      "execution_count": 45,
      "metadata": {
        "colab": {
          "base_uri": "https://localhost:8080/"
        },
        "id": "mvzjaDGSKGwb",
        "outputId": "73c7ce19-aa1e-4feb-da3a-2c018ad3fec7"
      },
      "outputs": [
        {
          "output_type": "execute_result",
          "data": {
            "text/plain": [
              "array([[ 1.47395211e-01,  4.77429009e-03, -1.23287671e-01,\n",
              "        -3.33333333e-01,  8.14000067e-03,  5.31810767e-01,\n",
              "        -3.24932936e-01,  4.49763992e-01,  7.58654548e-01,\n",
              "        -1.81773155e-01],\n",
              "       [-1.27091764e-01, -3.86788755e-01, -5.47945205e-02,\n",
              "         0.00000000e+00, -4.89823178e-01, -1.87601958e+00,\n",
              "        -1.78041543e-02, -4.54821308e-01, -2.54276412e-02,\n",
              "         9.90589401e-04],\n",
              "       [-5.71522489e-02, -4.45184737e-01,  0.00000000e+00,\n",
              "        -3.03030303e-01,  4.88400040e-02, -1.00000000e+00,\n",
              "        -1.15727003e-01, -5.50236008e-01,  1.02090082e-01,\n",
              "        -1.63447251e-01],\n",
              "       [-2.12356477e-01,  5.46869990e-01,  6.84931507e-03,\n",
              "        -3.03030303e-02,  2.84900023e-01,  7.24306688e-01,\n",
              "        -4.03560831e-02,  4.38300742e-03,  3.11659659e-01,\n",
              "        -3.13026251e-01],\n",
              "       [-3.20151180e-01, -1.42088574e-01,  1.19863014e+00,\n",
              "         9.09090909e-01,  3.06878025e+00, -7.66721044e-02,\n",
              "         3.91691395e-02, -5.13823331e-01,  2.00954269e+00,\n",
              "         1.92075285e+00],\n",
              "       [-3.19705196e-01,  2.55282004e+00, -1.30136986e-01,\n",
              "         1.00000000e+00,  4.43630037e+00, -4.29037520e-01,\n",
              "        -1.60830861e-01, -6.73109657e-01,  1.19737624e+00,\n",
              "         1.04606241e+00],\n",
              "       [-3.19887719e-01, -2.41814230e-01,  5.51369863e-01,\n",
              "         7.87878788e-01,  4.30606035e+00, -1.63132137e-01,\n",
              "         1.82195846e-01, -6.72000262e-01,  2.77540806e+00,\n",
              "         2.65824666e+00],\n",
              "       [-3.19986422e-01,  6.28816760e-01, -3.08219178e-01,\n",
              "         1.09090909e+00, -4.63980038e-01, -4.20880914e-01,\n",
              "        -3.32344214e-01, -6.64628769e-01,  4.09878395e-02,\n",
              "        -2.21396731e-01],\n",
              "       [-3.20041478e-01,  1.59432786e+00, -3.42465753e-03,\n",
              "         8.48484848e-01,  3.63044030e+00, -2.36541599e-01,\n",
              "        -1.42433234e-01, -6.69309951e-01,  1.22849663e+00,\n",
              "         1.06686478e+00],\n",
              "       [ 4.41697568e-02, -1.05212527e-01, -3.11643836e-01,\n",
              "         3.63636364e-01, -2.44200020e-02, -9.78792822e-03,\n",
              "         1.53115727e-01,  2.02292650e-01, -1.87746365e-01,\n",
              "        -7.24616147e-01],\n",
              "       [-3.01976282e-01, -4.98806427e-04, -5.47945205e-02,\n",
              "        -2.42424242e-01,  7.32600060e-02, -3.75203915e-02,\n",
              "        -4.51038576e-02,  1.70734997e+00,  1.06302721e+00,\n",
              "         9.36602278e-01],\n",
              "       [-3.13630228e-01, -2.25389247e-01,  9.48630137e-01,\n",
              "        -1.30303030e+00, -1.05820009e-01,  7.37357259e-01,\n",
              "         1.04866469e+00, -6.63275815e-01,  1.25733993e+00,\n",
              "         1.05200594e+00],\n",
              "       [ 1.13264922e+00,  6.74030000e-01,  1.89726027e+00,\n",
              "        -6.06060606e-01, -1.62800013e-01, -1.62479608e+00,\n",
              "         1.01424332e+00, -4.43695212e-01, -2.53137861e-01,\n",
              "         8.32095097e-02],\n",
              "       [-3.10534393e-01, -6.58068194e-02, -3.04794521e-01,\n",
              "         0.00000000e+00, -4.63980038e-01,  4.89396411e-02,\n",
              "         8.60534125e-02,  9.17397168e-01,  8.86931304e-01,\n",
              "         1.08964834e-02],\n",
              "       [-1.75312449e-01,  6.33947340e-01, -1.40410959e-01,\n",
              "         3.63636364e-01,  0.00000000e+00,  5.70962480e-01,\n",
              "        -8.78931751e-01, -3.73229939e-01, -9.48792581e-03,\n",
              "        -4.61614661e-01],\n",
              "       [-1.02200520e-01, -1.41457940e+00,  1.02739726e-02,\n",
              "         5.45454545e-01,  1.14774009e+00, -1.50407830e+00,\n",
              "        -8.51632047e-01, -5.92480831e-01, -1.73395863e-01,\n",
              "        -5.51263001e-01],\n",
              "       [ 6.83289056e-01,  1.41128728e+01,  9.55479452e-01,\n",
              "        -4.54545455e-01, -8.14000067e-02, -5.25285481e-01,\n",
              "         5.28189911e-02, -3.57720836e-01, -1.51427296e-01,\n",
              "        -3.32838039e-01],\n",
              "       [ 1.77850380e+00, -2.92763744e-01,  9.52054795e-01,\n",
              "        -7.87878788e-01, -2.52340021e-01, -5.30995106e+00,\n",
              "         1.89376855e+00,  1.27781524e-01,  7.05203607e-02,\n",
              "        -4.67558197e-01],\n",
              "       [ 1.42856219e-01,  1.08244558e+00,  1.57534247e+00,\n",
              "        -4.84848485e-01, -1.05820009e-01,  9.78792822e-03,\n",
              "         8.39169139e-01,  3.65475388e-01,  8.12166449e-02,\n",
              "        -2.34274393e-01],\n",
              "       [ 1.43524866e+00,  0.00000000e+00, -3.08219178e-01,\n",
              "        -1.39393939e+00, -4.55840038e-01, -1.22349103e-01,\n",
              "        -1.88724036e-01, -5.63047876e-01, -1.41559853e-01,\n",
              "         5.10153541e-02],\n",
              "       [-2.88787239e-01,  1.37499555e+00, -2.08904110e-01,\n",
              "        -6.06060606e-02,  2.44200020e-01,  2.51223491e-01,\n",
              "         2.11275964e-01,  2.51180040e-01, -8.31142301e-02,\n",
              "         0.00000000e+00],\n",
              "       [ 6.92806297e-01,  4.80671251e-01, -1.71232877e-01,\n",
              "         5.75757576e-01,  1.32682011e+00, -1.35399674e-01,\n",
              "         1.36498516e-01,  1.85434929e-02, -1.94588962e-01,\n",
              "        -1.71371966e-01],\n",
              "       [ 8.53135193e-01,  1.69131008e+00, -3.11643836e-01,\n",
              "         1.72727273e-01, -2.52340021e-01, -1.66721044e+00,\n",
              "        -4.62908012e-02,  5.39447067e-01,  8.40630226e-01,\n",
              "        -7.13224368e-01],\n",
              "       [ 1.16124975e+00,  7.54373463e-01,  6.98630137e-01,\n",
              "        -1.33333333e+00, -4.63980038e-01, -1.22675367e+00,\n",
              "        -6.17210682e-01,  2.92312879e-01,  9.18431218e-02,\n",
              "         3.86329866e-02],\n",
              "       [ 1.50225980e-01,  1.16924502e+01, -1.47260274e-01,\n",
              "        -5.15151515e-01, -1.13960009e-01,  7.24306688e-01,\n",
              "         1.20474777e+00,  3.03438975e-01, -2.09777718e-01,\n",
              "        -4.77959386e-01],\n",
              "       [ 6.84265183e-02, -6.17949906e-01,  5.61643836e-01,\n",
              "         1.81818182e-01, -3.01180025e-01,  1.02446982e+00,\n",
              "         9.30563798e-01,  0.00000000e+00, -1.65089909e-01,\n",
              "        -6.93412580e-03],\n",
              "       [-1.35681684e-01,  7.65739124e-01, -1.06164384e-01,\n",
              "         7.57575758e-01,  1.99430016e+00, -1.68026101e-01,\n",
              "        -3.73887240e-01, -4.75050573e-01,  0.00000000e+00,\n",
              "        -6.24071322e-02],\n",
              "       [ 1.95210803e+00, -1.28763316e-01,  1.34589041e+00,\n",
              "        -1.33333333e+00, -4.39560036e-01,  4.24143556e-02,\n",
              "        -2.96735905e-03,  8.98179366e-01, -1.59901307e-01,\n",
              "        -2.92719168e-01],\n",
              "       [-3.21048244e-01,  1.02437026e+00,  1.92123288e+00,\n",
              "         4.24242424e-01,  1.13960009e-01,  2.82055465e+00,\n",
              "         3.20771513e+00,  1.42144302e+00,  2.42890901e-02,\n",
              "        -3.00148588e-01],\n",
              "       [ 0.00000000e+00, -3.18095985e-01, -1.30136986e-01,\n",
              "         7.27272727e-01,  1.75824014e+00, -6.59053834e-01,\n",
              "        -5.00296736e-01,  1.03843560e+00, -1.71886078e-01,\n",
              "        -4.50222883e-01],\n",
              "       [ 1.34149164e+00, -2.89628389e-01, -6.84931507e-03,\n",
              "        -4.54545455e-01, -7.32600060e-02,  1.03262643e+00,\n",
              "        -7.65578635e-02,  1.41469993e+00, -1.29516698e-01,\n",
              "         6.84001981e-01],\n",
              "       [-5.72986680e-02, -1.99522571e-02, -3.15068493e-01,\n",
              "         3.03030303e-01, -1.22100010e-01,  1.77814029e-01,\n",
              "        -3.55489614e-01,  4.63250169e-01,  7.66624405e-02,\n",
              "         1.31748390e-01],\n",
              "       [ 8.39713444e-01,  1.23818007e+00,  8.08219178e-01,\n",
              "        -5.15151515e-01, -1.13960009e-01,  2.70636215e+00,\n",
              "         1.43026706e+00,  6.83749157e-01,  9.49931132e-01,\n",
              "         8.58345716e-01],\n",
              "       [-3.14760156e-01,  7.74610753e-01, -7.87671233e-02,\n",
              "         5.75757576e-01,  1.29426011e+00,  3.75203915e-02,\n",
              "        -4.97329377e-01, -5.41807148e-01, -1.37231054e-01,\n",
              "        -7.21149084e-01],\n",
              "       [-3.07193703e-01, -1.06388285e-01,  3.76712329e-01,\n",
              "        -3.33333333e-01,  0.00000000e+00, -5.22022838e-01,\n",
              "         1.23442136e-01,  1.25118004e+00, -6.82758936e-02,\n",
              "         1.64239723e+00],\n",
              "       [ 1.75820035e+00, -3.13571098e-01,  1.51369863e+00,\n",
              "        -1.30303030e+00, -3.50020029e-01,  3.34910277e+00,\n",
              "         1.33649852e+00, -5.90148410e-01,  1.29377356e+00,\n",
              "         1.12580485e+00],\n",
              "       [ 1.42758606e-01, -1.34178929e-01,  3.73287671e-01,\n",
              "        -4.24242424e-01, -5.69800047e-02,  4.12724307e-01,\n",
              "         1.81008902e-01,  3.47606204e-01, -1.61434095e-01,\n",
              "        -3.31847449e-01],\n",
              "       [ 1.18438397e+00, -5.50789183e-01,  6.84931507e-03,\n",
              "         3.63636364e-01,  8.14000067e-03, -1.58238173e+00,\n",
              "         0.00000000e+00, -4.15374241e-01,  9.10840877e-03,\n",
              "         6.53789004e-02],\n",
              "       [ 3.39633999e+02, -1.45508961e-01, -3.08219178e-02,\n",
              "         1.44319700e-01,  8.37199987e-01,  7.81402936e-01,\n",
              "         2.08308605e-01, -6.45987862e-01, -3.41565329e-02,\n",
              "         8.17731550e-01],\n",
              "       [ 1.35340039e-01, -2.32657569e-02,  8.69863014e-01,\n",
              "        -2.12121212e-01,  1.05820009e-01, -6.85154976e-02,\n",
              "         9.86350148e-01, -5.50343405e-01,  9.50690166e-01,\n",
              "         6.86973749e-01],\n",
              "       [ 6.79774998e-01, -4.04852674e-01,  1.02397260e+00,\n",
              "        -1.81818182e-01,  1.30240011e-01,  3.65415987e-01,\n",
              "        -3.96439169e-01, -4.96965610e-01, -1.65978140e-01,\n",
              "         1.53541357e-02],\n",
              "       [-3.01281667e-01,  1.03112908e+01, -3.08219178e-02,\n",
              "         0.00000000e+00, -4.80260040e-01,  1.04241436e+00,\n",
              "         8.11275964e-01,  1.63519892e-01, -2.73818716e-01,\n",
              "        -5.12630015e-01],\n",
              "       [ 4.37793060e-02,  1.90259023e-02,  1.28972603e+01,\n",
              "         3.03030303e-01, -4.07000033e-02,  7.04078303e+00,\n",
              "         8.20178042e-01,  1.02393796e+00,  9.38166104e-01,\n",
              "         6.94898465e-01],\n",
              "       [-3.14337694e-01,  5.04079524e-01,  0.00000000e+00,\n",
              "         6.06060606e-01,  1.47334012e+00,  0.00000000e+00,\n",
              "        -2.57566766e-01, -6.58125421e-01, -8.91865026e-02,\n",
              "        -5.44824170e-03],\n",
              "       [-3.15830057e-01,  8.97032102e-01, -4.10958904e-02,\n",
              "         8.18181818e-01,  2.17338018e+00,  3.26264274e-02,\n",
              "        -2.31454006e-02, -4.05259609e-01, -1.59369774e-01,\n",
              "         1.34224864e-01],\n",
              "       [ 1.87127295e-02, -2.27906886e-01, -2.07033234e-01,\n",
              "         5.73216437e-01,  1.00300762e+00, -3.83989217e-01,\n",
              "        -2.23475410e-01,  6.84199628e-01, -1.78605365e-01,\n",
              "        -5.66470906e-01],\n",
              "       [-8.29294384e-02,  2.06338076e-01, -2.29180821e-01,\n",
              "         4.38749734e-01,  4.42532387e-01,  6.96422630e-03,\n",
              "        -7.72107134e-02, -6.11974688e-02, -1.69858596e-01,\n",
              "        -7.23388439e-01],\n",
              "       [ 3.05599667e-01,  4.97129273e-02,  5.14453247e-01,\n",
              "         5.68657516e-02,  7.32486476e-02,  4.55360503e-01,\n",
              "        -6.07571752e-01, -4.42820463e-01, -9.75000238e-02,\n",
              "        -1.93361310e-01],\n",
              "       [-6.47215928e-02, -4.38864715e-01, -5.93024653e-03,\n",
              "        -2.70234243e-01, -9.45789581e-03, -1.09480897e+00,\n",
              "        -1.05129107e-01, -5.39909561e-01,  8.82892212e-02,\n",
              "        -1.45650637e-01],\n",
              "       [-1.24550356e-01, -3.88910704e-01, -5.28034389e-02,\n",
              "        -1.10112847e-02, -4.70249645e-01, -1.84418744e+00,\n",
              "        -2.13624003e-02, -4.58288415e-01, -2.07939991e-02,\n",
              "        -4.98462779e-03],\n",
              "       [-8.39699630e-02, -4.22793293e-01, -2.10104942e-02,\n",
              "        -1.86835903e-01, -1.57705825e-01, -1.33590228e+00,\n",
              "        -7.81793171e-02, -5.13650051e-01,  5.31944924e-02,\n",
              "        -1.00394956e-01],\n",
              "       [ 4.92218329e-02, -2.12002885e-01, -1.29759879e-01,\n",
              "         3.25768189e-01, -8.20621852e-02,  2.05622065e-01,\n",
              "         3.15038694e-01,  1.60160156e-01, -1.83027593e-01,\n",
              "        -5.75140951e-01]])"
            ]
          },
          "metadata": {},
          "execution_count": 45
        }
      ],
      "source": [
        "data = x_res\n",
        "data"
      ]
    },
    {
      "cell_type": "code",
      "execution_count": 46,
      "metadata": {
        "colab": {
          "base_uri": "https://localhost:8080/"
        },
        "id": "JltW9sN1KRHl",
        "outputId": "eb718736-cee8-4808-8932-b5bf5e0eb26d"
      },
      "outputs": [
        {
          "output_type": "execute_result",
          "data": {
            "text/plain": [
              "52"
            ]
          },
          "metadata": {},
          "execution_count": 46
        }
      ],
      "source": [
        "len(x_res)\n",
        "len(y_res)"
      ]
    },
    {
      "cell_type": "code",
      "execution_count": 47,
      "metadata": {
        "id": "-ydn9OlZKbYW"
      },
      "outputs": [],
      "source": [
        "new_data = data"
      ]
    },
    {
      "cell_type": "code",
      "execution_count": 48,
      "metadata": {
        "id": "lUE2knOcHh-t"
      },
      "outputs": [],
      "source": [
        "# Split Dataset to training_set and test_set \n",
        "from sklearn.model_selection import train_test_split\n",
        "training_set,test_set = train_test_split(new_data,test_size=0.5)"
      ]
    },
    {
      "cell_type": "code",
      "execution_count": 49,
      "metadata": {
        "colab": {
          "base_uri": "https://localhost:8080/"
        },
        "id": "Rf6XFMOgHi-7",
        "outputId": "f32a2ed3-b4f0-4f47-aedc-8be70bfd806c"
      },
      "outputs": [
        {
          "output_type": "execute_result",
          "data": {
            "text/plain": [
              "array([[ 1.16124975e+00,  7.54373463e-01,  6.98630137e-01,\n",
              "        -1.33333333e+00, -4.63980038e-01, -1.22675367e+00,\n",
              "        -6.17210682e-01,  2.92312879e-01,  9.18431218e-02,\n",
              "         3.86329866e-02],\n",
              "       [ 4.92218329e-02, -2.12002885e-01, -1.29759879e-01,\n",
              "         3.25768189e-01, -8.20621852e-02,  2.05622065e-01,\n",
              "         3.15038694e-01,  1.60160156e-01, -1.83027593e-01,\n",
              "        -5.75140951e-01],\n",
              "       [ 6.92806297e-01,  4.80671251e-01, -1.71232877e-01,\n",
              "         5.75757576e-01,  1.32682011e+00, -1.35399674e-01,\n",
              "         1.36498516e-01,  1.85434929e-02, -1.94588962e-01,\n",
              "        -1.71371966e-01],\n",
              "       [-1.35681684e-01,  7.65739124e-01, -1.06164384e-01,\n",
              "         7.57575758e-01,  1.99430016e+00, -1.68026101e-01,\n",
              "        -3.73887240e-01, -4.75050573e-01,  0.00000000e+00,\n",
              "        -6.24071322e-02],\n",
              "       [ 0.00000000e+00, -3.18095985e-01, -1.30136986e-01,\n",
              "         7.27272727e-01,  1.75824014e+00, -6.59053834e-01,\n",
              "        -5.00296736e-01,  1.03843560e+00, -1.71886078e-01,\n",
              "        -4.50222883e-01],\n",
              "       [ 1.18438397e+00, -5.50789183e-01,  6.84931507e-03,\n",
              "         3.63636364e-01,  8.14000067e-03, -1.58238173e+00,\n",
              "         0.00000000e+00, -4.15374241e-01,  9.10840877e-03,\n",
              "         6.53789004e-02],\n",
              "       [-3.19887719e-01, -2.41814230e-01,  5.51369863e-01,\n",
              "         7.87878788e-01,  4.30606035e+00, -1.63132137e-01,\n",
              "         1.82195846e-01, -6.72000262e-01,  2.77540806e+00,\n",
              "         2.65824666e+00],\n",
              "       [-3.19986422e-01,  6.28816760e-01, -3.08219178e-01,\n",
              "         1.09090909e+00, -4.63980038e-01, -4.20880914e-01,\n",
              "        -3.32344214e-01, -6.64628769e-01,  4.09878395e-02,\n",
              "        -2.21396731e-01],\n",
              "       [ 1.13264922e+00,  6.74030000e-01,  1.89726027e+00,\n",
              "        -6.06060606e-01, -1.62800013e-01, -1.62479608e+00,\n",
              "         1.01424332e+00, -4.43695212e-01, -2.53137861e-01,\n",
              "         8.32095097e-02],\n",
              "       [-3.20151180e-01, -1.42088574e-01,  1.19863014e+00,\n",
              "         9.09090909e-01,  3.06878025e+00, -7.66721044e-02,\n",
              "         3.91691395e-02, -5.13823331e-01,  2.00954269e+00,\n",
              "         1.92075285e+00],\n",
              "       [-3.01281667e-01,  1.03112908e+01, -3.08219178e-02,\n",
              "         0.00000000e+00, -4.80260040e-01,  1.04241436e+00,\n",
              "         8.11275964e-01,  1.63519892e-01, -2.73818716e-01,\n",
              "        -5.12630015e-01],\n",
              "       [-1.02200520e-01, -1.41457940e+00,  1.02739726e-02,\n",
              "         5.45454545e-01,  1.14774009e+00, -1.50407830e+00,\n",
              "        -8.51632047e-01, -5.92480831e-01, -1.73395863e-01,\n",
              "        -5.51263001e-01],\n",
              "       [-8.29294384e-02,  2.06338076e-01, -2.29180821e-01,\n",
              "         4.38749734e-01,  4.42532387e-01,  6.96422630e-03,\n",
              "        -7.72107134e-02, -6.11974688e-02, -1.69858596e-01,\n",
              "        -7.23388439e-01],\n",
              "       [ 1.47395211e-01,  4.77429009e-03, -1.23287671e-01,\n",
              "        -3.33333333e-01,  8.14000067e-03,  5.31810767e-01,\n",
              "        -3.24932936e-01,  4.49763992e-01,  7.58654548e-01,\n",
              "        -1.81773155e-01],\n",
              "       [ 8.53135193e-01,  1.69131008e+00, -3.11643836e-01,\n",
              "         1.72727273e-01, -2.52340021e-01, -1.66721044e+00,\n",
              "        -4.62908012e-02,  5.39447067e-01,  8.40630226e-01,\n",
              "        -7.13224368e-01],\n",
              "       [-3.15830057e-01,  8.97032102e-01, -4.10958904e-02,\n",
              "         8.18181818e-01,  2.17338018e+00,  3.26264274e-02,\n",
              "        -2.31454006e-02, -4.05259609e-01, -1.59369774e-01,\n",
              "         1.34224864e-01],\n",
              "       [ 1.87127295e-02, -2.27906886e-01, -2.07033234e-01,\n",
              "         5.73216437e-01,  1.00300762e+00, -3.83989217e-01,\n",
              "        -2.23475410e-01,  6.84199628e-01, -1.78605365e-01,\n",
              "        -5.66470906e-01],\n",
              "       [-2.88787239e-01,  1.37499555e+00, -2.08904110e-01,\n",
              "        -6.06060606e-02,  2.44200020e-01,  2.51223491e-01,\n",
              "         2.11275964e-01,  2.51180040e-01, -8.31142301e-02,\n",
              "         0.00000000e+00],\n",
              "       [-3.10534393e-01, -6.58068194e-02, -3.04794521e-01,\n",
              "         0.00000000e+00, -4.63980038e-01,  4.89396411e-02,\n",
              "         8.60534125e-02,  9.17397168e-01,  8.86931304e-01,\n",
              "         1.08964834e-02],\n",
              "       [ 1.35340039e-01, -2.32657569e-02,  8.69863014e-01,\n",
              "        -2.12121212e-01,  1.05820009e-01, -6.85154976e-02,\n",
              "         9.86350148e-01, -5.50343405e-01,  9.50690166e-01,\n",
              "         6.86973749e-01],\n",
              "       [ 1.95210803e+00, -1.28763316e-01,  1.34589041e+00,\n",
              "        -1.33333333e+00, -4.39560036e-01,  4.24143556e-02,\n",
              "        -2.96735905e-03,  8.98179366e-01, -1.59901307e-01,\n",
              "        -2.92719168e-01],\n",
              "       [-5.71522489e-02, -4.45184737e-01,  0.00000000e+00,\n",
              "        -3.03030303e-01,  4.88400040e-02, -1.00000000e+00,\n",
              "        -1.15727003e-01, -5.50236008e-01,  1.02090082e-01,\n",
              "        -1.63447251e-01],\n",
              "       [-3.13630228e-01, -2.25389247e-01,  9.48630137e-01,\n",
              "        -1.30303030e+00, -1.05820009e-01,  7.37357259e-01,\n",
              "         1.04866469e+00, -6.63275815e-01,  1.25733993e+00,\n",
              "         1.05200594e+00],\n",
              "       [ 1.43524866e+00,  0.00000000e+00, -3.08219178e-01,\n",
              "        -1.39393939e+00, -4.55840038e-01, -1.22349103e-01,\n",
              "        -1.88724036e-01, -5.63047876e-01, -1.41559853e-01,\n",
              "         5.10153541e-02],\n",
              "       [ 1.75820035e+00, -3.13571098e-01,  1.51369863e+00,\n",
              "        -1.30303030e+00, -3.50020029e-01,  3.34910277e+00,\n",
              "         1.33649852e+00, -5.90148410e-01,  1.29377356e+00,\n",
              "         1.12580485e+00],\n",
              "       [-3.21048244e-01,  1.02437026e+00,  1.92123288e+00,\n",
              "         4.24242424e-01,  1.13960009e-01,  2.82055465e+00,\n",
              "         3.20771513e+00,  1.42144302e+00,  2.42890901e-02,\n",
              "        -3.00148588e-01]])"
            ]
          },
          "metadata": {},
          "execution_count": 49
        }
      ],
      "source": [
        "training_set"
      ]
    },
    {
      "cell_type": "code",
      "execution_count": 50,
      "metadata": {
        "colab": {
          "base_uri": "https://localhost:8080/"
        },
        "id": "AUHWaxFHRHDO",
        "outputId": "4b2a530c-f303-46d5-8cdb-593bb22d7c12"
      },
      "outputs": [
        {
          "output_type": "execute_result",
          "data": {
            "text/plain": [
              "26"
            ]
          },
          "metadata": {},
          "execution_count": 50
        }
      ],
      "source": [
        "len(training_set)"
      ]
    },
    {
      "cell_type": "code",
      "execution_count": 51,
      "metadata": {
        "colab": {
          "base_uri": "https://localhost:8080/"
        },
        "id": "MLKEH77nHj2Y",
        "outputId": "ea1d62d9-1668-4bdc-e258-8a1a9089a2c2"
      },
      "outputs": [
        {
          "output_type": "execute_result",
          "data": {
            "text/plain": [
              "array([[-3.07193703e-01, -1.06388285e-01,  3.76712329e-01,\n",
              "        -3.33333333e-01,  0.00000000e+00, -5.22022838e-01,\n",
              "         1.23442136e-01,  1.25118004e+00, -6.82758936e-02,\n",
              "         1.64239723e+00],\n",
              "       [ 6.84265183e-02, -6.17949906e-01,  5.61643836e-01,\n",
              "         1.81818182e-01, -3.01180025e-01,  1.02446982e+00,\n",
              "         9.30563798e-01,  0.00000000e+00, -1.65089909e-01,\n",
              "        -6.93412580e-03],\n",
              "       [-3.20041478e-01,  1.59432786e+00, -3.42465753e-03,\n",
              "         8.48484848e-01,  3.63044030e+00, -2.36541599e-01,\n",
              "        -1.42433234e-01, -6.69309951e-01,  1.22849663e+00,\n",
              "         1.06686478e+00],\n",
              "       [-1.24550356e-01, -3.88910704e-01, -5.28034389e-02,\n",
              "        -1.10112847e-02, -4.70249645e-01, -1.84418744e+00,\n",
              "        -2.13624003e-02, -4.58288415e-01, -2.07939991e-02,\n",
              "        -4.98462779e-03],\n",
              "       [ 1.77850380e+00, -2.92763744e-01,  9.52054795e-01,\n",
              "        -7.87878788e-01, -2.52340021e-01, -5.30995106e+00,\n",
              "         1.89376855e+00,  1.27781524e-01,  7.05203607e-02,\n",
              "        -4.67558197e-01],\n",
              "       [ 3.39633999e+02, -1.45508961e-01, -3.08219178e-02,\n",
              "         1.44319700e-01,  8.37199987e-01,  7.81402936e-01,\n",
              "         2.08308605e-01, -6.45987862e-01, -3.41565329e-02,\n",
              "         8.17731550e-01],\n",
              "       [-3.14337694e-01,  5.04079524e-01,  0.00000000e+00,\n",
              "         6.06060606e-01,  1.47334012e+00,  0.00000000e+00,\n",
              "        -2.57566766e-01, -6.58125421e-01, -8.91865026e-02,\n",
              "        -5.44824170e-03],\n",
              "       [ 8.39713444e-01,  1.23818007e+00,  8.08219178e-01,\n",
              "        -5.15151515e-01, -1.13960009e-01,  2.70636215e+00,\n",
              "         1.43026706e+00,  6.83749157e-01,  9.49931132e-01,\n",
              "         8.58345716e-01],\n",
              "       [-5.72986680e-02, -1.99522571e-02, -3.15068493e-01,\n",
              "         3.03030303e-01, -1.22100010e-01,  1.77814029e-01,\n",
              "        -3.55489614e-01,  4.63250169e-01,  7.66624405e-02,\n",
              "         1.31748390e-01],\n",
              "       [-1.75312449e-01,  6.33947340e-01, -1.40410959e-01,\n",
              "         3.63636364e-01,  0.00000000e+00,  5.70962480e-01,\n",
              "        -8.78931751e-01, -3.73229939e-01, -9.48792581e-03,\n",
              "        -4.61614661e-01],\n",
              "       [ 3.05599667e-01,  4.97129273e-02,  5.14453247e-01,\n",
              "         5.68657516e-02,  7.32486476e-02,  4.55360503e-01,\n",
              "        -6.07571752e-01, -4.42820463e-01, -9.75000238e-02,\n",
              "        -1.93361310e-01],\n",
              "       [ 6.83289056e-01,  1.41128728e+01,  9.55479452e-01,\n",
              "        -4.54545455e-01, -8.14000067e-02, -5.25285481e-01,\n",
              "         5.28189911e-02, -3.57720836e-01, -1.51427296e-01,\n",
              "        -3.32838039e-01],\n",
              "       [ 1.50225980e-01,  1.16924502e+01, -1.47260274e-01,\n",
              "        -5.15151515e-01, -1.13960009e-01,  7.24306688e-01,\n",
              "         1.20474777e+00,  3.03438975e-01, -2.09777718e-01,\n",
              "        -4.77959386e-01],\n",
              "       [-3.14760156e-01,  7.74610753e-01, -7.87671233e-02,\n",
              "         5.75757576e-01,  1.29426011e+00,  3.75203915e-02,\n",
              "        -4.97329377e-01, -5.41807148e-01, -1.37231054e-01,\n",
              "        -7.21149084e-01],\n",
              "       [-2.12356477e-01,  5.46869990e-01,  6.84931507e-03,\n",
              "        -3.03030303e-02,  2.84900023e-01,  7.24306688e-01,\n",
              "        -4.03560831e-02,  4.38300742e-03,  3.11659659e-01,\n",
              "        -3.13026251e-01],\n",
              "       [-6.47215928e-02, -4.38864715e-01, -5.93024653e-03,\n",
              "        -2.70234243e-01, -9.45789581e-03, -1.09480897e+00,\n",
              "        -1.05129107e-01, -5.39909561e-01,  8.82892212e-02,\n",
              "        -1.45650637e-01],\n",
              "       [ 1.34149164e+00, -2.89628389e-01, -6.84931507e-03,\n",
              "        -4.54545455e-01, -7.32600060e-02,  1.03262643e+00,\n",
              "        -7.65578635e-02,  1.41469993e+00, -1.29516698e-01,\n",
              "         6.84001981e-01],\n",
              "       [-1.27091764e-01, -3.86788755e-01, -5.47945205e-02,\n",
              "         0.00000000e+00, -4.89823178e-01, -1.87601958e+00,\n",
              "        -1.78041543e-02, -4.54821308e-01, -2.54276412e-02,\n",
              "         9.90589401e-04],\n",
              "       [ 4.41697568e-02, -1.05212527e-01, -3.11643836e-01,\n",
              "         3.63636364e-01, -2.44200020e-02, -9.78792822e-03,\n",
              "         1.53115727e-01,  2.02292650e-01, -1.87746365e-01,\n",
              "        -7.24616147e-01],\n",
              "       [ 4.37793060e-02,  1.90259023e-02,  1.28972603e+01,\n",
              "         3.03030303e-01, -4.07000033e-02,  7.04078303e+00,\n",
              "         8.20178042e-01,  1.02393796e+00,  9.38166104e-01,\n",
              "         6.94898465e-01],\n",
              "       [ 6.79774998e-01, -4.04852674e-01,  1.02397260e+00,\n",
              "        -1.81818182e-01,  1.30240011e-01,  3.65415987e-01,\n",
              "        -3.96439169e-01, -4.96965610e-01, -1.65978140e-01,\n",
              "         1.53541357e-02],\n",
              "       [ 1.42758606e-01, -1.34178929e-01,  3.73287671e-01,\n",
              "        -4.24242424e-01, -5.69800047e-02,  4.12724307e-01,\n",
              "         1.81008902e-01,  3.47606204e-01, -1.61434095e-01,\n",
              "        -3.31847449e-01],\n",
              "       [-3.19705196e-01,  2.55282004e+00, -1.30136986e-01,\n",
              "         1.00000000e+00,  4.43630037e+00, -4.29037520e-01,\n",
              "        -1.60830861e-01, -6.73109657e-01,  1.19737624e+00,\n",
              "         1.04606241e+00],\n",
              "       [-8.39699630e-02, -4.22793293e-01, -2.10104942e-02,\n",
              "        -1.86835903e-01, -1.57705825e-01, -1.33590228e+00,\n",
              "        -7.81793171e-02, -5.13650051e-01,  5.31944924e-02,\n",
              "        -1.00394956e-01],\n",
              "       [ 1.42856219e-01,  1.08244558e+00,  1.57534247e+00,\n",
              "        -4.84848485e-01, -1.05820009e-01,  9.78792822e-03,\n",
              "         8.39169139e-01,  3.65475388e-01,  8.12166449e-02,\n",
              "        -2.34274393e-01],\n",
              "       [-3.01976282e-01, -4.98806427e-04, -5.47945205e-02,\n",
              "        -2.42424242e-01,  7.32600060e-02, -3.75203915e-02,\n",
              "        -4.51038576e-02,  1.70734997e+00,  1.06302721e+00,\n",
              "         9.36602278e-01]])"
            ]
          },
          "metadata": {},
          "execution_count": 51
        }
      ],
      "source": [
        "test_set"
      ]
    },
    {
      "cell_type": "code",
      "execution_count": 52,
      "metadata": {
        "colab": {
          "base_uri": "https://localhost:8080/"
        },
        "id": "NLTIWtTvRPWq",
        "outputId": "3e9160c1-3180-4f29-bb02-96a88def44c1"
      },
      "outputs": [
        {
          "output_type": "execute_result",
          "data": {
            "text/plain": [
              "26"
            ]
          },
          "metadata": {},
          "execution_count": 52
        }
      ],
      "source": [
        "len(test_set)"
      ]
    },
    {
      "cell_type": "code",
      "execution_count": 53,
      "metadata": {
        "id": "_5lDSInKI0fs"
      },
      "outputs": [],
      "source": [
        "#take max id_saham in train and test data\n",
        "nb_saham = int(max(max(training_set[:, 5]+(7-1)), max(test_set[:, 5]+(7-1))))"
      ]
    },
    {
      "cell_type": "code",
      "execution_count": 54,
      "metadata": {
        "colab": {
          "base_uri": "https://localhost:8080/"
        },
        "id": "KKVMnhLxI5_T",
        "outputId": "d36a4c4c-b428-4dec-8f3e-36d9e379dc76"
      },
      "outputs": [
        {
          "output_type": "execute_result",
          "data": {
            "text/plain": [
              "13"
            ]
          },
          "metadata": {},
          "execution_count": 54
        }
      ],
      "source": [
        "# number of saham\n",
        "nb_saham"
      ]
    },
    {
      "cell_type": "code",
      "execution_count": 55,
      "metadata": {
        "id": "_o4c9K8cI-pR"
      },
      "outputs": [],
      "source": [
        "# Change to tensor data from array\n",
        "training_set = torch.FloatTensor(training_set)\n",
        "test_set = torch.FloatTensor(test_set)"
      ]
    },
    {
      "cell_type": "code",
      "execution_count": 56,
      "metadata": {
        "colab": {
          "base_uri": "https://localhost:8080/"
        },
        "id": "croQ_zrkJK1H",
        "outputId": "30a38d3b-a00f-471a-e50f-0d41068b4476"
      },
      "outputs": [
        {
          "output_type": "execute_result",
          "data": {
            "text/plain": [
              "tensor([[ 1.1612e+00,  7.5437e-01,  6.9863e-01, -1.3333e+00, -4.6398e-01,\n",
              "         -1.2268e+00, -6.1721e-01,  2.9231e-01,  9.1843e-02,  3.8633e-02],\n",
              "        [ 4.9222e-02, -2.1200e-01, -1.2976e-01,  3.2577e-01, -8.2062e-02,\n",
              "          2.0562e-01,  3.1504e-01,  1.6016e-01, -1.8303e-01, -5.7514e-01],\n",
              "        [ 6.9281e-01,  4.8067e-01, -1.7123e-01,  5.7576e-01,  1.3268e+00,\n",
              "         -1.3540e-01,  1.3650e-01,  1.8543e-02, -1.9459e-01, -1.7137e-01],\n",
              "        [-1.3568e-01,  7.6574e-01, -1.0616e-01,  7.5758e-01,  1.9943e+00,\n",
              "         -1.6803e-01, -3.7389e-01, -4.7505e-01,  0.0000e+00, -6.2407e-02],\n",
              "        [ 0.0000e+00, -3.1810e-01, -1.3014e-01,  7.2727e-01,  1.7582e+00,\n",
              "         -6.5905e-01, -5.0030e-01,  1.0384e+00, -1.7189e-01, -4.5022e-01],\n",
              "        [ 1.1844e+00, -5.5079e-01,  6.8493e-03,  3.6364e-01,  8.1400e-03,\n",
              "         -1.5824e+00,  0.0000e+00, -4.1537e-01,  9.1084e-03,  6.5379e-02],\n",
              "        [-3.1989e-01, -2.4181e-01,  5.5137e-01,  7.8788e-01,  4.3061e+00,\n",
              "         -1.6313e-01,  1.8220e-01, -6.7200e-01,  2.7754e+00,  2.6582e+00],\n",
              "        [-3.1999e-01,  6.2882e-01, -3.0822e-01,  1.0909e+00, -4.6398e-01,\n",
              "         -4.2088e-01, -3.3234e-01, -6.6463e-01,  4.0988e-02, -2.2140e-01],\n",
              "        [ 1.1326e+00,  6.7403e-01,  1.8973e+00, -6.0606e-01, -1.6280e-01,\n",
              "         -1.6248e+00,  1.0142e+00, -4.4370e-01, -2.5314e-01,  8.3210e-02],\n",
              "        [-3.2015e-01, -1.4209e-01,  1.1986e+00,  9.0909e-01,  3.0688e+00,\n",
              "         -7.6672e-02,  3.9169e-02, -5.1382e-01,  2.0095e+00,  1.9208e+00],\n",
              "        [-3.0128e-01,  1.0311e+01, -3.0822e-02,  0.0000e+00, -4.8026e-01,\n",
              "          1.0424e+00,  8.1128e-01,  1.6352e-01, -2.7382e-01, -5.1263e-01],\n",
              "        [-1.0220e-01, -1.4146e+00,  1.0274e-02,  5.4545e-01,  1.1477e+00,\n",
              "         -1.5041e+00, -8.5163e-01, -5.9248e-01, -1.7340e-01, -5.5126e-01],\n",
              "        [-8.2929e-02,  2.0634e-01, -2.2918e-01,  4.3875e-01,  4.4253e-01,\n",
              "          6.9642e-03, -7.7211e-02, -6.1197e-02, -1.6986e-01, -7.2339e-01],\n",
              "        [ 1.4740e-01,  4.7743e-03, -1.2329e-01, -3.3333e-01,  8.1400e-03,\n",
              "          5.3181e-01, -3.2493e-01,  4.4976e-01,  7.5865e-01, -1.8177e-01],\n",
              "        [ 8.5314e-01,  1.6913e+00, -3.1164e-01,  1.7273e-01, -2.5234e-01,\n",
              "         -1.6672e+00, -4.6291e-02,  5.3945e-01,  8.4063e-01, -7.1322e-01],\n",
              "        [-3.1583e-01,  8.9703e-01, -4.1096e-02,  8.1818e-01,  2.1734e+00,\n",
              "          3.2626e-02, -2.3145e-02, -4.0526e-01, -1.5937e-01,  1.3422e-01],\n",
              "        [ 1.8713e-02, -2.2791e-01, -2.0703e-01,  5.7322e-01,  1.0030e+00,\n",
              "         -3.8399e-01, -2.2348e-01,  6.8420e-01, -1.7861e-01, -5.6647e-01],\n",
              "        [-2.8879e-01,  1.3750e+00, -2.0890e-01, -6.0606e-02,  2.4420e-01,\n",
              "          2.5122e-01,  2.1128e-01,  2.5118e-01, -8.3114e-02,  0.0000e+00],\n",
              "        [-3.1053e-01, -6.5807e-02, -3.0479e-01,  0.0000e+00, -4.6398e-01,\n",
              "          4.8940e-02,  8.6053e-02,  9.1740e-01,  8.8693e-01,  1.0896e-02],\n",
              "        [ 1.3534e-01, -2.3266e-02,  8.6986e-01, -2.1212e-01,  1.0582e-01,\n",
              "         -6.8515e-02,  9.8635e-01, -5.5034e-01,  9.5069e-01,  6.8697e-01],\n",
              "        [ 1.9521e+00, -1.2876e-01,  1.3459e+00, -1.3333e+00, -4.3956e-01,\n",
              "          4.2414e-02, -2.9674e-03,  8.9818e-01, -1.5990e-01, -2.9272e-01],\n",
              "        [-5.7152e-02, -4.4518e-01,  0.0000e+00, -3.0303e-01,  4.8840e-02,\n",
              "         -1.0000e+00, -1.1573e-01, -5.5024e-01,  1.0209e-01, -1.6345e-01],\n",
              "        [-3.1363e-01, -2.2539e-01,  9.4863e-01, -1.3030e+00, -1.0582e-01,\n",
              "          7.3736e-01,  1.0487e+00, -6.6328e-01,  1.2573e+00,  1.0520e+00],\n",
              "        [ 1.4352e+00,  0.0000e+00, -3.0822e-01, -1.3939e+00, -4.5584e-01,\n",
              "         -1.2235e-01, -1.8872e-01, -5.6305e-01, -1.4156e-01,  5.1015e-02],\n",
              "        [ 1.7582e+00, -3.1357e-01,  1.5137e+00, -1.3030e+00, -3.5002e-01,\n",
              "          3.3491e+00,  1.3365e+00, -5.9015e-01,  1.2938e+00,  1.1258e+00],\n",
              "        [-3.2105e-01,  1.0244e+00,  1.9212e+00,  4.2424e-01,  1.1396e-01,\n",
              "          2.8206e+00,  3.2077e+00,  1.4214e+00,  2.4289e-02, -3.0015e-01]])"
            ]
          },
          "metadata": {},
          "execution_count": 56
        }
      ],
      "source": [
        "training_set"
      ]
    },
    {
      "cell_type": "code",
      "execution_count": 57,
      "metadata": {
        "colab": {
          "base_uri": "https://localhost:8080/"
        },
        "id": "LfuliIolI_FB",
        "outputId": "7a849bcd-fc30-449c-fe55-952718613c88"
      },
      "outputs": [
        {
          "output_type": "execute_result",
          "data": {
            "text/plain": [
              "tensor([[-3.0719e-01, -1.0639e-01,  3.7671e-01, -3.3333e-01,  0.0000e+00,\n",
              "         -5.2202e-01,  1.2344e-01,  1.2512e+00, -6.8276e-02,  1.6424e+00],\n",
              "        [ 6.8427e-02, -6.1795e-01,  5.6164e-01,  1.8182e-01, -3.0118e-01,\n",
              "          1.0245e+00,  9.3056e-01,  0.0000e+00, -1.6509e-01, -6.9341e-03],\n",
              "        [-3.2004e-01,  1.5943e+00, -3.4247e-03,  8.4848e-01,  3.6304e+00,\n",
              "         -2.3654e-01, -1.4243e-01, -6.6931e-01,  1.2285e+00,  1.0669e+00],\n",
              "        [-1.2455e-01, -3.8891e-01, -5.2803e-02, -1.1011e-02, -4.7025e-01,\n",
              "         -1.8442e+00, -2.1362e-02, -4.5829e-01, -2.0794e-02, -4.9846e-03],\n",
              "        [ 1.7785e+00, -2.9276e-01,  9.5205e-01, -7.8788e-01, -2.5234e-01,\n",
              "         -5.3100e+00,  1.8938e+00,  1.2778e-01,  7.0520e-02, -4.6756e-01],\n",
              "        [ 3.3963e+02, -1.4551e-01, -3.0822e-02,  1.4432e-01,  8.3720e-01,\n",
              "          7.8140e-01,  2.0831e-01, -6.4599e-01, -3.4157e-02,  8.1773e-01],\n",
              "        [-3.1434e-01,  5.0408e-01,  0.0000e+00,  6.0606e-01,  1.4733e+00,\n",
              "          0.0000e+00, -2.5757e-01, -6.5813e-01, -8.9187e-02, -5.4482e-03],\n",
              "        [ 8.3971e-01,  1.2382e+00,  8.0822e-01, -5.1515e-01, -1.1396e-01,\n",
              "          2.7064e+00,  1.4303e+00,  6.8375e-01,  9.4993e-01,  8.5835e-01],\n",
              "        [-5.7299e-02, -1.9952e-02, -3.1507e-01,  3.0303e-01, -1.2210e-01,\n",
              "          1.7781e-01, -3.5549e-01,  4.6325e-01,  7.6662e-02,  1.3175e-01],\n",
              "        [-1.7531e-01,  6.3395e-01, -1.4041e-01,  3.6364e-01,  0.0000e+00,\n",
              "          5.7096e-01, -8.7893e-01, -3.7323e-01, -9.4879e-03, -4.6161e-01],\n",
              "        [ 3.0560e-01,  4.9713e-02,  5.1445e-01,  5.6866e-02,  7.3249e-02,\n",
              "          4.5536e-01, -6.0757e-01, -4.4282e-01, -9.7500e-02, -1.9336e-01],\n",
              "        [ 6.8329e-01,  1.4113e+01,  9.5548e-01, -4.5455e-01, -8.1400e-02,\n",
              "         -5.2529e-01,  5.2819e-02, -3.5772e-01, -1.5143e-01, -3.3284e-01],\n",
              "        [ 1.5023e-01,  1.1692e+01, -1.4726e-01, -5.1515e-01, -1.1396e-01,\n",
              "          7.2431e-01,  1.2047e+00,  3.0344e-01, -2.0978e-01, -4.7796e-01],\n",
              "        [-3.1476e-01,  7.7461e-01, -7.8767e-02,  5.7576e-01,  1.2943e+00,\n",
              "          3.7520e-02, -4.9733e-01, -5.4181e-01, -1.3723e-01, -7.2115e-01],\n",
              "        [-2.1236e-01,  5.4687e-01,  6.8493e-03, -3.0303e-02,  2.8490e-01,\n",
              "          7.2431e-01, -4.0356e-02,  4.3830e-03,  3.1166e-01, -3.1303e-01],\n",
              "        [-6.4722e-02, -4.3886e-01, -5.9302e-03, -2.7023e-01, -9.4579e-03,\n",
              "         -1.0948e+00, -1.0513e-01, -5.3991e-01,  8.8289e-02, -1.4565e-01],\n",
              "        [ 1.3415e+00, -2.8963e-01, -6.8493e-03, -4.5455e-01, -7.3260e-02,\n",
              "          1.0326e+00, -7.6558e-02,  1.4147e+00, -1.2952e-01,  6.8400e-01],\n",
              "        [-1.2709e-01, -3.8679e-01, -5.4795e-02,  0.0000e+00, -4.8982e-01,\n",
              "         -1.8760e+00, -1.7804e-02, -4.5482e-01, -2.5428e-02,  9.9059e-04],\n",
              "        [ 4.4170e-02, -1.0521e-01, -3.1164e-01,  3.6364e-01, -2.4420e-02,\n",
              "         -9.7879e-03,  1.5312e-01,  2.0229e-01, -1.8775e-01, -7.2462e-01],\n",
              "        [ 4.3779e-02,  1.9026e-02,  1.2897e+01,  3.0303e-01, -4.0700e-02,\n",
              "          7.0408e+00,  8.2018e-01,  1.0239e+00,  9.3817e-01,  6.9490e-01],\n",
              "        [ 6.7977e-01, -4.0485e-01,  1.0240e+00, -1.8182e-01,  1.3024e-01,\n",
              "          3.6542e-01, -3.9644e-01, -4.9697e-01, -1.6598e-01,  1.5354e-02],\n",
              "        [ 1.4276e-01, -1.3418e-01,  3.7329e-01, -4.2424e-01, -5.6980e-02,\n",
              "          4.1272e-01,  1.8101e-01,  3.4761e-01, -1.6143e-01, -3.3185e-01],\n",
              "        [-3.1971e-01,  2.5528e+00, -1.3014e-01,  1.0000e+00,  4.4363e+00,\n",
              "         -4.2904e-01, -1.6083e-01, -6.7311e-01,  1.1974e+00,  1.0461e+00],\n",
              "        [-8.3970e-02, -4.2279e-01, -2.1010e-02, -1.8684e-01, -1.5771e-01,\n",
              "         -1.3359e+00, -7.8179e-02, -5.1365e-01,  5.3194e-02, -1.0039e-01],\n",
              "        [ 1.4286e-01,  1.0824e+00,  1.5753e+00, -4.8485e-01, -1.0582e-01,\n",
              "          9.7879e-03,  8.3917e-01,  3.6548e-01,  8.1217e-02, -2.3427e-01],\n",
              "        [-3.0198e-01, -4.9881e-04, -5.4795e-02, -2.4242e-01,  7.3260e-02,\n",
              "         -3.7520e-02, -4.5104e-02,  1.7074e+00,  1.0630e+00,  9.3660e-01]])"
            ]
          },
          "metadata": {},
          "execution_count": 57
        }
      ],
      "source": [
        "test_set"
      ]
    },
    {
      "cell_type": "code",
      "execution_count": 58,
      "metadata": {
        "id": "dn7Wf5GUI_Yx"
      },
      "outputs": [],
      "source": [
        "# Normalize data from 0 to 1\n",
        "training_set[training_set <= 0] = 0\n",
        "training_set[training_set >= 1] = 1\n",
        "\n",
        "test_set[test_set <= 0] = 0\n",
        "test_set[test_set >= 1] = 1"
      ]
    },
    {
      "cell_type": "code",
      "execution_count": 59,
      "metadata": {
        "colab": {
          "base_uri": "https://localhost:8080/"
        },
        "id": "92ssG5yJJagM",
        "outputId": "ebb6c7f3-8f85-4bb3-8af3-0a6738cf070f"
      },
      "outputs": [
        {
          "output_type": "execute_result",
          "data": {
            "text/plain": [
              "tensor([[1.0000, 0.7544, 0.6986, 0.0000, 0.0000, 0.0000, 0.0000, 0.2923, 0.0918,\n",
              "         0.0386],\n",
              "        [0.0492, 0.0000, 0.0000, 0.3258, 0.0000, 0.2056, 0.3150, 0.1602, 0.0000,\n",
              "         0.0000],\n",
              "        [0.6928, 0.4807, 0.0000, 0.5758, 1.0000, 0.0000, 0.1365, 0.0185, 0.0000,\n",
              "         0.0000],\n",
              "        [0.0000, 0.7657, 0.0000, 0.7576, 1.0000, 0.0000, 0.0000, 0.0000, 0.0000,\n",
              "         0.0000],\n",
              "        [0.0000, 0.0000, 0.0000, 0.7273, 1.0000, 0.0000, 0.0000, 1.0000, 0.0000,\n",
              "         0.0000],\n",
              "        [1.0000, 0.0000, 0.0068, 0.3636, 0.0081, 0.0000, 0.0000, 0.0000, 0.0091,\n",
              "         0.0654],\n",
              "        [0.0000, 0.0000, 0.5514, 0.7879, 1.0000, 0.0000, 0.1822, 0.0000, 1.0000,\n",
              "         1.0000],\n",
              "        [0.0000, 0.6288, 0.0000, 1.0000, 0.0000, 0.0000, 0.0000, 0.0000, 0.0410,\n",
              "         0.0000],\n",
              "        [1.0000, 0.6740, 1.0000, 0.0000, 0.0000, 0.0000, 1.0000, 0.0000, 0.0000,\n",
              "         0.0832],\n",
              "        [0.0000, 0.0000, 1.0000, 0.9091, 1.0000, 0.0000, 0.0392, 0.0000, 1.0000,\n",
              "         1.0000],\n",
              "        [0.0000, 1.0000, 0.0000, 0.0000, 0.0000, 1.0000, 0.8113, 0.1635, 0.0000,\n",
              "         0.0000],\n",
              "        [0.0000, 0.0000, 0.0103, 0.5455, 1.0000, 0.0000, 0.0000, 0.0000, 0.0000,\n",
              "         0.0000],\n",
              "        [0.0000, 0.2063, 0.0000, 0.4387, 0.4425, 0.0070, 0.0000, 0.0000, 0.0000,\n",
              "         0.0000],\n",
              "        [0.1474, 0.0048, 0.0000, 0.0000, 0.0081, 0.5318, 0.0000, 0.4498, 0.7587,\n",
              "         0.0000],\n",
              "        [0.8531, 1.0000, 0.0000, 0.1727, 0.0000, 0.0000, 0.0000, 0.5394, 0.8406,\n",
              "         0.0000],\n",
              "        [0.0000, 0.8970, 0.0000, 0.8182, 1.0000, 0.0326, 0.0000, 0.0000, 0.0000,\n",
              "         0.1342],\n",
              "        [0.0187, 0.0000, 0.0000, 0.5732, 1.0000, 0.0000, 0.0000, 0.6842, 0.0000,\n",
              "         0.0000],\n",
              "        [0.0000, 1.0000, 0.0000, 0.0000, 0.2442, 0.2512, 0.2113, 0.2512, 0.0000,\n",
              "         0.0000],\n",
              "        [0.0000, 0.0000, 0.0000, 0.0000, 0.0000, 0.0489, 0.0861, 0.9174, 0.8869,\n",
              "         0.0109],\n",
              "        [0.1353, 0.0000, 0.8699, 0.0000, 0.1058, 0.0000, 0.9864, 0.0000, 0.9507,\n",
              "         0.6870],\n",
              "        [1.0000, 0.0000, 1.0000, 0.0000, 0.0000, 0.0424, 0.0000, 0.8982, 0.0000,\n",
              "         0.0000],\n",
              "        [0.0000, 0.0000, 0.0000, 0.0000, 0.0488, 0.0000, 0.0000, 0.0000, 0.1021,\n",
              "         0.0000],\n",
              "        [0.0000, 0.0000, 0.9486, 0.0000, 0.0000, 0.7374, 1.0000, 0.0000, 1.0000,\n",
              "         1.0000],\n",
              "        [1.0000, 0.0000, 0.0000, 0.0000, 0.0000, 0.0000, 0.0000, 0.0000, 0.0000,\n",
              "         0.0510],\n",
              "        [1.0000, 0.0000, 1.0000, 0.0000, 0.0000, 1.0000, 1.0000, 0.0000, 1.0000,\n",
              "         1.0000],\n",
              "        [0.0000, 1.0000, 1.0000, 0.4242, 0.1140, 1.0000, 1.0000, 1.0000, 0.0243,\n",
              "         0.0000]])"
            ]
          },
          "metadata": {},
          "execution_count": 59
        }
      ],
      "source": [
        "training_set"
      ]
    },
    {
      "cell_type": "code",
      "execution_count": 60,
      "metadata": {
        "colab": {
          "base_uri": "https://localhost:8080/"
        },
        "id": "jOeKb47aI_sG",
        "outputId": "8c6c9de5-ddd0-439f-9399-8fc6dc35064c"
      },
      "outputs": [
        {
          "output_type": "execute_result",
          "data": {
            "text/plain": [
              "tensor([[0.0000e+00, 0.0000e+00, 3.7671e-01, 0.0000e+00, 0.0000e+00, 0.0000e+00,\n",
              "         1.2344e-01, 1.0000e+00, 0.0000e+00, 1.0000e+00],\n",
              "        [6.8427e-02, 0.0000e+00, 5.6164e-01, 1.8182e-01, 0.0000e+00, 1.0000e+00,\n",
              "         9.3056e-01, 0.0000e+00, 0.0000e+00, 0.0000e+00],\n",
              "        [0.0000e+00, 1.0000e+00, 0.0000e+00, 8.4848e-01, 1.0000e+00, 0.0000e+00,\n",
              "         0.0000e+00, 0.0000e+00, 1.0000e+00, 1.0000e+00],\n",
              "        [0.0000e+00, 0.0000e+00, 0.0000e+00, 0.0000e+00, 0.0000e+00, 0.0000e+00,\n",
              "         0.0000e+00, 0.0000e+00, 0.0000e+00, 0.0000e+00],\n",
              "        [1.0000e+00, 0.0000e+00, 9.5205e-01, 0.0000e+00, 0.0000e+00, 0.0000e+00,\n",
              "         1.0000e+00, 1.2778e-01, 7.0520e-02, 0.0000e+00],\n",
              "        [1.0000e+00, 0.0000e+00, 0.0000e+00, 1.4432e-01, 8.3720e-01, 7.8140e-01,\n",
              "         2.0831e-01, 0.0000e+00, 0.0000e+00, 8.1773e-01],\n",
              "        [0.0000e+00, 5.0408e-01, 0.0000e+00, 6.0606e-01, 1.0000e+00, 0.0000e+00,\n",
              "         0.0000e+00, 0.0000e+00, 0.0000e+00, 0.0000e+00],\n",
              "        [8.3971e-01, 1.0000e+00, 8.0822e-01, 0.0000e+00, 0.0000e+00, 1.0000e+00,\n",
              "         1.0000e+00, 6.8375e-01, 9.4993e-01, 8.5835e-01],\n",
              "        [0.0000e+00, 0.0000e+00, 0.0000e+00, 3.0303e-01, 0.0000e+00, 1.7781e-01,\n",
              "         0.0000e+00, 4.6325e-01, 7.6662e-02, 1.3175e-01],\n",
              "        [0.0000e+00, 6.3395e-01, 0.0000e+00, 3.6364e-01, 0.0000e+00, 5.7096e-01,\n",
              "         0.0000e+00, 0.0000e+00, 0.0000e+00, 0.0000e+00],\n",
              "        [3.0560e-01, 4.9713e-02, 5.1445e-01, 5.6866e-02, 7.3249e-02, 4.5536e-01,\n",
              "         0.0000e+00, 0.0000e+00, 0.0000e+00, 0.0000e+00],\n",
              "        [6.8329e-01, 1.0000e+00, 9.5548e-01, 0.0000e+00, 0.0000e+00, 0.0000e+00,\n",
              "         5.2819e-02, 0.0000e+00, 0.0000e+00, 0.0000e+00],\n",
              "        [1.5023e-01, 1.0000e+00, 0.0000e+00, 0.0000e+00, 0.0000e+00, 7.2431e-01,\n",
              "         1.0000e+00, 3.0344e-01, 0.0000e+00, 0.0000e+00],\n",
              "        [0.0000e+00, 7.7461e-01, 0.0000e+00, 5.7576e-01, 1.0000e+00, 3.7520e-02,\n",
              "         0.0000e+00, 0.0000e+00, 0.0000e+00, 0.0000e+00],\n",
              "        [0.0000e+00, 5.4687e-01, 6.8493e-03, 0.0000e+00, 2.8490e-01, 7.2431e-01,\n",
              "         0.0000e+00, 4.3830e-03, 3.1166e-01, 0.0000e+00],\n",
              "        [0.0000e+00, 0.0000e+00, 0.0000e+00, 0.0000e+00, 0.0000e+00, 0.0000e+00,\n",
              "         0.0000e+00, 0.0000e+00, 8.8289e-02, 0.0000e+00],\n",
              "        [1.0000e+00, 0.0000e+00, 0.0000e+00, 0.0000e+00, 0.0000e+00, 1.0000e+00,\n",
              "         0.0000e+00, 1.0000e+00, 0.0000e+00, 6.8400e-01],\n",
              "        [0.0000e+00, 0.0000e+00, 0.0000e+00, 0.0000e+00, 0.0000e+00, 0.0000e+00,\n",
              "         0.0000e+00, 0.0000e+00, 0.0000e+00, 9.9059e-04],\n",
              "        [4.4170e-02, 0.0000e+00, 0.0000e+00, 3.6364e-01, 0.0000e+00, 0.0000e+00,\n",
              "         1.5312e-01, 2.0229e-01, 0.0000e+00, 0.0000e+00],\n",
              "        [4.3779e-02, 1.9026e-02, 1.0000e+00, 3.0303e-01, 0.0000e+00, 1.0000e+00,\n",
              "         8.2018e-01, 1.0000e+00, 9.3817e-01, 6.9490e-01],\n",
              "        [6.7977e-01, 0.0000e+00, 1.0000e+00, 0.0000e+00, 1.3024e-01, 3.6542e-01,\n",
              "         0.0000e+00, 0.0000e+00, 0.0000e+00, 1.5354e-02],\n",
              "        [1.4276e-01, 0.0000e+00, 3.7329e-01, 0.0000e+00, 0.0000e+00, 4.1272e-01,\n",
              "         1.8101e-01, 3.4761e-01, 0.0000e+00, 0.0000e+00],\n",
              "        [0.0000e+00, 1.0000e+00, 0.0000e+00, 1.0000e+00, 1.0000e+00, 0.0000e+00,\n",
              "         0.0000e+00, 0.0000e+00, 1.0000e+00, 1.0000e+00],\n",
              "        [0.0000e+00, 0.0000e+00, 0.0000e+00, 0.0000e+00, 0.0000e+00, 0.0000e+00,\n",
              "         0.0000e+00, 0.0000e+00, 5.3194e-02, 0.0000e+00],\n",
              "        [1.4286e-01, 1.0000e+00, 1.0000e+00, 0.0000e+00, 0.0000e+00, 9.7879e-03,\n",
              "         8.3917e-01, 3.6548e-01, 8.1217e-02, 0.0000e+00],\n",
              "        [0.0000e+00, 0.0000e+00, 0.0000e+00, 0.0000e+00, 7.3260e-02, 0.0000e+00,\n",
              "         0.0000e+00, 1.0000e+00, 1.0000e+00, 9.3660e-01]])"
            ]
          },
          "metadata": {},
          "execution_count": 60
        }
      ],
      "source": [
        "test_set"
      ]
    },
    {
      "cell_type": "markdown",
      "metadata": {
        "id": "ytvxyV4KKXhy"
      },
      "source": [
        "**Arsitektur RBM Model 1**"
      ]
    },
    {
      "cell_type": "code",
      "execution_count": 61,
      "metadata": {
        "id": "10qQDzG3JAAd"
      },
      "outputs": [],
      "source": [
        "class RBM():\n",
        "    def __init__(self, nv, nh):\n",
        "        ##initialize all weights \n",
        "        ##a tensor with size of nh, nv in normal dis mean 0 var 1\n",
        "        self.W = torch.randn(nh, nv)\n",
        "        #bias for hidden nodes\n",
        "        #1st dimension is batch, 2nd is num of hidden nodes\n",
        "        self.a = torch.randn(1, nh)\n",
        "        #bias for visible nodes\n",
        "        self.b = torch.randn(1, nv)\n",
        "    #activate the hidden nodes by sampling all hiddens node, given values of visible nodes \n",
        "    def sample_h(self, x):\n",
        "        #x is values of visible nodes\n",
        "        #probablity of hiddens h to be activated, given values of visible  nodes v\n",
        "        wx = torch.mm(x, self.W.t())\n",
        "        #use sigmoid fuc to activate visible node\n",
        "        ## a is bias for hidden nodes\n",
        "        activation = wx + self.a.expand_as(wx)\n",
        "        ##ith of the vector is the probability of ith hidden nodes to be activated, \n",
        "        ##given visible values\n",
        "        p_h_given_v =torch.sigmoid(activation)\n",
        "        #samples of all hiddens nodes\n",
        "        return p_h_given_v, torch.bernoulli(p_h_given_v)\n",
        "    def sample_v(self, y):\n",
        "        #y is hidden nodes\n",
        "        #probablity of visible h to be activated, given hidden  nodes v\n",
        "        wy = torch.mm(y, self.W)\n",
        "        #use sigmoid fuc to activate hiddens nodes\n",
        "        activation = wy + self.b.expand_as(wy)\n",
        "        ##ith of the vector is the probability of ith visible nodes to be activated, \n",
        "        ##given hidden values\n",
        "        p_v_given_h =torch.sigmoid(activation)\n",
        "        #samples of all hiddens nodes\n",
        "        return p_v_given_h, torch.bernoulli(p_v_given_h)\n",
        "        \n",
        "    #visible nodes after kth interation\n",
        "    #probablity of hidden nodes after kth iteration\n",
        "    def train(self, v0, vk, ph0, phk):\n",
        "#         self.W += torch.mm(v0.t(), ph0) - torch.mm(vk.t(), phk)\n",
        "        self.W += (torch.mm(v0.t(), ph0) - torch.mm(vk.t(), phk)).t()\n",
        "#         self.W += torch.mm(v0.t(), ph0) - torch.mm(vk.t(), phk)\n",
        "        #add zero to keep b as a tensor of 2 dimension\n",
        "        self.b += torch.sum((v0 - vk), 0)\n",
        "        self.a += torch.sum((ph0 - phk), 0)"
      ]
    },
    {
      "cell_type": "code",
      "execution_count": 62,
      "metadata": {
        "id": "YjeLkgVeJAZh"
      },
      "outputs": [],
      "source": [
        "#number of visible node=10\n",
        "nv = len(training_set[0])\n",
        "#number of hidden nodes or num of features\n",
        "nh = 100\n",
        "batch_size = nb_saham-1\n",
        "rbm = RBM(nv, nh)"
      ]
    },
    {
      "cell_type": "code",
      "execution_count": 63,
      "metadata": {
        "colab": {
          "base_uri": "https://localhost:8080/"
        },
        "id": "iGFjGohaQeS_",
        "outputId": "3c246f90-d554-4762-c6de-bb2328a78b7c"
      },
      "outputs": [
        {
          "output_type": "execute_result",
          "data": {
            "text/plain": [
              "10"
            ]
          },
          "metadata": {},
          "execution_count": 63
        }
      ],
      "source": [
        "nv"
      ]
    },
    {
      "cell_type": "code",
      "execution_count": 64,
      "metadata": {
        "colab": {
          "base_uri": "https://localhost:8080/"
        },
        "id": "oNQikXr5QoMp",
        "outputId": "848215ed-8490-40d9-b887-da6be5e374c9"
      },
      "outputs": [
        {
          "output_type": "execute_result",
          "data": {
            "text/plain": [
              "100"
            ]
          },
          "metadata": {},
          "execution_count": 64
        }
      ],
      "source": [
        "nh"
      ]
    },
    {
      "cell_type": "code",
      "execution_count": 65,
      "metadata": {
        "colab": {
          "base_uri": "https://localhost:8080/"
        },
        "id": "UxMJUhGCNFfe",
        "outputId": "e9530bc2-2eb3-4f26-959c-9b39bcaa8854"
      },
      "outputs": [
        {
          "output_type": "execute_result",
          "data": {
            "text/plain": [
              "12"
            ]
          },
          "metadata": {},
          "execution_count": 65
        }
      ],
      "source": [
        "batch_size"
      ]
    },
    {
      "cell_type": "code",
      "execution_count": 66,
      "metadata": {
        "colab": {
          "base_uri": "https://localhost:8080/"
        },
        "id": "UWhI9A3KNJ16",
        "outputId": "b7f6ece4-0a72-4667-c95f-2ed11a2eabfc"
      },
      "outputs": [
        {
          "output_type": "execute_result",
          "data": {
            "text/plain": [
              "<__main__.RBM at 0x7f7b25c51f00>"
            ]
          },
          "metadata": {},
          "execution_count": 66
        }
      ],
      "source": [
        "rbm"
      ]
    },
    {
      "cell_type": "markdown",
      "metadata": {
        "id": "hH7BfnLZKvQz"
      },
      "source": [
        "**Model Training RBM untuk epoch 5**"
      ]
    },
    {
      "cell_type": "code",
      "execution_count": 67,
      "metadata": {
        "colab": {
          "base_uri": "https://localhost:8080/"
        },
        "id": "HBjJxH8GKz3X",
        "outputId": "6f7bf8a1-13cc-4804-f702-006937e03965"
      },
      "outputs": [
        {
          "output_type": "stream",
          "name": "stdout",
          "text": [
            "epoch: 1loss: tensor(0.3632)\n",
            "epoch: 2loss: tensor(0.4067)\n",
            "epoch: 3loss: tensor(0.5845)\n",
            "epoch: 4loss: tensor(0.5500)\n",
            "epoch: 5loss: tensor(0.4121)\n"
          ]
        }
      ],
      "source": [
        "nb_epoch = 5\n",
        "for epoch in range(1, nb_epoch+1):\n",
        "    ##loss function\n",
        "    train_loss = 0\n",
        "    #normalize the loss, define a counter\n",
        "    s = 0.\n",
        "    #implement a batch learning, \n",
        "    for id_saham in range(0, nb_saham - batch_size, 10):\n",
        "        #input batch values\n",
        "        vk = training_set[id_saham: id_saham+batch_size]\n",
        "        #target used for loss mesarue: data \n",
        "        v0 = training_set[id_saham: id_saham+batch_size]\n",
        "        ##initilize probablity\n",
        "        #pho: given real rating at begining, probablity of hidden nodes\n",
        "        ph0, _ = rbm.sample_h(v0)\n",
        "        #k step of constrative divergence\n",
        "        for k in range(10):\n",
        "            _, hk = rbm.sample_h(vk)\n",
        "            _, vk = rbm.sample_v(hk)\n",
        "            #training on rating that do exist, rating as -1\n",
        "            vk[v0<0] = v0[v0<0]\n",
        "        phk, _ = rbm.sample_h(vk)\n",
        "        #update weights and bias\n",
        "        rbm.train(v0, vk, ph0, phk)\n",
        "        #update train loss\n",
        "        train_loss += torch.mean(torch.abs(v0[v0>0]-vk[v0>0]))\n",
        "        s += 1\n",
        "    print('epoch: '+str(epoch)+'loss: '+str(train_loss/s))"
      ]
    },
    {
      "cell_type": "markdown",
      "metadata": {
        "id": "vqQLZLPP-sPZ"
      },
      "source": [
        "**Test RBM untuk epoch 5**"
      ]
    },
    {
      "cell_type": "code",
      "execution_count": 68,
      "metadata": {
        "id": "E8EzpMea-qIe"
      },
      "outputs": [],
      "source": [
        "##loss function test\n",
        "test_loss = 0\n",
        "test_loss1 = 0\n",
        "#normalize the loss, define a counter\n",
        "s = 0.\n",
        "#implement a batch learning, \n",
        "for id_saham in range(0,nb_saham-len(test_set)):\n",
        "    #use input of train set to activate RBM\n",
        "    v_input = training_set[id_saham: id_saham+1]\n",
        "    #target used for loss mesarue:  \n",
        "    v_target = test_set[id_saham: id_saham+1]\n",
        "    #use only 1 step to make better prediction, though used 10 steps to train\n",
        "    if len(v_target[v_target>=0]):\n",
        "        _, h = rbm.sample_h(v_input) \n",
        "        _, v_input = rbm.sample_v(h)\n",
        "        #update test loss\n",
        "        test_loss += torch.mean(torch.abs(v_target[v_target>0]-v_input[v_target>0]))\n",
        "        test_loss1 += torch.mean(torch.square(v_target[v_target>0]-v_input[v_target>0]))\n",
        "        s += 1."
      ]
    },
    {
      "cell_type": "code",
      "execution_count": 69,
      "metadata": {
        "colab": {
          "base_uri": "https://localhost:8080/",
          "height": 173
        },
        "id": "0ZzJ5qV6_IIC",
        "outputId": "4d7d52db-e601-478b-bf69-a32ae07191fa"
      },
      "outputs": [
        {
          "output_type": "error",
          "ename": "ZeroDivisionError",
          "evalue": "ignored",
          "traceback": [
            "\u001b[0;31m---------------------------------------------------------------------------\u001b[0m",
            "\u001b[0;31mZeroDivisionError\u001b[0m                         Traceback (most recent call last)",
            "\u001b[0;32m<ipython-input-69-62074a557ff2>\u001b[0m in \u001b[0;36m<cell line: 1>\u001b[0;34m()\u001b[0m\n\u001b[0;32m----> 1\u001b[0;31m \u001b[0mprint\u001b[0m\u001b[0;34m(\u001b[0m\u001b[0;34m'Mean Absolute Percentage Error: '\u001b[0m \u001b[0;34m+\u001b[0m\u001b[0mstr\u001b[0m\u001b[0;34m(\u001b[0m\u001b[0;34m(\u001b[0m\u001b[0mtest_loss\u001b[0m\u001b[0;34m/\u001b[0m\u001b[0ms\u001b[0m\u001b[0;34m)\u001b[0m\u001b[0;34m)\u001b[0m\u001b[0;34m)\u001b[0m\u001b[0;34m\u001b[0m\u001b[0;34m\u001b[0m\u001b[0m\n\u001b[0m",
            "\u001b[0;31mZeroDivisionError\u001b[0m: float division by zero"
          ]
        }
      ],
      "source": [
        "print('Mean Absolute Percentage Error: ' +str((test_loss/s)))"
      ]
    },
    {
      "cell_type": "code",
      "execution_count": null,
      "metadata": {
        "id": "JCfMSnFRJBaH"
      },
      "outputs": [],
      "source": [
        "from torchmetrics import ConfusionMatrix\n",
        "target = torch.tensor(v_target,dtype=torch.int64)\n",
        "preds = torch.tensor(v_input,dtype=torch.int64)\n",
        "confmat = ConfusionMatrix(num_classes=2)\n",
        "print('Confusing Matrix:')\n",
        "confmat(preds, target)"
      ]
    },
    {
      "cell_type": "markdown",
      "metadata": {
        "id": "kSEtpHQrBQDu"
      },
      "source": [
        "**Model Training RBM untuk epoch 10**"
      ]
    },
    {
      "cell_type": "code",
      "execution_count": null,
      "metadata": {
        "id": "gniyZBfHK6Ic"
      },
      "outputs": [],
      "source": [
        "nb_epoch = 10\n",
        "for epoch in range(1, nb_epoch+1):\n",
        "    ##loss function\n",
        "    train_loss = 0\n",
        "    #normalize the loss, define a counter\n",
        "    s = 0.\n",
        "    #implement a batch learning, \n",
        "    for id_saham in range(0, nb_saham - batch_size, 10):\n",
        "        #input batch values\n",
        "        vk = training_set[id_saham: id_saham+batch_size]\n",
        "        #target used for loss mesarue: data \n",
        "        v0 = training_set[id_saham: id_saham+batch_size]\n",
        "        ##initilize probablity\n",
        "        #pho: given real rating at begining, probablity of hidden nodes\n",
        "        ph0, _ = rbm.sample_h(v0)\n",
        "        #k step of constrative divergence\n",
        "        for k in range(10):\n",
        "            _, hk = rbm.sample_h(vk)\n",
        "            _, vk = rbm.sample_v(hk)\n",
        "            #training on rating that do exist, rating as -1\n",
        "            vk[v0<0] = v0[v0<0]\n",
        "        phk, _ = rbm.sample_h(vk)\n",
        "        #update weights and bias\n",
        "        rbm.train(v0, vk, ph0, phk)\n",
        "        #update train loss\n",
        "        train_loss += torch.mean(torch.abs(v0[v0>0]-vk[v0>0]))\n",
        "        s += 1\n",
        "    print('epoch: '+str(epoch)+' loss: '+str(train_loss/s))"
      ]
    },
    {
      "cell_type": "markdown",
      "metadata": {
        "id": "jmlrpLXlCc0H"
      },
      "source": [
        "**Test RBM untuk epoch 10**"
      ]
    },
    {
      "cell_type": "code",
      "execution_count": null,
      "metadata": {
        "id": "AxcwCyMABeNk"
      },
      "outputs": [],
      "source": [
        "##loss function test\n",
        "test_loss = 0\n",
        "test_loss1 = 0\n",
        "#normalize the loss, define a counter\n",
        "s = 0.\n",
        "#implement a batch learning, \n",
        "for id_saham in range(0,nb_saham-len(test_set)):\n",
        "    #use input of train set to activate RBM\n",
        "    v_input = training_set[id_saham: id_saham+1]\n",
        "    #target used for loss mesarue:  \n",
        "    v_target = test_set[id_saham: id_saham+1]\n",
        "    #use only 1 step to make better prediction, though used 10 steps to train\n",
        "    if len(v_target[v_target>=0]):\n",
        "        _, h = rbm.sample_h(v_input) \n",
        "        _, v_input = rbm.sample_v(h)\n",
        "        #update test loss\n",
        "        test_loss += torch.mean(torch.abs(v_target[v_target>0]-v_input[v_target>0]))\n",
        "        test_loss1 += torch.mean(torch.square(v_target[v_target>0]-v_input[v_target>0]))\n",
        "        s += 1."
      ]
    },
    {
      "cell_type": "code",
      "execution_count": null,
      "metadata": {
        "id": "GPdXzCnQBkb1"
      },
      "outputs": [],
      "source": [
        "print('Mean Absolute Percentage Error: ' +str((test_loss/s)))"
      ]
    },
    {
      "cell_type": "code",
      "execution_count": null,
      "metadata": {
        "id": "GwJ7lrCWKGuo"
      },
      "outputs": [],
      "source": [
        "from torchmetrics import ConfusionMatrix\n",
        "target = torch.tensor(v_target,dtype=torch.int64)\n",
        "preds = torch.tensor(v_input,dtype=torch.int64)\n",
        "confmat = ConfusionMatrix(num_classes=2)\n",
        "print('Confusing Matrix:')\n",
        "confmat(preds, target)"
      ]
    },
    {
      "cell_type": "markdown",
      "metadata": {
        "id": "sT4rMQt1lxj8"
      },
      "source": [
        "**Model Training RBM untuk epoch 15**"
      ]
    },
    {
      "cell_type": "code",
      "execution_count": null,
      "metadata": {
        "id": "25raFDuyl-Zs"
      },
      "outputs": [],
      "source": [
        "nb_epoch = 15\n",
        "for epoch in range(1, nb_epoch+1):\n",
        "    ##loss function\n",
        "    train_loss = 0\n",
        "    #normalize the loss, define a counter\n",
        "    s = 0.\n",
        "    #implement a batch learning, \n",
        "    for id_saham in range(0, nb_saham - batch_size, 10):\n",
        "        #input batch values\n",
        "        vk = training_set[id_saham: id_saham+batch_size]\n",
        "        #target used for loss mesarue: data \n",
        "        v0 = training_set[id_saham: id_saham+batch_size]\n",
        "        ##initilize probablity\n",
        "        #pho: given real rating at begining, probablity of hidden nodes\n",
        "        ph0, _ = rbm.sample_h(v0)\n",
        "        #k step of constrative divergence\n",
        "        for k in range(10):\n",
        "            _, hk = rbm.sample_h(vk)\n",
        "            _, vk = rbm.sample_v(hk)\n",
        "            #training on rating that do exist, rating as -1\n",
        "            vk[v0<0] = v0[v0<0]\n",
        "        phk, _ = rbm.sample_h(vk)\n",
        "        #update weights and bias\n",
        "        rbm.train(v0, vk, ph0, phk)\n",
        "        #update train loss\n",
        "        train_loss += torch.mean(torch.abs(v0[v0>0]-vk[v0>0]))\n",
        "        s += 1\n",
        "    print('epoch: '+str(epoch)+' loss: '+str(train_loss/s))"
      ]
    },
    {
      "cell_type": "markdown",
      "metadata": {
        "id": "bjpVGw91mcB_"
      },
      "source": [
        "**Test RBM untuk epoch 15**"
      ]
    },
    {
      "cell_type": "code",
      "execution_count": null,
      "metadata": {
        "id": "E6GuicZmmEbU"
      },
      "outputs": [],
      "source": [
        "##loss function test\n",
        "test_loss = 0\n",
        "test_loss1 = 0\n",
        "#normalize the loss, define a counter\n",
        "s = 0.\n",
        "#implement a batch learning, \n",
        "for id_saham in range(0,nb_saham-len(test_set)):\n",
        "    #use input of train set to activate RBM\n",
        "    v_input = training_set[id_saham: id_saham+1]\n",
        "    #target used for loss mesarue:  \n",
        "    v_target = test_set[id_saham: id_saham+1]\n",
        "    #use only 1 step to make better prediction, though used 10 steps to train\n",
        "    if len(v_target[v_target>=0]):\n",
        "        _, h = rbm.sample_h(v_input) \n",
        "        _, v_input = rbm.sample_v(h)\n",
        "        #update test loss\n",
        "        test_loss += torch.mean(torch.abs(v_target[v_target>0]-v_input[v_target>0]))\n",
        "        test_loss1 += torch.mean(torch.square(v_target[v_target>0]-v_input[v_target>0]))\n",
        "        s += 1."
      ]
    },
    {
      "cell_type": "code",
      "execution_count": null,
      "metadata": {
        "id": "Y1eNjV2omN2H"
      },
      "outputs": [],
      "source": [
        "print('Mean Absolute Percentage Error: ' +str((test_loss/s)))"
      ]
    },
    {
      "cell_type": "code",
      "execution_count": null,
      "metadata": {
        "id": "SREP-qO_mXn0"
      },
      "outputs": [],
      "source": [
        "from torchmetrics import ConfusionMatrix\n",
        "target = torch.tensor(v_target,dtype=torch.int64)\n",
        "preds = torch.tensor(v_input,dtype=torch.int64)\n",
        "confmat = ConfusionMatrix(num_classes=2)\n",
        "print('Confusing Matrix:')\n",
        "confmat(preds, target)"
      ]
    },
    {
      "cell_type": "markdown",
      "metadata": {
        "id": "Fz4yP5vYr8r0"
      },
      "source": [
        "**Model Training RBM untuk epoch 20**"
      ]
    },
    {
      "cell_type": "code",
      "execution_count": null,
      "metadata": {
        "id": "gbrey5SCsJ_C"
      },
      "outputs": [],
      "source": [
        "nb_epoch = 20\n",
        "for epoch in range(1, nb_epoch+1):\n",
        "    ##loss function\n",
        "    train_loss = 0\n",
        "    #normalize the loss, define a counter\n",
        "    s = 0.\n",
        "    #implement a batch learning, \n",
        "    for id_saham in range(0, nb_saham - batch_size, 10):\n",
        "        #input batch values\n",
        "        vk = training_set[id_saham: id_saham+batch_size]\n",
        "        #target used for loss mesarue: data \n",
        "        v0 = training_set[id_saham: id_saham+batch_size]\n",
        "        ##initilize probablity\n",
        "        #pho: given real rating at begining, probablity of hidden nodes\n",
        "        ph0, _ = rbm.sample_h(v0)\n",
        "        #k step of constrative divergence\n",
        "        for k in range(10):\n",
        "            _, hk = rbm.sample_h(vk)\n",
        "            _, vk = rbm.sample_v(hk)\n",
        "            #training on rating that do exist, rating as -1\n",
        "            vk[v0<0] = v0[v0<0]\n",
        "        phk, _ = rbm.sample_h(vk)\n",
        "        #update weights and bias\n",
        "        rbm.train(v0, vk, ph0, phk)\n",
        "        #update train loss\n",
        "        train_loss += torch.mean(torch.abs(v0[v0>0]-vk[v0>0]))\n",
        "        s += 1\n",
        "    print('epoch: '+str(epoch)+' loss: '+str(train_loss/s))"
      ]
    },
    {
      "cell_type": "markdown",
      "metadata": {
        "id": "yb5DGY4MsQng"
      },
      "source": [
        "**Test RBM untuk epoch 20**"
      ]
    },
    {
      "cell_type": "code",
      "execution_count": null,
      "metadata": {
        "id": "4_CNMFbFsjEy"
      },
      "outputs": [],
      "source": [
        "##loss function test\n",
        "test_loss = 0\n",
        "test_loss1 = 0\n",
        "#normalize the loss, define a counter\n",
        "s = 0.\n",
        "#implement a batch learning, \n",
        "for id_saham in range(0,nb_saham-len(test_set)):\n",
        "    #use input of train set to activate RBM\n",
        "    v_input = training_set[id_saham: id_saham+1]\n",
        "    #target used for loss mesarue:  \n",
        "    v_target = test_set[id_saham: id_saham+1]\n",
        "    #use only 1 step to make better prediction, though used 10 steps to train\n",
        "    if len(v_target[v_target>=0]):\n",
        "        _, h = rbm.sample_h(v_input) \n",
        "        _, v_input = rbm.sample_v(h)\n",
        "        #update test loss\n",
        "        test_loss += torch.mean(torch.abs(v_target[v_target>0]-v_input[v_target>0]))\n",
        "        test_loss1 += torch.mean(torch.square(v_target[v_target>0]-v_input[v_target>0]))\n",
        "        s += 1."
      ]
    },
    {
      "cell_type": "code",
      "execution_count": null,
      "metadata": {
        "id": "vR2gf7HEsrLI"
      },
      "outputs": [],
      "source": [
        "print('Mean Absolute Percentage Error: ' +str((test_loss/s)))"
      ]
    },
    {
      "cell_type": "code",
      "execution_count": null,
      "metadata": {
        "id": "PmVCslgzsrq7"
      },
      "outputs": [],
      "source": [
        "from torchmetrics import ConfusionMatrix\n",
        "target = torch.tensor(v_target,dtype=torch.int64)\n",
        "preds = torch.tensor(v_input,dtype=torch.int64)\n",
        "confmat = ConfusionMatrix(num_classes=2)\n",
        "print('Confusing Matrix:')\n",
        "confmat(preds, target)"
      ]
    },
    {
      "cell_type": "markdown",
      "metadata": {
        "id": "PsixvUcBzP-w"
      },
      "source": [
        "**Model Training RBM untuk epoch 25**"
      ]
    },
    {
      "cell_type": "code",
      "execution_count": null,
      "metadata": {
        "id": "4daPo1Gvzbsq"
      },
      "outputs": [],
      "source": [
        "nb_epoch = 25\n",
        "for epoch in range(1, nb_epoch+1):\n",
        "    ##loss function\n",
        "    train_loss = 0\n",
        "    #normalize the loss, define a counter\n",
        "    s = 0.\n",
        "    #implement a batch learning, \n",
        "    for id_saham in range(0, nb_saham - batch_size, 10):\n",
        "        #input batch values\n",
        "        vk = training_set[id_saham: id_saham+batch_size]\n",
        "        #target used for loss mesarue: data \n",
        "        v0 = training_set[id_saham: id_saham+batch_size]\n",
        "        ##initilize probablity\n",
        "        #pho: given real rating at begining, probablity of hidden nodes\n",
        "        ph0, _ = rbm.sample_h(v0)\n",
        "        #k step of constrative divergence\n",
        "        for k in range(10):\n",
        "            _, hk = rbm.sample_h(vk)\n",
        "            _, vk = rbm.sample_v(hk)\n",
        "            #training on rating that do exist, rating as -1\n",
        "            vk[v0<0] = v0[v0<0]\n",
        "        phk, _ = rbm.sample_h(vk)\n",
        "        #update weights and bias\n",
        "        rbm.train(v0, vk, ph0, phk)\n",
        "        #update train loss\n",
        "        train_loss += torch.mean(torch.abs(v0[v0>0]-vk[v0>0]))\n",
        "        s += 1\n",
        "    print('epoch: '+str(epoch)+' loss: '+str(train_loss/s))"
      ]
    },
    {
      "cell_type": "markdown",
      "metadata": {
        "id": "gqo4unACzlwU"
      },
      "source": [
        "**Test RBM untuk epoch 25**"
      ]
    },
    {
      "cell_type": "code",
      "execution_count": null,
      "metadata": {
        "id": "UQ34z5S3zka2"
      },
      "outputs": [],
      "source": [
        "##loss function test\n",
        "test_loss = 0\n",
        "test_loss1 = 0\n",
        "#normalize the loss, define a counter\n",
        "s = 0.\n",
        "#implement a batch learning, \n",
        "for id_saham in range(0,nb_saham-len(test_set)):\n",
        "    #use input of train set to activate RBM\n",
        "    v_input = training_set[id_saham: id_saham+1]\n",
        "    #target used for loss mesarue:  \n",
        "    v_target = test_set[id_saham: id_saham+1]\n",
        "    #use only 1 step to make better prediction, though used 10 steps to train\n",
        "    if len(v_target[v_target>=0]):\n",
        "        _, h = rbm.sample_h(v_input) \n",
        "        _, v_input = rbm.sample_v(h)\n",
        "        #update test loss\n",
        "        test_loss += torch.mean(torch.abs(v_target[v_target>0]-v_input[v_target>0]))\n",
        "        test_loss1 += torch.mean(torch.square(v_target[v_target>0]-v_input[v_target>0]))\n",
        "        s += 1."
      ]
    },
    {
      "cell_type": "code",
      "execution_count": null,
      "metadata": {
        "id": "KqOZiWGMzzKM"
      },
      "outputs": [],
      "source": [
        "print('Mean Absolute Percentage Error: ' +str((test_loss/s)))"
      ]
    },
    {
      "cell_type": "code",
      "execution_count": null,
      "metadata": {
        "id": "EwIg_Ytnz55g"
      },
      "outputs": [],
      "source": [
        "from torchmetrics import ConfusionMatrix\n",
        "target = torch.tensor(v_target,dtype=torch.int64)\n",
        "preds = torch.tensor(v_input,dtype=torch.int64)\n",
        "confmat = ConfusionMatrix(num_classes=2)\n",
        "print('Confusing Matrix:')\n",
        "confmat(preds, target)"
      ]
    },
    {
      "cell_type": "markdown",
      "metadata": {
        "id": "zlkhy6At6IyF"
      },
      "source": [
        "**Model Training RBM untuk epoch 30**"
      ]
    },
    {
      "cell_type": "code",
      "execution_count": null,
      "metadata": {
        "id": "Rg8-XcJk6bSA"
      },
      "outputs": [],
      "source": [
        "nb_epoch = 30\n",
        "for epoch in range(1, nb_epoch+1):\n",
        "    ##loss function\n",
        "    train_loss = 0\n",
        "    #normalize the loss, define a counter\n",
        "    s = 0.\n",
        "    #implement a batch learning, \n",
        "    for id_saham in range(0, nb_saham - batch_size, 10):\n",
        "        #input batch values\n",
        "        vk = training_set[id_saham: id_saham+batch_size]\n",
        "        #target used for loss mesarue: data \n",
        "        v0 = training_set[id_saham: id_saham+batch_size]\n",
        "        ##initilize probablity\n",
        "        #pho: given real rating at begining, probablity of hidden nodes\n",
        "        ph0, _ = rbm.sample_h(v0)\n",
        "        #k step of constrative divergence\n",
        "        for k in range(10):\n",
        "            _, hk = rbm.sample_h(vk)\n",
        "            _, vk = rbm.sample_v(hk)\n",
        "            #training on rating that do exist, rating as -1\n",
        "            vk[v0<0] = v0[v0<0]\n",
        "        phk, _ = rbm.sample_h(vk)\n",
        "        #update weights and bias\n",
        "        rbm.train(v0, vk, ph0, phk)\n",
        "        #update train loss\n",
        "        train_loss += torch.mean(torch.abs(v0[v0>0]-vk[v0>0]))\n",
        "        s += 1\n",
        "    print('epoch: '+str(epoch)+' loss: '+str(train_loss/s))"
      ]
    },
    {
      "cell_type": "markdown",
      "metadata": {
        "id": "uLd8w4yf7OOZ"
      },
      "source": [
        "**Test RBM untuk epoch 30**"
      ]
    },
    {
      "cell_type": "code",
      "execution_count": null,
      "metadata": {
        "id": "LQ9GSQVB7qpG"
      },
      "outputs": [],
      "source": [
        "##loss function test\n",
        "test_loss = 0\n",
        "test_loss1 = 0\n",
        "#normalize the loss, define a counter\n",
        "s = 0.\n",
        "#implement a batch learning, \n",
        "for id_saham in range(0,nb_saham-len(test_set)):\n",
        "    #use input of train set to activate RBM\n",
        "    v_input = training_set[id_saham: id_saham+1]\n",
        "    #target used for loss mesarue:  \n",
        "    v_target = test_set[id_saham: id_saham+1]\n",
        "    #use only 1 step to make better prediction, though used 10 steps to train\n",
        "    if len(v_target[v_target>=0]):\n",
        "        _, h = rbm.sample_h(v_input) \n",
        "        _, v_input = rbm.sample_v(h)\n",
        "        #update test loss\n",
        "        test_loss += torch.mean(torch.abs(v_target[v_target>0]-v_input[v_target>0]))\n",
        "        test_loss1 += torch.mean(torch.square(v_target[v_target>0]-v_input[v_target>0]))\n",
        "        s += 1."
      ]
    },
    {
      "cell_type": "code",
      "execution_count": null,
      "metadata": {
        "id": "D1STf6kV76Bw"
      },
      "outputs": [],
      "source": [
        "print('Mean Absolute Percentage Error: ' +str((test_loss/s)))"
      ]
    },
    {
      "cell_type": "code",
      "execution_count": null,
      "metadata": {
        "id": "GCnt2OnU76YX"
      },
      "outputs": [],
      "source": [
        "from torchmetrics import ConfusionMatrix\n",
        "target = torch.tensor(v_target,dtype=torch.int64)\n",
        "preds = torch.tensor(v_input,dtype=torch.int64)\n",
        "confmat = ConfusionMatrix(num_classes=2)\n",
        "print('Confusing Matrix:')\n",
        "confmat(preds, target)"
      ]
    },
    {
      "cell_type": "markdown",
      "metadata": {
        "id": "K_iBtbUA6vkP"
      },
      "source": [
        "**Model Training RBM untuk epoch 35**"
      ]
    },
    {
      "cell_type": "code",
      "execution_count": null,
      "metadata": {
        "id": "CktzGQFB6hoD"
      },
      "outputs": [],
      "source": [
        "nb_epoch = 35\n",
        "for epoch in range(1, nb_epoch+1):\n",
        "    ##loss function\n",
        "    train_loss = 0\n",
        "    #normalize the loss, define a counter\n",
        "    s = 0.\n",
        "    #implement a batch learning, \n",
        "    for id_saham in range(0, nb_saham - batch_size, 10):\n",
        "        #input batch values\n",
        "        vk = training_set[id_saham: id_saham+batch_size]\n",
        "        #target used for loss mesarue: data \n",
        "        v0 = training_set[id_saham: id_saham+batch_size]\n",
        "        ##initilize probablity\n",
        "        #pho: given real rating at begining, probablity of hidden nodes\n",
        "        ph0, _ = rbm.sample_h(v0)\n",
        "        #k step of constrative divergence\n",
        "        for k in range(10):\n",
        "            _, hk = rbm.sample_h(vk)\n",
        "            _, vk = rbm.sample_v(hk)\n",
        "            #training on rating that do exist, rating as -1\n",
        "            vk[v0<0] = v0[v0<0]\n",
        "        phk, _ = rbm.sample_h(vk)\n",
        "        #update weights and bias\n",
        "        rbm.train(v0, vk, ph0, phk)\n",
        "        #update train loss\n",
        "        train_loss += torch.mean(torch.abs(v0[v0>0]-vk[v0>0]))\n",
        "        s += 1\n",
        "    print('epoch: '+str(epoch)+' loss: '+str(train_loss/s))"
      ]
    },
    {
      "cell_type": "markdown",
      "metadata": {
        "id": "cTQEWM_E7Tl0"
      },
      "source": [
        "**Test RBM untuk epoch 35**"
      ]
    },
    {
      "cell_type": "code",
      "execution_count": null,
      "metadata": {
        "id": "NBchVoND7tCa"
      },
      "outputs": [],
      "source": [
        "##loss function test\n",
        "test_loss = 0\n",
        "test_loss1 = 0\n",
        "#normalize the loss, define a counter\n",
        "s = 0.\n",
        "#implement a batch learning, \n",
        "for id_saham in range(0,nb_saham-len(test_set)):\n",
        "    #use input of train set to activate RBM\n",
        "    v_input = training_set[id_saham: id_saham+1]\n",
        "    #target used for loss mesarue:  \n",
        "    v_target = test_set[id_saham: id_saham+1]\n",
        "    #use only 1 step to make better prediction, though used 10 steps to train\n",
        "    if len(v_target[v_target>=0]):\n",
        "        _, h = rbm.sample_h(v_input) \n",
        "        _, v_input = rbm.sample_v(h)\n",
        "        #update test loss\n",
        "        test_loss += torch.mean(torch.abs(v_target[v_target>0]-v_input[v_target>0]))\n",
        "        test_loss1 += torch.mean(torch.square(v_target[v_target>0]-v_input[v_target>0]))\n",
        "        s += 1."
      ]
    },
    {
      "cell_type": "code",
      "execution_count": null,
      "metadata": {
        "id": "CpYnedie79C_"
      },
      "outputs": [],
      "source": [
        "print('Mean Absolute Percentage Error: ' +str((test_loss/s)))"
      ]
    },
    {
      "cell_type": "code",
      "execution_count": null,
      "metadata": {
        "id": "o4qWJgNW79aK"
      },
      "outputs": [],
      "source": [
        "from torchmetrics import ConfusionMatrix\n",
        "target = torch.tensor(v_target,dtype=torch.int64)\n",
        "preds = torch.tensor(v_input,dtype=torch.int64)\n",
        "confmat = ConfusionMatrix(num_classes=2)\n",
        "print('Confusing Matrix:')\n",
        "confmat(preds, target)"
      ]
    },
    {
      "cell_type": "markdown",
      "metadata": {
        "id": "0pkQy7jv62ya"
      },
      "source": [
        "**Model Training RBM untuk epoch 40**"
      ]
    },
    {
      "cell_type": "code",
      "execution_count": null,
      "metadata": {
        "id": "JkptLo7n6k6P"
      },
      "outputs": [],
      "source": [
        "nb_epoch = 40\n",
        "for epoch in range(1, nb_epoch+1):\n",
        "    ##loss function\n",
        "    train_loss = 0\n",
        "    #normalize the loss, define a counter\n",
        "    s = 0.\n",
        "    #implement a batch learning, \n",
        "    for id_saham in range(0, nb_saham - batch_size, 10):\n",
        "        #input batch values\n",
        "        vk = training_set[id_saham: id_saham+batch_size]\n",
        "        #target used for loss mesarue: data \n",
        "        v0 = training_set[id_saham: id_saham+batch_size]\n",
        "        ##initilize probablity\n",
        "        #pho: given real rating at begining, probablity of hidden nodes\n",
        "        ph0, _ = rbm.sample_h(v0)\n",
        "        #k step of constrative divergence\n",
        "        for k in range(10):\n",
        "            _, hk = rbm.sample_h(vk)\n",
        "            _, vk = rbm.sample_v(hk)\n",
        "            #training on rating that do exist, rating as -1\n",
        "            vk[v0<0] = v0[v0<0]\n",
        "        phk, _ = rbm.sample_h(vk)\n",
        "        #update weights and bias\n",
        "        rbm.train(v0, vk, ph0, phk)\n",
        "        #update train loss\n",
        "        train_loss += torch.mean(torch.abs(v0[v0>0]-vk[v0>0]))\n",
        "        s += 1\n",
        "    print('epoch: '+str(epoch)+' loss: '+str(train_loss/s))"
      ]
    },
    {
      "cell_type": "markdown",
      "metadata": {
        "id": "Talww91l7YhY"
      },
      "source": [
        "**Test RBM untuk epoch 40**"
      ]
    },
    {
      "cell_type": "code",
      "execution_count": null,
      "metadata": {
        "id": "NVHrnuxk7v6M"
      },
      "outputs": [],
      "source": [
        "##loss function test\n",
        "test_loss = 0\n",
        "test_loss1 = 0\n",
        "#normalize the loss, define a counter\n",
        "s = 0.\n",
        "#implement a batch learning, \n",
        "for id_saham in range(0,nb_saham-len(test_set)):\n",
        "    #use input of train set to activate RBM\n",
        "    v_input = training_set[id_saham: id_saham+1]\n",
        "    #target used for loss mesarue:  \n",
        "    v_target = test_set[id_saham: id_saham+1]\n",
        "    #use only 1 step to make better prediction, though used 10 steps to train\n",
        "    if len(v_target[v_target>=0]):\n",
        "        _, h = rbm.sample_h(v_input) \n",
        "        _, v_input = rbm.sample_v(h)\n",
        "        #update test loss\n",
        "        test_loss += torch.mean(torch.abs(v_target[v_target>0]-v_input[v_target>0]))\n",
        "        test_loss1 += torch.mean(torch.square(v_target[v_target>0]-v_input[v_target>0]))\n",
        "        s += 1."
      ]
    },
    {
      "cell_type": "code",
      "execution_count": null,
      "metadata": {
        "id": "JgNN-Oyz7_yz"
      },
      "outputs": [],
      "source": [
        "print('Mean Absolute Percentage Error: ' +str((test_loss/s)))"
      ]
    },
    {
      "cell_type": "code",
      "execution_count": null,
      "metadata": {
        "id": "1ug8huGm8AaO"
      },
      "outputs": [],
      "source": [
        "from torchmetrics import ConfusionMatrix\n",
        "target = torch.tensor(v_target,dtype=torch.int64)\n",
        "preds = torch.tensor(v_input,dtype=torch.int64)\n",
        "confmat = ConfusionMatrix(num_classes=2)\n",
        "print('Confusing Matrix:')\n",
        "confmat(preds, target)"
      ]
    },
    {
      "cell_type": "markdown",
      "metadata": {
        "id": "_Ho9j9SC6_-6"
      },
      "source": [
        "**Model Training RBM untuk epoch 45**"
      ]
    },
    {
      "cell_type": "code",
      "execution_count": null,
      "metadata": {
        "id": "9ywhPNzT6-Hp"
      },
      "outputs": [],
      "source": [
        "nb_epoch = 45\n",
        "for epoch in range(1, nb_epoch+1):\n",
        "    ##loss function\n",
        "    train_loss = 0\n",
        "    #normalize the loss, define a counter\n",
        "    s = 0.\n",
        "    #implement a batch learning, \n",
        "    for id_saham in range(0, nb_saham - batch_size, 10):\n",
        "        #input batch values\n",
        "        vk = training_set[id_saham: id_saham+batch_size]\n",
        "        #target used for loss mesarue: data \n",
        "        v0 = training_set[id_saham: id_saham+batch_size]\n",
        "        ##initilize probablity\n",
        "        #pho: given real rating at begining, probablity of hidden nodes\n",
        "        ph0, _ = rbm.sample_h(v0)\n",
        "        #k step of constrative divergence\n",
        "        for k in range(10):\n",
        "            _, hk = rbm.sample_h(vk)\n",
        "            _, vk = rbm.sample_v(hk)\n",
        "            #training on rating that do exist, rating as -1\n",
        "            vk[v0<0] = v0[v0<0]\n",
        "        phk, _ = rbm.sample_h(vk)\n",
        "        #update weights and bias\n",
        "        rbm.train(v0, vk, ph0, phk)\n",
        "        #update train loss\n",
        "        train_loss += torch.mean(torch.abs(v0[v0>0]-vk[v0>0]))\n",
        "        s += 1\n",
        "    print('epoch: '+str(epoch)+' loss: '+str(train_loss/s))"
      ]
    },
    {
      "cell_type": "markdown",
      "metadata": {
        "id": "BSfzRV8B7f9m"
      },
      "source": [
        "**Test RBM untuk epoch 45**"
      ]
    },
    {
      "cell_type": "code",
      "execution_count": null,
      "metadata": {
        "id": "1FEVJmVT7zEc"
      },
      "outputs": [],
      "source": [
        "##loss function test\n",
        "test_loss = 0\n",
        "test_loss1 = 0\n",
        "#normalize the loss, define a counter\n",
        "s = 0.\n",
        "#implement a batch learning, \n",
        "for id_saham in range(0,nb_saham-len(test_set)):\n",
        "    #use input of train set to activate RBM\n",
        "    v_input = training_set[id_saham: id_saham+1]\n",
        "    #target used for loss mesarue:  \n",
        "    v_target = test_set[id_saham: id_saham+1]\n",
        "    #use only 1 step to make better prediction, though used 10 steps to train\n",
        "    if len(v_target[v_target>=0]):\n",
        "        _, h = rbm.sample_h(v_input) \n",
        "        _, v_input = rbm.sample_v(h)\n",
        "        #update test loss\n",
        "        test_loss += torch.mean(torch.abs(v_target[v_target>0]-v_input[v_target>0]))\n",
        "        test_loss1 += torch.mean(torch.square(v_target[v_target>0]-v_input[v_target>0]))\n",
        "        s += 1."
      ]
    },
    {
      "cell_type": "code",
      "execution_count": null,
      "metadata": {
        "id": "wo8oYM6i8CxI"
      },
      "outputs": [],
      "source": [
        "print('Mean Absolute Percentage Error: ' +str((test_loss/s)))"
      ]
    },
    {
      "cell_type": "code",
      "execution_count": null,
      "metadata": {
        "id": "qP7SlGbF8P-Z"
      },
      "outputs": [],
      "source": [
        "from torchmetrics import ConfusionMatrix\n",
        "target = torch.tensor(v_target,dtype=torch.int64)\n",
        "preds = torch.tensor(v_input,dtype=torch.int64)\n",
        "confmat = ConfusionMatrix(num_classes=2)\n",
        "print('Confusing Matrix:')\n",
        "confmat(preds, target)"
      ]
    },
    {
      "cell_type": "markdown",
      "metadata": {
        "id": "UuvQRRAcayqa"
      },
      "source": [
        "**Model Training RBM untuk epoch 50**"
      ]
    },
    {
      "cell_type": "code",
      "execution_count": null,
      "metadata": {
        "id": "e8QBi63uaohO"
      },
      "outputs": [],
      "source": [
        "nb_epoch = 50\n",
        "for epoch in range(1, nb_epoch+1):\n",
        "    ##loss function\n",
        "    train_loss = 0\n",
        "    #normalize the loss, define a counter\n",
        "    s = 0.\n",
        "    #implement a batch learning, \n",
        "    for id_saham in range(0, nb_saham - batch_size, 10):\n",
        "        #input batch values\n",
        "        vk = training_set[id_saham: id_saham+batch_size]\n",
        "        #target used for loss mesarue: data \n",
        "        v0 = training_set[id_saham: id_saham+batch_size]\n",
        "        ##initilize probablity\n",
        "        #pho: given real rating at begining, probablity of hidden nodes\n",
        "        ph0, _ = rbm.sample_h(v0)\n",
        "        #k step of constrative divergence\n",
        "        for k in range(10):\n",
        "            _, hk = rbm.sample_h(vk)\n",
        "            _, vk = rbm.sample_v(hk)\n",
        "            #training on rating that do exist, rating as -1\n",
        "            vk[v0<0] = v0[v0<0]\n",
        "        phk, _ = rbm.sample_h(vk)\n",
        "        #update weights and bias\n",
        "        rbm.train(v0, vk, ph0, phk)\n",
        "        #update train loss\n",
        "        train_loss += torch.mean(torch.abs(v0[v0>0]-vk[v0>0]))\n",
        "        s += 1\n",
        "    print('epoch: '+str(epoch)+' loss: '+str(train_loss/s))"
      ]
    },
    {
      "cell_type": "markdown",
      "metadata": {
        "id": "Qi2AU-izbBoZ"
      },
      "source": [
        "**Test RBM untuk epoch 50**"
      ]
    },
    {
      "cell_type": "code",
      "execution_count": null,
      "metadata": {
        "id": "e4fkDWdXbAWD"
      },
      "outputs": [],
      "source": [
        "##loss function test\n",
        "test_loss = 0\n",
        "test_loss1 = 0\n",
        "#normalize the loss, define a counter\n",
        "s = 0.\n",
        "#implement a batch learning, \n",
        "for id_saham in range(0,nb_saham-len(test_set)):\n",
        "    #use input of train set to activate RBM\n",
        "    v_input = training_set[id_saham: id_saham+1]\n",
        "    #target used for loss mesarue:  \n",
        "    v_target = test_set[id_saham: id_saham+1]\n",
        "    #use only 1 step to make better prediction, though used 10 steps to train\n",
        "    if len(v_target[v_target>=0]):\n",
        "        _, h = rbm.sample_h(v_input) \n",
        "        _, v_input = rbm.sample_v(h)\n",
        "        #update test loss\n",
        "        test_loss += torch.mean(torch.abs(v_target[v_target>0]-v_input[v_target>0]))\n",
        "        test_loss1 += torch.mean(torch.square(v_target[v_target>0]-v_input[v_target>0]))\n",
        "        s += 1."
      ]
    },
    {
      "cell_type": "code",
      "execution_count": null,
      "metadata": {
        "id": "HEpcuyMrbRnD"
      },
      "outputs": [],
      "source": [
        "print('Mean Absolute Percentage Error: ' +str((test_loss/s)))"
      ]
    },
    {
      "cell_type": "code",
      "execution_count": null,
      "metadata": {
        "id": "onZoRX3xh-RH"
      },
      "outputs": [],
      "source": [
        "from torchmetrics import ConfusionMatrix\n",
        "target = torch.tensor(v_target,dtype=torch.int64)\n",
        "preds = torch.tensor(v_input,dtype=torch.int64)\n",
        "confmat = ConfusionMatrix(num_classes=2)\n",
        "print('Confusing Matrix:')\n",
        "confmat(preds, target)"
      ]
    },
    {
      "cell_type": "markdown",
      "metadata": {
        "id": "a2RvCoo28U0p"
      },
      "source": [
        "**Model Training RBM untuk Epoch 55**"
      ]
    },
    {
      "cell_type": "code",
      "execution_count": null,
      "metadata": {
        "id": "kvgrNRTD8sXV"
      },
      "outputs": [],
      "source": [
        "nb_epoch = 55\n",
        "for epoch in range(1, nb_epoch+1):\n",
        "    ##loss function\n",
        "    train_loss = 0\n",
        "    #normalize the loss, define a counter\n",
        "    s = 0.\n",
        "    #implement a batch learning, \n",
        "    for id_saham in range(0, nb_saham - batch_size, 10):\n",
        "        #input batch values\n",
        "        vk = training_set[id_saham: id_saham+batch_size]\n",
        "        #target used for loss mesarue: data \n",
        "        v0 = training_set[id_saham: id_saham+batch_size]\n",
        "        ##initilize probablity\n",
        "        #pho: given real rating at begining, probablity of hidden nodes\n",
        "        ph0, _ = rbm.sample_h(v0)\n",
        "        #k step of constrative divergence\n",
        "        for k in range(10):\n",
        "            _, hk = rbm.sample_h(vk)\n",
        "            _, vk = rbm.sample_v(hk)\n",
        "            #training on rating that do exist, rating as -1\n",
        "            vk[v0<0] = v0[v0<0]\n",
        "        phk, _ = rbm.sample_h(vk)\n",
        "        #update weights and bias\n",
        "        rbm.train(v0, vk, ph0, phk)\n",
        "        #update train loss\n",
        "        train_loss += torch.mean(torch.abs(v0[v0>0]-vk[v0>0]))\n",
        "        s += 1\n",
        "    print('epoch: '+str(epoch)+' loss: '+str(train_loss/s))"
      ]
    },
    {
      "cell_type": "markdown",
      "metadata": {
        "id": "xoOBEbzH87KW"
      },
      "source": [
        "**Test RBM untuk epoch 55**"
      ]
    },
    {
      "cell_type": "code",
      "execution_count": null,
      "metadata": {
        "id": "94ni7QzQ9VGx"
      },
      "outputs": [],
      "source": [
        "##loss function test\n",
        "test_loss = 0\n",
        "test_loss1 = 0\n",
        "#normalize the loss, define a counter\n",
        "s = 0.\n",
        "#implement a batch learning, \n",
        "for id_saham in range(0,nb_saham-len(test_set)):\n",
        "    #use input of train set to activate RBM\n",
        "    v_input = training_set[id_saham: id_saham+1]\n",
        "    #target used for loss mesarue:  \n",
        "    v_target = test_set[id_saham: id_saham+1]\n",
        "    #use only 1 step to make better prediction, though used 10 steps to train\n",
        "    if len(v_target[v_target>=0]):\n",
        "        _, h = rbm.sample_h(v_input) \n",
        "        _, v_input = rbm.sample_v(h)\n",
        "        #update test loss\n",
        "        test_loss += torch.mean(torch.abs(v_target[v_target>0]-v_input[v_target>0]))\n",
        "        test_loss1 += torch.mean(torch.square(v_target[v_target>0]-v_input[v_target>0]))\n",
        "        s += 1."
      ]
    },
    {
      "cell_type": "code",
      "execution_count": null,
      "metadata": {
        "id": "95CbZS2l9kk-"
      },
      "outputs": [],
      "source": [
        "print('Mean Absolute Precentage Error: ' +str((test_loss/s)))"
      ]
    },
    {
      "cell_type": "code",
      "execution_count": null,
      "metadata": {
        "id": "iea6ZBN09xNp"
      },
      "outputs": [],
      "source": [
        "from torchmetrics import ConfusionMatrix\n",
        "target = torch.tensor(v_target,dtype=torch.int64)\n",
        "preds = torch.tensor(v_input,dtype=torch.int64)\n",
        "confmat = ConfusionMatrix(num_classes=2)\n",
        "print('Confusing Matrix:')\n",
        "confmat(preds, target)"
      ]
    },
    {
      "cell_type": "markdown",
      "metadata": {
        "id": "a_y507nF8Z9j"
      },
      "source": [
        "**Model Training RBM untuk Epoch 60**"
      ]
    },
    {
      "cell_type": "code",
      "execution_count": null,
      "metadata": {
        "id": "SM38qzUB8uaU"
      },
      "outputs": [],
      "source": [
        "nb_epoch = 60\n",
        "for epoch in range(1, nb_epoch+1):\n",
        "    ##loss function\n",
        "    train_loss = 0\n",
        "    #normalize the loss, define a counter\n",
        "    s = 0.\n",
        "    #implement a batch learning, \n",
        "    for id_saham in range(0, nb_saham - batch_size, 10):\n",
        "        #input batch values\n",
        "        vk = training_set[id_saham: id_saham+batch_size]\n",
        "        #target used for loss mesarue: data \n",
        "        v0 = training_set[id_saham: id_saham+batch_size]\n",
        "        ##initilize probablity\n",
        "        #pho: given real rating at begining, probablity of hidden nodes\n",
        "        ph0, _ = rbm.sample_h(v0)\n",
        "        #k step of constrative divergence\n",
        "        for k in range(10):\n",
        "            _, hk = rbm.sample_h(vk)\n",
        "            _, vk = rbm.sample_v(hk)\n",
        "            #training on rating that do exist, rating as -1\n",
        "            vk[v0<0] = v0[v0<0]\n",
        "        phk, _ = rbm.sample_h(vk)\n",
        "        #update weights and bias\n",
        "        rbm.train(v0, vk, ph0, phk)\n",
        "        #update train loss\n",
        "        train_loss += torch.mean(torch.abs(v0[v0>0]-vk[v0>0]))\n",
        "        s += 1\n",
        "    print('epoch: '+str(epoch)+' loss: '+str(train_loss/s))"
      ]
    },
    {
      "cell_type": "markdown",
      "metadata": {
        "id": "lFgPONM09Acy"
      },
      "source": [
        "**Test RBM untuk epoch 60**"
      ]
    },
    {
      "cell_type": "code",
      "execution_count": null,
      "metadata": {
        "id": "rjjGd_E69W-G"
      },
      "outputs": [],
      "source": [
        "##loss function test\n",
        "test_loss = 0\n",
        "test_loss1 = 0\n",
        "#normalize the loss, define a counter\n",
        "s = 0.\n",
        "#implement a batch learning, \n",
        "for id_saham in range(0,nb_saham-len(test_set)):\n",
        "    #use input of train set to activate RBM\n",
        "    v_input = training_set[id_saham: id_saham+1]\n",
        "    #target used for loss mesarue:  \n",
        "    v_target = test_set[id_saham: id_saham+1]\n",
        "    #use only 1 step to make better prediction, though used 10 steps to train\n",
        "    if len(v_target[v_target>=0]):\n",
        "        _, h = rbm.sample_h(v_input) \n",
        "        _, v_input = rbm.sample_v(h)\n",
        "        #update test loss\n",
        "        test_loss += torch.mean(torch.abs(v_target[v_target>0]-v_input[v_target>0]))\n",
        "        test_loss1 += torch.mean(torch.square(v_target[v_target>0]-v_input[v_target>0]))\n",
        "        s += 1."
      ]
    },
    {
      "cell_type": "code",
      "execution_count": null,
      "metadata": {
        "id": "qG-RjR7v9mps"
      },
      "outputs": [],
      "source": [
        "print('Mean Absolute Precentage Error: ' +str((test_loss/s)))"
      ]
    },
    {
      "cell_type": "code",
      "execution_count": null,
      "metadata": {
        "id": "3oeWJrvi9vwk"
      },
      "outputs": [],
      "source": [
        "from torchmetrics import ConfusionMatrix\n",
        "target = torch.tensor(v_target,dtype=torch.int64)\n",
        "preds = torch.tensor(v_input,dtype=torch.int64)\n",
        "confmat = ConfusionMatrix(num_classes=2)\n",
        "print('Confusing Matrix:')\n",
        "confmat(preds, target)"
      ]
    },
    {
      "cell_type": "markdown",
      "metadata": {
        "id": "MUUjm96r8dre"
      },
      "source": [
        "**Model Training RBM untuk Epoch 65**"
      ]
    },
    {
      "cell_type": "code",
      "execution_count": null,
      "metadata": {
        "id": "yC-9mkJS8yzE"
      },
      "outputs": [],
      "source": [
        "nb_epoch = 65\n",
        "for epoch in range(1, nb_epoch+1):\n",
        "    ##loss function\n",
        "    train_loss = 0\n",
        "    #normalize the loss, define a counter\n",
        "    s = 0.\n",
        "    #implement a batch learning, \n",
        "    for id_saham in range(0, nb_saham - batch_size, 10):\n",
        "        #input batch values\n",
        "        vk = training_set[id_saham: id_saham+batch_size]\n",
        "        #target used for loss mesarue: data \n",
        "        v0 = training_set[id_saham: id_saham+batch_size]\n",
        "        ##initilize probablity\n",
        "        #pho: given real rating at begining, probablity of hidden nodes\n",
        "        ph0, _ = rbm.sample_h(v0)\n",
        "        #k step of constrative divergence\n",
        "        for k in range(10):\n",
        "            _, hk = rbm.sample_h(vk)\n",
        "            _, vk = rbm.sample_v(hk)\n",
        "            #training on rating that do exist, rating as -1\n",
        "            vk[v0<0] = v0[v0<0]\n",
        "        phk, _ = rbm.sample_h(vk)\n",
        "        #update weights and bias\n",
        "        rbm.train(v0, vk, ph0, phk)\n",
        "        #update train loss\n",
        "        train_loss += torch.mean(torch.abs(v0[v0>0]-vk[v0>0]))\n",
        "        s += 1\n",
        "    print('epoch: '+str(epoch)+' loss: '+str(train_loss/s))"
      ]
    },
    {
      "cell_type": "markdown",
      "metadata": {
        "id": "GRY_ePoH9H9V"
      },
      "source": [
        "**Test RBM untuk epoch 65**"
      ]
    },
    {
      "cell_type": "code",
      "execution_count": null,
      "metadata": {
        "id": "omPXYl2s9Z3Y"
      },
      "outputs": [],
      "source": [
        "##loss function test\n",
        "test_loss = 0\n",
        "test_loss1 = 0\n",
        "#normalize the loss, define a counter\n",
        "s = 0.\n",
        "#implement a batch learning, \n",
        "for id_saham in range(0,nb_saham-len(test_set)):\n",
        "    #use input of train set to activate RBM\n",
        "    v_input = training_set[id_saham: id_saham+1]\n",
        "    #target used for loss mesarue:  \n",
        "    v_target = test_set[id_saham: id_saham+1]\n",
        "    #use only 1 step to make better prediction, though used 10 steps to train\n",
        "    if len(v_target[v_target>=0]):\n",
        "        _, h = rbm.sample_h(v_input) \n",
        "        _, v_input = rbm.sample_v(h)\n",
        "        #update test loss\n",
        "        test_loss += torch.mean(torch.abs(v_target[v_target>0]-v_input[v_target>0]))\n",
        "        test_loss1 += torch.mean(torch.square(v_target[v_target>0]-v_input[v_target>0]))\n",
        "        s += 1."
      ]
    },
    {
      "cell_type": "code",
      "execution_count": null,
      "metadata": {
        "id": "-mc_o6M69sKL"
      },
      "outputs": [],
      "source": [
        "print('Mean Absolute Precentage Error: ' +str((test_loss/s)))"
      ]
    },
    {
      "cell_type": "code",
      "execution_count": null,
      "metadata": {
        "id": "zxznMPKD9uGR"
      },
      "outputs": [],
      "source": [
        "from torchmetrics import ConfusionMatrix\n",
        "target = torch.tensor(v_target,dtype=torch.int64)\n",
        "preds = torch.tensor(v_input,dtype=torch.int64)\n",
        "confmat = ConfusionMatrix(num_classes=2)\n",
        "print('Confusing Matrix:')\n",
        "confmat(preds, target)"
      ]
    },
    {
      "cell_type": "markdown",
      "metadata": {
        "id": "wKeLXswY8hgl"
      },
      "source": [
        "**Model Training RBM untuk Epoch 70**"
      ]
    },
    {
      "cell_type": "code",
      "execution_count": null,
      "metadata": {
        "id": "OXYpugXf8Tql"
      },
      "outputs": [],
      "source": [
        "nb_epoch = 70\n",
        "for epoch in range(1, nb_epoch+1):\n",
        "    ##loss function\n",
        "    train_loss = 0\n",
        "    #normalize the loss, define a counter\n",
        "    s = 0.\n",
        "    #implement a batch learning, \n",
        "    for id_saham in range(0, nb_saham - batch_size, 10):\n",
        "        #input batch values\n",
        "        vk = training_set[id_saham: id_saham+batch_size]\n",
        "        #target used for loss mesarue: data \n",
        "        v0 = training_set[id_saham: id_saham+batch_size]\n",
        "        ##initilize probablity\n",
        "        #pho: given real rating at begining, probablity of hidden nodes\n",
        "        ph0, _ = rbm.sample_h(v0)\n",
        "        #k step of constrative divergence\n",
        "        for k in range(10):\n",
        "            _, hk = rbm.sample_h(vk)\n",
        "            _, vk = rbm.sample_v(hk)\n",
        "            #training on rating that do exist, rating as -1\n",
        "            vk[v0<0] = v0[v0<0]\n",
        "        phk, _ = rbm.sample_h(vk)\n",
        "        #update weights and bias\n",
        "        rbm.train(v0, vk, ph0, phk)\n",
        "        #update train loss\n",
        "        train_loss += torch.mean(torch.abs(v0[v0>0]-vk[v0>0]))\n",
        "        s += 1\n",
        "    print('epoch: '+str(epoch)+' loss: '+str(train_loss/s))"
      ]
    },
    {
      "cell_type": "markdown",
      "metadata": {
        "id": "ooLx99Q59Ocv"
      },
      "source": [
        "**Test RBM untuk epoch 70**"
      ]
    },
    {
      "cell_type": "code",
      "execution_count": null,
      "metadata": {
        "id": "tlT5qCzW9cCu"
      },
      "outputs": [],
      "source": [
        "##loss function test\n",
        "test_loss = 0\n",
        "test_loss1 = 0\n",
        "#normalize the loss, define a counter\n",
        "s = 0.\n",
        "#implement a batch learning, \n",
        "for id_saham in range(0,nb_saham-len(test_set)):\n",
        "    #use input of train set to activate RBM\n",
        "    v_input = training_set[id_saham: id_saham+1]\n",
        "    #target used for loss mesarue:  \n",
        "    v_target = test_set[id_saham: id_saham+1]\n",
        "    #use only 1 step to make better prediction, though used 10 steps to train\n",
        "    if len(v_target[v_target>=0]):\n",
        "        _, h = rbm.sample_h(v_input) \n",
        "        _, v_input = rbm.sample_v(h)\n",
        "        #update test loss\n",
        "        test_loss += torch.mean(torch.abs(v_target[v_target>0]-v_input[v_target>0]))\n",
        "        test_loss1 += torch.mean(torch.square(v_target[v_target>0]-v_input[v_target>0]))\n",
        "        s += 1."
      ]
    },
    {
      "cell_type": "code",
      "execution_count": null,
      "metadata": {
        "id": "HTvvg8l890Dl"
      },
      "outputs": [],
      "source": [
        "print('Mean Absolute Precentage Error: ' +str((test_loss/s)))"
      ]
    },
    {
      "cell_type": "code",
      "execution_count": null,
      "metadata": {
        "id": "xgbGHsOC91Mf"
      },
      "outputs": [],
      "source": [
        "from torchmetrics import ConfusionMatrix\n",
        "target = torch.tensor(v_target,dtype=torch.int64)\n",
        "preds = torch.tensor(v_input,dtype=torch.int64)\n",
        "confmat = ConfusionMatrix(num_classes=2)\n",
        "print('Confusing Matrix:')\n",
        "confmat(preds, target)"
      ]
    },
    {
      "cell_type": "markdown",
      "metadata": {
        "id": "5J1fi39nBs-F"
      },
      "source": [
        "**Model Training RBM untuk Epoch 75**"
      ]
    },
    {
      "cell_type": "code",
      "execution_count": null,
      "metadata": {
        "id": "Ic5_Y0M8MCpd"
      },
      "outputs": [],
      "source": [
        "nb_epoch = 75\n",
        "for epoch in range(1, nb_epoch+1):\n",
        "    ##loss function\n",
        "    train_loss = 0\n",
        "    #normalize the loss, define a counter\n",
        "    s = 0.\n",
        "    #implement a batch learning, \n",
        "    for id_saham in range(0, nb_saham - batch_size, 10):\n",
        "        #input batch values\n",
        "        vk = training_set[id_saham: id_saham+batch_size]\n",
        "        #target used for loss mesarue: data \n",
        "        v0 = training_set[id_saham: id_saham+batch_size]\n",
        "        ##initilize probablity\n",
        "        #pho: given real rating at begining, probablity of hidden nodes\n",
        "        ph0, _ = rbm.sample_h(v0)\n",
        "        #k step of constrative divergence\n",
        "        for k in range(10):\n",
        "            _, hk = rbm.sample_h(vk)\n",
        "            _, vk = rbm.sample_v(hk)\n",
        "            #training on rating that do exist, rating as -1\n",
        "            vk[v0<0] = v0[v0<0]\n",
        "        phk, _ = rbm.sample_h(vk)\n",
        "        #update weights and bias\n",
        "        rbm.train(v0, vk, ph0, phk)\n",
        "        #update train loss\n",
        "        train_loss += torch.mean(torch.abs(v0[v0>0]-vk[v0>0]))\n",
        "        s += 1\n",
        "    print('epoch: '+str(epoch)+' loss: '+str(train_loss/s))"
      ]
    },
    {
      "cell_type": "markdown",
      "metadata": {
        "id": "hnf6RFNPLIde"
      },
      "source": [
        "**Test RBM untuk epoch 75**"
      ]
    },
    {
      "cell_type": "code",
      "execution_count": null,
      "metadata": {
        "id": "kzMd90OCLFDZ"
      },
      "outputs": [],
      "source": [
        "##loss function test\n",
        "test_loss = 0\n",
        "test_loss1 = 0\n",
        "#normalize the loss, define a counter\n",
        "s = 0.\n",
        "#implement a batch learning, \n",
        "for id_saham in range(0,nb_saham-len(test_set)):\n",
        "    #use input of train set to activate RBM\n",
        "    v_input = training_set[id_saham: id_saham+1]\n",
        "    #target used for loss mesarue:  \n",
        "    v_target = test_set[id_saham: id_saham+1]\n",
        "    #use only 1 step to make better prediction, though used 10 steps to train\n",
        "    if len(v_target[v_target>=0]):\n",
        "        _, h = rbm.sample_h(v_input) \n",
        "        _, v_input = rbm.sample_v(h)\n",
        "        #update test loss\n",
        "        test_loss += torch.mean(torch.abs(v_target[v_target>0]-v_input[v_target>0]))\n",
        "        test_loss1 += torch.mean(torch.square(v_target[v_target>0]-v_input[v_target>0]))\n",
        "        s += 1."
      ]
    },
    {
      "cell_type": "code",
      "execution_count": null,
      "metadata": {
        "id": "K6k2QqENLVbO"
      },
      "outputs": [],
      "source": [
        "print('Mean Absolute Precentage Error: ' +str((test_loss/s)))"
      ]
    },
    {
      "cell_type": "code",
      "execution_count": null,
      "metadata": {
        "id": "1dxeUcJXMcxU"
      },
      "outputs": [],
      "source": [
        "from torchmetrics import ConfusionMatrix\n",
        "target = torch.tensor(v_target,dtype=torch.int64)\n",
        "preds = torch.tensor(v_input,dtype=torch.int64)\n",
        "confmat = ConfusionMatrix(num_classes=2)\n",
        "print('Confusing Matrix:')\n",
        "confmat(preds, target)"
      ]
    },
    {
      "cell_type": "markdown",
      "metadata": {
        "id": "37tvc11g-DZU"
      },
      "source": [
        "**Model Training untuk Epoch 80**"
      ]
    },
    {
      "cell_type": "code",
      "execution_count": null,
      "metadata": {
        "id": "SaN6NXXF-gf-"
      },
      "outputs": [],
      "source": [
        "nb_epoch = 80\n",
        "for epoch in range(1, nb_epoch+1):\n",
        "    ##loss function\n",
        "    train_loss = 0\n",
        "    #normalize the loss, define a counter\n",
        "    s = 0.\n",
        "    #implement a batch learning, \n",
        "    for id_saham in range(0, nb_saham - batch_size, 10):\n",
        "        #input batch values\n",
        "        vk = training_set[id_saham: id_saham+batch_size]\n",
        "        #target used for loss mesarue: data \n",
        "        v0 = training_set[id_saham: id_saham+batch_size]\n",
        "        ##initilize probablity\n",
        "        #pho: given real rating at begining, probablity of hidden nodes\n",
        "        ph0, _ = rbm.sample_h(v0)\n",
        "        #k step of constrative divergence\n",
        "        for k in range(10):\n",
        "            _, hk = rbm.sample_h(vk)\n",
        "            _, vk = rbm.sample_v(hk)\n",
        "            #training on rating that do exist, rating as -1\n",
        "            vk[v0<0] = v0[v0<0]\n",
        "        phk, _ = rbm.sample_h(vk)\n",
        "        #update weights and bias\n",
        "        rbm.train(v0, vk, ph0, phk)\n",
        "        #update train loss\n",
        "        train_loss += torch.mean(torch.abs(v0[v0>0]-vk[v0>0]))\n",
        "        s += 1\n",
        "    print('epoch: '+str(epoch)+' loss: '+str(train_loss/s))"
      ]
    },
    {
      "cell_type": "markdown",
      "metadata": {
        "id": "DeuorLYu-zvJ"
      },
      "source": [
        "**Test RBM untuk epoch 80**"
      ]
    },
    {
      "cell_type": "code",
      "execution_count": null,
      "metadata": {
        "id": "AOcVVhST_PXN"
      },
      "outputs": [],
      "source": [
        "##loss function test\n",
        "test_loss = 0\n",
        "test_loss1 = 0\n",
        "#normalize the loss, define a counter\n",
        "s = 0.\n",
        "#implement a batch learning, \n",
        "for id_saham in range(0,nb_saham-len(test_set)):\n",
        "    #use input of train set to activate RBM\n",
        "    v_input = training_set[id_saham: id_saham+1]\n",
        "    #target used for loss mesarue:  \n",
        "    v_target = test_set[id_saham: id_saham+1]\n",
        "    #use only 1 step to make better prediction, though used 10 steps to train\n",
        "    if len(v_target[v_target>=0]):\n",
        "        _, h = rbm.sample_h(v_input) \n",
        "        _, v_input = rbm.sample_v(h)\n",
        "        #update test loss\n",
        "        test_loss += torch.mean(torch.abs(v_target[v_target>0]-v_input[v_target>0]))\n",
        "        test_loss1 += torch.mean(torch.square(v_target[v_target>0]-v_input[v_target>0]))\n",
        "        s += 1."
      ]
    },
    {
      "cell_type": "code",
      "execution_count": null,
      "metadata": {
        "id": "bQC4W5V9_g2J"
      },
      "outputs": [],
      "source": [
        "print('Mean Absolute Precentage Error: ' +str((test_loss/s)))"
      ]
    },
    {
      "cell_type": "code",
      "execution_count": null,
      "metadata": {
        "id": "fYSv8rVl_ty4"
      },
      "outputs": [],
      "source": [
        "from torchmetrics import ConfusionMatrix\n",
        "target = torch.tensor(v_target,dtype=torch.int64)\n",
        "preds = torch.tensor(v_input,dtype=torch.int64)\n",
        "confmat = ConfusionMatrix(num_classes=2)\n",
        "print('Confusing Matrix:')\n",
        "confmat(preds, target)"
      ]
    },
    {
      "cell_type": "markdown",
      "metadata": {
        "id": "ySnWPpR_-Moc"
      },
      "source": [
        "**Model Training untuk Epoch 85**"
      ]
    },
    {
      "cell_type": "code",
      "execution_count": null,
      "metadata": {
        "id": "BDxq8gnX-jyz"
      },
      "outputs": [],
      "source": [
        "nb_epoch = 85\n",
        "for epoch in range(1, nb_epoch+1):\n",
        "    ##loss function\n",
        "    train_loss = 0\n",
        "    #normalize the loss, define a counter\n",
        "    s = 0.\n",
        "    #implement a batch learning, \n",
        "    for id_saham in range(0, nb_saham - batch_size, 10):\n",
        "        #input batch values\n",
        "        vk = training_set[id_saham: id_saham+batch_size]\n",
        "        #target used for loss mesarue: data \n",
        "        v0 = training_set[id_saham: id_saham+batch_size]\n",
        "        ##initilize probablity\n",
        "        #pho: given real rating at begining, probablity of hidden nodes\n",
        "        ph0, _ = rbm.sample_h(v0)\n",
        "        #k step of constrative divergence\n",
        "        for k in range(10):\n",
        "            _, hk = rbm.sample_h(vk)\n",
        "            _, vk = rbm.sample_v(hk)\n",
        "            #training on rating that do exist, rating as -1\n",
        "            vk[v0<0] = v0[v0<0]\n",
        "        phk, _ = rbm.sample_h(vk)\n",
        "        #update weights and bias\n",
        "        rbm.train(v0, vk, ph0, phk)\n",
        "        #update train loss\n",
        "        train_loss += torch.mean(torch.abs(v0[v0>0]-vk[v0>0]))\n",
        "        s += 1\n",
        "    print('epoch: '+str(epoch)+' loss: '+str(train_loss/s))"
      ]
    },
    {
      "cell_type": "markdown",
      "metadata": {
        "id": "pp55I1xj-5jF"
      },
      "source": [
        "**Test RBM untuk epoch 85**"
      ]
    },
    {
      "cell_type": "code",
      "execution_count": null,
      "metadata": {
        "id": "51w8IDkn_RN_"
      },
      "outputs": [],
      "source": [
        "##loss function test\n",
        "test_loss = 0\n",
        "test_loss1 = 0\n",
        "#normalize the loss, define a counter\n",
        "s = 0.\n",
        "#implement a batch learning, \n",
        "for id_saham in range(0,nb_saham-len(test_set)):\n",
        "    #use input of train set to activate RBM\n",
        "    v_input = training_set[id_saham: id_saham+1]\n",
        "    #target used for loss mesarue:  \n",
        "    v_target = test_set[id_saham: id_saham+1]\n",
        "    #use only 1 step to make better prediction, though used 10 steps to train\n",
        "    if len(v_target[v_target>=0]):\n",
        "        _, h = rbm.sample_h(v_input) \n",
        "        _, v_input = rbm.sample_v(h)\n",
        "        #update test loss\n",
        "        test_loss += torch.mean(torch.abs(v_target[v_target>0]-v_input[v_target>0]))\n",
        "        test_loss1 += torch.mean(torch.square(v_target[v_target>0]-v_input[v_target>0]))\n",
        "        s += 1."
      ]
    },
    {
      "cell_type": "code",
      "execution_count": null,
      "metadata": {
        "id": "xlm7PPbr_jsi"
      },
      "outputs": [],
      "source": [
        "print('Mean Absolute Precentage Error: ' +str((test_loss/s)))"
      ]
    },
    {
      "cell_type": "code",
      "execution_count": null,
      "metadata": {
        "id": "0-0nRSUZ_wOf"
      },
      "outputs": [],
      "source": [
        "from torchmetrics import ConfusionMatrix\n",
        "target = torch.tensor(v_target,dtype=torch.int64)\n",
        "preds = torch.tensor(v_input,dtype=torch.int64)\n",
        "confmat = ConfusionMatrix(num_classes=2)\n",
        "print('Confusing Matrix:')\n",
        "confmat(preds, target)"
      ]
    },
    {
      "cell_type": "markdown",
      "metadata": {
        "id": "p4oD-LU7-QRo"
      },
      "source": [
        "**Model Training untuk Epoch 90**"
      ]
    },
    {
      "cell_type": "code",
      "execution_count": null,
      "metadata": {
        "id": "0tHxsXhX-okW"
      },
      "outputs": [],
      "source": [
        "nb_epoch = 90\n",
        "for epoch in range(1, nb_epoch+1):\n",
        "    ##loss function\n",
        "    train_loss = 0\n",
        "    #normalize the loss, define a counter\n",
        "    s = 0.\n",
        "    #implement a batch learning, \n",
        "    for id_saham in range(0, nb_saham - batch_size, 10):\n",
        "        #input batch values\n",
        "        vk = training_set[id_saham: id_saham+batch_size]\n",
        "        #target used for loss mesarue: data \n",
        "        v0 = training_set[id_saham: id_saham+batch_size]\n",
        "        ##initilize probablity\n",
        "        #pho: given real rating at begining, probablity of hidden nodes\n",
        "        ph0, _ = rbm.sample_h(v0)\n",
        "        #k step of constrative divergence\n",
        "        for k in range(10):\n",
        "            _, hk = rbm.sample_h(vk)\n",
        "            _, vk = rbm.sample_v(hk)\n",
        "            #training on rating that do exist, rating as -1\n",
        "            vk[v0<0] = v0[v0<0]\n",
        "        phk, _ = rbm.sample_h(vk)\n",
        "        #update weights and bias\n",
        "        rbm.train(v0, vk, ph0, phk)\n",
        "        #update train loss\n",
        "        train_loss += torch.mean(torch.abs(v0[v0>0]-vk[v0>0]))\n",
        "        s += 1\n",
        "    print('epoch: '+str(epoch)+' loss: '+str(train_loss/s))"
      ]
    },
    {
      "cell_type": "markdown",
      "metadata": {
        "id": "lc9rhVrR-9Qp"
      },
      "source": [
        "**Test RBM untuk epoch 90**"
      ]
    },
    {
      "cell_type": "code",
      "execution_count": null,
      "metadata": {
        "id": "FAYO2dj9_Ti0"
      },
      "outputs": [],
      "source": [
        "##loss function test\n",
        "test_loss = 0\n",
        "test_loss1 = 0\n",
        "#normalize the loss, define a counter\n",
        "s = 0.\n",
        "#implement a batch learning, \n",
        "for id_saham in range(0,nb_saham-len(test_set)):\n",
        "    #use input of train set to activate RBM\n",
        "    v_input = training_set[id_saham: id_saham+1]\n",
        "    #target used for loss mesarue:  \n",
        "    v_target = test_set[id_saham: id_saham+1]\n",
        "    #use only 1 step to make better prediction, though used 10 steps to train\n",
        "    if len(v_target[v_target>=0]):\n",
        "        _, h = rbm.sample_h(v_input) \n",
        "        _, v_input = rbm.sample_v(h)\n",
        "        #update test loss\n",
        "        test_loss += torch.mean(torch.abs(v_target[v_target>0]-v_input[v_target>0]))\n",
        "        test_loss1 += torch.mean(torch.square(v_target[v_target>0]-v_input[v_target>0]))\n",
        "        s += 1."
      ]
    },
    {
      "cell_type": "code",
      "execution_count": null,
      "metadata": {
        "id": "KUZD8vof_l0U"
      },
      "outputs": [],
      "source": [
        "print('Mean Absolute Precentage Error: ' +str((test_loss/s)))"
      ]
    },
    {
      "cell_type": "code",
      "execution_count": null,
      "metadata": {
        "id": "V7yRYk0S_ypl"
      },
      "outputs": [],
      "source": [
        "from torchmetrics import ConfusionMatrix\n",
        "target = torch.tensor(v_target,dtype=torch.int64)\n",
        "preds = torch.tensor(v_input,dtype=torch.int64)\n",
        "confmat = ConfusionMatrix(num_classes=2)\n",
        "print('Confusing Matrix:')\n",
        "confmat(preds, target)"
      ]
    },
    {
      "cell_type": "markdown",
      "metadata": {
        "id": "MBp3AcCa-YM_"
      },
      "source": [
        "**Model Training untuk Epoch 95**"
      ]
    },
    {
      "cell_type": "code",
      "execution_count": null,
      "metadata": {
        "id": "nVdI-ZKq-UBY"
      },
      "outputs": [],
      "source": [
        "nb_epoch = 95\n",
        "for epoch in range(1, nb_epoch+1):\n",
        "    ##loss function\n",
        "    train_loss = 0\n",
        "    #normalize the loss, define a counter\n",
        "    s = 0.\n",
        "    #implement a batch learning, \n",
        "    for id_saham in range(0, nb_saham - batch_size, 10):\n",
        "        #input batch values\n",
        "        vk = training_set[id_saham: id_saham+batch_size]\n",
        "        #target used for loss mesarue: data \n",
        "        v0 = training_set[id_saham: id_saham+batch_size]\n",
        "        ##initilize probablity\n",
        "        #pho: given real rating at begining, probablity of hidden nodes\n",
        "        ph0, _ = rbm.sample_h(v0)\n",
        "        #k step of constrative divergence\n",
        "        for k in range(10):\n",
        "            _, hk = rbm.sample_h(vk)\n",
        "            _, vk = rbm.sample_v(hk)\n",
        "            #training on rating that do exist, rating as -1\n",
        "            vk[v0<0] = v0[v0<0]\n",
        "        phk, _ = rbm.sample_h(vk)\n",
        "        #update weights and bias\n",
        "        rbm.train(v0, vk, ph0, phk)\n",
        "        #update train loss\n",
        "        train_loss += torch.mean(torch.abs(v0[v0>0]-vk[v0>0]))\n",
        "        s += 1\n",
        "    print('epoch: '+str(epoch)+' loss: '+str(train_loss/s))"
      ]
    },
    {
      "cell_type": "markdown",
      "metadata": {
        "id": "XOg9wZjV_BH9"
      },
      "source": [
        "**Test RBM untuk epoch 95**"
      ]
    },
    {
      "cell_type": "code",
      "execution_count": null,
      "metadata": {
        "id": "E0Uo9hlE_VeL"
      },
      "outputs": [],
      "source": [
        "##loss function test\n",
        "test_loss = 0\n",
        "test_loss1 = 0\n",
        "#normalize the loss, define a counter\n",
        "s = 0.\n",
        "#implement a batch learning, \n",
        "for id_saham in range(0,nb_saham-len(test_set)):\n",
        "    #use input of train set to activate RBM\n",
        "    v_input = training_set[id_saham: id_saham+1]\n",
        "    #target used for loss mesarue:  \n",
        "    v_target = test_set[id_saham: id_saham+1]\n",
        "    #use only 1 step to make better prediction, though used 10 steps to train\n",
        "    if len(v_target[v_target>=0]):\n",
        "        _, h = rbm.sample_h(v_input) \n",
        "        _, v_input = rbm.sample_v(h)\n",
        "        #update test loss\n",
        "        test_loss += torch.mean(torch.abs(v_target[v_target>0]-v_input[v_target>0]))\n",
        "        test_loss1 += torch.mean(torch.square(v_target[v_target>0]-v_input[v_target>0]))\n",
        "        s += 1."
      ]
    },
    {
      "cell_type": "code",
      "execution_count": null,
      "metadata": {
        "id": "yRhTmsMM_n33"
      },
      "outputs": [],
      "source": [
        "print('Mean Absolute Precentage Error: ' +str((test_loss/s)))"
      ]
    },
    {
      "cell_type": "code",
      "execution_count": null,
      "metadata": {
        "id": "DXBBMb98_1B1"
      },
      "outputs": [],
      "source": [
        "from torchmetrics import ConfusionMatrix\n",
        "target = torch.tensor(v_target,dtype=torch.int64)\n",
        "preds = torch.tensor(v_input,dtype=torch.int64)\n",
        "confmat = ConfusionMatrix(num_classes=2)\n",
        "print('Confusing Matrix:')\n",
        "confmat(preds, target)"
      ]
    },
    {
      "cell_type": "markdown",
      "metadata": {
        "id": "O0sxjKRYL0ZE"
      },
      "source": [
        "**Model Training untuk Epoch 100**"
      ]
    },
    {
      "cell_type": "code",
      "execution_count": null,
      "metadata": {
        "id": "gUhII0YLLxEF"
      },
      "outputs": [],
      "source": [
        "nb_epoch = 100\n",
        "for epoch in range(1, nb_epoch+1):\n",
        "    ##loss function\n",
        "    train_loss = 0\n",
        "    #normalize the loss, define a counter\n",
        "    s = 0.\n",
        "    #implement a batch learning, \n",
        "    for id_saham in range(0, nb_saham - batch_size, 10):\n",
        "        #input batch values\n",
        "        vk = training_set[id_saham: id_saham+batch_size]\n",
        "        #target used for loss mesarue: data \n",
        "        v0 = training_set[id_saham: id_saham+batch_size]\n",
        "        ##initilize probablity\n",
        "        #pho: given real rating at begining, probablity of hidden nodes\n",
        "        ph0, _ = rbm.sample_h(v0)\n",
        "        #k step of constrative divergence\n",
        "        for k in range(10):\n",
        "            _, hk = rbm.sample_h(vk)\n",
        "            _, vk = rbm.sample_v(hk)\n",
        "            #training on rating that do exist, rating as -1\n",
        "            vk[v0<0] = v0[v0<0]\n",
        "        phk, _ = rbm.sample_h(vk)\n",
        "        #update weights and bias\n",
        "        rbm.train(v0, vk, ph0, phk)\n",
        "        #update train loss\n",
        "        train_loss += torch.mean(torch.abs(v0[v0>0]-vk[v0>0]))\n",
        "        s += 1\n",
        "    print('epoch: '+str(epoch)+' loss: '+str(train_loss/s))"
      ]
    },
    {
      "cell_type": "markdown",
      "metadata": {
        "id": "2qaDBcmu_JNJ"
      },
      "source": [
        "**Test RBM untuk epoch 100**"
      ]
    },
    {
      "cell_type": "code",
      "execution_count": null,
      "metadata": {
        "id": "qUUVsro9MCMY"
      },
      "outputs": [],
      "source": [
        "##loss function test\n",
        "test_loss = 0\n",
        "test_loss1 = 0\n",
        "#normalize the loss, define a counter\n",
        "s = 0.\n",
        "#implement a batch learning, \n",
        "for id_saham in range(0,nb_saham-len(test_set)):\n",
        "    #use input of train set to activate RBM\n",
        "    v_input = training_set[id_saham: id_saham+1]\n",
        "    #target used for loss mesarue:  \n",
        "    v_target = test_set[id_saham: id_saham+1]\n",
        "    #use only 1 step to make better prediction, though used 10 steps to train\n",
        "    if len(v_target[v_target>=0]):\n",
        "        _, h = rbm.sample_h(v_input) \n",
        "        _, v_input = rbm.sample_v(h)\n",
        "        #update test loss\n",
        "        test_loss += torch.mean(torch.abs(v_target[v_target>0]-v_input[v_target>0]))\n",
        "        test_loss1 += torch.mean(torch.square(v_target[v_target>0]-v_input[v_target>0]))\n",
        "        s += 1."
      ]
    },
    {
      "cell_type": "code",
      "execution_count": null,
      "metadata": {
        "id": "r13VY52wMBJO"
      },
      "outputs": [],
      "source": [
        "print('Mean Absolute Precentage Error: ' +str((test_loss/s)))"
      ]
    },
    {
      "cell_type": "code",
      "execution_count": null,
      "metadata": {
        "id": "og9RsDvmMOlh"
      },
      "outputs": [],
      "source": [
        "from torchmetrics import ConfusionMatrix\n",
        "target = torch.tensor(v_target,dtype=torch.int64)\n",
        "preds = torch.tensor(v_input,dtype=torch.int64)\n",
        "confmat = ConfusionMatrix(num_classes=2)\n",
        "print('Confusing Matrix:')\n",
        "confmat(preds, target)"
      ]
    }
  ],
  "metadata": {
    "colab": {
      "provenance": [],
      "authorship_tag": "ABX9TyN2ngWYb515ouzFm+L6RSH6",
      "include_colab_link": true
    },
    "kernelspec": {
      "display_name": "Python 3",
      "name": "python3"
    },
    "language_info": {
      "name": "python"
    }
  },
  "nbformat": 4,
  "nbformat_minor": 0
}